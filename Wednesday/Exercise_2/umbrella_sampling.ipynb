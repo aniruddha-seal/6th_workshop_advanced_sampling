{
 "cells": [
  {
   "cell_type": "markdown",
   "id": "575f409c",
   "metadata": {
    "slideshow": {
     "slide_type": "slide"
    }
   },
   "source": [
    "# Exercise 2: Umbrella sampling"
   ]
  },
  {
   "cell_type": "markdown",
   "id": "d7a63543",
   "metadata": {
    "slideshow": {
     "slide_type": "slide"
    }
   },
   "source": [
    "In this exercise, we will perform umbrella sampling simulations for the NaCl system and compute its free energy surface as a function of the ion-pair distance. As mentioned, umbrella sampling is composed of the following 2 steps that we will elaborate later:\n",
    "- **Step 1**: A pulling simulation (a.k.a steered MD) for generating initial configurationas for the production runs.\n",
    "- **Step 2**: Production runs that fix the configurations with harmonic potentials. This is the part that can be performed in parallel. \n",
    "\n",
    "This exercise should be done in an interactive session on Bridges-2, which 32 CPU cores requested. Note that here we are running the simulations in the NVT ensemble, which makes pulling more straightforward."
   ]
  },
  {
   "cell_type": "code",
   "execution_count": null,
   "id": "7667e436",
   "metadata": {
    "slideshow": {
     "slide_type": "slide"
    }
   },
   "outputs": [],
   "source": [
    "%%bash\n",
    "# Here we remove the output of the exercise if there is any.\n",
    "dirs=(sim_* pull *mdp *dat)\n",
    "for dir in \"${dirs[@]}\"; do\n",
    "    if ls -d \"$dir\" >/dev/null 2>&1; then\n",
    "        rm -rf \"$dir\"\n",
    "    fi\n",
    "done"
   ]
  },
  {
   "cell_type": "markdown",
   "id": "bb33f28b",
   "metadata": {
    "slideshow": {
     "slide_type": "slide"
    }
   },
   "source": [
    "## 1. Pulling simulation"
   ]
  },
  {
   "cell_type": "code",
   "execution_count": null,
   "id": "113c7948",
   "metadata": {
    "slideshow": {
     "slide_type": "slide"
    }
   },
   "outputs": [],
   "source": [
    "%%bash\n",
    "mkdir pull"
   ]
  },
  {
   "cell_type": "markdown",
   "id": "77259102",
   "metadata": {
    "slideshow": {
     "slide_type": "slide"
    }
   },
   "source": [
    "The purpose of a pulling simulation is to generate initial configurations with different CV values for the subsequent production simulations. In a pulling simulation, we need to divide the system of interest (NaCl) into two parts "
   ]
  },
  {
   "cell_type": "markdown",
   "id": "9575c655",
   "metadata": {
    "slideshow": {
     "slide_type": "fragment"
    }
   },
   "source": [
    "- The immobile group: The part of the system that is immobilized by a **position restraint**. In this exercise, we choose to fix the sodium ion, but choosing to fix the chloride ion should not make a difference in the resulting free energy profile. "
   ]
  },
  {
   "cell_type": "markdown",
   "id": "7014f7cf",
   "metadata": {
    "slideshow": {
     "slide_type": "fragment"
    }
   },
   "source": [
    "<center> \n",
    "➡️ This can be done by modifying the TOP file.\n",
    "</center>"
   ]
  },
  {
   "cell_type": "markdown",
   "id": "e506f625",
   "metadata": {
    "slideshow": {
     "slide_type": "slide"
    }
   },
   "source": [
    "- The pull group: The part of the system we want to pull away from the immobile group using the **pull code**. Here, we choose the chloride ion as the pull group. "
   ]
  },
  {
   "cell_type": "markdown",
   "id": "433eacec",
   "metadata": {
    "slideshow": {
     "slide_type": "fragment"
    }
   },
   "source": [
    "<center> \n",
    "➡️ This can be done by modifying the MDP file.\n",
    "</center>"
   ]
  },
  {
   "cell_type": "markdown",
   "id": "e62bab00",
   "metadata": {
    "slideshow": {
     "slide_type": "slide"
    }
   },
   "source": [
    "## 1-1. Modification of the `top` file"
   ]
  },
  {
   "cell_type": "code",
   "execution_count": null,
   "id": "fe705ec7",
   "metadata": {
    "scrolled": true,
    "slideshow": {
     "slide_type": "slide"
    }
   },
   "outputs": [],
   "source": [
    "%%bash\n",
    "cat ../Inputs/NaCl/NaCl.top  # the original top file we used"
   ]
  },
  {
   "cell_type": "markdown",
   "id": "37f9141b",
   "metadata": {
    "slideshow": {
     "slide_type": "slide"
    }
   },
   "source": [
    "To make the topology aware of the position restraint, we need to add the following right after the `[ atoms ]` directive of NA."
   ]
  },
  {
   "cell_type": "code",
   "execution_count": null,
   "id": "5a0ec250",
   "metadata": {
    "slideshow": {
     "slide_type": "slide"
    }
   },
   "outputs": [],
   "source": [
    "%%bash \n",
    "echo '#include \"oplsaa.ff/forcefield.itp\"\n",
    "#include \"oplsaa.ff/tip3p.itp\"\n",
    "\n",
    "[ moleculetype ]\n",
    "; molname   nrexcl\n",
    "CL      1\n",
    "\n",
    "[ atoms ]\n",
    "; id    at type     res nr  residu name at name  cg nr  charge   mass\n",
    "1       opls_401    1       CL          CL       1      -1       35.45300\n",
    "\n",
    "[ moleculetype ]\n",
    "; molname   nrexcl\n",
    "NA          1\n",
    "\n",
    "[ atoms ]\n",
    "; id    at type     res nr  residu name at name  cg nr  charge   mass\n",
    "1       opls_407    1       NA          NA       1      1        22.98977\n",
    "\n",
    "; position restraints for Na\n",
    "# ifdef POSRES_NA\n",
    "# include \"Na_posres.itp\"\n",
    "# endif\n",
    "\n",
    "[ System ]\n",
    "NaCl in water\n",
    "\n",
    "[ Molecules ]\n",
    "SOL         107\n",
    "NA               1\n",
    "CL               1' > pull/NaCl_US.top"
   ]
  },
  {
   "cell_type": "markdown",
   "id": "064de45e",
   "metadata": {
    "slideshow": {
     "slide_type": "slide"
    }
   },
   "source": [
    "```\n",
    "; position restraints for Na\n",
    "# ifdef POSRES_NA\n",
    "# include \"Na_posres.itp\"\n",
    "# endif\n",
    "```"
   ]
  },
  {
   "cell_type": "markdown",
   "id": "d4e60f44",
   "metadata": {
    "slideshow": {
     "slide_type": "fragment"
    }
   },
   "source": [
    "The added lines mean that **if the variable `POSRES_NA` is defined (in the `mdp` file), the position restraint defined in the file `Na_posres.itp` will be activated**. "
   ]
  },
  {
   "cell_type": "markdown",
   "id": "1f00b928",
   "metadata": {
    "slideshow": {
     "slide_type": "slide"
    }
   },
   "source": [
    "Clearly, now we don't have the file `Na_posres.itp`, so let's create one below."
   ]
  },
  {
   "cell_type": "code",
   "execution_count": null,
   "id": "98c421b6",
   "metadata": {
    "slideshow": {
     "slide_type": "fragment"
    }
   },
   "outputs": [],
   "source": [
    "%%bash \n",
    "cp ../Inputs/NaCl/NaCl.gro pull/.    # copy over the gro file by the way\n",
    "echo '[ position_restraints ]\n",
    ";  i funct       fcx        fcy        fcz\n",
    "   1    1       1000       1000       1000' > pull/Na_posres.itp"
   ]
  },
  {
   "cell_type": "markdown",
   "id": "16458e53",
   "metadata": {
    "slideshow": {
     "slide_type": "fragment"
    }
   },
   "source": [
    "Alternatively, you could run GROMACS `genrestr` command using `NaCl.gro`:\n",
    "```\n",
    "echo NA | mpirun -np 1 gmx_mpi genrestr -f pull/NaCl.gro -o pull/Na_posres.itp\n",
    "```\n",
    "In this case, the output `itp` file would require modification since the index would be 322 (the index of NA in `NaCl.gro`) instead of 1 (the index of NA in its own `[ moleculetype ]` directive, which is what we want)."
   ]
  },
  {
   "cell_type": "markdown",
   "id": "70b21745",
   "metadata": {
    "slideshow": {
     "slide_type": "slide"
    }
   },
   "source": [
    "## 1-2. Modification of the `mdp` file"
   ]
  },
  {
   "cell_type": "code",
   "execution_count": null,
   "id": "72d1a827",
   "metadata": {
    "scrolled": false,
    "slideshow": {
     "slide_type": "slide"
    }
   },
   "outputs": [],
   "source": [
    "%%bash\n",
    "cat ../Inputs/NaCl/MD-NVT.mdp  # the original MDP file"
   ]
  },
  {
   "cell_type": "markdown",
   "id": "469ea527",
   "metadata": {
    "slideshow": {
     "slide_type": "slide"
    }
   },
   "source": [
    "First, we need to define `POSRES_NA` at the top of the MDP file so the position restraint is activated. This is done by adding the following line at the top of the `mdp` file:\n",
    "```\n",
    "define=-DPOSRES_NA\n",
    "```"
   ]
  },
  {
   "cell_type": "code",
   "execution_count": null,
   "id": "70eeb77f",
   "metadata": {
    "slideshow": {
     "slide_type": "slide"
    }
   },
   "outputs": [],
   "source": [
    "%%bash\n",
    "echo 'define=-DPOSRES_NA\n",
    "integrator = md \n",
    "dt = 0.002\n",
    "nsteps = 125000\n",
    "cutoff-scheme = Verlet\n",
    "coulombtype = PME\n",
    "rlist = 0.6\n",
    "rcoulomb = 0.6\n",
    "rvdw = 0.6\n",
    "constraints = h-bonds\n",
    "tcoupl =  V-rescale\n",
    "ref_t = 300\n",
    "tau-t = 1.0\n",
    "tc-grps = System\n",
    "gen-vel = yes\n",
    "gen-temp = 300\n",
    "gen-seed = -1 \n",
    "compressibility = 4.5e-5\n",
    "nstxout-compressed = 50\n",
    "nstxout = 50000\n",
    "nstvout = 50000\n",
    "' > pull/NaCl_pull.mdp\n",
    "# Here we create an mdp file starting with `define=-DPOSRES_NA`"
   ]
  },
  {
   "cell_type": "markdown",
   "id": "524a1719",
   "metadata": {
    "slideshow": {
     "slide_type": "slide"
    }
   },
   "source": [
    "Then, to pull the chloride ion away, we need to use the pull code in the `mdp` file."
   ]
  },
  {
   "cell_type": "code",
   "execution_count": null,
   "id": "2061d3b5",
   "metadata": {
    "slideshow": {
     "slide_type": "fragment"
    }
   },
   "outputs": [],
   "source": [
    "%%bash\n",
    "echo '; Pull code\n",
    "pull = yes\n",
    "pull-ncoords = 1                  ; Here we only have 1 CV.\n",
    "pull-ngroups = 2                  ; We have 2 groups (one immobile/reference group and one pull group).\n",
    "pull-group1-name = NA             ; index 1\n",
    "pull-group2-name = CL             ; index 2\n",
    "pull-coord1-groups = 1 2          ; groups with indices 1 (NA) and 2 (CL) are involved\n",
    "pull-coord1-type = umbrella       ; harmonic potential\n",
    "pull-coord1-geometry = distance   ; simple distance increase\n",
    "pull-coord1-dim = Y Y Y           ; We allow pulling from any directions.\n",
    "pull-coord1-start = yes           ; The harmonic potential is centered at the initial COM distance. \n",
    "pull-coord1-rate = 0.0010         ; 0.0010 nm/ps -> the pull distance in the 250 ps-simulation is 0.25 nm.\n",
    "pull-coord1-k = 1000              ; units: kJ/mol/nm^2' >> pull/NaCl_pull.mdp"
   ]
  },
  {
   "cell_type": "markdown",
   "id": "99692637",
   "metadata": {
    "slideshow": {
     "slide_type": "slide"
    }
   },
   "source": [
    "Here are more explanations for some of the parameters:"
   ]
  },
  {
   "cell_type": "markdown",
   "id": "330f9c51",
   "metadata": {
    "slideshow": {
     "slide_type": "fragment"
    }
   },
   "source": [
    "- `pull_coord1_rate`: The rate at which the imaginary spring attached between the ions is elongated. Importantly, the pull distance must not exceed 0.7248 nm, which is half of the smallest dimension of the box. This is to prevent the pull group from interacting with the periodic image of the system. Given that the typical ion-pair distance of NaCl is around 0.265 nm, a total pull distance of 0.25 nm should be safe.  \n",
    "- `pull-coord1-k`: The force constant does not really matter as long as it is enough to pull the pull group away."
   ]
  },
  {
   "cell_type": "markdown",
   "id": "2b44a6c3",
   "metadata": {
    "slideshow": {
     "slide_type": "slide"
    }
   },
   "source": [
    "## 1-3. Running a pulling simulation"
   ]
  },
  {
   "cell_type": "markdown",
   "id": "dcd27988",
   "metadata": {
    "slideshow": {
     "slide_type": "slide"
    }
   },
   "source": [
    "Now, we can finally run the pulling simulation. Notably, the `-r` option is necessary to be included for the restraint. "
   ]
  },
  {
   "cell_type": "code",
   "execution_count": null,
   "id": "f5c4373f",
   "metadata": {
    "scrolled": true,
    "slideshow": {
     "slide_type": "fragment"
    }
   },
   "outputs": [],
   "source": [
    "%%time\n",
    "%%bash\n",
    "module load gromacs/2020.2-cpu openmpi/4.0.5-gcc10.2.0\n",
    "mpirun -np 1 gmx_mpi grompp -f pull/NaCl_pull.mdp -c pull/NaCl.gro -r pull/NaCl.gro -p pull/NaCl_US.top -o pull/pull.tpr -po pull/mdout.mdp -maxwarn 1"
   ]
  },
  {
   "cell_type": "code",
   "execution_count": null,
   "id": "8c9d0913",
   "metadata": {
    "slideshow": {
     "slide_type": "slide"
    }
   },
   "outputs": [],
   "source": [
    "%%time\n",
    "%%bash\n",
    "module load gromacs/2020.2-cpu openmpi/4.0.5-gcc10.2.0\n",
    "mpirun -np 1 gmx_mpi mdrun -deffnm pull/pull -pf pull/pullf.xvg -px pull/pullx.xvg -ntomp 1"
   ]
  },
  {
   "cell_type": "markdown",
   "id": "014e3101",
   "metadata": {
    "slideshow": {
     "slide_type": "slide"
    }
   },
   "source": [
    "Compared to standard MD simulation, a pulling simulation has two additional output files: `pullf.xvg` and `pullx.xvg`, which document the timeseries of the pulling force and the ion-pair distance. "
   ]
  },
  {
   "cell_type": "markdown",
   "id": "a31d4c68",
   "metadata": {
    "slideshow": {
     "slide_type": "slide"
    }
   },
   "source": [
    "## 1-4. Generation of the initial configurations"
   ]
  },
  {
   "cell_type": "markdown",
   "id": "475a7fec",
   "metadata": {
    "slideshow": {
     "slide_type": "slide"
    }
   },
   "source": [
    "Given 32 CPUs available, we will divide the reaction path into 8 windows and run a simulation for each of them. The center of the window will range from the minimum ion-pair distance we got from the pulling simulation, to 0.6 nm, which is close enough to the upper bound of 0.7248 nm. For each window, we generate a configuration from the pulling simulation trajectory whose ion-pair distance is closet to the desired value (i.e., the center of the window). "
   ]
  },
  {
   "cell_type": "code",
   "execution_count": null,
   "id": "8bd16de9",
   "metadata": {
    "slideshow": {
     "slide_type": "fragment"
    }
   },
   "outputs": [],
   "source": [
    "import numpy as np\n",
    "pullx = np.transpose(np.loadtxt('pull/pullx.xvg', comments=['@', '#']))\n",
    "t, dist = pullx[0], pullx[1]\n",
    "centers = np.linspace(min(dist), 0.6, 8)  # the spacing between windows should be around 0.05 nm\n",
    "diff_list = np.abs([dist - i for i in centers])\n",
    "diff_idx = [np.argmin(diff_list[i]) for i in range(len(centers))]  # dist[diff_idx]: distances closet to the centers\n",
    "t_extract = t[diff_idx]  # in ps\n",
    "print(f'The ion-pair distances (in nm) of the chosen configurations are: {dist[diff_idx]}')\n",
    "print(f'The initial configurations will be extracted from the following time frames (in ps): {t_extract}')"
   ]
  },
  {
   "cell_type": "code",
   "execution_count": null,
   "id": "7aeb4d14",
   "metadata": {
    "slideshow": {
     "slide_type": "slide"
    }
   },
   "outputs": [],
   "source": [
    "import os\n",
    "for i in range(len(t_extract)):\n",
    "    os.mkdir(f'sim_{i}')\n",
    "    os.system(f'module load gromacs/2020.2-cpu openmpi/4.0.5-gcc10.2.0 && echo System | mpirun -np 1 gmx_mpi trjconv -s pull/pull.tpr -f pull/pull.xtc -dump {t_extract[i]} -o sim_{i}/NaCl_{i}.gro')"
   ]
  },
  {
   "cell_type": "markdown",
   "id": "5f5b1381",
   "metadata": {
    "slideshow": {
     "slide_type": "slide"
    }
   },
   "source": [
    "## 2. Production runs"
   ]
  },
  {
   "cell_type": "markdown",
   "id": "fc7c7da2",
   "metadata": {
    "slideshow": {
     "slide_type": "slide"
    }
   },
   "source": [
    "At this point, we have th `gro` and `top` files ready. However, we need to prepare the `mdp` file `NaCl_umbrella.mdp`. All these simulation inputs will be distributed to 8 different folders for 8 simulations in parallel. \n",
    "\n",
    "Compared to the `mdp` file we used for the pulling simulation, `NaCl_umbrella.mdp` has the following 3 changes:\n",
    "- The simulation length is 500 ps instead of 250 ps. \n",
    "- The pulling rate is set as 0.\n",
    "- The force constant is set as 8000 instead of 1000 $\\mathrm{kJ/mol/nm^2}$."
   ]
  },
  {
   "cell_type": "code",
   "execution_count": null,
   "id": "4c3d4556",
   "metadata": {
    "slideshow": {
     "slide_type": "fragment"
    }
   },
   "outputs": [],
   "source": [
    "%%bash\n",
    "cp pull/NaCl_pull.mdp NaCl_umbrella.mdp\n",
    "sed -i -e \"s/nsteps = 125000/nsteps = 250000/g\" NaCl_umbrella.mdp  # simulation length: 500 ps for each umbrella\n",
    "sed -i -e \"s/pull-coord1-rate = 0.0010         ; 0.0010 nm\\/ps -> the pull distance in the 250 ps-simulation is 0.25 nm./pull-coord1-rate = 0/g\" NaCl_umbrella.mdp\n",
    "sed -i -e \"s/pull-coord1-k = 1000              ; units: kJ\\/mol\\/nm^2/pull-coord1-k = 8000/g\" NaCl_umbrella.mdp\n",
    "cat NaCl_umbrella.mdp"
   ]
  },
  {
   "cell_type": "markdown",
   "id": "8962f7b3",
   "metadata": {
    "slideshow": {
     "slide_type": "slide"
    }
   },
   "source": [
    "Now, we can generate a `tpr` file for each of the simulations. Here, we will use the same `top` file we used in the pulling simulation. "
   ]
  },
  {
   "cell_type": "code",
   "execution_count": null,
   "id": "146b6456",
   "metadata": {
    "slideshow": {
     "slide_type": "fragment"
    }
   },
   "outputs": [],
   "source": [
    "%%bash\n",
    "module load gromacs/2020.2-cpu openmpi/4.0.5-gcc10.2.0\n",
    "\n",
    "for i in {0..7}\n",
    "do\n",
    "    cp pull/NaCl_US.top sim_${i}/.    # Use the same top file as in the pulling simulation\n",
    "    cp pull/Na_posres.itp sim_${i}/.  # Copy over the itp file for position restraint\n",
    "    cp NaCl_umbrella.mdp sim_${i}/.   # All simulations use the same NaCl_umbrella.mdp\n",
    "    cd sim_${i}\n",
    "    mpirun -np 1 gmx_mpi grompp -f NaCl_umbrella.mdp -c NaCl_${i}.gro -r NaCl_${i}.gro -p NaCl_US.top -o NaCl_US.tpr -maxwarn 1  # Generate the tpr\n",
    "    cd ../\n",
    "done"
   ]
  },
  {
   "cell_type": "markdown",
   "id": "879e406b",
   "metadata": {
    "slideshow": {
     "slide_type": "slide"
    }
   },
   "source": [
    "Then, we run the simulations of 8 windows in parallel using the `-multdir` flag as we did in the last exercise."
   ]
  },
  {
   "cell_type": "code",
   "execution_count": null,
   "id": "913bc648",
   "metadata": {
    "slideshow": {
     "slide_type": "fragment"
    }
   },
   "outputs": [],
   "source": [
    "%%time\n",
    "%%bash\n",
    "module load gromacs/2020.2-cpu openmpi/4.0.5-gcc10.2.0\n",
    "mpirun -np 8 gmx_mpi mdrun -deffnm NaCl_US -pf pullf.xvg -px pullx.xvg -multidir sim_{0..7} -ntomp 4"
   ]
  },
  {
   "cell_type": "markdown",
   "id": "c71e7030",
   "metadata": {
    "slideshow": {
     "slide_type": "slide"
    }
   },
   "source": [
    "Same as the pulling simulation, a `pullx.xvg` file (and a `pullf.xvg` file) will be generated in each of the simulation folders. To check the overlap between umbrella windows, we plot the histogram of the pulling distance for each simulation. "
   ]
  },
  {
   "cell_type": "code",
   "execution_count": null,
   "id": "2a74d0d0",
   "metadata": {
    "slideshow": {
     "slide_type": "slide"
    }
   },
   "outputs": [],
   "source": [
    "import matplotlib.pyplot as plt\n",
    "from matplotlib import rc\n",
    "\n",
    "# Just some settings for plotting\n",
    "rc('font', **{\n",
    "    'family': 'sans-serif',\n",
    "    'sans-serif': ['DejaVu Sans'],\n",
    "    'size': 10,\n",
    "})\n",
    "# Set the font used for MathJax - more on thiprint(images)\n",
    "rc('mathtext', **{'default': 'regular'})\n",
    "plt.rc('font', family='serif')"
   ]
  },
  {
   "cell_type": "code",
   "execution_count": null,
   "id": "cec152ee",
   "metadata": {
    "slideshow": {
     "slide_type": "slide"
    }
   },
   "outputs": [],
   "source": [
    "pullx_data = [np.transpose(np.loadtxt(f'sim_{i}/pullx.xvg', comments=['@', '#'])) for i in range(8)]\n",
    "dist_list = [data[1] for data in pullx_data]\n",
    "\n",
    "plt.figure(figsize=(8, 3))\n",
    "for i in range(8):\n",
    "    plt.hist(dist_list[i], bins=50, alpha=0.5)\n",
    "plt.xlabel('Ion-pair distance (nm)')\n",
    "plt.ylabel('Count')\n",
    "plt.grid()"
   ]
  },
  {
   "cell_type": "markdown",
   "id": "a905a4b6",
   "metadata": {
    "slideshow": {
     "slide_type": "slide"
    }
   },
   "source": [
    "As shown above, there is always overlap between neighboring windows, indicating that a force constant of 8000 $\\mathrm{kJ/mol/nm^2}$ is reasonable. \n",
    "- If the force constant were too large, the spread of each distribution would have been too narrow, so there would be a risk of not having overlap between some of the neighboring replicas. \n",
    "- If the force constant were too small, it would be hard to keep the pull group at the desired center of the window. In this case, the pull group will drift to the metastable state, which could also lead to insufficient overlap. "
   ]
  },
  {
   "cell_type": "markdown",
   "id": "6719e0e9",
   "metadata": {
    "slideshow": {
     "slide_type": "slide"
    }
   },
   "source": [
    "**Question 1**: How can we futher improve the overlap overlap between neighboring distributions?"
   ]
  },
  {
   "cell_type": "markdown",
   "id": "171fcf10",
   "metadata": {
    "slideshow": {
     "slide_type": "slide"
    }
   },
   "source": [
    "## 3. Computation of the free energy surface using MBAR"
   ]
  },
  {
   "cell_type": "code",
   "execution_count": null,
   "id": "2991ac13",
   "metadata": {
    "scrolled": false,
    "slideshow": {
     "slide_type": "slide"
    }
   },
   "outputs": [],
   "source": [
    "import time\n",
    "import pymbar\n",
    "from pymbar import timeseries\n",
    "import random\n",
    "import scipy.stats\n",
    "\n",
    "t0 = time.time()\n",
    "\n",
    "# Step 1: Setting up\n",
    "K = 8                                       # number of umbrellas\n",
    "N_max = 5001                                # number of data points in each timeseries of ion-pair distance\n",
    "kT = 1.381e-23 * 6.022e23 / 1000 * 300      # 1 kT converted to kJ/mol at 300 K\n",
    "beta_k = np.ones(K) / kT                    # inverse temperature of simulations (in 1/(kJ/mol)) \n",
    "d_min, d_max = 0.25, 0.65                   # minimum and maximum of the CV for plotting the FES\n",
    "nbins = 50                                  # number of bins for FES\n",
    "K_k = np.ones(K) * 8000                     # spring constant (in kJ/mol/nm**2) for different simulations\n",
    "N_k, g_k = np.zeros(K, int), np.zeros(K)    # number of samples and statistical inefficiency of different simulations\n",
    "d_kn = np.zeros([K, N_max])                 # d_kn[k,n] is the ion-pair distance (in nm) for snapshot n from umbrella simulation k\n",
    "u_kn = np.zeros([K, N_max])                 # u_kn[k,n] is the reduced potential energy without umbrella restraints of snapshot n of umbrella simulation k\n",
    "uncorrelated_samples = []                   # Uncorrelated samples of different simulations\n",
    "\n",
    "# Step 2: Read in and subsample the timeseries\n",
    "for k in range(K):\n",
    "    d_kn[k] = np.transpose(np.loadtxt(f'sim_{k}/pullx.xvg', comments=['@', '#']))[1]\n",
    "    N_k[k] = len(d_kn[k])\n",
    "    d_temp = d_kn[k, 0:N_k[k]]\n",
    "    g_k[k] = timeseries.statistical_inefficiency(d_temp)     \n",
    "    print(f\"Statistical inefficiency of simulation {k}: {g_k[k]:.3f}\")\n",
    "    indices = timeseries.subsample_correlated_data(d_temp, g=g_k[k]) # indices of the uncorrelated samples\n",
    "    \n",
    "    # Update u_kn and d_kn with uncorrelated samples\n",
    "    N_k[k] = len(indices)    # At this point, N_k contains the number of uncorrelated samples for each state k                \n",
    "    u_kn[k, 0:N_k[k]] = u_kn[k, indices]\n",
    "    d_kn[k, 0:N_k[k]] = d_kn[k, indices]\n",
    "    uncorrelated_samples.append(d_kn[k, indices])\n",
    "\n",
    "d0_k = np.array([d_kn[i][0] for i in range(K)])    \n",
    "N_max = np.max(N_k) # shorten the array size\n",
    "u_kln = np.zeros([K, K, N_max]) # u_kln[k,l,n] is the reduced potential energy of snapshot n from umbrella simulation k evaluated at umbrella l\n",
    "u_kn -= u_kn.min()  # shift the minimum of the FES to 0\n",
    "\n",
    "# Step 3: Bin the data\n",
    "bin_center_i = np.zeros([nbins])\n",
    "bin_edges = np.linspace(d_min, d_max, nbins + 1)\n",
    "for i in range(nbins):\n",
    "    bin_center_i[i] = 0.5 * (bin_edges[i] + bin_edges[i + 1])\n",
    "   \n",
    "# Step 4: Evaluate reduced energies in all umbrellas\n",
    "for k in range(K):\n",
    "    for n in range(N_k[k]):\n",
    "        # Compute minimum-image ion-pair distance deviation from umbrella center l\n",
    "        dd = d_kn[k,n] - d0_k  # delta d\n",
    "\n",
    "        # Compute energy of snapshot n from simulation k in umbrella potential l\n",
    "        u_kln[k,:,n] = u_kn[k,n] + beta_k[k] * (K_k / 2) * dd ** 2\n",
    "\n",
    "# Step 5: Compute, output, and plot the FES\n",
    "fes = pymbar.FES(u_kln, N_k, verbose=False)\n",
    "histo_params = {'bin_edges': bin_edges}\n",
    "d_n = pymbar.utils.kn_to_n(d_kn, N_k=N_k)\n",
    "fes.generate_fes(u_kn, d_n, fes_type='histogram', histogram_parameters=histo_params)\n",
    "results = fes.get_fes(bin_center_i, reference_point=\"from-lowest\", uncertainty_method=\"analytical\")\n",
    "f_i = results[\"f_i\"]\n",
    "df_i = results[\"df_i\"]\n",
    "\n",
    "with open('fes.dat', 'w') as f:\n",
    "    f.write(\"# free energy profile (in units of kT), from histogramming\\n\")\n",
    "    f.write(f\"# {'bin':>8s} {'f':>8s} {'df':>8s} \\n\")\n",
    "    for i in range(nbins):\n",
    "       f.write(f\"{bin_center_i[i]:>8.3f} {f_i[i]:>8.3f} {df_i[i]:>8.3f} \\n\")\n",
    "\n",
    "plt.figure()\n",
    "plt.plot(bin_center_i, f_i)\n",
    "plt.fill_between(bin_center_i, f_i - df_i, f_i + df_i, color='lightgreen')\n",
    "plt.xlabel('Ion-pair distance (nm)')\n",
    "plt.ylabel('Free energy (kT)')\n",
    "plt.grid()\n",
    "\n",
    "t1 = time.time()\n",
    "print(f'\\nTime elapsed: {t1 - t0:.0f} seconds.')"
   ]
  },
  {
   "cell_type": "markdown",
   "id": "7e1e4c36",
   "metadata": {
    "slideshow": {
     "slide_type": "slide"
    }
   },
   "source": [
    "**Question 2**: Why is the uncertainty lower in some of the regions?"
   ]
  },
  {
   "cell_type": "code",
   "execution_count": null,
   "id": "d76bb097",
   "metadata": {
    "scrolled": true,
    "slideshow": {
     "slide_type": "fragment"
    }
   },
   "outputs": [],
   "source": [
    "plt.figure(figsize=(8, 3))\n",
    "for i in range(8):\n",
    "    plt.hist(uncorrelated_samples[i], bins=50, alpha=0.5)\n",
    "plt.xlabel('Ion-pair distance (nm)')\n",
    "plt.ylabel('Count')\n",
    "plt.grid()"
   ]
  },
  {
   "cell_type": "markdown",
   "id": "c6940335",
   "metadata": {
    "slideshow": {
     "slide_type": "slide"
    }
   },
   "source": [
    "## 4. Reference(s)\n",
    "- The paper that proposed MBAR: [Shirts, Michael R. \"Reweighting from the mixture distribution as a better way to describe the Multistate Bennett Acceptance Ratio.\" arXiv preprint arXiv:1704.00891 (2017).](https://aip.scitation.org/doi/abs/10.1063/1.2978177)\n",
    "- Another perspective of interpreting the theory of MBAR: [Shirts, Michael R. \"Reweighting from the mixture distribution as a better way to describe the Multistate Bennett Acceptance Ratio.\" arXiv preprint arXiv:1704.00891 (2017).](https://arxiv.org/abs/1704.00891)\n",
    "- A review about umbrella sampling: [Kästner, Johannes. \"Umbrella sampling.\" Wiley Interdisciplinary Reviews: Computational Molecular Science 1.6 (2011): 932-942.](https://doi.org/10.1002/wcms.66)"
   ]
  }
 ],
 "metadata": {
  "celltoolbar": "Slideshow",
  "kernelspec": {
   "display_name": "Python 3 (ipykernel)",
   "language": "python",
   "name": "python3"
  },
  "language_info": {
   "codemirror_mode": {
    "name": "ipython",
    "version": 3
   },
   "file_extension": ".py",
   "mimetype": "text/x-python",
   "name": "python",
   "nbconvert_exporter": "python",
   "pygments_lexer": "ipython3",
   "version": "3.9.12"
  }
 },
 "nbformat": 4,
 "nbformat_minor": 5
}
