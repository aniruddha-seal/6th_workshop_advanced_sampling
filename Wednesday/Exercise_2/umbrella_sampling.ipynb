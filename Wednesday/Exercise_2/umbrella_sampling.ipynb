{
 "cells": [
  {
   "cell_type": "markdown",
   "id": "575f409c",
   "metadata": {
    "slideshow": {
     "slide_type": "slide"
    }
   },
   "source": [
    "# Exercise 2: Umbrella sampling"
   ]
  },
  {
   "cell_type": "markdown",
   "id": "d7a63543",
   "metadata": {
    "slideshow": {
     "slide_type": "slide"
    }
   },
   "source": [
    "In this exercise, we will perform umbrella sampling simulations for the NaCl system, which is composed of the following 3 steps that we will elaborate later:\n",
    "- A pulling simulation (a.k.a steered MD) \n",
    "- Generation of the initial configuraitons for the production runs\n",
    "- Production runs. \n",
    "\n",
    "\n",
    "This exercise should be done in an interactive session on Bridges-2, which 32 CPU cores requested. Note that here we are running the simulations in the NVT ensemble, which makes pulling more straightforward."
   ]
  },
  {
   "cell_type": "markdown",
   "id": "bb33f28b",
   "metadata": {
    "slideshow": {
     "slide_type": "slide"
    }
   },
   "source": [
    "## 1. Pulling simulation"
   ]
  },
  {
   "cell_type": "code",
   "execution_count": 1,
   "id": "113c7948",
   "metadata": {
    "slideshow": {
     "slide_type": "slide"
    }
   },
   "outputs": [],
   "source": [
    "%%bash\n",
    "mkdir pull"
   ]
  },
  {
   "cell_type": "markdown",
   "id": "77259102",
   "metadata": {
    "slideshow": {
     "slide_type": "slide"
    }
   },
   "source": [
    "The purpose of a pulling simulation is to generate initial configurations with different CV values for the subsequent production simulations. In a pulling simulation, we need to divide the system of interest (NaCl) into two parts "
   ]
  },
  {
   "cell_type": "markdown",
   "id": "9575c655",
   "metadata": {
    "slideshow": {
     "slide_type": "fragment"
    }
   },
   "source": [
    "- The immobile group: The part of the system that is immobilized by a **position restraint**. In this exercise, we choose to fix the sodium ion, but choosing to fix the chloride ion should not make a difference in the resulting free energy profile. "
   ]
  },
  {
   "cell_type": "markdown",
   "id": "7014f7cf",
   "metadata": {
    "slideshow": {
     "slide_type": "fragment"
    }
   },
   "source": [
    "<center> \n",
    "➡️ This can be done by modifying the TOP file.\n",
    "</center>"
   ]
  },
  {
   "cell_type": "markdown",
   "id": "e506f625",
   "metadata": {
    "slideshow": {
     "slide_type": "slide"
    }
   },
   "source": [
    "- The pull group: The part of the system we want to pull away from the immobile group using the **pull code**. Here, we choose the chloride ion as the pull group. "
   ]
  },
  {
   "cell_type": "markdown",
   "id": "433eacec",
   "metadata": {
    "slideshow": {
     "slide_type": "fragment"
    }
   },
   "source": [
    "<center> \n",
    "➡️ This can be done by modifying the MDP file.\n",
    "</center>"
   ]
  },
  {
   "cell_type": "markdown",
   "id": "e62bab00",
   "metadata": {
    "slideshow": {
     "slide_type": "slide"
    }
   },
   "source": [
    "## 1-1. Modification of the `top` file"
   ]
  },
  {
   "cell_type": "code",
   "execution_count": 2,
   "id": "fe705ec7",
   "metadata": {
    "slideshow": {
     "slide_type": "slide"
    }
   },
   "outputs": [
    {
     "name": "stdout",
     "output_type": "stream",
     "text": [
      "#include \"oplsaa.ff/forcefield.itp\"\n",
      "#include \"oplsaa.ff/tip3p.itp\"\n",
      "\n",
      "[ moleculetype ]\n",
      "; molname   nrexcl\n",
      "CL      1\n",
      "\n",
      "[ atoms ]\n",
      "; id    at type     res nr  residu name at name  cg nr  charge   mass\n",
      "1       opls_401    1       CL          CL       1      -1       35.45300\n",
      "\n",
      "[ moleculetype ]\n",
      "; molname   nrexcl\n",
      "NA          1\n",
      "\n",
      "[ atoms ]\n",
      "; id    at type     res nr  residu name at name  cg nr  charge   mass\n",
      "1       opls_407    1       NA          NA       1      1        22.98977\n",
      "\n",
      "[ System ]\n",
      "NaCl in water\n",
      "\n",
      "[ Molecules ]\n",
      "SOL         107\n",
      "NA               1\n",
      "CL               1\n"
     ]
    }
   ],
   "source": [
    "%%bash\n",
    "cat ../Inputs/NaCl/NaCl.top  # the original top file we used"
   ]
  },
  {
   "cell_type": "markdown",
   "id": "37f9141b",
   "metadata": {
    "slideshow": {
     "slide_type": "slide"
    }
   },
   "source": [
    "To make the topology aware of the position restraint, we need to add the following right after the `[ atoms ]` directive of NA."
   ]
  },
  {
   "cell_type": "code",
   "execution_count": 3,
   "id": "5a0ec250",
   "metadata": {},
   "outputs": [],
   "source": [
    "%%bash \n",
    "echo '\n",
    "#include \"oplsaa.ff/forcefield.itp\"\n",
    "#include \"oplsaa.ff/tip3p.itp\"\n",
    "\n",
    "[ moleculetype ]\n",
    "; molname   nrexcl\n",
    "CL      1\n",
    "\n",
    "[ atoms ]\n",
    "; id    at type     res nr  residu name at name  cg nr  charge   mass\n",
    "1       opls_401    1       CL          CL       1      -1       35.45300\n",
    "\n",
    "[ moleculetype ]\n",
    "; molname   nrexcl\n",
    "NA          1\n",
    "\n",
    "[ atoms ]\n",
    "; id    at type     res nr  residu name at name  cg nr  charge   mass\n",
    "1       opls_407    1       NA          NA       1      1        22.98977\n",
    "\n",
    "; position restraints for Na\n",
    "# ifdef POSRES_NA\n",
    "# include \"Na_posres.itp\"\n",
    "# endif\n",
    "\n",
    "[ System ]\n",
    "NaCl in water\n",
    "\n",
    "[ Molecules ]\n",
    "SOL         107\n",
    "NA               1\n",
    "CL               1\n",
    "' > pull/NaCl_US.top"
   ]
  },
  {
   "cell_type": "markdown",
   "id": "064de45e",
   "metadata": {
    "slideshow": {
     "slide_type": "slide"
    }
   },
   "source": [
    "```\n",
    "; position restraints for Na\n",
    "# ifdef POSRES_NA\n",
    "# include \"Na_posres.itp\"\n",
    "# endif\n",
    "```"
   ]
  },
  {
   "cell_type": "markdown",
   "id": "d4e60f44",
   "metadata": {
    "slideshow": {
     "slide_type": "fragment"
    }
   },
   "source": [
    "The added lines mean that **if the variable `POSRES_NA` is defined (in the `mdp` file), the position restraint defined in the file `Na_posres.itp` will be activated**. \n",
    "\n",
    "Clearly, now we don't have the file `Na_posres.itp`, but we will worry about that later."
   ]
  },
  {
   "cell_type": "markdown",
   "id": "e1061b09",
   "metadata": {
    "slideshow": {
     "slide_type": "slide"
    }
   },
   "source": [
    "To get the `itp` file to apply the position restraint, we need to run the GROMACS `genrestr` command, which requires a `gro` file."
   ]
  },
  {
   "cell_type": "code",
   "execution_count": 4,
   "id": "dac9b303",
   "metadata": {
    "scrolled": true,
    "slideshow": {
     "slide_type": "fragment"
    }
   },
   "outputs": [
    {
     "name": "stderr",
     "output_type": "stream",
     "text": [
      "              :-) GROMACS - gmx genrestr, 2020.6-plumed-2.8.0 (-:\n",
      "\n",
      "                            GROMACS is written by:\n",
      "     Emile Apol      Rossen Apostolov      Paul Bauer     Herman J.C. Berendsen\n",
      "    Par Bjelkmar      Christian Blau   Viacheslav Bolnykh     Kevin Boyd    \n",
      " Aldert van Buuren   Rudi van Drunen     Anton Feenstra       Alan Gray     \n",
      "  Gerrit Groenhof     Anca Hamuraru    Vincent Hindriksen  M. Eric Irrgang  \n",
      "  Aleksei Iupinov   Christoph Junghans     Joe Jordan     Dimitrios Karkoulis\n",
      "    Peter Kasson        Jiri Kraus      Carsten Kutzner      Per Larsson    \n",
      "  Justin A. Lemkul    Viveca Lindahl    Magnus Lundborg     Erik Marklund   \n",
      "    Pascal Merz     Pieter Meulenhoff    Teemu Murtola       Szilard Pall   \n",
      "    Sander Pronk      Roland Schulz      Michael Shirts    Alexey Shvetsov  \n",
      "   Alfons Sijbers     Peter Tieleman      Jon Vincent      Teemu Virolainen \n",
      " Christian Wennberg    Maarten Wolf      Artem Zhmurov   \n",
      "                           and the project leaders:\n",
      "        Mark Abraham, Berk Hess, Erik Lindahl, and David van der Spoel\n",
      "\n",
      "Copyright (c) 1991-2000, University of Groningen, The Netherlands.\n",
      "Copyright (c) 2001-2019, The GROMACS development team at\n",
      "Uppsala University, Stockholm University and\n",
      "the Royal Institute of Technology, Sweden.\n",
      "check out http://www.gromacs.org for more information.\n",
      "\n",
      "GROMACS is free software; you can redistribute it and/or modify it\n",
      "under the terms of the GNU Lesser General Public License\n",
      "as published by the Free Software Foundation; either version 2.1\n",
      "of the License, or (at your option) any later version.\n",
      "\n",
      "GROMACS:      gmx genrestr, version 2020.6-plumed-2.8.0\n",
      "Executable:   /opt/conda/bin/gmx_mpi\n",
      "Data prefix:  /opt/conda\n",
      "Working dir:  /ocean/projects/cts160011p/wehs7661/3rd_workshop_advanced_sampling/Wednesday/Exercise_2\n",
      "Command line:\n",
      "  gmx_mpi genrestr -f pull/NaCl.gro -o pull/Na_posres.itp\n",
      "\n",
      "\n",
      "Reading structure file\n"
     ]
    },
    {
     "name": "stdout",
     "output_type": "stream",
     "text": [
      "Select group to position restrain\n"
     ]
    },
    {
     "name": "stderr",
     "output_type": "stream",
     "text": [
      "Group     0 (         System) has   323 elements\n",
      "Group     1 (          Water) has   321 elements\n",
      "Group     2 (            SOL) has   321 elements\n",
      "Group     3 (      non-Water) has     2 elements\n",
      "Group     4 (            Ion) has     2 elements\n",
      "Group     5 (             NA) has     1 elements\n",
      "Group     6 (             CL) has     1 elements\n",
      "Group     7 ( Water_and_ions) has   323 elements\n"
     ]
    },
    {
     "name": "stdout",
     "output_type": "stream",
     "text": [
      "Selected 5: 'NA'\n"
     ]
    },
    {
     "name": "stderr",
     "output_type": "stream",
     "text": [
      "Select a group: \n",
      "GROMACS reminds you: \"Measuring programming progress by lines of code is like measuring aircraft building progress by weight.\" (Bill Gates)\n",
      "\n"
     ]
    }
   ],
   "source": [
    "%%bash\n",
    "bash /ocean/projects/see220002p/shared/icomse-setup.sh  # load in necessary modules to enable GROMACS\n",
    "cp ../Inputs/NaCl/NaCl.gro pull/.    # copy over the gro file\n",
    "echo NA | mpirun -np 1 gmx_mpi genrestr -f pull/NaCl.gro -o pull/Na_posres.itp"
   ]
  },
  {
   "cell_type": "code",
   "execution_count": 5,
   "id": "33302067",
   "metadata": {
    "slideshow": {
     "slide_type": "slide"
    }
   },
   "outputs": [
    {
     "name": "stdout",
     "output_type": "stream",
     "text": [
      "; position restraints for NA of NaCl in water t= 200.00000 step= 100000\n",
      "\n",
      "[ position_restraints ]\n",
      ";  i funct       fcx        fcy        fcz\n",
      " 322    1       1000       1000       1000\n"
     ]
    }
   ],
   "source": [
    "%%bash\n",
    "cat pull/Na_posres.itp"
   ]
  },
  {
   "cell_type": "markdown",
   "id": "2af2b991",
   "metadata": {
    "slideshow": {
     "slide_type": "fragment"
    }
   },
   "source": [
    "Importantly, the file `Na_posres.itp` needs to be modified because it was generated based on `NaCl.gro`, where the sodium ion had an index of 322. However, in `NaCl.top`, the lines mentioning the restraint were inserted before the `[ Molecules ]` directive, so the `idp` file is not aware of the whole system of 323 atoms but only the atom in the last `[ molecules ]` directive, which is the NA atom and has an index of 1. Therefore, we should use the index of 1 in the `itp` file as well. "
   ]
  },
  {
   "cell_type": "code",
   "execution_count": 6,
   "id": "b911f094",
   "metadata": {},
   "outputs": [
    {
     "name": "stdout",
     "output_type": "stream",
     "text": [
      "; position restraints for NA of NaCl in water t= 200.00000 step= 100000\n",
      "\n",
      "[ position_restraints ]\n",
      ";  i funct       fcx        fcy        fcz\n",
      " 1    1       1000       1000       1000\n"
     ]
    }
   ],
   "source": [
    "%%bash\n",
    "sed -i -e \"s/ 322    1       1000       1000       1000/ 1    1       1000       1000       1000/g\" pull/Na_posres.itp\n",
    "cat pull/Na_posres.itp"
   ]
  },
  {
   "cell_type": "markdown",
   "id": "70b21745",
   "metadata": {
    "slideshow": {
     "slide_type": "slide"
    }
   },
   "source": [
    "## 1-2. Modification of the `mdp` file"
   ]
  },
  {
   "cell_type": "code",
   "execution_count": 7,
   "id": "72d1a827",
   "metadata": {
    "scrolled": false,
    "slideshow": {
     "slide_type": "slide"
    }
   },
   "outputs": [
    {
     "name": "stdout",
     "output_type": "stream",
     "text": [
      "integrator = md \n",
      "dt = 0.002\n",
      "nsteps = 250000\n",
      "cutoff-scheme = Verlet\n",
      "coulombtype = PME\n",
      "rlist = 0.6\n",
      "rcoulomb = 0.6\n",
      "rvdw = 0.6\n",
      "constraints = h-bonds\n",
      "tcoupl =  V-rescale\n",
      "ref_t = 300\n",
      "tau-t = 1.0\n",
      "tc-grps = System\n",
      "gen-vel = yes\n",
      "gen-temp = 300\n",
      "gen-seed = -1 \n",
      "DispCorr = AllEnerPres\n",
      "nstxout-compressed = 50\n",
      "nstxout = 50000\n",
      "nstvout = 50000\n"
     ]
    }
   ],
   "source": [
    "%%bash\n",
    "cat ../Inputs/NaCl/MD-NVT.mdp  # the original MDP file"
   ]
  },
  {
   "cell_type": "markdown",
   "id": "469ea527",
   "metadata": {
    "slideshow": {
     "slide_type": "slide"
    }
   },
   "source": [
    "First, we need to define `POSRES_NA` at the top of the MDP file so the position restraint is activated. This is done by adding the following line at the top of the `mdp` file:\n",
    "```\n",
    "define=-DPOSRES_NA\n",
    "```"
   ]
  },
  {
   "cell_type": "code",
   "execution_count": 8,
   "id": "70eeb77f",
   "metadata": {
    "slideshow": {
     "slide_type": "slide"
    }
   },
   "outputs": [],
   "source": [
    "%%bash\n",
    "echo '\n",
    "define=-DPOSRES_NA\n",
    "integrator = md \n",
    "dt = 0.002\n",
    "nsteps = 125000\n",
    "cutoff-scheme = Verlet\n",
    "coulombtype = PME\n",
    "rlist = 0.6\n",
    "rcoulomb = 0.6\n",
    "rvdw = 0.6\n",
    "constraints = h-bonds\n",
    "tcoupl =  V-rescale\n",
    "ref_t = 300\n",
    "tau-t = 1.0\n",
    "tc-grps = System\n",
    "gen-vel = yes\n",
    "gen-temp = 300\n",
    "gen-seed = -1 \n",
    "compressibility = 4.5e-5\n",
    "nstxout-compressed = 50\n",
    "nstxout = 50000\n",
    "nstvout = 50000\n",
    "' > pull/NaCl_pull.mdp\n",
    "# Here we create an mdp file starting with `define=-DPOSRES_NA`"
   ]
  },
  {
   "cell_type": "markdown",
   "id": "524a1719",
   "metadata": {
    "slideshow": {
     "slide_type": "slide"
    }
   },
   "source": [
    "Then, to pull the chloride ion away, we need to use the pull code in the `mdp` file."
   ]
  },
  {
   "cell_type": "code",
   "execution_count": 9,
   "id": "2061d3b5",
   "metadata": {
    "slideshow": {
     "slide_type": "fragment"
    }
   },
   "outputs": [],
   "source": [
    "%%bash\n",
    "echo '\n",
    "; Pull code\n",
    "pull = yes\n",
    "pull-ncoords = 1                  ; Here we only have 1 CV.\n",
    "pull-ngroups = 2                  ; We have 2 groups (one immobile/reference group and one pull group).\n",
    "pull-group1-name = NA             ; index 1\n",
    "pull-group2-name = CL             ; index 2\n",
    "pull-coord1-groups = 1 2          ; groups with indices 1 (NA) and 2 (CL) are involved\n",
    "pull-coord1-type = umbrella       ; harmonic potential\n",
    "pull-coord1-geometry = distance   ; simple distance increase\n",
    "pull-coord1-dim = Y Y Y           ; We allow pulling from any directions.\n",
    "pull-coord1-start = yes           ; Define initial COM distance > 0\n",
    "pull-coord1-rate = 0.0010         ; 0.0010 nm/ps -> the pull distance in the 250 ps-simulation is 0.25 nm.\n",
    "pull-coord1-k = 1000              ; units: kJ/mol/nm^2\n",
    "' >> pull/NaCl_pull.mdp"
   ]
  },
  {
   "cell_type": "markdown",
   "id": "99692637",
   "metadata": {
    "slideshow": {
     "slide_type": "slide"
    }
   },
   "source": [
    "Here are more explanations for some of the parameters:"
   ]
  },
  {
   "cell_type": "markdown",
   "id": "330f9c51",
   "metadata": {
    "slideshow": {
     "slide_type": "fragment"
    }
   },
   "source": [
    "- `pull_coord1_rate`: The rate at which the imaginary spring attached between the ions is elongated. Importantly, the pull distance must not 0.7428 nm, which is half of the smallest dimension of the box. This is to prevent the pull group from interacting with the periodic image of the system. Given that the typical ion-pair distance of NaCl is around 0.265 nm, a total pull distance of 0.3 nm should be safe.  "
   ]
  },
  {
   "cell_type": "code",
   "execution_count": null,
   "id": "99f13cbb",
   "metadata": {},
   "outputs": [],
   "source": []
  },
  {
   "cell_type": "code",
   "execution_count": null,
   "id": "fca7e919",
   "metadata": {},
   "outputs": [],
   "source": []
  },
  {
   "cell_type": "code",
   "execution_count": null,
   "id": "06861125",
   "metadata": {},
   "outputs": [],
   "source": []
  },
  {
   "cell_type": "code",
   "execution_count": null,
   "id": "a32575f5",
   "metadata": {},
   "outputs": [],
   "source": []
  },
  {
   "cell_type": "markdown",
   "id": "2b44a6c3",
   "metadata": {
    "slideshow": {
     "slide_type": "slide"
    }
   },
   "source": [
    "## 1-3. Running a pulling simulation"
   ]
  },
  {
   "cell_type": "markdown",
   "id": "dcd27988",
   "metadata": {
    "slideshow": {
     "slide_type": "slide"
    }
   },
   "source": [
    "Now, we can finally run the pulling simulation. Notably, the `-r` option is necessary to be included for the restraint. "
   ]
  },
  {
   "cell_type": "code",
   "execution_count": 10,
   "id": "f5c4373f",
   "metadata": {
    "scrolled": true,
    "slideshow": {
     "slide_type": "fragment"
    }
   },
   "outputs": [
    {
     "name": "stderr",
     "output_type": "stream",
     "text": [
      "               :-) GROMACS - gmx grompp, 2020.6-plumed-2.8.0 (-:\n",
      "\n",
      "                            GROMACS is written by:\n",
      "     Emile Apol      Rossen Apostolov      Paul Bauer     Herman J.C. Berendsen\n",
      "    Par Bjelkmar      Christian Blau   Viacheslav Bolnykh     Kevin Boyd    \n",
      " Aldert van Buuren   Rudi van Drunen     Anton Feenstra       Alan Gray     \n",
      "  Gerrit Groenhof     Anca Hamuraru    Vincent Hindriksen  M. Eric Irrgang  \n",
      "  Aleksei Iupinov   Christoph Junghans     Joe Jordan     Dimitrios Karkoulis\n",
      "    Peter Kasson        Jiri Kraus      Carsten Kutzner      Per Larsson    \n",
      "  Justin A. Lemkul    Viveca Lindahl    Magnus Lundborg     Erik Marklund   \n",
      "    Pascal Merz     Pieter Meulenhoff    Teemu Murtola       Szilard Pall   \n",
      "    Sander Pronk      Roland Schulz      Michael Shirts    Alexey Shvetsov  \n",
      "   Alfons Sijbers     Peter Tieleman      Jon Vincent      Teemu Virolainen \n",
      " Christian Wennberg    Maarten Wolf      Artem Zhmurov   \n",
      "                           and the project leaders:\n",
      "        Mark Abraham, Berk Hess, Erik Lindahl, and David van der Spoel\n",
      "\n",
      "Copyright (c) 1991-2000, University of Groningen, The Netherlands.\n",
      "Copyright (c) 2001-2019, The GROMACS development team at\n",
      "Uppsala University, Stockholm University and\n",
      "the Royal Institute of Technology, Sweden.\n",
      "check out http://www.gromacs.org for more information.\n",
      "\n",
      "GROMACS is free software; you can redistribute it and/or modify it\n",
      "under the terms of the GNU Lesser General Public License\n",
      "as published by the Free Software Foundation; either version 2.1\n",
      "of the License, or (at your option) any later version.\n",
      "\n",
      "GROMACS:      gmx grompp, version 2020.6-plumed-2.8.0\n",
      "Executable:   /opt/conda/bin/gmx_mpi\n",
      "Data prefix:  /opt/conda\n",
      "Working dir:  /ocean/projects/cts160011p/wehs7661/3rd_workshop_advanced_sampling/Wednesday/Exercise_2\n",
      "Command line:\n",
      "  gmx_mpi grompp -f pull/NaCl_pull.mdp -c pull/NaCl.gro -r pull/NaCl.gro -p pull/NaCl_US.top -o pull/pull.tpr -po pull/mdout.mdp -maxwarn 1\n",
      "\n",
      "Setting the LD random seed to -244728074\n",
      "Generated 330891 of the 330891 non-bonded parameter combinations\n",
      "Generating 1-4 interactions: fudge = 0.5\n",
      "Generated 330891 of the 330891 1-4 parameter combinations\n",
      "Excluding 2 bonded neighbours molecule type 'SOL'\n"
     ]
    },
    {
     "name": "stdout",
     "output_type": "stream",
     "text": [
      "turning H bonds into constraints...\n",
      "turning H bonds into constraints...\n",
      "turning H bonds into constraints...\n"
     ]
    },
    {
     "name": "stderr",
     "output_type": "stream",
     "text": [
      "Excluding 1 bonded neighbours molecule type 'NA'\n",
      "Excluding 1 bonded neighbours molecule type 'CL'\n",
      "Setting gen_seed to -1610686977\n",
      "Velocities were taken from a Maxwell distribution at 300 K\n"
     ]
    },
    {
     "name": "stdout",
     "output_type": "stream",
     "text": [
      "Analysing residue names:\n",
      "There are:   107      Water residues\n",
      "There are:     2        Ion residues\n",
      "Analysing residues not classified as Protein/DNA/RNA/Water and splitting into groups...\n",
      "Determining Verlet buffer for a tolerance of 0.005 kJ/mol/ps at 300 K\n"
     ]
    },
    {
     "name": "stderr",
     "output_type": "stream",
     "text": [
      "Pull group 1 'NA' has 1 atoms\n",
      "Pull group 2 'CL' has 1 atoms\n",
      "Number of degrees of freedom in T-Coupling group System is 645.00\n",
      "\n",
      "NOTE 1 [file pull/NaCl_pull.mdp]:\n",
      "  Removing center of mass motion in the presence of position restraints\n",
      "  might cause artifacts. When you are using position restraints to\n",
      "  equilibrate a macro-molecule, the artifacts are usually negligible.\n",
      "\n"
     ]
    },
    {
     "name": "stdout",
     "output_type": "stream",
     "text": [
      "Calculated rlist for 1x1 atom pair-list as 0.638 nm, buffer size 0.038 nm\n",
      "Set rlist, assuming 4x4 atom pair-list, to 0.607 nm, buffer size 0.007 nm\n",
      "Note that mdrun will redetermine rlist based on the actual pair-list setup\n",
      "Calculating fourier grid dimensions for X Y Z\n",
      "Using a fourier grid of 14x14x14, spacing 0.106 0.106 0.106\n"
     ]
    },
    {
     "name": "stderr",
     "output_type": "stream",
     "text": [
      "Pull group  natoms  pbc atom  distance at start  reference at t=0\n",
      "       1         1         0\n",
      "       2         1         0       0.280 nm          0.280 nm\n",
      "Estimate for the relative computational load of the PME mesh part: 0.42\n",
      "\n",
      "There was 1 note\n"
     ]
    },
    {
     "name": "stdout",
     "output_type": "stream",
     "text": [
      "This run will generate roughly 5 Mb of data\n"
     ]
    },
    {
     "name": "stderr",
     "output_type": "stream",
     "text": [
      "\n",
      "GROMACS reminds you: \"All models are wrong, but some are useful.\" (George Box)\n",
      "\n"
     ]
    },
    {
     "name": "stdout",
     "output_type": "stream",
     "text": [
      "CPU times: user 18.8 ms, sys: 7.62 ms, total: 26.4 ms\n",
      "Wall time: 327 ms\n"
     ]
    }
   ],
   "source": [
    "%%time\n",
    "%%bash\n",
    "mpirun -np 1 gmx_mpi grompp -f pull/NaCl_pull.mdp -c pull/NaCl.gro -r pull/NaCl.gro -p pull/NaCl_US.top -o pull/pull.tpr -po pull/mdout.mdp -maxwarn 1"
   ]
  },
  {
   "cell_type": "code",
   "execution_count": null,
   "id": "8c9d0913",
   "metadata": {
    "slideshow": {
     "slide_type": "slide"
    }
   },
   "outputs": [
    {
     "name": "stderr",
     "output_type": "stream",
     "text": [
      "                :-) GROMACS - gmx mdrun, 2020.6-plumed-2.8.0 (-:\n",
      "\n",
      "                            GROMACS is written by:\n",
      "     Emile Apol      Rossen Apostolov      Paul Bauer     Herman J.C. Berendsen\n",
      "    Par Bjelkmar      Christian Blau   Viacheslav Bolnykh     Kevin Boyd    \n",
      " Aldert van Buuren   Rudi van Drunen     Anton Feenstra       Alan Gray     \n",
      "  Gerrit Groenhof     Anca Hamuraru    Vincent Hindriksen  M. Eric Irrgang  \n",
      "  Aleksei Iupinov   Christoph Junghans     Joe Jordan     Dimitrios Karkoulis\n",
      "    Peter Kasson        Jiri Kraus      Carsten Kutzner      Per Larsson    \n",
      "  Justin A. Lemkul    Viveca Lindahl    Magnus Lundborg     Erik Marklund   \n",
      "    Pascal Merz     Pieter Meulenhoff    Teemu Murtola       Szilard Pall   \n",
      "    Sander Pronk      Roland Schulz      Michael Shirts    Alexey Shvetsov  \n",
      "   Alfons Sijbers     Peter Tieleman      Jon Vincent      Teemu Virolainen \n",
      " Christian Wennberg    Maarten Wolf      Artem Zhmurov   \n",
      "                           and the project leaders:\n",
      "        Mark Abraham, Berk Hess, Erik Lindahl, and David van der Spoel\n",
      "\n",
      "Copyright (c) 1991-2000, University of Groningen, The Netherlands.\n",
      "Copyright (c) 2001-2019, The GROMACS development team at\n",
      "Uppsala University, Stockholm University and\n",
      "the Royal Institute of Technology, Sweden.\n",
      "check out http://www.gromacs.org for more information.\n",
      "\n",
      "GROMACS is free software; you can redistribute it and/or modify it\n",
      "under the terms of the GNU Lesser General Public License\n",
      "as published by the Free Software Foundation; either version 2.1\n",
      "of the License, or (at your option) any later version.\n",
      "\n",
      "GROMACS:      gmx mdrun, version 2020.6-plumed-2.8.0\n",
      "Executable:   /opt/conda/bin/gmx_mpi\n",
      "Data prefix:  /opt/conda\n",
      "Working dir:  /ocean/projects/cts160011p/wehs7661/3rd_workshop_advanced_sampling/Wednesday/Exercise_2\n",
      "Command line:\n",
      "  gmx_mpi mdrun -deffnm pull/pull -pf pull/pullf.xvg -px pull/pullx.xvg -ntomp 4\n",
      "\n",
      "Compiled SIMD: SSE2, but for this host/run AVX2_256 might be better (see log).\n",
      "The current CPU can measure timings more accurately than the code in\n",
      "gmx mdrun was configured to use. This might affect your simulation\n",
      "speed as accurate timings are needed for load-balancing.\n",
      "Please consider rebuilding gmx mdrun with the GMX_USE_RDTSCP=ON CMake option.\n",
      "Reading file pull/pull.tpr, VERSION 2020.6-plumed-2.8.0 (single precision)\n",
      "Changing nstlist from 10 to 25, rlist from 0.607 to 0.67\n",
      "\n",
      "\n",
      "Using 8 MPI processes\n",
      "\n",
      "Non-default thread affinity set, disabling internal thread affinity\n",
      "\n",
      "Using 4 OpenMP threads per MPI process\n",
      "\n",
      "starting mdrun 'NaCl in water'\n",
      "125000 steps,    250.0 ps.\n"
     ]
    }
   ],
   "source": [
    "%%time\n",
    "%%bash\n",
    "mpirun -np 8 gmx_mpi mdrun -deffnm pull/pull -pf pull/pullf.xvg -px pull/pullx.xvg -ntomp 4"
   ]
  },
  {
   "cell_type": "markdown",
   "id": "014e3101",
   "metadata": {},
   "source": [
    "Compared to standard MD simulation, a pulling simulation has two additional output files: `pullf.xvg` and `pullf.xvg`, which document the timeseries of the pulling force and the ion-pair distance. Below we plot both of them. "
   ]
  },
  {
   "cell_type": "code",
   "execution_count": null,
   "id": "e53fbc0f",
   "metadata": {},
   "outputs": [],
   "source": [
    "import numpy as np\n",
    "import matplotlib.pyplot as plt\n",
    "data_1 = np.transpose(np.loadtxt('pull/pullx.xvg', comments=['@', '#']))\n",
    "data_2 = np.transpose(np.loadtxt('pull/pullf.xvg', comments=['@', '#']))\n",
    "time = data_1[0]\n",
    "dist = data_1[1]\n",
    "force = data_2[1]\n",
    "\n",
    "fig = plt.figure(figsize=(15, 4))\n",
    "ax = fig.add_subplot(121)\n",
    "plt.plot(time, dist)\n",
    "plt.xlabel('Time (ps)')\n",
    "plt.ylabel('Pulling distance (nm)')\n",
    "plt.grid()\n",
    "\n",
    "ax = fig.add_subplot(122)\n",
    "plt.plot(time, force)\n",
    "plt.xlabel('Time (ps)')\n",
    "plt.ylabel('Pulling force (kJ/mol/nm)')\n",
    "plt.grid()"
   ]
  },
  {
   "cell_type": "markdown",
   "id": "a31d4c68",
   "metadata": {
    "slideshow": {
     "slide_type": "slide"
    }
   },
   "source": [
    "## 2. Generation of the initial configurations"
   ]
  },
  {
   "cell_type": "markdown",
   "id": "475a7fec",
   "metadata": {},
   "source": [
    "Given that we have 32 CPU available, having 16 windows should be reasonable, so each production run can be performed with 2 CPU cores, which should be enough as we explored preliminarily in the previous exercise. From the pull distance "
   ]
  },
  {
   "cell_type": "markdown",
   "id": "f9f613e2",
   "metadata": {
    "slideshow": {
     "slide_type": "slide"
    }
   },
   "source": [
    "First, we need to decide the number of windows to use."
   ]
  },
  {
   "cell_type": "code",
   "execution_count": null,
   "id": "8bd16de9",
   "metadata": {},
   "outputs": [],
   "source": [
    "import os\n",
    "centers = np.linspace(min(dist), 0.6, 8)  # the spacing between windows should be around 0.05 nm\n",
    "diff_list = np.abs([dist - i for i in centers])\n",
    "diff_idx = [np.argmin(diff_list[i]) for i in range(len(centers))]  # dist[diff_idx]: distances closet to the centers\n",
    "t_extract = time[diff_idx]  # in ps\n",
    "print(f'The initial configurations will be extracted from the following time frames (in ps): {t_extract}')\n",
    "print(f'The ion-pair distances (in nm) of the chosen configurations are: {dist[diff_idx]}')"
   ]
  },
  {
   "cell_type": "code",
   "execution_count": null,
   "id": "7aeb4d14",
   "metadata": {},
   "outputs": [],
   "source": [
    "for i in range(len(t_extract)):\n",
    "    os.mkdir(f'sim_{i + 1}')\n",
    "    os.system(f'echo System | mpirun -np 1 gmx_mpi trjconv -s pull/pull.tpr -f pull/pull.xtc -dump {t_extract[i]} -o sim_{i + 1}/NaCl_{i + 1}.gro')"
   ]
  },
  {
   "cell_type": "code",
   "execution_count": null,
   "id": "4c3d4556",
   "metadata": {},
   "outputs": [],
   "source": [
    "%%bash\n",
    "cp pull/NaCl_pull.mdp NaCl_umbrella.mdp\n",
    "sed -i -e \"s/nsteps = 125000/nsteps = 250000/g\" NaCl_umbrella.mdp  # simulation length: 500 ps for each umbrella\n",
    "sed -i -e \"s/pull-coord1-rate = 0.0010         ; 0.0010 nm\\/ps -> the pull distance in the 250 ps-simulation is 0.25 nm./pull-coord1-rate = 0/g\" NaCl_umbrella.mdp\n",
    "sed -i -e \"s/pull-coord1-k = 1000              ; units: kJ\\/mol\\/nm^2/pull-coord1-k = 10000/g\" NaCl_umbrella.mdp  # simulation length: 500 ps for each umbrella\n",
    "cat NaCl_umbrella.mdp"
   ]
  },
  {
   "cell_type": "code",
   "execution_count": null,
   "id": "d359255e",
   "metadata": {},
   "outputs": [],
   "source": []
  },
  {
   "cell_type": "code",
   "execution_count": null,
   "id": "146b6456",
   "metadata": {},
   "outputs": [],
   "source": [
    "%%bash\n",
    "n=8  # number of simulations\n",
    "for i in $(seq 1 $n)\n",
    "do\n",
    "    cp pull/NaCl_US.top sim_${i}/.    # Use the same top file as in the pulling simulation\n",
    "    cp pull/Na_posres.itp sim_${i}/.  # Copy over the itp file for position restraint\n",
    "    cp NaCl_umbrella.mdp sim_${i}/.   # All simulations use the same NaCl_umbrella.mdp\n",
    "    cd sim_${i}\n",
    "    mpirun -np 1 gmx_mpi grompp -f NaCl_umbrella.mdp -c NaCl_${i}.gro -r NaCl_${i}.gro -p NaCl_US.top -o NaCl_US.tpr -maxwarn 1  # Generate the tpr\n",
    "    cd ../\n",
    "done"
   ]
  },
  {
   "cell_type": "code",
   "execution_count": null,
   "id": "913bc648",
   "metadata": {},
   "outputs": [],
   "source": [
    "%%time\n",
    "%%bash\n",
    "mpirun -np 8 gmx_mpi mdrun -s NaCl_US.tpr -deffnm output -pf pullf.xvg -px pullx.xvg -multidir sim_1 sim_2 sim_3 sim_4 sim_5 sim_6 sim_7 sim_8 -ntomp 4"
   ]
  },
  {
   "cell_type": "code",
   "execution_count": null,
   "id": "cec152ee",
   "metadata": {},
   "outputs": [],
   "source": [
    "pullx_data = [np.transpose(np.loadtxt(f'sim_{i + 1}/pullx.xvg', comments=['@', '#'])) for i in range(8)]\n",
    "time = pullx_data[0][0]\n",
    "dist_list = [data[1] for data in pullx_data]\n",
    "plt.figure()\n",
    "for i in range(8):\n",
    "    plt.hist(dist_list[i], bins=50, alpha=0.5, label=f'sim_{i}')\n",
    "plt.xlabel('Ion-pair distance (nm)')\n",
    "plt.ylabel('Count')\n",
    "plt.grid()"
   ]
  },
  {
   "cell_type": "code",
   "execution_count": null,
   "id": "2991ac13",
   "metadata": {
    "scrolled": false
   },
   "outputs": [],
   "source": [
    "import time\n",
    "import pymbar\n",
    "from pymbar import timeseries\n",
    "import random\n",
    "import scipy.stats\n",
    "\n",
    "t0 = time.time()\n",
    "\n",
    "# Step 1: Setting up\n",
    "K = 8                                       # number of umbrellas\n",
    "N_max = 5001                                # number of data points in each timeseries of ion-pair distance\n",
    "kT = 1.381e-23 * 6.022e23 / 1000 * 300      # 1 kT converted to kJ/mol at 300 K\n",
    "beta_k = np.ones(K) / kT                    # inverse temperature of simulations (in 1/(kJ/mol)) \n",
    "d_min, d_max = 0.25, 0.65                   # minimum and maximum of the CV for plotting the FES\n",
    "nbins = 50                                  # number of bins for 1D PMF\n",
    "K_k = np.ones(K) * 10000                    # spring constant (in kJ/mol/nm**2) for different simulations\n",
    "RunBootstrapping = True                     # Whether to perform bootstrapping to estimate the uncertainty of the FES\n",
    "nboot = 200                                 # number of bootstrap samples\n",
    "N_k, g_k = np.zeros(K, int), np.zeros(K)    # number of samples and statistical inefficiency of different simulations\n",
    "d_kn = np.zeros([K, N_max])                 # d_kn[k,n] is the ion-pair distance (in nm) for snapshot n from umbrella simulation k\n",
    "u_kn = np.zeros([K, N_max])                 # u_kn[k,n] is the reduced potential energy without umbrella restraints of snapshot n of umbrella simulation k\n",
    "\n",
    "# Step 2: Read in and subsample the timeseries\n",
    "for k in range(K):\n",
    "    d_kn[k] = np.transpose(np.loadtxt(f'sim_{k + 1}/pullx.xvg', comments=['@', '#']))[1]\n",
    "    N_k[k] = len(d_kn[k])\n",
    "    d_temp = d_kn[k, 0:N_k[k]]\n",
    "    g_k[k] = timeseries.statisticalInefficiency(d_temp)     \n",
    "    print(f\"Statistical inefficiency of simulation {k}: {g_k[k]:.3f}\")\n",
    "    indices = timeseries.subsampleCorrelatedData(d_temp, g=g_k[k]) # indices of the uncorrelated samples\n",
    "    \n",
    "    # Update u_kn and d_kn with uncorrelated samples\n",
    "    N_k[k] = len(indices)    # At this point, N_k contains the number of uncorrelated samples for each state k                \n",
    "    u_kn[k, 0:N_k[k]] = u_kn[k, indices]\n",
    "    d_kn[k, 0:N_k[k]] = d_kn[k, indices]\n",
    "\n",
    "d0_k = np.array([d_kn[i][0] for i in range(K)])    \n",
    "N_max = np.max(N_k) # shorten the array size\n",
    "u_kln = np.zeros([K, K, N_max]) # u_kln[k,l,n] is the reduced potential energy of snapshot n from umbrella simulation k evaluated at umbrella l\n",
    "u_kn -= u_kn.min()  # shift the minimum of the FES to 0\n",
    "\n",
    "# Step 3: Bin the data\n",
    "delta = (d_max - d_min) / float(nbins)\n",
    "bin_center_i = np.array([d_min + delta / 2 + delta * i for i in range(nbins)])\n",
    "bin_kn = np.zeros([K, N_max])\n",
    "for k in range(K):\n",
    "    for n in range(N_k[k]):\n",
    "        bin_kn[k, n] = int((d_kn[k,n] - d_min) / delta) # contains the information about which bin the data was assigned to\n",
    "   \n",
    "\n",
    "# Step 4: Evaluate reduced energies in all umbrellas\n",
    "for k in range(K):\n",
    "    for n in range(N_k[k]):\n",
    "        # Compute minimum-image ion-pair distance deviation from umbrella center l\n",
    "        dd = d_kn[k,n] - d0_k  # delta d\n",
    "\n",
    "        # Compute energy of snapshot n from simulation k in umbrella potential l\n",
    "        u_kln[k,:,n] = u_kn[k,n] + beta_k[k] * (K_k / 2) * dd ** 2\n",
    "\n",
    "# Step 5: Compute, output, and plot the FES\n",
    "mbar = pymbar.MBAR(u_kln, N_k, verbose = False)\n",
    "results = mbar.computePMF(u_kn, bin_kn, nbins)\n",
    "f_i = results[0]\n",
    "df_i = results[1]\n",
    "\n",
    "if RunBootstrapping is False:\n",
    "    with open('MBAR_PMF.dat', 'w') as f:\n",
    "        f.write(\"# PMF (in units of kT) \\n\")\n",
    "        f.write(f\"# {'bin':>8s} {'f':>8s} {'df':>8s} \\n\")\n",
    "        for i in range(nbins):\n",
    "           f.write(f\"{bin_center_i[i]:>8.3f} {f_i[i]:>8.3f} {df_i[i]:>8.3f} \\n\")\n",
    "\n",
    "    plt.figure()\n",
    "    plt.plot(bin_center_i, f_i)\n",
    "    plt.xlabel('Ion-pair distance (nm)')\n",
    "    plt.ylabel('Free energy (kT)')\n",
    "    plt.grid()\n",
    "else:\n",
    "    # Step 6: Perform bootstrapping if wanted\n",
    "    print('\\nStart bootstrapping!')\n",
    "    print('Number of bootstrap iterations:', nboot)\n",
    "    u_kln_b = np.zeros([K, K, N_max, nboot], np.float64)  \n",
    "    u_kn_b = np.zeros([K,N_max, nboot])\n",
    "    d_kn_b = np.zeros([K,N_max, nboot])\n",
    "\n",
    "    for j in range(nboot):\n",
    "        for i in range(K):\n",
    "            # first randomly select N_k[0] (number of uncorrelated samples) samples from the data of i-th simulation\n",
    "            # lengths of d_kn_rand and u_nk_rankd = number of uncorrelated samples\n",
    "            d_kn_rand = random.choices(d_kn[i,:], k=N_k[i])\n",
    "            u_kn_rand = random.choices(u_kn[i,:], k=N_k[i])\n",
    "            # then assign values to bootstrapping array\n",
    "            d_kn_b[i,:N_k[i],j] = d_kn_rand\n",
    "            u_kn_b[i,:N_k[i],j] = u_kn_rand\n",
    "\n",
    "    u_kn_b -= u_kn_b.min() # might be a problem if not constant temp (to be modified)\n",
    "\n",
    "    bin_kn_b = np.zeros([K,N_max,nboot])\n",
    "    for j in range(nboot):\n",
    "        for k in range(K):\n",
    "            for n in range(N_k[k]):\n",
    "                bin_kn_b[k,n,j] = int((d_kn_b[k,n,j] - d_min) / delta)\n",
    "                dd_b = d_kn_b[k,n,j] - d0_k\n",
    "                u_kln_b[k,:,n,j] = u_kn_b[k,n,j] + beta_k[k] * (K_k/2.0) * dd_b**2   \n",
    "\n",
    "    MBAR_b = []  # A list of object of pymbar.MBAR(u_kln_b[j], N_k, verbose = True)\n",
    "    bootdata = np.zeros([nboot, nbins])  # bootstrapped data for each value of reaction coordinate (data of f_i)\n",
    "\n",
    "    for j in range(nboot):\n",
    "        MBAR_b.append(pymbar.MBAR(u_kln_b[:,:,:,j], N_k, verbose = False, initial_f_k = mbar.f_k))\n",
    "        # initial_f_k = m_bar.f_k is use the mbar.f_k calculated previously as the initial guess, which can speed up the process (default = None, that is f_k = [0, 0, ...,0])\n",
    "        # take a lookt a __init__ of pymbar and see how to output f_k data --> just use mbar.f_k !\n",
    "        results_b = MBAR_b[j].computePMF(u_kn_b[:,:,j], bin_kn_b[:,:,j], nbins)\n",
    "        bootdata[j,:] = results_b[0]      # results_b[0]: data of f_i \n",
    "\n",
    "    # Rule of thumb: It requires about 50-200 bootstrap samples to get a good variance and 1000-5000 bootstrap samples to get a good 95CI \n",
    "    confidence = 0.95\n",
    "    m = np.array([np.mean(bootdata[:, i]) for i in range(nbins)])\n",
    "    sem = np.array([scipy.stats.sem(bootdata[:, i]) for i in range(nbins)])\n",
    "    h = sem * scipy.stats.t.ppf((1 + confidence) / 2, len(bootdata[:, i]) - 1)  # CI: from m-h to m + h\n",
    "            \n",
    "    with open('MBAR_PMF_bootstrapped.dat', 'w') as f:\n",
    "        f.write(\"# PMF (in units of kT) \\n\")\n",
    "        f.write(f\"# {'bin':>8s} {'f':>8s} {'df':>8s} {'f_i_err':>8s}\\n\")\n",
    "        for i in range(nbins):\n",
    "           f.write(f\"{bin_center_i[i]:>8.3f} {m[i]:>8.3f} {df_i[i]:>8.3f} {h[i]:>8.3f} \\n\")\n",
    "    \n",
    "    # One could also use variance for error bars (with ddof=1)\n",
    "    plt.figure()\n",
    "    plt.title('95% of confidence level')\n",
    "    plt.plot(bin_center_i, m)\n",
    "    plt.fill_between(bin_center_i, m - h, m + h, color='lightgreen')\n",
    "    plt.xlabel('Ion-pair distance (nm)')\n",
    "    plt.ylabel('Free energy (kT)')\n",
    "    plt.grid()\n",
    "\n",
    "t1 = time.time()\n",
    "print(f'\\nTime elapsed: {t1 - t0:.0f} seconds.')"
   ]
  }
 ],
 "metadata": {
  "celltoolbar": "Slideshow",
  "kernelspec": {
   "display_name": "icomse-cpu",
   "language": "python",
   "name": "icomse-cpu"
  },
  "language_info": {
   "codemirror_mode": {
    "name": "ipython",
    "version": 3
   },
   "file_extension": ".py",
   "mimetype": "text/x-python",
   "name": "python",
   "nbconvert_exporter": "python",
   "pygments_lexer": "ipython3",
   "version": "3.11.0"
  }
 },
 "nbformat": 4,
 "nbformat_minor": 5
}
