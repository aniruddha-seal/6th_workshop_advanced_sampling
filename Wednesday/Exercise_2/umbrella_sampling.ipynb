{
 "cells": [
  {
   "cell_type": "markdown",
   "id": "575f409c",
   "metadata": {
    "slideshow": {
     "slide_type": "slide"
    }
   },
   "source": [
    "# Exercise 2: Umbrella sampling"
   ]
  },
  {
   "cell_type": "markdown",
   "id": "d7a63543",
   "metadata": {
    "slideshow": {
     "slide_type": "slide"
    }
   },
   "source": [
    "In this exercise, we will perform umbrella sampling simulations for the NaCl system and compute it free energy surface as a function of the ion-pair distance. As mentioned, umbrella sampling is composed of the following 3 steps that we will elaborate later:\n",
    "- A pulling simulation (a.k.a steered MD) \n",
    "- Generation of the initial configuraitons for the production runs\n",
    "- Production runs. \n",
    "\n",
    "\n",
    "This exercise should be done in an interactive session on Bridges-2, which 32 CPU cores requested. Note that here we are running the simulations in the NVT ensemble, which makes pulling more straightforward."
   ]
  },
  {
   "cell_type": "code",
   "execution_count": 1,
   "id": "7667e436",
   "metadata": {
    "slideshow": {
     "slide_type": "slide"
    }
   },
   "outputs": [],
   "source": [
    "%%bash\n",
    "# Here we remove the output of the exercise if there is any.\n",
    "dirs=(sim_* pull *mdp *dat)\n",
    "for dir in \"${dirs[@]}\"; do\n",
    "    if ls -d \"$dir\" >/dev/null 2>&1; then\n",
    "        rm -rf \"$dir\"\n",
    "    fi\n",
    "done"
   ]
  },
  {
   "cell_type": "markdown",
   "id": "bb33f28b",
   "metadata": {
    "slideshow": {
     "slide_type": "slide"
    }
   },
   "source": [
    "## 1. Pulling simulation"
   ]
  },
  {
   "cell_type": "code",
   "execution_count": 2,
   "id": "113c7948",
   "metadata": {
    "slideshow": {
     "slide_type": "slide"
    }
   },
   "outputs": [],
   "source": [
    "%%bash\n",
    "mkdir pull"
   ]
  },
  {
   "cell_type": "markdown",
   "id": "77259102",
   "metadata": {
    "slideshow": {
     "slide_type": "slide"
    }
   },
   "source": [
    "The purpose of a pulling simulation is to generate initial configurations with different CV values for the subsequent production simulations. In a pulling simulation, we need to divide the system of interest (NaCl) into two parts "
   ]
  },
  {
   "cell_type": "markdown",
   "id": "9575c655",
   "metadata": {
    "slideshow": {
     "slide_type": "fragment"
    }
   },
   "source": [
    "- The immobile group: The part of the system that is immobilized by a **position restraint**. In this exercise, we choose to fix the sodium ion, but choosing to fix the chloride ion should not make a difference in the resulting free energy profile. "
   ]
  },
  {
   "cell_type": "markdown",
   "id": "7014f7cf",
   "metadata": {
    "slideshow": {
     "slide_type": "fragment"
    }
   },
   "source": [
    "<center> \n",
    "➡️ This can be done by modifying the TOP file.\n",
    "</center>"
   ]
  },
  {
   "cell_type": "markdown",
   "id": "e506f625",
   "metadata": {
    "slideshow": {
     "slide_type": "slide"
    }
   },
   "source": [
    "- The pull group: The part of the system we want to pull away from the immobile group using the **pull code**. Here, we choose the chloride ion as the pull group. "
   ]
  },
  {
   "cell_type": "markdown",
   "id": "433eacec",
   "metadata": {
    "slideshow": {
     "slide_type": "fragment"
    }
   },
   "source": [
    "<center> \n",
    "➡️ This can be done by modifying the MDP file.\n",
    "</center>"
   ]
  },
  {
   "cell_type": "markdown",
   "id": "e62bab00",
   "metadata": {
    "slideshow": {
     "slide_type": "slide"
    }
   },
   "source": [
    "## 1-1. Modification of the `top` file"
   ]
  },
  {
   "cell_type": "code",
   "execution_count": 3,
   "id": "fe705ec7",
   "metadata": {
    "slideshow": {
     "slide_type": "slide"
    }
   },
   "outputs": [
    {
     "name": "stdout",
     "output_type": "stream",
     "text": [
      "#include \"oplsaa.ff/forcefield.itp\"\n",
      "#include \"oplsaa.ff/tip3p.itp\"\n",
      "\n",
      "[ moleculetype ]\n",
      "; molname   nrexcl\n",
      "CL      1\n",
      "\n",
      "[ atoms ]\n",
      "; id    at type     res nr  residu name at name  cg nr  charge   mass\n",
      "1       opls_401    1       CL          CL       1      -1       35.45300\n",
      "\n",
      "[ moleculetype ]\n",
      "; molname   nrexcl\n",
      "NA          1\n",
      "\n",
      "[ atoms ]\n",
      "; id    at type     res nr  residu name at name  cg nr  charge   mass\n",
      "1       opls_407    1       NA          NA       1      1        22.98977\n",
      "\n",
      "[ System ]\n",
      "NaCl in water\n",
      "\n",
      "[ Molecules ]\n",
      "SOL         107\n",
      "NA               1\n",
      "CL               1\n"
     ]
    }
   ],
   "source": [
    "%%bash\n",
    "cat ../Inputs/NaCl/NaCl.top  # the original top file we used"
   ]
  },
  {
   "cell_type": "markdown",
   "id": "37f9141b",
   "metadata": {
    "slideshow": {
     "slide_type": "slide"
    }
   },
   "source": [
    "To make the topology aware of the position restraint, we need to add the following right after the `[ atoms ]` directive of NA."
   ]
  },
  {
   "cell_type": "code",
   "execution_count": 4,
   "id": "5a0ec250",
   "metadata": {},
   "outputs": [],
   "source": [
    "%%bash \n",
    "echo '\n",
    "#include \"oplsaa.ff/forcefield.itp\"\n",
    "#include \"oplsaa.ff/tip3p.itp\"\n",
    "\n",
    "[ moleculetype ]\n",
    "; molname   nrexcl\n",
    "CL      1\n",
    "\n",
    "[ atoms ]\n",
    "; id    at type     res nr  residu name at name  cg nr  charge   mass\n",
    "1       opls_401    1       CL          CL       1      -1       35.45300\n",
    "\n",
    "[ moleculetype ]\n",
    "; molname   nrexcl\n",
    "NA          1\n",
    "\n",
    "[ atoms ]\n",
    "; id    at type     res nr  residu name at name  cg nr  charge   mass\n",
    "1       opls_407    1       NA          NA       1      1        22.98977\n",
    "\n",
    "; position restraints for Na\n",
    "# ifdef POSRES_NA\n",
    "# include \"Na_posres.itp\"\n",
    "# endif\n",
    "\n",
    "[ System ]\n",
    "NaCl in water\n",
    "\n",
    "[ Molecules ]\n",
    "SOL         107\n",
    "NA               1\n",
    "CL               1\n",
    "' > pull/NaCl_US.top"
   ]
  },
  {
   "cell_type": "markdown",
   "id": "064de45e",
   "metadata": {
    "slideshow": {
     "slide_type": "slide"
    }
   },
   "source": [
    "```\n",
    "; position restraints for Na\n",
    "# ifdef POSRES_NA\n",
    "# include \"Na_posres.itp\"\n",
    "# endif\n",
    "```"
   ]
  },
  {
   "cell_type": "markdown",
   "id": "d4e60f44",
   "metadata": {
    "slideshow": {
     "slide_type": "fragment"
    }
   },
   "source": [
    "The added lines mean that **if the variable `POSRES_NA` is defined (in the `mdp` file), the position restraint defined in the file `Na_posres.itp` will be activated**. "
   ]
  },
  {
   "cell_type": "markdown",
   "id": "1f00b928",
   "metadata": {
    "slideshow": {
     "slide_type": "slide"
    }
   },
   "source": [
    "Clearly, now we don't have the file `Na_posres.itp`, so let's create one below."
   ]
  },
  {
   "cell_type": "code",
   "execution_count": 5,
   "id": "98c421b6",
   "metadata": {
    "slideshow": {
     "slide_type": "fragment"
    }
   },
   "outputs": [],
   "source": [
    "%%bash \n",
    "cp ../Inputs/NaCl/NaCl.gro pull/.    # copy over the gro file by the way\n",
    "echo '\n",
    "[ position_restraints ]\n",
    ";  i funct       fcx        fcy        fcz\n",
    "   1    1       1000       1000       1000\n",
    "' > pull/Na_posres.itp"
   ]
  },
  {
   "cell_type": "markdown",
   "id": "16458e53",
   "metadata": {
    "slideshow": {
     "slide_type": "fragment"
    }
   },
   "source": [
    "Alternatively, you could run GROMACS `genrestr` command using `NaCl.gro`:\n",
    "```\n",
    "echo NA | mpirun -np 1 gmx_mpi genrestr -f pull/NaCl.gro -o pull/Na_posres.itp\n",
    "```\n",
    "In this case, the output `itp` file would require modification since the index would be 322 (the index of NA in `NaCl.gro`) instead of 1 (the index of NA in its own `[ moleculetype ]` directive, which is what we want)."
   ]
  },
  {
   "cell_type": "markdown",
   "id": "70b21745",
   "metadata": {
    "slideshow": {
     "slide_type": "slide"
    }
   },
   "source": [
    "## 1-2. Modification of the `mdp` file"
   ]
  },
  {
   "cell_type": "code",
   "execution_count": 6,
   "id": "72d1a827",
   "metadata": {
    "scrolled": false,
    "slideshow": {
     "slide_type": "slide"
    }
   },
   "outputs": [
    {
     "name": "stdout",
     "output_type": "stream",
     "text": [
      "integrator = md \n",
      "dt = 0.002\n",
      "nsteps = 250000\n",
      "cutoff-scheme = Verlet\n",
      "coulombtype = PME\n",
      "rlist = 0.6\n",
      "rcoulomb = 0.6\n",
      "rvdw = 0.6\n",
      "constraints = h-bonds\n",
      "tcoupl =  V-rescale\n",
      "ref_t = 300\n",
      "tau-t = 1.0\n",
      "tc-grps = System\n",
      "gen-vel = yes\n",
      "gen-temp = 300\n",
      "gen-seed = -1 \n",
      "DispCorr = AllEnerPres\n",
      "nstxout-compressed = 50\n",
      "nstxout = 50000\n",
      "nstvout = 50000\n"
     ]
    }
   ],
   "source": [
    "%%bash\n",
    "cat ../Inputs/NaCl/MD-NVT.mdp  # the original MDP file"
   ]
  },
  {
   "cell_type": "markdown",
   "id": "469ea527",
   "metadata": {
    "slideshow": {
     "slide_type": "slide"
    }
   },
   "source": [
    "First, we need to define `POSRES_NA` at the top of the MDP file so the position restraint is activated. This is done by adding the following line at the top of the `mdp` file:\n",
    "```\n",
    "define=-DPOSRES_NA\n",
    "```"
   ]
  },
  {
   "cell_type": "code",
   "execution_count": 7,
   "id": "70eeb77f",
   "metadata": {
    "slideshow": {
     "slide_type": "slide"
    }
   },
   "outputs": [],
   "source": [
    "%%bash\n",
    "echo '\n",
    "define=-DPOSRES_NA\n",
    "integrator = md \n",
    "dt = 0.002\n",
    "nsteps = 125000\n",
    "cutoff-scheme = Verlet\n",
    "coulombtype = PME\n",
    "rlist = 0.6\n",
    "rcoulomb = 0.6\n",
    "rvdw = 0.6\n",
    "constraints = h-bonds\n",
    "tcoupl =  V-rescale\n",
    "ref_t = 300\n",
    "tau-t = 1.0\n",
    "tc-grps = System\n",
    "gen-vel = yes\n",
    "gen-temp = 300\n",
    "gen-seed = -1 \n",
    "compressibility = 4.5e-5\n",
    "nstxout-compressed = 50\n",
    "nstxout = 50000\n",
    "nstvout = 50000\n",
    "' > pull/NaCl_pull.mdp\n",
    "# Here we create an mdp file starting with `define=-DPOSRES_NA`"
   ]
  },
  {
   "cell_type": "markdown",
   "id": "524a1719",
   "metadata": {
    "slideshow": {
     "slide_type": "slide"
    }
   },
   "source": [
    "Then, to pull the chloride ion away, we need to use the pull code in the `mdp` file."
   ]
  },
  {
   "cell_type": "code",
   "execution_count": 8,
   "id": "2061d3b5",
   "metadata": {
    "slideshow": {
     "slide_type": "fragment"
    }
   },
   "outputs": [],
   "source": [
    "%%bash\n",
    "echo '\n",
    "; Pull code\n",
    "pull = yes\n",
    "pull-ncoords = 1                  ; Here we only have 1 CV.\n",
    "pull-ngroups = 2                  ; We have 2 groups (one immobile/reference group and one pull group).\n",
    "pull-group1-name = NA             ; index 1\n",
    "pull-group2-name = CL             ; index 2\n",
    "pull-coord1-groups = 1 2          ; groups with indices 1 (NA) and 2 (CL) are involved\n",
    "pull-coord1-type = umbrella       ; harmonic potential\n",
    "pull-coord1-geometry = distance   ; simple distance increase\n",
    "pull-coord1-dim = Y Y Y           ; We allow pulling from any directions.\n",
    "pull-coord1-start = yes           ; We start the pulling with the initial ion-pair distance.\n",
    "pull-coord1-rate = 0.0010         ; 0.0010 nm/ps -> the pull distance in the 250 ps-simulation is 0.25 nm.\n",
    "pull-coord1-k = 1000              ; units: kJ/mol/nm^2\n",
    "' >> pull/NaCl_pull.mdp"
   ]
  },
  {
   "cell_type": "markdown",
   "id": "99692637",
   "metadata": {
    "slideshow": {
     "slide_type": "slide"
    }
   },
   "source": [
    "Here are more explanations for some of the parameters:"
   ]
  },
  {
   "cell_type": "markdown",
   "id": "330f9c51",
   "metadata": {
    "slideshow": {
     "slide_type": "fragment"
    }
   },
   "source": [
    "- `pull_coord1_rate`: The rate at which the imaginary spring attached between the ions is elongated. Importantly, the pull distance must not 0.7428 nm, which is half of the smallest dimension of the box. This is to prevent the pull group from interacting with the periodic image of the system. Given that the typical ion-pair distance of NaCl is around 0.265 nm, a total pull distance of 0.3 nm should be safe.  \n",
    "- `pull-coord1-k`: The force constant does not really matter as long as it is enough to pull the pull group away."
   ]
  },
  {
   "cell_type": "markdown",
   "id": "2b44a6c3",
   "metadata": {
    "slideshow": {
     "slide_type": "slide"
    }
   },
   "source": [
    "## 1-3. Running a pulling simulation"
   ]
  },
  {
   "cell_type": "markdown",
   "id": "dcd27988",
   "metadata": {
    "slideshow": {
     "slide_type": "slide"
    }
   },
   "source": [
    "Now, we can finally run the pulling simulation. Notably, the `-r` option is necessary to be included for the restraint. "
   ]
  },
  {
   "cell_type": "code",
   "execution_count": 9,
   "id": "f5c4373f",
   "metadata": {
    "scrolled": true,
    "slideshow": {
     "slide_type": "fragment"
    }
   },
   "outputs": [
    {
     "name": "stderr",
     "output_type": "stream",
     "text": [
      "                 :-) GROMACS - gmx grompp, 2020.2-MODIFIED (-:\n",
      "\n",
      "                            GROMACS is written by:\n",
      "     Emile Apol      Rossen Apostolov      Paul Bauer     Herman J.C. Berendsen\n",
      "    Par Bjelkmar      Christian Blau   Viacheslav Bolnykh     Kevin Boyd    \n",
      " Aldert van Buuren   Rudi van Drunen     Anton Feenstra       Alan Gray     \n",
      "  Gerrit Groenhof     Anca Hamuraru    Vincent Hindriksen  M. Eric Irrgang  \n",
      "  Aleksei Iupinov   Christoph Junghans     Joe Jordan     Dimitrios Karkoulis\n",
      "    Peter Kasson        Jiri Kraus      Carsten Kutzner      Per Larsson    \n",
      "  Justin A. Lemkul    Viveca Lindahl    Magnus Lundborg     Erik Marklund   \n",
      "    Pascal Merz     Pieter Meulenhoff    Teemu Murtola       Szilard Pall   \n",
      "    Sander Pronk      Roland Schulz      Michael Shirts    Alexey Shvetsov  \n",
      "   Alfons Sijbers     Peter Tieleman      Jon Vincent      Teemu Virolainen \n",
      " Christian Wennberg    Maarten Wolf      Artem Zhmurov   \n",
      "                           and the project leaders:\n",
      "        Mark Abraham, Berk Hess, Erik Lindahl, and David van der Spoel\n",
      "\n",
      "Copyright (c) 1991-2000, University of Groningen, The Netherlands.\n",
      "Copyright (c) 2001-2019, The GROMACS development team at\n",
      "Uppsala University, Stockholm University and\n",
      "the Royal Institute of Technology, Sweden.\n",
      "check out http://www.gromacs.org for more information.\n",
      "\n",
      "GROMACS is free software; you can redistribute it and/or modify it\n",
      "under the terms of the GNU Lesser General Public License\n",
      "as published by the Free Software Foundation; either version 2.1\n",
      "of the License, or (at your option) any later version.\n",
      "\n",
      "GROMACS:      gmx grompp, version 2020.2-MODIFIED\n",
      "Executable:   /jet/packages/spack/opt/spack/linux-centos8-zen2/gcc-10.2.0/gromacs-2020.2-xfnb3dvyae7ktyfp3kq63xgdxx5c45en/bin/gmx_mpi\n",
      "Data prefix:  /jet/packages/spack/opt/spack/linux-centos8-zen2/gcc-10.2.0/gromacs-2020.2-xfnb3dvyae7ktyfp3kq63xgdxx5c45en\n",
      "Working dir:  /ocean/projects/cts160011p/wehs7661/3rd_workshop_advanced_sampling/Wednesday/Exercise_2\n",
      "Command line:\n",
      "  gmx_mpi grompp -f pull/NaCl_pull.mdp -c pull/NaCl.gro -r pull/NaCl.gro -p pull/NaCl_US.top -o pull/pull.tpr -po pull/mdout.mdp -maxwarn 1\n",
      "\n",
      "Setting the LD random seed to -71894816\n",
      "Generated 330891 of the 330891 non-bonded parameter combinations\n",
      "Generating 1-4 interactions: fudge = 0.5\n",
      "Generated 330891 of the 330891 1-4 parameter combinations\n",
      "Excluding 2 bonded neighbours molecule type 'SOL'\n"
     ]
    },
    {
     "name": "stdout",
     "output_type": "stream",
     "text": [
      "turning H bonds into constraints...\n",
      "turning H bonds into constraints...\n",
      "turning H bonds into constraints...\n"
     ]
    },
    {
     "name": "stderr",
     "output_type": "stream",
     "text": [
      "Excluding 1 bonded neighbours molecule type 'NA'\n",
      "Excluding 1 bonded neighbours molecule type 'CL'\n",
      "Setting gen_seed to -1180268011\n",
      "Velocities were taken from a Maxwell distribution at 300 K\n"
     ]
    },
    {
     "name": "stdout",
     "output_type": "stream",
     "text": [
      "Analysing residue names:\n",
      "There are:   107      Water residues\n",
      "There are:     2        Ion residues\n",
      "Analysing residues not classified as Protein/DNA/RNA/Water and splitting into groups...\n",
      "Determining Verlet buffer for a tolerance of 0.005 kJ/mol/ps at 300 K\n",
      "Calculated rlist for 1x1 atom pair-list as 0.638 nm, buffer size 0.038 nm\n",
      "Set rlist, assuming 4x4 atom pair-list, to 0.607 nm, buffer size 0.007 nm\n",
      "Note that mdrun will redetermine rlist based on the actual pair-list setup\n",
      "Calculating fourier grid dimensions for X Y Z\n",
      "Using a fourier grid of 14x14x14, spacing 0.106 0.106 0.106\n",
      "This run will generate roughly 5 Mb of data\n"
     ]
    },
    {
     "name": "stderr",
     "output_type": "stream",
     "text": [
      "Pull group 1 'NA' has 1 atoms\n",
      "Pull group 2 'CL' has 1 atoms\n",
      "Number of degrees of freedom in T-Coupling group System is 645.00\n",
      "\n",
      "NOTE 1 [file pull/NaCl_pull.mdp]:\n",
      "  Removing center of mass motion in the presence of position restraints\n",
      "  might cause artifacts. When you are using position restraints to\n",
      "  equilibrate a macro-molecule, the artifacts are usually negligible.\n",
      "\n",
      "Pull group  natoms  pbc atom  distance at start  reference at t=0\n",
      "       1         1         0\n",
      "       2         1         0       0.280 nm          0.280 nm\n",
      "Estimate for the relative computational load of the PME mesh part: 0.51\n",
      "\n",
      "NOTE 2 [file pull/NaCl_pull.mdp]:\n",
      "  The optimal PME mesh load for parallel simulations is below 0.5\n",
      "  and for highly parallel simulations between 0.25 and 0.33,\n",
      "  for higher performance, increase the cut-off and the PME grid spacing.\n",
      "\n",
      "\n",
      "\n",
      "There were 2 notes\n",
      "\n",
      "GROMACS reminds you: \"Not to get technical... but according to chemistry, alcohol is a solution.\" (Anonymous)\n",
      "\n"
     ]
    },
    {
     "name": "stdout",
     "output_type": "stream",
     "text": [
      "CPU times: user 40.2 ms, sys: 8.53 ms, total: 48.7 ms\n",
      "Wall time: 756 ms\n"
     ]
    }
   ],
   "source": [
    "%%time\n",
    "%%bash\n",
    "module load gromacs/2020.2-cpu openmpi/4.0.5-gcc10.2.0\n",
    "mpirun -np 1 gmx_mpi grompp -f pull/NaCl_pull.mdp -c pull/NaCl.gro -r pull/NaCl.gro -p pull/NaCl_US.top -o pull/pull.tpr -po pull/mdout.mdp -maxwarn 1"
   ]
  },
  {
   "cell_type": "code",
   "execution_count": 10,
   "id": "8c9d0913",
   "metadata": {
    "slideshow": {
     "slide_type": "slide"
    }
   },
   "outputs": [
    {
     "name": "stderr",
     "output_type": "stream",
     "text": [
      "                  :-) GROMACS - gmx mdrun, 2020.2-MODIFIED (-:\n",
      "\n",
      "                            GROMACS is written by:\n",
      "     Emile Apol      Rossen Apostolov      Paul Bauer     Herman J.C. Berendsen\n",
      "    Par Bjelkmar      Christian Blau   Viacheslav Bolnykh     Kevin Boyd    \n",
      " Aldert van Buuren   Rudi van Drunen     Anton Feenstra       Alan Gray     \n",
      "  Gerrit Groenhof     Anca Hamuraru    Vincent Hindriksen  M. Eric Irrgang  \n",
      "  Aleksei Iupinov   Christoph Junghans     Joe Jordan     Dimitrios Karkoulis\n",
      "    Peter Kasson        Jiri Kraus      Carsten Kutzner      Per Larsson    \n",
      "  Justin A. Lemkul    Viveca Lindahl    Magnus Lundborg     Erik Marklund   \n",
      "    Pascal Merz     Pieter Meulenhoff    Teemu Murtola       Szilard Pall   \n",
      "    Sander Pronk      Roland Schulz      Michael Shirts    Alexey Shvetsov  \n",
      "   Alfons Sijbers     Peter Tieleman      Jon Vincent      Teemu Virolainen \n",
      " Christian Wennberg    Maarten Wolf      Artem Zhmurov   \n",
      "                           and the project leaders:\n",
      "        Mark Abraham, Berk Hess, Erik Lindahl, and David van der Spoel\n",
      "\n",
      "Copyright (c) 1991-2000, University of Groningen, The Netherlands.\n",
      "Copyright (c) 2001-2019, The GROMACS development team at\n",
      "Uppsala University, Stockholm University and\n",
      "the Royal Institute of Technology, Sweden.\n",
      "check out http://www.gromacs.org for more information.\n",
      "\n",
      "GROMACS is free software; you can redistribute it and/or modify it\n",
      "under the terms of the GNU Lesser General Public License\n",
      "as published by the Free Software Foundation; either version 2.1\n",
      "of the License, or (at your option) any later version.\n",
      "\n",
      "GROMACS:      gmx mdrun, version 2020.2-MODIFIED\n",
      "Executable:   /jet/packages/spack/opt/spack/linux-centos8-zen2/gcc-10.2.0/gromacs-2020.2-xfnb3dvyae7ktyfp3kq63xgdxx5c45en/bin/gmx_mpi\n",
      "Data prefix:  /jet/packages/spack/opt/spack/linux-centos8-zen2/gcc-10.2.0/gromacs-2020.2-xfnb3dvyae7ktyfp3kq63xgdxx5c45en\n",
      "Working dir:  /ocean/projects/cts160011p/wehs7661/3rd_workshop_advanced_sampling/Wednesday/Exercise_2\n",
      "Command line:\n",
      "  gmx_mpi mdrun -deffnm pull/pull -pf pull/pullf.xvg -px pull/pullx.xvg -ntomp 1\n",
      "\n",
      "Reading file pull/pull.tpr, VERSION 2020.2-MODIFIED (single precision)\n",
      "Changing nstlist from 10 to 25, rlist from 0.607 to 0.67\n",
      "\n",
      "Using 1 MPI process\n",
      "\n",
      "Non-default thread affinity set, disabling internal thread affinity\n",
      "\n",
      "Using 1 OpenMP thread \n",
      "\n",
      "starting mdrun 'NaCl in water'\n",
      "125000 steps,    250.0 ps.\n",
      "\n",
      "Writing final coordinates.\n",
      "\n",
      "               Core t (s)   Wall t (s)        (%)\n",
      "       Time:       17.251       17.251      100.0\n",
      "                 (ns/day)    (hour/ns)\n",
      "Performance:     1252.093        0.019\n",
      "\n",
      "GROMACS reminds you: \"The determined Real Programmer can write FORTRAN programs in any language.\" (Ed Post)\n",
      "\n"
     ]
    },
    {
     "name": "stdout",
     "output_type": "stream",
     "text": [
      "CPU times: user 27.4 ms, sys: 9.42 ms, total: 36.8 ms\n",
      "Wall time: 17.9 s\n"
     ]
    }
   ],
   "source": [
    "%%time\n",
    "%%bash\n",
    "module load gromacs/2020.2-cpu openmpi/4.0.5-gcc10.2.0\n",
    "mpirun -np 1 gmx_mpi mdrun -deffnm pull/pull -pf pull/pullf.xvg -px pull/pullx.xvg -ntomp 1"
   ]
  },
  {
   "cell_type": "markdown",
   "id": "014e3101",
   "metadata": {
    "slideshow": {
     "slide_type": "slide"
    }
   },
   "source": [
    "Compared to standard MD simulation, a pulling simulation has two additional output files: `pullf.xvg` and `pullf.xvg`, which document the timeseries of the pulling force and the ion-pair distance. "
   ]
  },
  {
   "cell_type": "markdown",
   "id": "a31d4c68",
   "metadata": {
    "slideshow": {
     "slide_type": "slide"
    }
   },
   "source": [
    "## 2. Generation of the initial configurations"
   ]
  },
  {
   "cell_type": "markdown",
   "id": "475a7fec",
   "metadata": {
    "slideshow": {
     "slide_type": "slide"
    }
   },
   "source": [
    "Given 32 CPUs available, we will divide the reaction path into 16 windows and run a simulation for each of them. The center of the window will range from the minimum ion-pair distance we got from the pulling simulation, to 0.6 nm, which is close enough to the upper bound of 0.7248 nm. For each window, we generate a configuration from the pulling simulation trajectory whose ion-pair distance is closet to the desired value (i.e., the center of the window). "
   ]
  },
  {
   "cell_type": "code",
   "execution_count": 11,
   "id": "8bd16de9",
   "metadata": {
    "slideshow": {
     "slide_type": "fragment"
    }
   },
   "outputs": [
    {
     "name": "stdout",
     "output_type": "stream",
     "text": [
      "The initial configurations will be extracted from the following time frames (in ps): [ 35.5  27.8 116.1 122.6 181.5 218.  168.9 228.8]\n",
      "The ion-pair distances (in nm) of the chosen configurations are: [0.253318 0.302741 0.351114 0.401381 0.451428 0.50095  0.550579 0.599727]\n"
     ]
    }
   ],
   "source": [
    "import numpy as np\n",
    "pullx = np.transpose(np.loadtxt('pull/pullx.xvg', comments=['@', '#']))\n",
    "time, dist = pullx[0], pullx[1]\n",
    "centers = np.linspace(min(dist), 0.6, 8)  # the spacing between windows should be around 0.05 nm\n",
    "diff_list = np.abs([dist - i for i in centers])\n",
    "diff_idx = [np.argmin(diff_list[i]) for i in range(len(centers))]  # dist[diff_idx]: distances closet to the centers\n",
    "t_extract = time[diff_idx]  # in ps\n",
    "print(f'The initial configurations will be extracted from the following time frames (in ps): {t_extract}')\n",
    "print(f'The ion-pair distances (in nm) of the chosen configurations are: {dist[diff_idx]}')"
   ]
  },
  {
   "cell_type": "code",
   "execution_count": 12,
   "id": "7aeb4d14",
   "metadata": {
    "slideshow": {
     "slide_type": "slide"
    }
   },
   "outputs": [
    {
     "name": "stderr",
     "output_type": "stream",
     "text": [
      "                 :-) GROMACS - gmx trjconv, 2020.2-MODIFIED (-:\n",
      "\n",
      "                            GROMACS is written by:\n",
      "     Emile Apol      Rossen Apostolov      Paul Bauer     Herman J.C. Berendsen\n",
      "    Par Bjelkmar      Christian Blau   Viacheslav Bolnykh     Kevin Boyd    \n",
      " Aldert van Buuren   Rudi van Drunen     Anton Feenstra       Alan Gray     \n",
      "  Gerrit Groenhof     Anca Hamuraru    Vincent Hindriksen  M. Eric Irrgang  \n",
      "  Aleksei Iupinov   Christoph Junghans     Joe Jordan     Dimitrios Karkoulis\n",
      "    Peter Kasson        Jiri Kraus      Carsten Kutzner      Per Larsson    \n",
      "  Justin A. Lemkul    Viveca Lindahl    Magnus Lundborg     Erik Marklund   \n",
      "    Pascal Merz     Pieter Meulenhoff    Teemu Murtola       Szilard Pall   \n",
      "    Sander Pronk      Roland Schulz      Michael Shirts    Alexey Shvetsov  \n",
      "   Alfons Sijbers     Peter Tieleman      Jon Vincent      Teemu Virolainen \n",
      " Christian Wennberg    Maarten Wolf      Artem Zhmurov   \n",
      "                           and the project leaders:\n",
      "        Mark Abraham, Berk Hess, Erik Lindahl, and David van der Spoel\n",
      "\n",
      "Copyright (c) 1991-2000, University of Groningen, The Netherlands.\n",
      "Copyright (c) 2001-2019, The GROMACS development team at\n",
      "Uppsala University, Stockholm University and\n",
      "the Royal Institute of Technology, Sweden.\n",
      "check out http://www.gromacs.org for more information.\n",
      "\n",
      "GROMACS is free software; you can redistribute it and/or modify it\n",
      "under the terms of the GNU Lesser General Public License\n",
      "as published by the Free Software Foundation; either version 2.1\n",
      "of the License, or (at your option) any later version.\n",
      "\n",
      "GROMACS:      gmx trjconv, version 2020.2-MODIFIED\n",
      "Executable:   /jet/packages/spack/opt/spack/linux-centos8-zen2/gcc-10.2.0/gromacs-2020.2-xfnb3dvyae7ktyfp3kq63xgdxx5c45en/bin/gmx_mpi\n",
      "Data prefix:  /jet/packages/spack/opt/spack/linux-centos8-zen2/gcc-10.2.0/gromacs-2020.2-xfnb3dvyae7ktyfp3kq63xgdxx5c45en\n",
      "Working dir:  /ocean/projects/cts160011p/wehs7661/3rd_workshop_advanced_sampling/Wednesday/Exercise_2\n",
      "Command line:\n",
      "  gmx_mpi trjconv -s pull/pull.tpr -f pull/pull.xtc -dump 35.5 -o sim_1/NaCl_1.gro\n",
      "\n",
      "Will write gro: Coordinate file in Gromos-87 format\n",
      "Reading file pull/pull.tpr, VERSION 2020.2-MODIFIED (single precision)\n",
      "Reading file pull/pull.tpr, VERSION 2020.2-MODIFIED (single precision)\n",
      "Group     0 (         System) has   323 elements\n",
      "Group     1 (          Water) has   321 elements\n",
      "Group     2 (            SOL) has   321 elements\n",
      "Group     3 (      non-Water) has     2 elements\n",
      "Group     4 (            Ion) has     2 elements\n",
      "Group     5 (             NA) has     1 elements\n",
      "Group     6 (             CL) has     1 elements\n",
      "Group     7 ( Water_and_ions) has   323 elements\n",
      "Select a group: \r",
      "Reading frame       0 time    0.000   \n",
      "Precision of pull/pull.xtc is 0.001 (nm)\n",
      "\r",
      "Reading frame       1 time    0.100   \r",
      "Reading frame       0 time    0.000   \r",
      "Reading frame       1 time    0.100   \r",
      "Reading frame       2 time    0.200   \r",
      "Reading frame       3 time    0.300   \r",
      "Reading frame       4 time    0.400   \r",
      "Reading frame       5 time    0.500   \r",
      "Reading frame       6 time    0.600   \r",
      "Reading frame       7 time    0.700   \r",
      "Reading frame       8 time    0.800   \r",
      "Reading frame       9 time    0.900   \r",
      "Reading frame      10 time    1.000   \r",
      "Reading frame      11 time    1.100   \r",
      "Reading frame      12 time    1.200   \r",
      "Reading frame      13 time    1.300   \r",
      "Reading frame      14 time    1.400   \r",
      "Reading frame      15 time    1.500   \r",
      "Reading frame      16 time    1.600   \r",
      "Reading frame      17 time    1.700   \r",
      "Reading frame      18 time    1.800   \r",
      "Reading frame      19 time    1.900   \r",
      "Reading frame      20 time    2.000   \r",
      "Reading frame      30 time    3.000   \r",
      "Reading frame      40 time    4.000   \r",
      "Reading frame      50 time    5.000   \r",
      "Reading frame      60 time    6.000   \r",
      "Reading frame      70 time    7.000   \r",
      "Reading frame      80 time    8.000   \r",
      "Reading frame      90 time    9.000   \r",
      "Reading frame     100 time   10.000   \r",
      "Reading frame     110 time   11.000   \r",
      "Reading frame     120 time   12.000   \r",
      "Reading frame     130 time   13.000   \r",
      "Reading frame     140 time   14.000   \r",
      "Reading frame     150 time   15.000   \r",
      "Reading frame     160 time   16.000   \r",
      "Reading frame     170 time   17.000   \r",
      "Reading frame     180 time   18.000   \r",
      "Reading frame     190 time   19.000   \r",
      "Reading frame     200 time   20.000   \r",
      "Reading frame     300 time   30.000   \n",
      "Dumping frame at t= 35.5 ps\n",
      " ->  frame      0 time   35.500      \r\n",
      "\n",
      "GROMACS reminds you: \"A Protein is a Set Of Coordinates\" (A.P. Heiner)\n",
      "\n"
     ]
    },
    {
     "name": "stdout",
     "output_type": "stream",
     "text": [
      "Note that major changes are planned in future for trjconv, to improve usability and utility.\n",
      "Select group for output\n",
      "Selected 0: 'System'\n"
     ]
    },
    {
     "name": "stderr",
     "output_type": "stream",
     "text": [
      "                 :-) GROMACS - gmx trjconv, 2020.2-MODIFIED (-:\n",
      "\n",
      "                            GROMACS is written by:\n",
      "     Emile Apol      Rossen Apostolov      Paul Bauer     Herman J.C. Berendsen\n",
      "    Par Bjelkmar      Christian Blau   Viacheslav Bolnykh     Kevin Boyd    \n",
      " Aldert van Buuren   Rudi van Drunen     Anton Feenstra       Alan Gray     \n",
      "  Gerrit Groenhof     Anca Hamuraru    Vincent Hindriksen  M. Eric Irrgang  \n",
      "  Aleksei Iupinov   Christoph Junghans     Joe Jordan     Dimitrios Karkoulis\n",
      "    Peter Kasson        Jiri Kraus      Carsten Kutzner      Per Larsson    \n",
      "  Justin A. Lemkul    Viveca Lindahl    Magnus Lundborg     Erik Marklund   \n",
      "    Pascal Merz     Pieter Meulenhoff    Teemu Murtola       Szilard Pall   \n",
      "    Sander Pronk      Roland Schulz      Michael Shirts    Alexey Shvetsov  \n",
      "   Alfons Sijbers     Peter Tieleman      Jon Vincent      Teemu Virolainen \n",
      " Christian Wennberg    Maarten Wolf      Artem Zhmurov   \n",
      "                           and the project leaders:\n",
      "        Mark Abraham, Berk Hess, Erik Lindahl, and David van der Spoel\n",
      "\n",
      "Copyright (c) 1991-2000, University of Groningen, The Netherlands.\n",
      "Copyright (c) 2001-2019, The GROMACS development team at\n",
      "Uppsala University, Stockholm University and\n",
      "the Royal Institute of Technology, Sweden.\n",
      "check out http://www.gromacs.org for more information.\n",
      "\n",
      "GROMACS is free software; you can redistribute it and/or modify it\n",
      "under the terms of the GNU Lesser General Public License\n",
      "as published by the Free Software Foundation; either version 2.1\n",
      "of the License, or (at your option) any later version.\n",
      "\n",
      "GROMACS:      gmx trjconv, version 2020.2-MODIFIED\n",
      "Executable:   /jet/packages/spack/opt/spack/linux-centos8-zen2/gcc-10.2.0/gromacs-2020.2-xfnb3dvyae7ktyfp3kq63xgdxx5c45en/bin/gmx_mpi\n",
      "Data prefix:  /jet/packages/spack/opt/spack/linux-centos8-zen2/gcc-10.2.0/gromacs-2020.2-xfnb3dvyae7ktyfp3kq63xgdxx5c45en\n",
      "Working dir:  /ocean/projects/cts160011p/wehs7661/3rd_workshop_advanced_sampling/Wednesday/Exercise_2\n",
      "Command line:\n",
      "  gmx_mpi trjconv -s pull/pull.tpr -f pull/pull.xtc -dump 27.8 -o sim_2/NaCl_2.gro\n",
      "\n",
      "Will write gro: Coordinate file in Gromos-87 format\n",
      "Reading file pull/pull.tpr, VERSION 2020.2-MODIFIED (single precision)\n",
      "Reading file pull/pull.tpr, VERSION 2020.2-MODIFIED (single precision)\n",
      "Group     0 (         System) has   323 elements\n",
      "Group     1 (          Water) has   321 elements\n",
      "Group     2 (            SOL) has   321 elements\n",
      "Group     3 (      non-Water) has     2 elements\n",
      "Group     4 (            Ion) has     2 elements\n",
      "Group     5 (             NA) has     1 elements\n",
      "Group     6 (             CL) has     1 elements\n",
      "Group     7 ( Water_and_ions) has   323 elements\n",
      "Select a group: \r",
      "Reading frame       0 time    0.000   \n",
      "Precision of pull/pull.xtc is 0.001 (nm)\n",
      "\r",
      "Reading frame       1 time    0.100   \r",
      "Reading frame       0 time    0.000   \r",
      "Reading frame       1 time    0.100   \r",
      "Reading frame       2 time    0.200   \r",
      "Reading frame       3 time    0.300   \r",
      "Reading frame       4 time    0.400   \r",
      "Reading frame       5 time    0.500   \r",
      "Reading frame       6 time    0.600   \r",
      "Reading frame       7 time    0.700   \r",
      "Reading frame       8 time    0.800   \r",
      "Reading frame       9 time    0.900   \r",
      "Reading frame      10 time    1.000   \r",
      "Reading frame      11 time    1.100   \r",
      "Reading frame      12 time    1.200   \r",
      "Reading frame      13 time    1.300   \r",
      "Reading frame      14 time    1.400   \r",
      "Reading frame      15 time    1.500   \r",
      "Reading frame      16 time    1.600   \r",
      "Reading frame      17 time    1.700   \r",
      "Reading frame      18 time    1.800   \r",
      "Reading frame      19 time    1.900   \r",
      "Reading frame      20 time    2.000   \r",
      "Reading frame      30 time    3.000   \r",
      "Reading frame      40 time    4.000   \r",
      "Reading frame      50 time    5.000   \r",
      "Reading frame      60 time    6.000   \r",
      "Reading frame      70 time    7.000   \r",
      "Reading frame      80 time    8.000   \r",
      "Reading frame      90 time    9.000   \r",
      "Reading frame     100 time   10.000   \r",
      "Reading frame     110 time   11.000   \r",
      "Reading frame     120 time   12.000   \r",
      "Reading frame     130 time   13.000   \r",
      "Reading frame     140 time   14.000   \r",
      "Reading frame     150 time   15.000   \r",
      "Reading frame     160 time   16.000   \r",
      "Reading frame     170 time   17.000   \r",
      "Reading frame     180 time   18.000   \r",
      "Reading frame     190 time   19.000   \r",
      "Reading frame     200 time   20.000   \n",
      "Dumping frame at t= 27.8 ps\n",
      " ->  frame      0 time   27.800      \r\n",
      "\n",
      "GROMACS reminds you: \"The farther the experiment is from theory, the closer it is to the Nobel Prize.\" (Irene Joliot-Curie)\n",
      "\n"
     ]
    },
    {
     "name": "stdout",
     "output_type": "stream",
     "text": [
      "Note that major changes are planned in future for trjconv, to improve usability and utility.\n",
      "Select group for output\n",
      "Selected 0: 'System'\n"
     ]
    },
    {
     "name": "stderr",
     "output_type": "stream",
     "text": [
      "                 :-) GROMACS - gmx trjconv, 2020.2-MODIFIED (-:\n",
      "\n",
      "                            GROMACS is written by:\n",
      "     Emile Apol      Rossen Apostolov      Paul Bauer     Herman J.C. Berendsen\n",
      "    Par Bjelkmar      Christian Blau   Viacheslav Bolnykh     Kevin Boyd    \n",
      " Aldert van Buuren   Rudi van Drunen     Anton Feenstra       Alan Gray     \n",
      "  Gerrit Groenhof     Anca Hamuraru    Vincent Hindriksen  M. Eric Irrgang  \n",
      "  Aleksei Iupinov   Christoph Junghans     Joe Jordan     Dimitrios Karkoulis\n",
      "    Peter Kasson        Jiri Kraus      Carsten Kutzner      Per Larsson    \n",
      "  Justin A. Lemkul    Viveca Lindahl    Magnus Lundborg     Erik Marklund   \n",
      "    Pascal Merz     Pieter Meulenhoff    Teemu Murtola       Szilard Pall   \n",
      "    Sander Pronk      Roland Schulz      Michael Shirts    Alexey Shvetsov  \n",
      "   Alfons Sijbers     Peter Tieleman      Jon Vincent      Teemu Virolainen \n",
      " Christian Wennberg    Maarten Wolf      Artem Zhmurov   \n",
      "                           and the project leaders:\n",
      "        Mark Abraham, Berk Hess, Erik Lindahl, and David van der Spoel\n",
      "\n",
      "Copyright (c) 1991-2000, University of Groningen, The Netherlands.\n",
      "Copyright (c) 2001-2019, The GROMACS development team at\n",
      "Uppsala University, Stockholm University and\n",
      "the Royal Institute of Technology, Sweden.\n",
      "check out http://www.gromacs.org for more information.\n",
      "\n",
      "GROMACS is free software; you can redistribute it and/or modify it\n",
      "under the terms of the GNU Lesser General Public License\n",
      "as published by the Free Software Foundation; either version 2.1\n",
      "of the License, or (at your option) any later version.\n",
      "\n",
      "GROMACS:      gmx trjconv, version 2020.2-MODIFIED\n",
      "Executable:   /jet/packages/spack/opt/spack/linux-centos8-zen2/gcc-10.2.0/gromacs-2020.2-xfnb3dvyae7ktyfp3kq63xgdxx5c45en/bin/gmx_mpi\n",
      "Data prefix:  /jet/packages/spack/opt/spack/linux-centos8-zen2/gcc-10.2.0/gromacs-2020.2-xfnb3dvyae7ktyfp3kq63xgdxx5c45en\n",
      "Working dir:  /ocean/projects/cts160011p/wehs7661/3rd_workshop_advanced_sampling/Wednesday/Exercise_2\n",
      "Command line:\n",
      "  gmx_mpi trjconv -s pull/pull.tpr -f pull/pull.xtc -dump 116.1 -o sim_3/NaCl_3.gro\n",
      "\n",
      "Will write gro: Coordinate file in Gromos-87 format\n",
      "Reading file pull/pull.tpr, VERSION 2020.2-MODIFIED (single precision)\n",
      "Reading file pull/pull.tpr, VERSION 2020.2-MODIFIED (single precision)\n",
      "Group     0 (         System) has   323 elements\n",
      "Group     1 (          Water) has   321 elements\n",
      "Group     2 (            SOL) has   321 elements\n",
      "Group     3 (      non-Water) has     2 elements\n",
      "Group     4 (            Ion) has     2 elements\n",
      "Group     5 (             NA) has     1 elements\n",
      "Group     6 (             CL) has     1 elements\n",
      "Group     7 ( Water_and_ions) has   323 elements\n",
      "Select a group: \r",
      "Reading frame       0 time    0.000   \n",
      "Precision of pull/pull.xtc is 0.001 (nm)\n",
      "\r",
      "Reading frame       1 time    0.100   \r",
      "Reading frame       0 time    0.000   \r",
      "Reading frame       1 time    0.100   \r",
      "Reading frame       2 time    0.200   \r",
      "Reading frame       3 time    0.300   \r",
      "Reading frame       4 time    0.400   \r",
      "Reading frame       5 time    0.500   \r",
      "Reading frame       6 time    0.600   \r",
      "Reading frame       7 time    0.700   \r",
      "Reading frame       8 time    0.800   \r",
      "Reading frame       9 time    0.900   \r",
      "Reading frame      10 time    1.000   \r",
      "Reading frame      11 time    1.100   \r",
      "Reading frame      12 time    1.200   \r",
      "Reading frame      13 time    1.300   \r",
      "Reading frame      14 time    1.400   \r",
      "Reading frame      15 time    1.500   \r",
      "Reading frame      16 time    1.600   \r",
      "Reading frame      17 time    1.700   \r",
      "Reading frame      18 time    1.800   \r",
      "Reading frame      19 time    1.900   \r",
      "Reading frame      20 time    2.000   \r",
      "Reading frame      30 time    3.000   \r",
      "Reading frame      40 time    4.000   \r",
      "Reading frame      50 time    5.000   \r",
      "Reading frame      60 time    6.000   \r",
      "Reading frame      70 time    7.000   \r",
      "Reading frame      80 time    8.000   \r",
      "Reading frame      90 time    9.000   \r",
      "Reading frame     100 time   10.000   \r",
      "Reading frame     110 time   11.000   \r",
      "Reading frame     120 time   12.000   \r",
      "Reading frame     130 time   13.000   \r",
      "Reading frame     140 time   14.000   \r",
      "Reading frame     150 time   15.000   \r",
      "Reading frame     160 time   16.000   \r",
      "Reading frame     170 time   17.000   \r",
      "Reading frame     180 time   18.000   \r",
      "Reading frame     190 time   19.000   \r",
      "Reading frame     200 time   20.000   \r",
      "Reading frame     300 time   30.000   \r",
      "Reading frame     400 time   40.000   \r",
      "Reading frame     500 time   50.000   \r",
      "Reading frame     600 time   60.000   \r",
      "Reading frame     700 time   70.000   \r",
      "Reading frame     800 time   80.000   \r",
      "Reading frame     900 time   90.000   \r",
      "Reading frame    1000 time  100.000   \r",
      "Reading frame    1100 time  110.000   \n",
      "Dumping frame at t= 116.1 ps\n",
      " ->  frame      0 time  116.100      \r\n",
      "\n",
      "GROMACS reminds you: \"Interfacing Space and Beyond...\" (P. J. Harvey)\n",
      "\n"
     ]
    },
    {
     "name": "stdout",
     "output_type": "stream",
     "text": [
      "Note that major changes are planned in future for trjconv, to improve usability and utility.\n",
      "Select group for output\n",
      "Selected 0: 'System'\n"
     ]
    },
    {
     "name": "stderr",
     "output_type": "stream",
     "text": [
      "                 :-) GROMACS - gmx trjconv, 2020.2-MODIFIED (-:\n",
      "\n",
      "                            GROMACS is written by:\n",
      "     Emile Apol      Rossen Apostolov      Paul Bauer     Herman J.C. Berendsen\n",
      "    Par Bjelkmar      Christian Blau   Viacheslav Bolnykh     Kevin Boyd    \n",
      " Aldert van Buuren   Rudi van Drunen     Anton Feenstra       Alan Gray     \n",
      "  Gerrit Groenhof     Anca Hamuraru    Vincent Hindriksen  M. Eric Irrgang  \n",
      "  Aleksei Iupinov   Christoph Junghans     Joe Jordan     Dimitrios Karkoulis\n",
      "    Peter Kasson        Jiri Kraus      Carsten Kutzner      Per Larsson    \n",
      "  Justin A. Lemkul    Viveca Lindahl    Magnus Lundborg     Erik Marklund   \n",
      "    Pascal Merz     Pieter Meulenhoff    Teemu Murtola       Szilard Pall   \n",
      "    Sander Pronk      Roland Schulz      Michael Shirts    Alexey Shvetsov  \n",
      "   Alfons Sijbers     Peter Tieleman      Jon Vincent      Teemu Virolainen \n",
      " Christian Wennberg    Maarten Wolf      Artem Zhmurov   \n",
      "                           and the project leaders:\n",
      "        Mark Abraham, Berk Hess, Erik Lindahl, and David van der Spoel\n",
      "\n",
      "Copyright (c) 1991-2000, University of Groningen, The Netherlands.\n",
      "Copyright (c) 2001-2019, The GROMACS development team at\n",
      "Uppsala University, Stockholm University and\n",
      "the Royal Institute of Technology, Sweden.\n",
      "check out http://www.gromacs.org for more information.\n",
      "\n",
      "GROMACS is free software; you can redistribute it and/or modify it\n",
      "under the terms of the GNU Lesser General Public License\n",
      "as published by the Free Software Foundation; either version 2.1\n",
      "of the License, or (at your option) any later version.\n",
      "\n",
      "GROMACS:      gmx trjconv, version 2020.2-MODIFIED\n",
      "Executable:   /jet/packages/spack/opt/spack/linux-centos8-zen2/gcc-10.2.0/gromacs-2020.2-xfnb3dvyae7ktyfp3kq63xgdxx5c45en/bin/gmx_mpi\n",
      "Data prefix:  /jet/packages/spack/opt/spack/linux-centos8-zen2/gcc-10.2.0/gromacs-2020.2-xfnb3dvyae7ktyfp3kq63xgdxx5c45en\n",
      "Working dir:  /ocean/projects/cts160011p/wehs7661/3rd_workshop_advanced_sampling/Wednesday/Exercise_2\n",
      "Command line:\n",
      "  gmx_mpi trjconv -s pull/pull.tpr -f pull/pull.xtc -dump 122.6 -o sim_4/NaCl_4.gro\n",
      "\n",
      "Will write gro: Coordinate file in Gromos-87 format\n",
      "Reading file pull/pull.tpr, VERSION 2020.2-MODIFIED (single precision)\n",
      "Reading file pull/pull.tpr, VERSION 2020.2-MODIFIED (single precision)\n",
      "Group     0 (         System) has   323 elements\n",
      "Group     1 (          Water) has   321 elements\n",
      "Group     2 (            SOL) has   321 elements\n",
      "Group     3 (      non-Water) has     2 elements\n",
      "Group     4 (            Ion) has     2 elements\n",
      "Group     5 (             NA) has     1 elements\n",
      "Group     6 (             CL) has     1 elements\n",
      "Group     7 ( Water_and_ions) has   323 elements\n",
      "Select a group: \r",
      "Reading frame       0 time    0.000   \n",
      "Precision of pull/pull.xtc is 0.001 (nm)\n",
      "\r",
      "Reading frame       1 time    0.100   \r",
      "Reading frame       0 time    0.000   \r",
      "Reading frame       1 time    0.100   \r",
      "Reading frame       2 time    0.200   \r",
      "Reading frame       3 time    0.300   \r",
      "Reading frame       4 time    0.400   \r",
      "Reading frame       5 time    0.500   \r",
      "Reading frame       6 time    0.600   \r",
      "Reading frame       7 time    0.700   \r",
      "Reading frame       8 time    0.800   \r",
      "Reading frame       9 time    0.900   \r",
      "Reading frame      10 time    1.000   \r",
      "Reading frame      11 time    1.100   \r",
      "Reading frame      12 time    1.200   \r",
      "Reading frame      13 time    1.300   \r",
      "Reading frame      14 time    1.400   \r",
      "Reading frame      15 time    1.500   \r",
      "Reading frame      16 time    1.600   \r",
      "Reading frame      17 time    1.700   \r",
      "Reading frame      18 time    1.800   \r",
      "Reading frame      19 time    1.900   \r",
      "Reading frame      20 time    2.000   \r",
      "Reading frame      30 time    3.000   \r",
      "Reading frame      40 time    4.000   \r",
      "Reading frame      50 time    5.000   \r",
      "Reading frame      60 time    6.000   \r",
      "Reading frame      70 time    7.000   \r",
      "Reading frame      80 time    8.000   \r",
      "Reading frame      90 time    9.000   \r",
      "Reading frame     100 time   10.000   \r",
      "Reading frame     110 time   11.000   \r",
      "Reading frame     120 time   12.000   \r",
      "Reading frame     130 time   13.000   \r",
      "Reading frame     140 time   14.000   \r",
      "Reading frame     150 time   15.000   \r",
      "Reading frame     160 time   16.000   \r",
      "Reading frame     170 time   17.000   \r",
      "Reading frame     180 time   18.000   \r",
      "Reading frame     190 time   19.000   \r",
      "Reading frame     200 time   20.000   \r",
      "Reading frame     300 time   30.000   \r",
      "Reading frame     400 time   40.000   \r",
      "Reading frame     500 time   50.000   \r",
      "Reading frame     600 time   60.000   \r",
      "Reading frame     700 time   70.000   \r",
      "Reading frame     800 time   80.000   \r",
      "Reading frame     900 time   90.000   \r",
      "Reading frame    1000 time  100.000   \r",
      "Reading frame    1100 time  110.000   \r",
      "Reading frame    1200 time  120.000   \n",
      "Dumping frame at t= 122.6 ps\n",
      " ->  frame      0 time  122.600      \r\n",
      "\n",
      "GROMACS reminds you: \"Predictions can be very difficult - especially about the future.\" (Niels Bohr)\n",
      "\n"
     ]
    },
    {
     "name": "stdout",
     "output_type": "stream",
     "text": [
      "Note that major changes are planned in future for trjconv, to improve usability and utility.\n",
      "Select group for output\n",
      "Selected 0: 'System'\n"
     ]
    },
    {
     "name": "stderr",
     "output_type": "stream",
     "text": [
      "                 :-) GROMACS - gmx trjconv, 2020.2-MODIFIED (-:\n",
      "\n",
      "                            GROMACS is written by:\n",
      "     Emile Apol      Rossen Apostolov      Paul Bauer     Herman J.C. Berendsen\n",
      "    Par Bjelkmar      Christian Blau   Viacheslav Bolnykh     Kevin Boyd    \n",
      " Aldert van Buuren   Rudi van Drunen     Anton Feenstra       Alan Gray     \n",
      "  Gerrit Groenhof     Anca Hamuraru    Vincent Hindriksen  M. Eric Irrgang  \n",
      "  Aleksei Iupinov   Christoph Junghans     Joe Jordan     Dimitrios Karkoulis\n",
      "    Peter Kasson        Jiri Kraus      Carsten Kutzner      Per Larsson    \n",
      "  Justin A. Lemkul    Viveca Lindahl    Magnus Lundborg     Erik Marklund   \n",
      "    Pascal Merz     Pieter Meulenhoff    Teemu Murtola       Szilard Pall   \n",
      "    Sander Pronk      Roland Schulz      Michael Shirts    Alexey Shvetsov  \n",
      "   Alfons Sijbers     Peter Tieleman      Jon Vincent      Teemu Virolainen \n",
      " Christian Wennberg    Maarten Wolf      Artem Zhmurov   \n",
      "                           and the project leaders:\n",
      "        Mark Abraham, Berk Hess, Erik Lindahl, and David van der Spoel\n",
      "\n",
      "Copyright (c) 1991-2000, University of Groningen, The Netherlands.\n",
      "Copyright (c) 2001-2019, The GROMACS development team at\n",
      "Uppsala University, Stockholm University and\n",
      "the Royal Institute of Technology, Sweden.\n",
      "check out http://www.gromacs.org for more information.\n",
      "\n",
      "GROMACS is free software; you can redistribute it and/or modify it\n",
      "under the terms of the GNU Lesser General Public License\n",
      "as published by the Free Software Foundation; either version 2.1\n",
      "of the License, or (at your option) any later version.\n",
      "\n",
      "GROMACS:      gmx trjconv, version 2020.2-MODIFIED\n",
      "Executable:   /jet/packages/spack/opt/spack/linux-centos8-zen2/gcc-10.2.0/gromacs-2020.2-xfnb3dvyae7ktyfp3kq63xgdxx5c45en/bin/gmx_mpi\n",
      "Data prefix:  /jet/packages/spack/opt/spack/linux-centos8-zen2/gcc-10.2.0/gromacs-2020.2-xfnb3dvyae7ktyfp3kq63xgdxx5c45en\n",
      "Working dir:  /ocean/projects/cts160011p/wehs7661/3rd_workshop_advanced_sampling/Wednesday/Exercise_2\n",
      "Command line:\n",
      "  gmx_mpi trjconv -s pull/pull.tpr -f pull/pull.xtc -dump 181.5 -o sim_5/NaCl_5.gro\n",
      "\n",
      "Will write gro: Coordinate file in Gromos-87 format\n",
      "Reading file pull/pull.tpr, VERSION 2020.2-MODIFIED (single precision)\n",
      "Reading file pull/pull.tpr, VERSION 2020.2-MODIFIED (single precision)\n",
      "Group     0 (         System) has   323 elements\n",
      "Group     1 (          Water) has   321 elements\n",
      "Group     2 (            SOL) has   321 elements\n",
      "Group     3 (      non-Water) has     2 elements\n",
      "Group     4 (            Ion) has     2 elements\n",
      "Group     5 (             NA) has     1 elements\n",
      "Group     6 (             CL) has     1 elements\n",
      "Group     7 ( Water_and_ions) has   323 elements\n",
      "Select a group: \r",
      "Reading frame       0 time    0.000   \n",
      "Precision of pull/pull.xtc is 0.001 (nm)\n",
      "\r",
      "Reading frame       1 time    0.100   \r",
      "Reading frame       0 time    0.000   \r",
      "Reading frame       1 time    0.100   \r",
      "Reading frame       2 time    0.200   \r",
      "Reading frame       3 time    0.300   \r",
      "Reading frame       4 time    0.400   \r",
      "Reading frame       5 time    0.500   \r",
      "Reading frame       6 time    0.600   \r",
      "Reading frame       7 time    0.700   \r",
      "Reading frame       8 time    0.800   \r",
      "Reading frame       9 time    0.900   \r",
      "Reading frame      10 time    1.000   \r",
      "Reading frame      11 time    1.100   \r",
      "Reading frame      12 time    1.200   \r",
      "Reading frame      13 time    1.300   \r",
      "Reading frame      14 time    1.400   \r",
      "Reading frame      15 time    1.500   \r",
      "Reading frame      16 time    1.600   \r",
      "Reading frame      17 time    1.700   \r",
      "Reading frame      18 time    1.800   \r",
      "Reading frame      19 time    1.900   \r",
      "Reading frame      20 time    2.000   \r",
      "Reading frame      30 time    3.000   \r",
      "Reading frame      40 time    4.000   \r",
      "Reading frame      50 time    5.000   \r",
      "Reading frame      60 time    6.000   \r",
      "Reading frame      70 time    7.000   \r",
      "Reading frame      80 time    8.000   \r",
      "Reading frame      90 time    9.000   \r",
      "Reading frame     100 time   10.000   \r",
      "Reading frame     110 time   11.000   \r",
      "Reading frame     120 time   12.000   \r",
      "Reading frame     130 time   13.000   \r",
      "Reading frame     140 time   14.000   \r",
      "Reading frame     150 time   15.000   \r",
      "Reading frame     160 time   16.000   \r",
      "Reading frame     170 time   17.000   \r",
      "Reading frame     180 time   18.000   \r",
      "Reading frame     190 time   19.000   \r",
      "Reading frame     200 time   20.000   \r",
      "Reading frame     300 time   30.000   \r",
      "Reading frame     400 time   40.000   \r",
      "Reading frame     500 time   50.000   \r",
      "Reading frame     600 time   60.000   \r",
      "Reading frame     700 time   70.000   \r",
      "Reading frame     800 time   80.000   \r",
      "Reading frame     900 time   90.000   \r",
      "Reading frame    1000 time  100.000   \r",
      "Reading frame    1100 time  110.000   \r",
      "Reading frame    1200 time  120.000   \r",
      "Reading frame    1300 time  130.000   \r",
      "Reading frame    1400 time  140.000   \r",
      "Reading frame    1500 time  150.000   \r",
      "Reading frame    1600 time  160.000   \r",
      "Reading frame    1700 time  170.000   \r",
      "Reading frame    1800 time  180.000   \n",
      "Dumping frame at t= 181.5 ps\n",
      " ->  frame      0 time  181.500      \r\n",
      "\n",
      "GROMACS reminds you: \"Therefore, things must be learned only to be unlearned again or, more likely, to be corrected.\" (Richard Feynman)\n",
      "\n"
     ]
    },
    {
     "name": "stdout",
     "output_type": "stream",
     "text": [
      "Note that major changes are planned in future for trjconv, to improve usability and utility.\n",
      "Select group for output\n",
      "Selected 0: 'System'\n"
     ]
    },
    {
     "name": "stderr",
     "output_type": "stream",
     "text": [
      "                 :-) GROMACS - gmx trjconv, 2020.2-MODIFIED (-:\n",
      "\n",
      "                            GROMACS is written by:\n",
      "     Emile Apol      Rossen Apostolov      Paul Bauer     Herman J.C. Berendsen\n",
      "    Par Bjelkmar      Christian Blau   Viacheslav Bolnykh     Kevin Boyd    \n",
      " Aldert van Buuren   Rudi van Drunen     Anton Feenstra       Alan Gray     \n",
      "  Gerrit Groenhof     Anca Hamuraru    Vincent Hindriksen  M. Eric Irrgang  \n",
      "  Aleksei Iupinov   Christoph Junghans     Joe Jordan     Dimitrios Karkoulis\n",
      "    Peter Kasson        Jiri Kraus      Carsten Kutzner      Per Larsson    \n",
      "  Justin A. Lemkul    Viveca Lindahl    Magnus Lundborg     Erik Marklund   \n",
      "    Pascal Merz     Pieter Meulenhoff    Teemu Murtola       Szilard Pall   \n",
      "    Sander Pronk      Roland Schulz      Michael Shirts    Alexey Shvetsov  \n",
      "   Alfons Sijbers     Peter Tieleman      Jon Vincent      Teemu Virolainen \n",
      " Christian Wennberg    Maarten Wolf      Artem Zhmurov   \n",
      "                           and the project leaders:\n",
      "        Mark Abraham, Berk Hess, Erik Lindahl, and David van der Spoel\n",
      "\n",
      "Copyright (c) 1991-2000, University of Groningen, The Netherlands.\n",
      "Copyright (c) 2001-2019, The GROMACS development team at\n",
      "Uppsala University, Stockholm University and\n",
      "the Royal Institute of Technology, Sweden.\n",
      "check out http://www.gromacs.org for more information.\n",
      "\n",
      "GROMACS is free software; you can redistribute it and/or modify it\n",
      "under the terms of the GNU Lesser General Public License\n",
      "as published by the Free Software Foundation; either version 2.1\n",
      "of the License, or (at your option) any later version.\n",
      "\n",
      "GROMACS:      gmx trjconv, version 2020.2-MODIFIED\n",
      "Executable:   /jet/packages/spack/opt/spack/linux-centos8-zen2/gcc-10.2.0/gromacs-2020.2-xfnb3dvyae7ktyfp3kq63xgdxx5c45en/bin/gmx_mpi\n",
      "Data prefix:  /jet/packages/spack/opt/spack/linux-centos8-zen2/gcc-10.2.0/gromacs-2020.2-xfnb3dvyae7ktyfp3kq63xgdxx5c45en\n",
      "Working dir:  /ocean/projects/cts160011p/wehs7661/3rd_workshop_advanced_sampling/Wednesday/Exercise_2\n",
      "Command line:\n",
      "  gmx_mpi trjconv -s pull/pull.tpr -f pull/pull.xtc -dump 218.0 -o sim_6/NaCl_6.gro\n",
      "\n",
      "Will write gro: Coordinate file in Gromos-87 format\n",
      "Reading file pull/pull.tpr, VERSION 2020.2-MODIFIED (single precision)\n",
      "Reading file pull/pull.tpr, VERSION 2020.2-MODIFIED (single precision)\n",
      "Group     0 (         System) has   323 elements\n",
      "Group     1 (          Water) has   321 elements\n",
      "Group     2 (            SOL) has   321 elements\n",
      "Group     3 (      non-Water) has     2 elements\n",
      "Group     4 (            Ion) has     2 elements\n",
      "Group     5 (             NA) has     1 elements\n",
      "Group     6 (             CL) has     1 elements\n",
      "Group     7 ( Water_and_ions) has   323 elements\n",
      "Select a group: \r",
      "Reading frame       0 time    0.000   \n",
      "Precision of pull/pull.xtc is 0.001 (nm)\n",
      "\r",
      "Reading frame       1 time    0.100   \r",
      "Reading frame       0 time    0.000   \r",
      "Reading frame       1 time    0.100   \r",
      "Reading frame       2 time    0.200   \r",
      "Reading frame       3 time    0.300   \r",
      "Reading frame       4 time    0.400   \r",
      "Reading frame       5 time    0.500   \r",
      "Reading frame       6 time    0.600   \r",
      "Reading frame       7 time    0.700   \r",
      "Reading frame       8 time    0.800   \r",
      "Reading frame       9 time    0.900   \r",
      "Reading frame      10 time    1.000   \r",
      "Reading frame      11 time    1.100   \r",
      "Reading frame      12 time    1.200   \r",
      "Reading frame      13 time    1.300   \r",
      "Reading frame      14 time    1.400   \r",
      "Reading frame      15 time    1.500   \r",
      "Reading frame      16 time    1.600   \r",
      "Reading frame      17 time    1.700   \r",
      "Reading frame      18 time    1.800   \r",
      "Reading frame      19 time    1.900   \r",
      "Reading frame      20 time    2.000   \r",
      "Reading frame      30 time    3.000   \r",
      "Reading frame      40 time    4.000   \r",
      "Reading frame      50 time    5.000   \r",
      "Reading frame      60 time    6.000   \r",
      "Reading frame      70 time    7.000   \r",
      "Reading frame      80 time    8.000   \r",
      "Reading frame      90 time    9.000   \r",
      "Reading frame     100 time   10.000   \r",
      "Reading frame     110 time   11.000   \r",
      "Reading frame     120 time   12.000   \r",
      "Reading frame     130 time   13.000   \r",
      "Reading frame     140 time   14.000   \r",
      "Reading frame     150 time   15.000   \r",
      "Reading frame     160 time   16.000   \r",
      "Reading frame     170 time   17.000   \r",
      "Reading frame     180 time   18.000   \r",
      "Reading frame     190 time   19.000   \r",
      "Reading frame     200 time   20.000   \r",
      "Reading frame     300 time   30.000   \r",
      "Reading frame     400 time   40.000   \r",
      "Reading frame     500 time   50.000   \r",
      "Reading frame     600 time   60.000   \r",
      "Reading frame     700 time   70.000   \r",
      "Reading frame     800 time   80.000   \r",
      "Reading frame     900 time   90.000   \r",
      "Reading frame    1000 time  100.000   \r",
      "Reading frame    1100 time  110.000   \r",
      "Reading frame    1200 time  120.000   \r",
      "Reading frame    1300 time  130.000   \r",
      "Reading frame    1400 time  140.000   \r",
      "Reading frame    1500 time  150.000   \r",
      "Reading frame    1600 time  160.000   \r",
      "Reading frame    1700 time  170.000   \r",
      "Reading frame    1800 time  180.000   \r",
      "Reading frame    1900 time  190.000   \r",
      "Reading frame    2000 time  200.000   \n",
      "Dumping frame at t= 218 ps\n",
      " ->  frame      0 time  218.000      \r\n",
      "\n",
      "GROMACS reminds you: \"I Wrapped a Newspaper Round My Head\" (F. Zappa)\n",
      "\n"
     ]
    },
    {
     "name": "stdout",
     "output_type": "stream",
     "text": [
      "Note that major changes are planned in future for trjconv, to improve usability and utility.\n",
      "Select group for output\n",
      "Selected 0: 'System'\n"
     ]
    },
    {
     "name": "stderr",
     "output_type": "stream",
     "text": [
      "                 :-) GROMACS - gmx trjconv, 2020.2-MODIFIED (-:\n",
      "\n",
      "                            GROMACS is written by:\n",
      "     Emile Apol      Rossen Apostolov      Paul Bauer     Herman J.C. Berendsen\n",
      "    Par Bjelkmar      Christian Blau   Viacheslav Bolnykh     Kevin Boyd    \n",
      " Aldert van Buuren   Rudi van Drunen     Anton Feenstra       Alan Gray     \n",
      "  Gerrit Groenhof     Anca Hamuraru    Vincent Hindriksen  M. Eric Irrgang  \n",
      "  Aleksei Iupinov   Christoph Junghans     Joe Jordan     Dimitrios Karkoulis\n",
      "    Peter Kasson        Jiri Kraus      Carsten Kutzner      Per Larsson    \n",
      "  Justin A. Lemkul    Viveca Lindahl    Magnus Lundborg     Erik Marklund   \n",
      "    Pascal Merz     Pieter Meulenhoff    Teemu Murtola       Szilard Pall   \n",
      "    Sander Pronk      Roland Schulz      Michael Shirts    Alexey Shvetsov  \n",
      "   Alfons Sijbers     Peter Tieleman      Jon Vincent      Teemu Virolainen \n",
      " Christian Wennberg    Maarten Wolf      Artem Zhmurov   \n",
      "                           and the project leaders:\n",
      "        Mark Abraham, Berk Hess, Erik Lindahl, and David van der Spoel\n",
      "\n",
      "Copyright (c) 1991-2000, University of Groningen, The Netherlands.\n",
      "Copyright (c) 2001-2019, The GROMACS development team at\n",
      "Uppsala University, Stockholm University and\n",
      "the Royal Institute of Technology, Sweden.\n",
      "check out http://www.gromacs.org for more information.\n",
      "\n",
      "GROMACS is free software; you can redistribute it and/or modify it\n",
      "under the terms of the GNU Lesser General Public License\n",
      "as published by the Free Software Foundation; either version 2.1\n",
      "of the License, or (at your option) any later version.\n",
      "\n",
      "GROMACS:      gmx trjconv, version 2020.2-MODIFIED\n",
      "Executable:   /jet/packages/spack/opt/spack/linux-centos8-zen2/gcc-10.2.0/gromacs-2020.2-xfnb3dvyae7ktyfp3kq63xgdxx5c45en/bin/gmx_mpi\n",
      "Data prefix:  /jet/packages/spack/opt/spack/linux-centos8-zen2/gcc-10.2.0/gromacs-2020.2-xfnb3dvyae7ktyfp3kq63xgdxx5c45en\n",
      "Working dir:  /ocean/projects/cts160011p/wehs7661/3rd_workshop_advanced_sampling/Wednesday/Exercise_2\n",
      "Command line:\n",
      "  gmx_mpi trjconv -s pull/pull.tpr -f pull/pull.xtc -dump 168.9 -o sim_7/NaCl_7.gro\n",
      "\n",
      "Will write gro: Coordinate file in Gromos-87 format\n",
      "Reading file pull/pull.tpr, VERSION 2020.2-MODIFIED (single precision)\n",
      "Reading file pull/pull.tpr, VERSION 2020.2-MODIFIED (single precision)\n",
      "Group     0 (         System) has   323 elements\n",
      "Group     1 (          Water) has   321 elements\n",
      "Group     2 (            SOL) has   321 elements\n",
      "Group     3 (      non-Water) has     2 elements\n",
      "Group     4 (            Ion) has     2 elements\n",
      "Group     5 (             NA) has     1 elements\n",
      "Group     6 (             CL) has     1 elements\n",
      "Group     7 ( Water_and_ions) has   323 elements\n",
      "Select a group: \r",
      "Reading frame       0 time    0.000   \n",
      "Precision of pull/pull.xtc is 0.001 (nm)\n",
      "\r",
      "Reading frame       1 time    0.100   \r",
      "Reading frame       0 time    0.000   \r",
      "Reading frame       1 time    0.100   \r",
      "Reading frame       2 time    0.200   \r",
      "Reading frame       3 time    0.300   \r",
      "Reading frame       4 time    0.400   \r",
      "Reading frame       5 time    0.500   \r",
      "Reading frame       6 time    0.600   \r",
      "Reading frame       7 time    0.700   \r",
      "Reading frame       8 time    0.800   \r",
      "Reading frame       9 time    0.900   \r",
      "Reading frame      10 time    1.000   \r",
      "Reading frame      11 time    1.100   \r",
      "Reading frame      12 time    1.200   \r",
      "Reading frame      13 time    1.300   \r",
      "Reading frame      14 time    1.400   \r",
      "Reading frame      15 time    1.500   \r",
      "Reading frame      16 time    1.600   \r",
      "Reading frame      17 time    1.700   \r",
      "Reading frame      18 time    1.800   \r",
      "Reading frame      19 time    1.900   \r",
      "Reading frame      20 time    2.000   \r",
      "Reading frame      30 time    3.000   \r",
      "Reading frame      40 time    4.000   \r",
      "Reading frame      50 time    5.000   \r",
      "Reading frame      60 time    6.000   \r",
      "Reading frame      70 time    7.000   \r",
      "Reading frame      80 time    8.000   \r",
      "Reading frame      90 time    9.000   \r",
      "Reading frame     100 time   10.000   \r",
      "Reading frame     110 time   11.000   \r",
      "Reading frame     120 time   12.000   \r",
      "Reading frame     130 time   13.000   \r",
      "Reading frame     140 time   14.000   \r",
      "Reading frame     150 time   15.000   \r",
      "Reading frame     160 time   16.000   \r",
      "Reading frame     170 time   17.000   \r",
      "Reading frame     180 time   18.000   \r",
      "Reading frame     190 time   19.000   \r",
      "Reading frame     200 time   20.000   \r",
      "Reading frame     300 time   30.000   \r",
      "Reading frame     400 time   40.000   \r",
      "Reading frame     500 time   50.000   \r",
      "Reading frame     600 time   60.000   \r",
      "Reading frame     700 time   70.000   \r",
      "Reading frame     800 time   80.000   \r",
      "Reading frame     900 time   90.000   \r",
      "Reading frame    1000 time  100.000   \r",
      "Reading frame    1100 time  110.000   \r",
      "Reading frame    1200 time  120.000   \r",
      "Reading frame    1300 time  130.000   \r",
      "Reading frame    1400 time  140.000   \r",
      "Reading frame    1500 time  150.000   \r",
      "Reading frame    1600 time  160.000   \n",
      "Dumping frame at t= 168.9 ps\n",
      " ->  frame      0 time  168.900      \r\n",
      "\n",
      "GROMACS reminds you: \"We haven't the money, so we've got to think.\" (Ernest Rutherford)\n",
      "\n"
     ]
    },
    {
     "name": "stdout",
     "output_type": "stream",
     "text": [
      "Note that major changes are planned in future for trjconv, to improve usability and utility.\n",
      "Select group for output\n",
      "Selected 0: 'System'\n",
      "Note that major changes are planned in future for trjconv, to improve usability and utility.\n",
      "Select group for output\n",
      "Selected 0: 'System'\n"
     ]
    },
    {
     "name": "stderr",
     "output_type": "stream",
     "text": [
      "                 :-) GROMACS - gmx trjconv, 2020.2-MODIFIED (-:\n",
      "\n",
      "                            GROMACS is written by:\n",
      "     Emile Apol      Rossen Apostolov      Paul Bauer     Herman J.C. Berendsen\n",
      "    Par Bjelkmar      Christian Blau   Viacheslav Bolnykh     Kevin Boyd    \n",
      " Aldert van Buuren   Rudi van Drunen     Anton Feenstra       Alan Gray     \n",
      "  Gerrit Groenhof     Anca Hamuraru    Vincent Hindriksen  M. Eric Irrgang  \n",
      "  Aleksei Iupinov   Christoph Junghans     Joe Jordan     Dimitrios Karkoulis\n",
      "    Peter Kasson        Jiri Kraus      Carsten Kutzner      Per Larsson    \n",
      "  Justin A. Lemkul    Viveca Lindahl    Magnus Lundborg     Erik Marklund   \n",
      "    Pascal Merz     Pieter Meulenhoff    Teemu Murtola       Szilard Pall   \n",
      "    Sander Pronk      Roland Schulz      Michael Shirts    Alexey Shvetsov  \n",
      "   Alfons Sijbers     Peter Tieleman      Jon Vincent      Teemu Virolainen \n",
      " Christian Wennberg    Maarten Wolf      Artem Zhmurov   \n",
      "                           and the project leaders:\n",
      "        Mark Abraham, Berk Hess, Erik Lindahl, and David van der Spoel\n",
      "\n",
      "Copyright (c) 1991-2000, University of Groningen, The Netherlands.\n",
      "Copyright (c) 2001-2019, The GROMACS development team at\n",
      "Uppsala University, Stockholm University and\n",
      "the Royal Institute of Technology, Sweden.\n",
      "check out http://www.gromacs.org for more information.\n",
      "\n",
      "GROMACS is free software; you can redistribute it and/or modify it\n",
      "under the terms of the GNU Lesser General Public License\n",
      "as published by the Free Software Foundation; either version 2.1\n",
      "of the License, or (at your option) any later version.\n",
      "\n",
      "GROMACS:      gmx trjconv, version 2020.2-MODIFIED\n",
      "Executable:   /jet/packages/spack/opt/spack/linux-centos8-zen2/gcc-10.2.0/gromacs-2020.2-xfnb3dvyae7ktyfp3kq63xgdxx5c45en/bin/gmx_mpi\n",
      "Data prefix:  /jet/packages/spack/opt/spack/linux-centos8-zen2/gcc-10.2.0/gromacs-2020.2-xfnb3dvyae7ktyfp3kq63xgdxx5c45en\n",
      "Working dir:  /ocean/projects/cts160011p/wehs7661/3rd_workshop_advanced_sampling/Wednesday/Exercise_2\n",
      "Command line:\n",
      "  gmx_mpi trjconv -s pull/pull.tpr -f pull/pull.xtc -dump 228.8 -o sim_8/NaCl_8.gro\n",
      "\n",
      "Will write gro: Coordinate file in Gromos-87 format\n",
      "Reading file pull/pull.tpr, VERSION 2020.2-MODIFIED (single precision)\n",
      "Reading file pull/pull.tpr, VERSION 2020.2-MODIFIED (single precision)\n",
      "Group     0 (         System) has   323 elements\n",
      "Group     1 (          Water) has   321 elements\n",
      "Group     2 (            SOL) has   321 elements\n",
      "Group     3 (      non-Water) has     2 elements\n",
      "Group     4 (            Ion) has     2 elements\n",
      "Group     5 (             NA) has     1 elements\n",
      "Group     6 (             CL) has     1 elements\n",
      "Group     7 ( Water_and_ions) has   323 elements\n",
      "Select a group: \r",
      "Reading frame       0 time    0.000   \n",
      "Precision of pull/pull.xtc is 0.001 (nm)\n",
      "\r",
      "Reading frame       1 time    0.100   \r",
      "Reading frame       0 time    0.000   \r",
      "Reading frame       1 time    0.100   \r",
      "Reading frame       2 time    0.200   \r",
      "Reading frame       3 time    0.300   \r",
      "Reading frame       4 time    0.400   \r",
      "Reading frame       5 time    0.500   \r",
      "Reading frame       6 time    0.600   \r",
      "Reading frame       7 time    0.700   \r",
      "Reading frame       8 time    0.800   \r",
      "Reading frame       9 time    0.900   \r",
      "Reading frame      10 time    1.000   \r",
      "Reading frame      11 time    1.100   \r",
      "Reading frame      12 time    1.200   \r",
      "Reading frame      13 time    1.300   \r",
      "Reading frame      14 time    1.400   \r",
      "Reading frame      15 time    1.500   \r",
      "Reading frame      16 time    1.600   \r",
      "Reading frame      17 time    1.700   \r",
      "Reading frame      18 time    1.800   \r",
      "Reading frame      19 time    1.900   \r",
      "Reading frame      20 time    2.000   \r",
      "Reading frame      30 time    3.000   \r",
      "Reading frame      40 time    4.000   \r",
      "Reading frame      50 time    5.000   \r",
      "Reading frame      60 time    6.000   \r",
      "Reading frame      70 time    7.000   \r",
      "Reading frame      80 time    8.000   \r",
      "Reading frame      90 time    9.000   \r",
      "Reading frame     100 time   10.000   \r",
      "Reading frame     110 time   11.000   \r",
      "Reading frame     120 time   12.000   \r",
      "Reading frame     130 time   13.000   \r",
      "Reading frame     140 time   14.000   \r",
      "Reading frame     150 time   15.000   \r",
      "Reading frame     160 time   16.000   \r",
      "Reading frame     170 time   17.000   \r",
      "Reading frame     180 time   18.000   \r",
      "Reading frame     190 time   19.000   \r",
      "Reading frame     200 time   20.000   \r",
      "Reading frame     300 time   30.000   \r",
      "Reading frame     400 time   40.000   \r",
      "Reading frame     500 time   50.000   \r",
      "Reading frame     600 time   60.000   \r",
      "Reading frame     700 time   70.000   \r",
      "Reading frame     800 time   80.000   \r",
      "Reading frame     900 time   90.000   \r",
      "Reading frame    1000 time  100.000   \r",
      "Reading frame    1100 time  110.000   \r",
      "Reading frame    1200 time  120.000   \r",
      "Reading frame    1300 time  130.000   \r",
      "Reading frame    1400 time  140.000   \r",
      "Reading frame    1500 time  150.000   \r",
      "Reading frame    1600 time  160.000   \r",
      "Reading frame    1700 time  170.000   \r",
      "Reading frame    1800 time  180.000   \r",
      "Reading frame    1900 time  190.000   \r",
      "Reading frame    2000 time  200.000   \n",
      "Dumping frame at t= 228.8 ps\n",
      " ->  frame      0 time  228.800      \r\n",
      "\n",
      "GROMACS reminds you: \"The physical chemists never use their eyes and are most lamentably lacking in chemical culture. It is essential to cast out from our midst, root and branch, this physical element and return to our laboratories.\" (Henry Edward Armstrong)\n",
      "\n"
     ]
    }
   ],
   "source": [
    "import os\n",
    "for i in range(len(t_extract)):\n",
    "    os.mkdir(f'sim_{i + 1}')\n",
    "    os.system(f'module load gromacs/2020.2-cpu openmpi/4.0.5-gcc10.2.0 && echo System | mpirun -np 1 gmx_mpi trjconv -s pull/pull.tpr -f pull/pull.xtc -dump {t_extract[i]} -o sim_{i + 1}/NaCl_{i + 1}.gro')"
   ]
  },
  {
   "cell_type": "markdown",
   "id": "fc7c7da2",
   "metadata": {
    "slideshow": {
     "slide_type": "slide"
    }
   },
   "source": [
    "The cell above prepare the GRO files for the production runs. Now, we prepare the `mdp` file `NaCl_umbrella.mdp` that will be copied over to each simulation folder. Compared to the `mdp` file we used for the pulling simulation, `NaCl_umbrella.mdp` has the following 3 changes:\n",
    "- The simulation lenght is 500 ps instead of 300 ps. \n",
    "- The pulling rate is set as 0.\n",
    "- The force constant is set as 8000 instead of 1000 $\\mathrm{kJ/mol/nm^2}$."
   ]
  },
  {
   "cell_type": "code",
   "execution_count": 13,
   "id": "4c3d4556",
   "metadata": {
    "slideshow": {
     "slide_type": "fragment"
    }
   },
   "outputs": [
    {
     "name": "stdout",
     "output_type": "stream",
     "text": [
      "\n",
      "define=-DPOSRES_NA\n",
      "integrator = md \n",
      "dt = 0.002\n",
      "nsteps = 250000\n",
      "cutoff-scheme = Verlet\n",
      "coulombtype = PME\n",
      "rlist = 0.6\n",
      "rcoulomb = 0.6\n",
      "rvdw = 0.6\n",
      "constraints = h-bonds\n",
      "tcoupl =  V-rescale\n",
      "ref_t = 300\n",
      "tau-t = 1.0\n",
      "tc-grps = System\n",
      "gen-vel = yes\n",
      "gen-temp = 300\n",
      "gen-seed = -1 \n",
      "compressibility = 4.5e-5\n",
      "nstxout-compressed = 50\n",
      "nstxout = 50000\n",
      "nstvout = 50000\n",
      "\n",
      "\n",
      "; Pull code\n",
      "pull = yes\n",
      "pull-ncoords = 1                  ; Here we only have 1 CV.\n",
      "pull-ngroups = 2                  ; We have 2 groups (one immobile/reference group and one pull group).\n",
      "pull-group1-name = NA             ; index 1\n",
      "pull-group2-name = CL             ; index 2\n",
      "pull-coord1-groups = 1 2          ; groups with indices 1 (NA) and 2 (CL) are involved\n",
      "pull-coord1-type = umbrella       ; harmonic potential\n",
      "pull-coord1-geometry = distance   ; simple distance increase\n",
      "pull-coord1-dim = Y Y Y           ; We allow pulling from any directions.\n",
      "pull-coord1-start = yes           ; We start the pulling with the initial ion-pair distance.\n",
      "pull-coord1-rate = 0\n",
      "pull-coord1-k = 8000\n",
      "\n"
     ]
    }
   ],
   "source": [
    "%%bash\n",
    "cp pull/NaCl_pull.mdp NaCl_umbrella.mdp\n",
    "sed -i -e \"s/nsteps = 125000/nsteps = 250000/g\" NaCl_umbrella.mdp  # simulation length: 500 ps for each umbrella\n",
    "sed -i -e \"s/pull-coord1-rate = 0.0010         ; 0.0010 nm\\/ps -> the pull distance in the 250 ps-simulation is 0.25 nm./pull-coord1-rate = 0/g\" NaCl_umbrella.mdp\n",
    "sed -i -e \"s/pull-coord1-k = 1000              ; units: kJ\\/mol\\/nm^2/pull-coord1-k = 8000/g\" NaCl_umbrella.mdp\n",
    "cat NaCl_umbrella.mdp"
   ]
  },
  {
   "cell_type": "markdown",
   "id": "8962f7b3",
   "metadata": {
    "slideshow": {
     "slide_type": "slide"
    }
   },
   "source": [
    "Now, we can generate a `tpr` file for each of the simulations. Here, we will use the same `top` file we used in the pulling simulation. "
   ]
  },
  {
   "cell_type": "code",
   "execution_count": 14,
   "id": "146b6456",
   "metadata": {
    "slideshow": {
     "slide_type": "fragment"
    }
   },
   "outputs": [
    {
     "name": "stderr",
     "output_type": "stream",
     "text": [
      "                 :-) GROMACS - gmx grompp, 2020.2-MODIFIED (-:\n",
      "\n",
      "                            GROMACS is written by:\n",
      "     Emile Apol      Rossen Apostolov      Paul Bauer     Herman J.C. Berendsen\n",
      "    Par Bjelkmar      Christian Blau   Viacheslav Bolnykh     Kevin Boyd    \n",
      " Aldert van Buuren   Rudi van Drunen     Anton Feenstra       Alan Gray     \n",
      "  Gerrit Groenhof     Anca Hamuraru    Vincent Hindriksen  M. Eric Irrgang  \n",
      "  Aleksei Iupinov   Christoph Junghans     Joe Jordan     Dimitrios Karkoulis\n",
      "    Peter Kasson        Jiri Kraus      Carsten Kutzner      Per Larsson    \n",
      "  Justin A. Lemkul    Viveca Lindahl    Magnus Lundborg     Erik Marklund   \n",
      "    Pascal Merz     Pieter Meulenhoff    Teemu Murtola       Szilard Pall   \n",
      "    Sander Pronk      Roland Schulz      Michael Shirts    Alexey Shvetsov  \n",
      "   Alfons Sijbers     Peter Tieleman      Jon Vincent      Teemu Virolainen \n",
      " Christian Wennberg    Maarten Wolf      Artem Zhmurov   \n",
      "                           and the project leaders:\n",
      "        Mark Abraham, Berk Hess, Erik Lindahl, and David van der Spoel\n",
      "\n",
      "Copyright (c) 1991-2000, University of Groningen, The Netherlands.\n",
      "Copyright (c) 2001-2019, The GROMACS development team at\n",
      "Uppsala University, Stockholm University and\n",
      "the Royal Institute of Technology, Sweden.\n",
      "check out http://www.gromacs.org for more information.\n",
      "\n",
      "GROMACS is free software; you can redistribute it and/or modify it\n",
      "under the terms of the GNU Lesser General Public License\n",
      "as published by the Free Software Foundation; either version 2.1\n",
      "of the License, or (at your option) any later version.\n",
      "\n",
      "GROMACS:      gmx grompp, version 2020.2-MODIFIED\n",
      "Executable:   /jet/packages/spack/opt/spack/linux-centos8-zen2/gcc-10.2.0/gromacs-2020.2-xfnb3dvyae7ktyfp3kq63xgdxx5c45en/bin/gmx_mpi\n",
      "Data prefix:  /jet/packages/spack/opt/spack/linux-centos8-zen2/gcc-10.2.0/gromacs-2020.2-xfnb3dvyae7ktyfp3kq63xgdxx5c45en\n",
      "Working dir:  /ocean/projects/cts160011p/wehs7661/3rd_workshop_advanced_sampling/Wednesday/Exercise_2/sim_1\n",
      "Command line:\n",
      "  gmx_mpi grompp -f NaCl_umbrella.mdp -c NaCl_1.gro -r NaCl_1.gro -p NaCl_US.top -o NaCl_US.tpr -maxwarn 1\n",
      "\n",
      "Setting the LD random seed to -434808759\n",
      "Generated 330891 of the 330891 non-bonded parameter combinations\n",
      "Generating 1-4 interactions: fudge = 0.5\n",
      "Generated 330891 of the 330891 1-4 parameter combinations\n",
      "Excluding 2 bonded neighbours molecule type 'SOL'\n"
     ]
    },
    {
     "name": "stdout",
     "output_type": "stream",
     "text": [
      "turning H bonds into constraints...\n",
      "turning H bonds into constraints...\n",
      "turning H bonds into constraints...\n"
     ]
    },
    {
     "name": "stderr",
     "output_type": "stream",
     "text": [
      "Excluding 1 bonded neighbours molecule type 'NA'\n",
      "Excluding 1 bonded neighbours molecule type 'CL'\n",
      "Setting gen_seed to -1093319953\n",
      "Velocities were taken from a Maxwell distribution at 300 K\n"
     ]
    },
    {
     "name": "stdout",
     "output_type": "stream",
     "text": [
      "Analysing residue names:\n",
      "There are:   107      Water residues\n",
      "There are:     2        Ion residues\n",
      "Analysing residues not classified as Protein/DNA/RNA/Water and splitting into groups...\n",
      "Determining Verlet buffer for a tolerance of 0.005 kJ/mol/ps at 300 K\n",
      "Calculated rlist for 1x1 atom pair-list as 0.638 nm, buffer size 0.038 nm\n",
      "Set rlist, assuming 4x4 atom pair-list, to 0.607 nm, buffer size 0.007 nm\n",
      "Note that mdrun will redetermine rlist based on the actual pair-list setup\n",
      "Calculating fourier grid dimensions for X Y Z\n",
      "Using a fourier grid of 14x14x14, spacing 0.106 0.106 0.106\n",
      "This run will generate roughly 9 Mb of data\n"
     ]
    },
    {
     "name": "stderr",
     "output_type": "stream",
     "text": [
      "Pull group 1 'NA' has 1 atoms\n",
      "Pull group 2 'CL' has 1 atoms\n",
      "Number of degrees of freedom in T-Coupling group System is 645.00\n",
      "\n",
      "NOTE 1 [file NaCl_umbrella.mdp]:\n",
      "  Removing center of mass motion in the presence of position restraints\n",
      "  might cause artifacts. When you are using position restraints to\n",
      "  equilibrate a macro-molecule, the artifacts are usually negligible.\n",
      "\n",
      "Pull group  natoms  pbc atom  distance at start  reference at t=0\n",
      "       1         1         0\n",
      "       2         1         0       0.253 nm          0.253 nm\n",
      "Estimate for the relative computational load of the PME mesh part: 0.51\n",
      "\n",
      "NOTE 2 [file NaCl_umbrella.mdp]:\n",
      "  The optimal PME mesh load for parallel simulations is below 0.5\n",
      "  and for highly parallel simulations between 0.25 and 0.33,\n",
      "  for higher performance, increase the cut-off and the PME grid spacing.\n",
      "\n",
      "\n",
      "\n",
      "There were 2 notes\n",
      "\n",
      "GROMACS reminds you: \"NASA spent millions of dollars inventing the ball-point pen so they could write in space. The Russians took a pencil.\" (Will Chabot)\n",
      "\n",
      "                 :-) GROMACS - gmx grompp, 2020.2-MODIFIED (-:\n",
      "\n",
      "                            GROMACS is written by:\n",
      "     Emile Apol      Rossen Apostolov      Paul Bauer     Herman J.C. Berendsen\n",
      "    Par Bjelkmar      Christian Blau   Viacheslav Bolnykh     Kevin Boyd    \n",
      " Aldert van Buuren   Rudi van Drunen     Anton Feenstra       Alan Gray     \n",
      "  Gerrit Groenhof     Anca Hamuraru    Vincent Hindriksen  M. Eric Irrgang  \n",
      "  Aleksei Iupinov   Christoph Junghans     Joe Jordan     Dimitrios Karkoulis\n",
      "    Peter Kasson        Jiri Kraus      Carsten Kutzner      Per Larsson    \n",
      "  Justin A. Lemkul    Viveca Lindahl    Magnus Lundborg     Erik Marklund   \n",
      "    Pascal Merz     Pieter Meulenhoff    Teemu Murtola       Szilard Pall   \n",
      "    Sander Pronk      Roland Schulz      Michael Shirts    Alexey Shvetsov  \n",
      "   Alfons Sijbers     Peter Tieleman      Jon Vincent      Teemu Virolainen \n",
      " Christian Wennberg    Maarten Wolf      Artem Zhmurov   \n",
      "                           and the project leaders:\n",
      "        Mark Abraham, Berk Hess, Erik Lindahl, and David van der Spoel\n",
      "\n",
      "Copyright (c) 1991-2000, University of Groningen, The Netherlands.\n",
      "Copyright (c) 2001-2019, The GROMACS development team at\n",
      "Uppsala University, Stockholm University and\n",
      "the Royal Institute of Technology, Sweden.\n",
      "check out http://www.gromacs.org for more information.\n",
      "\n",
      "GROMACS is free software; you can redistribute it and/or modify it\n",
      "under the terms of the GNU Lesser General Public License\n",
      "as published by the Free Software Foundation; either version 2.1\n",
      "of the License, or (at your option) any later version.\n",
      "\n",
      "GROMACS:      gmx grompp, version 2020.2-MODIFIED\n",
      "Executable:   /jet/packages/spack/opt/spack/linux-centos8-zen2/gcc-10.2.0/gromacs-2020.2-xfnb3dvyae7ktyfp3kq63xgdxx5c45en/bin/gmx_mpi\n",
      "Data prefix:  /jet/packages/spack/opt/spack/linux-centos8-zen2/gcc-10.2.0/gromacs-2020.2-xfnb3dvyae7ktyfp3kq63xgdxx5c45en\n",
      "Working dir:  /ocean/projects/cts160011p/wehs7661/3rd_workshop_advanced_sampling/Wednesday/Exercise_2/sim_2\n",
      "Command line:\n",
      "  gmx_mpi grompp -f NaCl_umbrella.mdp -c NaCl_2.gro -r NaCl_2.gro -p NaCl_US.top -o NaCl_US.tpr -maxwarn 1\n",
      "\n",
      "Setting the LD random seed to -477755939\n",
      "Generated 330891 of the 330891 non-bonded parameter combinations\n",
      "Generating 1-4 interactions: fudge = 0.5\n",
      "Generated 330891 of the 330891 1-4 parameter combinations\n",
      "Excluding 2 bonded neighbours molecule type 'SOL'\n"
     ]
    },
    {
     "name": "stdout",
     "output_type": "stream",
     "text": [
      "turning H bonds into constraints...\n",
      "turning H bonds into constraints...\n",
      "turning H bonds into constraints...\n"
     ]
    },
    {
     "name": "stderr",
     "output_type": "stream",
     "text": [
      "Excluding 1 bonded neighbours molecule type 'NA'\n",
      "Excluding 1 bonded neighbours molecule type 'CL'\n",
      "Setting gen_seed to 431973221\n",
      "Velocities were taken from a Maxwell distribution at 300 K\n"
     ]
    },
    {
     "name": "stdout",
     "output_type": "stream",
     "text": [
      "Analysing residue names:\n",
      "There are:   107      Water residues\n",
      "There are:     2        Ion residues\n",
      "Analysing residues not classified as Protein/DNA/RNA/Water and splitting into groups...\n",
      "Determining Verlet buffer for a tolerance of 0.005 kJ/mol/ps at 300 K\n",
      "Calculated rlist for 1x1 atom pair-list as 0.638 nm, buffer size 0.038 nm\n",
      "Set rlist, assuming 4x4 atom pair-list, to 0.607 nm, buffer size 0.007 nm\n",
      "Note that mdrun will redetermine rlist based on the actual pair-list setup\n",
      "Calculating fourier grid dimensions for X Y Z\n",
      "Using a fourier grid of 14x14x14, spacing 0.106 0.106 0.106\n",
      "This run will generate roughly 9 Mb of data\n"
     ]
    },
    {
     "name": "stderr",
     "output_type": "stream",
     "text": [
      "Pull group 1 'NA' has 1 atoms\n",
      "Pull group 2 'CL' has 1 atoms\n",
      "Number of degrees of freedom in T-Coupling group System is 645.00\n",
      "\n",
      "NOTE 1 [file NaCl_umbrella.mdp]:\n",
      "  Removing center of mass motion in the presence of position restraints\n",
      "  might cause artifacts. When you are using position restraints to\n",
      "  equilibrate a macro-molecule, the artifacts are usually negligible.\n",
      "\n",
      "Pull group  natoms  pbc atom  distance at start  reference at t=0\n",
      "       1         1         0\n",
      "       2         1         0       0.302 nm          0.302 nm\n",
      "Estimate for the relative computational load of the PME mesh part: 0.51\n",
      "\n",
      "NOTE 2 [file NaCl_umbrella.mdp]:\n",
      "  The optimal PME mesh load for parallel simulations is below 0.5\n",
      "  and for highly parallel simulations between 0.25 and 0.33,\n",
      "  for higher performance, increase the cut-off and the PME grid spacing.\n",
      "\n",
      "\n",
      "\n",
      "There were 2 notes\n",
      "\n",
      "GROMACS reminds you: \"I'm An Oakman\" (Pulp Fiction)\n",
      "\n",
      "                 :-) GROMACS - gmx grompp, 2020.2-MODIFIED (-:\n",
      "\n",
      "                            GROMACS is written by:\n",
      "     Emile Apol      Rossen Apostolov      Paul Bauer     Herman J.C. Berendsen\n",
      "    Par Bjelkmar      Christian Blau   Viacheslav Bolnykh     Kevin Boyd    \n",
      " Aldert van Buuren   Rudi van Drunen     Anton Feenstra       Alan Gray     \n",
      "  Gerrit Groenhof     Anca Hamuraru    Vincent Hindriksen  M. Eric Irrgang  \n",
      "  Aleksei Iupinov   Christoph Junghans     Joe Jordan     Dimitrios Karkoulis\n",
      "    Peter Kasson        Jiri Kraus      Carsten Kutzner      Per Larsson    \n",
      "  Justin A. Lemkul    Viveca Lindahl    Magnus Lundborg     Erik Marklund   \n",
      "    Pascal Merz     Pieter Meulenhoff    Teemu Murtola       Szilard Pall   \n",
      "    Sander Pronk      Roland Schulz      Michael Shirts    Alexey Shvetsov  \n",
      "   Alfons Sijbers     Peter Tieleman      Jon Vincent      Teemu Virolainen \n",
      " Christian Wennberg    Maarten Wolf      Artem Zhmurov   \n",
      "                           and the project leaders:\n",
      "        Mark Abraham, Berk Hess, Erik Lindahl, and David van der Spoel\n",
      "\n",
      "Copyright (c) 1991-2000, University of Groningen, The Netherlands.\n",
      "Copyright (c) 2001-2019, The GROMACS development team at\n",
      "Uppsala University, Stockholm University and\n",
      "the Royal Institute of Technology, Sweden.\n",
      "check out http://www.gromacs.org for more information.\n",
      "\n",
      "GROMACS is free software; you can redistribute it and/or modify it\n",
      "under the terms of the GNU Lesser General Public License\n",
      "as published by the Free Software Foundation; either version 2.1\n",
      "of the License, or (at your option) any later version.\n",
      "\n",
      "GROMACS:      gmx grompp, version 2020.2-MODIFIED\n",
      "Executable:   /jet/packages/spack/opt/spack/linux-centos8-zen2/gcc-10.2.0/gromacs-2020.2-xfnb3dvyae7ktyfp3kq63xgdxx5c45en/bin/gmx_mpi\n",
      "Data prefix:  /jet/packages/spack/opt/spack/linux-centos8-zen2/gcc-10.2.0/gromacs-2020.2-xfnb3dvyae7ktyfp3kq63xgdxx5c45en\n",
      "Working dir:  /ocean/projects/cts160011p/wehs7661/3rd_workshop_advanced_sampling/Wednesday/Exercise_2/sim_3\n",
      "Command line:\n",
      "  gmx_mpi grompp -f NaCl_umbrella.mdp -c NaCl_3.gro -r NaCl_3.gro -p NaCl_US.top -o NaCl_US.tpr -maxwarn 1\n",
      "\n",
      "Setting the LD random seed to -260241992\n",
      "Generated 330891 of the 330891 non-bonded parameter combinations\n",
      "Generating 1-4 interactions: fudge = 0.5\n",
      "Generated 330891 of the 330891 1-4 parameter combinations\n",
      "Excluding 2 bonded neighbours molecule type 'SOL'\n"
     ]
    },
    {
     "name": "stdout",
     "output_type": "stream",
     "text": [
      "turning H bonds into constraints...\n",
      "turning H bonds into constraints...\n",
      "turning H bonds into constraints...\n"
     ]
    },
    {
     "name": "stderr",
     "output_type": "stream",
     "text": [
      "Excluding 1 bonded neighbours molecule type 'NA'\n",
      "Excluding 1 bonded neighbours molecule type 'CL'\n",
      "Setting gen_seed to -977229675\n",
      "Velocities were taken from a Maxwell distribution at 300 K\n"
     ]
    },
    {
     "name": "stdout",
     "output_type": "stream",
     "text": [
      "Analysing residue names:\n",
      "There are:   107      Water residues\n",
      "There are:     2        Ion residues\n",
      "Analysing residues not classified as Protein/DNA/RNA/Water and splitting into groups...\n",
      "Determining Verlet buffer for a tolerance of 0.005 kJ/mol/ps at 300 K\n",
      "Calculated rlist for 1x1 atom pair-list as 0.638 nm, buffer size 0.038 nm\n",
      "Set rlist, assuming 4x4 atom pair-list, to 0.607 nm, buffer size 0.007 nm\n",
      "Note that mdrun will redetermine rlist based on the actual pair-list setup\n",
      "Calculating fourier grid dimensions for X Y Z\n",
      "Using a fourier grid of 14x14x14, spacing 0.106 0.106 0.106\n",
      "This run will generate roughly 9 Mb of data\n"
     ]
    },
    {
     "name": "stderr",
     "output_type": "stream",
     "text": [
      "Pull group 1 'NA' has 1 atoms\n",
      "Pull group 2 'CL' has 1 atoms\n",
      "Number of degrees of freedom in T-Coupling group System is 645.00\n",
      "\n",
      "NOTE 1 [file NaCl_umbrella.mdp]:\n",
      "  Removing center of mass motion in the presence of position restraints\n",
      "  might cause artifacts. When you are using position restraints to\n",
      "  equilibrate a macro-molecule, the artifacts are usually negligible.\n",
      "\n",
      "Pull group  natoms  pbc atom  distance at start  reference at t=0\n",
      "       1         1         0\n",
      "       2         1         0       0.351 nm          0.351 nm\n",
      "Estimate for the relative computational load of the PME mesh part: 0.51\n",
      "\n",
      "NOTE 2 [file NaCl_umbrella.mdp]:\n",
      "  The optimal PME mesh load for parallel simulations is below 0.5\n",
      "  and for highly parallel simulations between 0.25 and 0.33,\n",
      "  for higher performance, increase the cut-off and the PME grid spacing.\n",
      "\n",
      "\n",
      "\n",
      "There were 2 notes\n",
      "\n",
      "GROMACS reminds you: \"It's Calling Me to Break my Bonds, Again...\" (Van der Graaf)\n",
      "\n",
      "                 :-) GROMACS - gmx grompp, 2020.2-MODIFIED (-:\n",
      "\n",
      "                            GROMACS is written by:\n",
      "     Emile Apol      Rossen Apostolov      Paul Bauer     Herman J.C. Berendsen\n",
      "    Par Bjelkmar      Christian Blau   Viacheslav Bolnykh     Kevin Boyd    \n",
      " Aldert van Buuren   Rudi van Drunen     Anton Feenstra       Alan Gray     \n",
      "  Gerrit Groenhof     Anca Hamuraru    Vincent Hindriksen  M. Eric Irrgang  \n",
      "  Aleksei Iupinov   Christoph Junghans     Joe Jordan     Dimitrios Karkoulis\n",
      "    Peter Kasson        Jiri Kraus      Carsten Kutzner      Per Larsson    \n",
      "  Justin A. Lemkul    Viveca Lindahl    Magnus Lundborg     Erik Marklund   \n",
      "    Pascal Merz     Pieter Meulenhoff    Teemu Murtola       Szilard Pall   \n",
      "    Sander Pronk      Roland Schulz      Michael Shirts    Alexey Shvetsov  \n",
      "   Alfons Sijbers     Peter Tieleman      Jon Vincent      Teemu Virolainen \n",
      " Christian Wennberg    Maarten Wolf      Artem Zhmurov   \n",
      "                           and the project leaders:\n",
      "        Mark Abraham, Berk Hess, Erik Lindahl, and David van der Spoel\n",
      "\n",
      "Copyright (c) 1991-2000, University of Groningen, The Netherlands.\n",
      "Copyright (c) 2001-2019, The GROMACS development team at\n",
      "Uppsala University, Stockholm University and\n",
      "the Royal Institute of Technology, Sweden.\n",
      "check out http://www.gromacs.org for more information.\n",
      "\n",
      "GROMACS is free software; you can redistribute it and/or modify it\n",
      "under the terms of the GNU Lesser General Public License\n",
      "as published by the Free Software Foundation; either version 2.1\n",
      "of the License, or (at your option) any later version.\n",
      "\n",
      "GROMACS:      gmx grompp, version 2020.2-MODIFIED\n",
      "Executable:   /jet/packages/spack/opt/spack/linux-centos8-zen2/gcc-10.2.0/gromacs-2020.2-xfnb3dvyae7ktyfp3kq63xgdxx5c45en/bin/gmx_mpi\n",
      "Data prefix:  /jet/packages/spack/opt/spack/linux-centos8-zen2/gcc-10.2.0/gromacs-2020.2-xfnb3dvyae7ktyfp3kq63xgdxx5c45en\n",
      "Working dir:  /ocean/projects/cts160011p/wehs7661/3rd_workshop_advanced_sampling/Wednesday/Exercise_2/sim_4\n",
      "Command line:\n",
      "  gmx_mpi grompp -f NaCl_umbrella.mdp -c NaCl_4.gro -r NaCl_4.gro -p NaCl_US.top -o NaCl_US.tpr -maxwarn 1\n",
      "\n",
      "Setting the LD random seed to -858197674\n",
      "Generated 330891 of the 330891 non-bonded parameter combinations\n",
      "Generating 1-4 interactions: fudge = 0.5\n",
      "Generated 330891 of the 330891 1-4 parameter combinations\n",
      "Excluding 2 bonded neighbours molecule type 'SOL'\n"
     ]
    },
    {
     "name": "stdout",
     "output_type": "stream",
     "text": [
      "turning H bonds into constraints...\n",
      "turning H bonds into constraints...\n",
      "turning H bonds into constraints...\n"
     ]
    },
    {
     "name": "stderr",
     "output_type": "stream",
     "text": [
      "Excluding 1 bonded neighbours molecule type 'NA'\n",
      "Excluding 1 bonded neighbours molecule type 'CL'\n",
      "Setting gen_seed to -1405431744\n",
      "Velocities were taken from a Maxwell distribution at 300 K\n"
     ]
    },
    {
     "name": "stdout",
     "output_type": "stream",
     "text": [
      "Analysing residue names:\n",
      "There are:   107      Water residues\n",
      "There are:     2        Ion residues\n",
      "Analysing residues not classified as Protein/DNA/RNA/Water and splitting into groups...\n",
      "Determining Verlet buffer for a tolerance of 0.005 kJ/mol/ps at 300 K\n",
      "Calculated rlist for 1x1 atom pair-list as 0.638 nm, buffer size 0.038 nm\n",
      "Set rlist, assuming 4x4 atom pair-list, to 0.607 nm, buffer size 0.007 nm\n",
      "Note that mdrun will redetermine rlist based on the actual pair-list setup\n",
      "Calculating fourier grid dimensions for X Y Z\n",
      "Using a fourier grid of 14x14x14, spacing 0.106 0.106 0.106\n",
      "This run will generate roughly 9 Mb of data\n"
     ]
    },
    {
     "name": "stderr",
     "output_type": "stream",
     "text": [
      "Pull group 1 'NA' has 1 atoms\n",
      "Pull group 2 'CL' has 1 atoms\n",
      "Number of degrees of freedom in T-Coupling group System is 645.00\n",
      "\n",
      "NOTE 1 [file NaCl_umbrella.mdp]:\n",
      "  Removing center of mass motion in the presence of position restraints\n",
      "  might cause artifacts. When you are using position restraints to\n",
      "  equilibrate a macro-molecule, the artifacts are usually negligible.\n",
      "\n",
      "Pull group  natoms  pbc atom  distance at start  reference at t=0\n",
      "       1         1         0\n",
      "       2         1         0       0.401 nm          0.401 nm\n",
      "Estimate for the relative computational load of the PME mesh part: 0.51\n",
      "\n",
      "NOTE 2 [file NaCl_umbrella.mdp]:\n",
      "  The optimal PME mesh load for parallel simulations is below 0.5\n",
      "  and for highly parallel simulations between 0.25 and 0.33,\n",
      "  for higher performance, increase the cut-off and the PME grid spacing.\n",
      "\n",
      "\n",
      "\n",
      "There were 2 notes\n",
      "\n",
      "GROMACS reminds you: \"The most exciting phrase to hear in science, the one that heralds new discoveries, is not \"Eureka\" but \"That's funny...\".\" (Isaac Asimov)\n",
      "\n",
      "                 :-) GROMACS - gmx grompp, 2020.2-MODIFIED (-:\n",
      "\n",
      "                            GROMACS is written by:\n",
      "     Emile Apol      Rossen Apostolov      Paul Bauer     Herman J.C. Berendsen\n",
      "    Par Bjelkmar      Christian Blau   Viacheslav Bolnykh     Kevin Boyd    \n",
      " Aldert van Buuren   Rudi van Drunen     Anton Feenstra       Alan Gray     \n",
      "  Gerrit Groenhof     Anca Hamuraru    Vincent Hindriksen  M. Eric Irrgang  \n",
      "  Aleksei Iupinov   Christoph Junghans     Joe Jordan     Dimitrios Karkoulis\n",
      "    Peter Kasson        Jiri Kraus      Carsten Kutzner      Per Larsson    \n",
      "  Justin A. Lemkul    Viveca Lindahl    Magnus Lundborg     Erik Marklund   \n",
      "    Pascal Merz     Pieter Meulenhoff    Teemu Murtola       Szilard Pall   \n",
      "    Sander Pronk      Roland Schulz      Michael Shirts    Alexey Shvetsov  \n",
      "   Alfons Sijbers     Peter Tieleman      Jon Vincent      Teemu Virolainen \n",
      " Christian Wennberg    Maarten Wolf      Artem Zhmurov   \n",
      "                           and the project leaders:\n",
      "        Mark Abraham, Berk Hess, Erik Lindahl, and David van der Spoel\n",
      "\n",
      "Copyright (c) 1991-2000, University of Groningen, The Netherlands.\n",
      "Copyright (c) 2001-2019, The GROMACS development team at\n",
      "Uppsala University, Stockholm University and\n",
      "the Royal Institute of Technology, Sweden.\n",
      "check out http://www.gromacs.org for more information.\n",
      "\n",
      "GROMACS is free software; you can redistribute it and/or modify it\n",
      "under the terms of the GNU Lesser General Public License\n",
      "as published by the Free Software Foundation; either version 2.1\n",
      "of the License, or (at your option) any later version.\n",
      "\n",
      "GROMACS:      gmx grompp, version 2020.2-MODIFIED\n",
      "Executable:   /jet/packages/spack/opt/spack/linux-centos8-zen2/gcc-10.2.0/gromacs-2020.2-xfnb3dvyae7ktyfp3kq63xgdxx5c45en/bin/gmx_mpi\n",
      "Data prefix:  /jet/packages/spack/opt/spack/linux-centos8-zen2/gcc-10.2.0/gromacs-2020.2-xfnb3dvyae7ktyfp3kq63xgdxx5c45en\n",
      "Working dir:  /ocean/projects/cts160011p/wehs7661/3rd_workshop_advanced_sampling/Wednesday/Exercise_2/sim_5\n",
      "Command line:\n",
      "  gmx_mpi grompp -f NaCl_umbrella.mdp -c NaCl_5.gro -r NaCl_5.gro -p NaCl_US.top -o NaCl_US.tpr -maxwarn 1\n",
      "\n",
      "Setting the LD random seed to -1629983852\n",
      "Generated 330891 of the 330891 non-bonded parameter combinations\n",
      "Generating 1-4 interactions: fudge = 0.5\n",
      "Generated 330891 of the 330891 1-4 parameter combinations\n",
      "Excluding 2 bonded neighbours molecule type 'SOL'\n"
     ]
    },
    {
     "name": "stdout",
     "output_type": "stream",
     "text": [
      "turning H bonds into constraints...\n",
      "turning H bonds into constraints...\n",
      "turning H bonds into constraints...\n"
     ]
    },
    {
     "name": "stderr",
     "output_type": "stream",
     "text": [
      "Excluding 1 bonded neighbours molecule type 'NA'\n",
      "Excluding 1 bonded neighbours molecule type 'CL'\n",
      "Setting gen_seed to -572053548\n",
      "Velocities were taken from a Maxwell distribution at 300 K\n"
     ]
    },
    {
     "name": "stdout",
     "output_type": "stream",
     "text": [
      "Analysing residue names:\n",
      "There are:   107      Water residues\n",
      "There are:     2        Ion residues\n",
      "Analysing residues not classified as Protein/DNA/RNA/Water and splitting into groups...\n",
      "Determining Verlet buffer for a tolerance of 0.005 kJ/mol/ps at 300 K\n",
      "Calculated rlist for 1x1 atom pair-list as 0.638 nm, buffer size 0.038 nm\n",
      "Set rlist, assuming 4x4 atom pair-list, to 0.607 nm, buffer size 0.007 nm\n",
      "Note that mdrun will redetermine rlist based on the actual pair-list setup\n",
      "Calculating fourier grid dimensions for X Y Z\n",
      "Using a fourier grid of 14x14x14, spacing 0.106 0.106 0.106\n",
      "This run will generate roughly 9 Mb of data\n"
     ]
    },
    {
     "name": "stderr",
     "output_type": "stream",
     "text": [
      "Pull group 1 'NA' has 1 atoms\n",
      "Pull group 2 'CL' has 1 atoms\n",
      "Number of degrees of freedom in T-Coupling group System is 645.00\n",
      "\n",
      "NOTE 1 [file NaCl_umbrella.mdp]:\n",
      "  Removing center of mass motion in the presence of position restraints\n",
      "  might cause artifacts. When you are using position restraints to\n",
      "  equilibrate a macro-molecule, the artifacts are usually negligible.\n",
      "\n",
      "Pull group  natoms  pbc atom  distance at start  reference at t=0\n",
      "       1         1         0\n",
      "       2         1         0       0.451 nm          0.451 nm\n",
      "Estimate for the relative computational load of the PME mesh part: 0.51\n",
      "\n",
      "NOTE 2 [file NaCl_umbrella.mdp]:\n",
      "  The optimal PME mesh load for parallel simulations is below 0.5\n",
      "  and for highly parallel simulations between 0.25 and 0.33,\n",
      "  for higher performance, increase the cut-off and the PME grid spacing.\n",
      "\n",
      "\n",
      "\n",
      "There were 2 notes\n",
      "\n",
      "GROMACS reminds you: \"Move Over Hogey Bear\" (Urban Dance Squad)\n",
      "\n",
      "                 :-) GROMACS - gmx grompp, 2020.2-MODIFIED (-:\n",
      "\n",
      "                            GROMACS is written by:\n",
      "     Emile Apol      Rossen Apostolov      Paul Bauer     Herman J.C. Berendsen\n",
      "    Par Bjelkmar      Christian Blau   Viacheslav Bolnykh     Kevin Boyd    \n",
      " Aldert van Buuren   Rudi van Drunen     Anton Feenstra       Alan Gray     \n",
      "  Gerrit Groenhof     Anca Hamuraru    Vincent Hindriksen  M. Eric Irrgang  \n",
      "  Aleksei Iupinov   Christoph Junghans     Joe Jordan     Dimitrios Karkoulis\n",
      "    Peter Kasson        Jiri Kraus      Carsten Kutzner      Per Larsson    \n",
      "  Justin A. Lemkul    Viveca Lindahl    Magnus Lundborg     Erik Marklund   \n",
      "    Pascal Merz     Pieter Meulenhoff    Teemu Murtola       Szilard Pall   \n",
      "    Sander Pronk      Roland Schulz      Michael Shirts    Alexey Shvetsov  \n",
      "   Alfons Sijbers     Peter Tieleman      Jon Vincent      Teemu Virolainen \n",
      " Christian Wennberg    Maarten Wolf      Artem Zhmurov   \n",
      "                           and the project leaders:\n",
      "        Mark Abraham, Berk Hess, Erik Lindahl, and David van der Spoel\n",
      "\n",
      "Copyright (c) 1991-2000, University of Groningen, The Netherlands.\n",
      "Copyright (c) 2001-2019, The GROMACS development team at\n",
      "Uppsala University, Stockholm University and\n",
      "the Royal Institute of Technology, Sweden.\n",
      "check out http://www.gromacs.org for more information.\n",
      "\n",
      "GROMACS is free software; you can redistribute it and/or modify it\n",
      "under the terms of the GNU Lesser General Public License\n",
      "as published by the Free Software Foundation; either version 2.1\n",
      "of the License, or (at your option) any later version.\n",
      "\n",
      "GROMACS:      gmx grompp, version 2020.2-MODIFIED\n",
      "Executable:   /jet/packages/spack/opt/spack/linux-centos8-zen2/gcc-10.2.0/gromacs-2020.2-xfnb3dvyae7ktyfp3kq63xgdxx5c45en/bin/gmx_mpi\n",
      "Data prefix:  /jet/packages/spack/opt/spack/linux-centos8-zen2/gcc-10.2.0/gromacs-2020.2-xfnb3dvyae7ktyfp3kq63xgdxx5c45en\n",
      "Working dir:  /ocean/projects/cts160011p/wehs7661/3rd_workshop_advanced_sampling/Wednesday/Exercise_2/sim_6\n",
      "Command line:\n",
      "  gmx_mpi grompp -f NaCl_umbrella.mdp -c NaCl_6.gro -r NaCl_6.gro -p NaCl_US.top -o NaCl_US.tpr -maxwarn 1\n",
      "\n",
      "Setting the LD random seed to 908430808\n",
      "Generated 330891 of the 330891 non-bonded parameter combinations\n",
      "Generating 1-4 interactions: fudge = 0.5\n",
      "Generated 330891 of the 330891 1-4 parameter combinations\n",
      "Excluding 2 bonded neighbours molecule type 'SOL'\n"
     ]
    },
    {
     "name": "stdout",
     "output_type": "stream",
     "text": [
      "turning H bonds into constraints...\n",
      "turning H bonds into constraints...\n",
      "turning H bonds into constraints...\n"
     ]
    },
    {
     "name": "stderr",
     "output_type": "stream",
     "text": [
      "Excluding 1 bonded neighbours molecule type 'NA'\n",
      "Excluding 1 bonded neighbours molecule type 'CL'\n",
      "Setting gen_seed to 61313395\n",
      "Velocities were taken from a Maxwell distribution at 300 K\n"
     ]
    },
    {
     "name": "stdout",
     "output_type": "stream",
     "text": [
      "Analysing residue names:\n",
      "There are:   107      Water residues\n",
      "There are:     2        Ion residues\n",
      "Analysing residues not classified as Protein/DNA/RNA/Water and splitting into groups...\n",
      "Determining Verlet buffer for a tolerance of 0.005 kJ/mol/ps at 300 K\n",
      "Calculated rlist for 1x1 atom pair-list as 0.638 nm, buffer size 0.038 nm\n",
      "Set rlist, assuming 4x4 atom pair-list, to 0.607 nm, buffer size 0.007 nm\n",
      "Note that mdrun will redetermine rlist based on the actual pair-list setup\n",
      "Calculating fourier grid dimensions for X Y Z\n",
      "Using a fourier grid of 14x14x14, spacing 0.106 0.106 0.106\n",
      "This run will generate roughly 9 Mb of data\n"
     ]
    },
    {
     "name": "stderr",
     "output_type": "stream",
     "text": [
      "Pull group 1 'NA' has 1 atoms\n",
      "Pull group 2 'CL' has 1 atoms\n",
      "Number of degrees of freedom in T-Coupling group System is 645.00\n",
      "\n",
      "NOTE 1 [file NaCl_umbrella.mdp]:\n",
      "  Removing center of mass motion in the presence of position restraints\n",
      "  might cause artifacts. When you are using position restraints to\n",
      "  equilibrate a macro-molecule, the artifacts are usually negligible.\n",
      "\n",
      "Pull group  natoms  pbc atom  distance at start  reference at t=0\n",
      "       1         1         0\n",
      "       2         1         0       0.501 nm          0.501 nm\n",
      "Estimate for the relative computational load of the PME mesh part: 0.51\n",
      "\n",
      "NOTE 2 [file NaCl_umbrella.mdp]:\n",
      "  The optimal PME mesh load for parallel simulations is below 0.5\n",
      "  and for highly parallel simulations between 0.25 and 0.33,\n",
      "  for higher performance, increase the cut-off and the PME grid spacing.\n",
      "\n",
      "\n",
      "\n",
      "There were 2 notes\n",
      "\n",
      "GROMACS reminds you: \"I'm not interrupting you, I'm putting our conversation in full-duplex mode.\" (Antone Roundy)\n",
      "\n",
      "                 :-) GROMACS - gmx grompp, 2020.2-MODIFIED (-:\n",
      "\n",
      "                            GROMACS is written by:\n",
      "     Emile Apol      Rossen Apostolov      Paul Bauer     Herman J.C. Berendsen\n",
      "    Par Bjelkmar      Christian Blau   Viacheslav Bolnykh     Kevin Boyd    \n",
      " Aldert van Buuren   Rudi van Drunen     Anton Feenstra       Alan Gray     \n",
      "  Gerrit Groenhof     Anca Hamuraru    Vincent Hindriksen  M. Eric Irrgang  \n",
      "  Aleksei Iupinov   Christoph Junghans     Joe Jordan     Dimitrios Karkoulis\n",
      "    Peter Kasson        Jiri Kraus      Carsten Kutzner      Per Larsson    \n",
      "  Justin A. Lemkul    Viveca Lindahl    Magnus Lundborg     Erik Marklund   \n",
      "    Pascal Merz     Pieter Meulenhoff    Teemu Murtola       Szilard Pall   \n",
      "    Sander Pronk      Roland Schulz      Michael Shirts    Alexey Shvetsov  \n",
      "   Alfons Sijbers     Peter Tieleman      Jon Vincent      Teemu Virolainen \n",
      " Christian Wennberg    Maarten Wolf      Artem Zhmurov   \n",
      "                           and the project leaders:\n",
      "        Mark Abraham, Berk Hess, Erik Lindahl, and David van der Spoel\n",
      "\n",
      "Copyright (c) 1991-2000, University of Groningen, The Netherlands.\n",
      "Copyright (c) 2001-2019, The GROMACS development team at\n",
      "Uppsala University, Stockholm University and\n",
      "the Royal Institute of Technology, Sweden.\n",
      "check out http://www.gromacs.org for more information.\n",
      "\n",
      "GROMACS is free software; you can redistribute it and/or modify it\n",
      "under the terms of the GNU Lesser General Public License\n",
      "as published by the Free Software Foundation; either version 2.1\n",
      "of the License, or (at your option) any later version.\n",
      "\n",
      "GROMACS:      gmx grompp, version 2020.2-MODIFIED\n",
      "Executable:   /jet/packages/spack/opt/spack/linux-centos8-zen2/gcc-10.2.0/gromacs-2020.2-xfnb3dvyae7ktyfp3kq63xgdxx5c45en/bin/gmx_mpi\n",
      "Data prefix:  /jet/packages/spack/opt/spack/linux-centos8-zen2/gcc-10.2.0/gromacs-2020.2-xfnb3dvyae7ktyfp3kq63xgdxx5c45en\n",
      "Working dir:  /ocean/projects/cts160011p/wehs7661/3rd_workshop_advanced_sampling/Wednesday/Exercise_2/sim_7\n",
      "Command line:\n",
      "  gmx_mpi grompp -f NaCl_umbrella.mdp -c NaCl_7.gro -r NaCl_7.gro -p NaCl_US.top -o NaCl_US.tpr -maxwarn 1\n",
      "\n",
      "Setting the LD random seed to 1331465164\n",
      "Generated 330891 of the 330891 non-bonded parameter combinations\n",
      "Generating 1-4 interactions: fudge = 0.5\n",
      "Generated 330891 of the 330891 1-4 parameter combinations\n",
      "Excluding 2 bonded neighbours molecule type 'SOL'\n"
     ]
    },
    {
     "name": "stdout",
     "output_type": "stream",
     "text": [
      "turning H bonds into constraints...\n",
      "turning H bonds into constraints...\n",
      "turning H bonds into constraints...\n"
     ]
    },
    {
     "name": "stderr",
     "output_type": "stream",
     "text": [
      "Excluding 1 bonded neighbours molecule type 'NA'\n",
      "Excluding 1 bonded neighbours molecule type 'CL'\n",
      "Setting gen_seed to -1830444039\n",
      "Velocities were taken from a Maxwell distribution at 300 K\n"
     ]
    },
    {
     "name": "stdout",
     "output_type": "stream",
     "text": [
      "Analysing residue names:\n",
      "There are:   107      Water residues\n",
      "There are:     2        Ion residues\n",
      "Analysing residues not classified as Protein/DNA/RNA/Water and splitting into groups...\n",
      "Determining Verlet buffer for a tolerance of 0.005 kJ/mol/ps at 300 K\n",
      "Calculated rlist for 1x1 atom pair-list as 0.638 nm, buffer size 0.038 nm\n",
      "Set rlist, assuming 4x4 atom pair-list, to 0.607 nm, buffer size 0.007 nm\n",
      "Note that mdrun will redetermine rlist based on the actual pair-list setup\n",
      "Calculating fourier grid dimensions for X Y Z\n",
      "Using a fourier grid of 14x14x14, spacing 0.106 0.106 0.106\n",
      "This run will generate roughly 9 Mb of data\n"
     ]
    },
    {
     "name": "stderr",
     "output_type": "stream",
     "text": [
      "Pull group 1 'NA' has 1 atoms\n",
      "Pull group 2 'CL' has 1 atoms\n",
      "Number of degrees of freedom in T-Coupling group System is 645.00\n",
      "\n",
      "NOTE 1 [file NaCl_umbrella.mdp]:\n",
      "  Removing center of mass motion in the presence of position restraints\n",
      "  might cause artifacts. When you are using position restraints to\n",
      "  equilibrate a macro-molecule, the artifacts are usually negligible.\n",
      "\n",
      "Pull group  natoms  pbc atom  distance at start  reference at t=0\n",
      "       1         1         0\n",
      "       2         1         0       0.551 nm          0.551 nm\n",
      "Estimate for the relative computational load of the PME mesh part: 0.51\n",
      "\n",
      "NOTE 2 [file NaCl_umbrella.mdp]:\n",
      "  The optimal PME mesh load for parallel simulations is below 0.5\n",
      "  and for highly parallel simulations between 0.25 and 0.33,\n",
      "  for higher performance, increase the cut-off and the PME grid spacing.\n",
      "\n",
      "\n",
      "\n",
      "There were 2 notes\n",
      "\n",
      "GROMACS reminds you: \"Suzy is a headbanger, her mother is a geek\" (The Ramones)\n",
      "\n",
      "                 :-) GROMACS - gmx grompp, 2020.2-MODIFIED (-:\n",
      "\n",
      "                            GROMACS is written by:\n",
      "     Emile Apol      Rossen Apostolov      Paul Bauer     Herman J.C. Berendsen\n",
      "    Par Bjelkmar      Christian Blau   Viacheslav Bolnykh     Kevin Boyd    \n",
      " Aldert van Buuren   Rudi van Drunen     Anton Feenstra       Alan Gray     \n",
      "  Gerrit Groenhof     Anca Hamuraru    Vincent Hindriksen  M. Eric Irrgang  \n",
      "  Aleksei Iupinov   Christoph Junghans     Joe Jordan     Dimitrios Karkoulis\n",
      "    Peter Kasson        Jiri Kraus      Carsten Kutzner      Per Larsson    \n",
      "  Justin A. Lemkul    Viveca Lindahl    Magnus Lundborg     Erik Marklund   \n",
      "    Pascal Merz     Pieter Meulenhoff    Teemu Murtola       Szilard Pall   \n",
      "    Sander Pronk      Roland Schulz      Michael Shirts    Alexey Shvetsov  \n",
      "   Alfons Sijbers     Peter Tieleman      Jon Vincent      Teemu Virolainen \n",
      " Christian Wennberg    Maarten Wolf      Artem Zhmurov   \n",
      "                           and the project leaders:\n",
      "        Mark Abraham, Berk Hess, Erik Lindahl, and David van der Spoel\n",
      "\n",
      "Copyright (c) 1991-2000, University of Groningen, The Netherlands.\n",
      "Copyright (c) 2001-2019, The GROMACS development team at\n",
      "Uppsala University, Stockholm University and\n",
      "the Royal Institute of Technology, Sweden.\n",
      "check out http://www.gromacs.org for more information.\n",
      "\n",
      "GROMACS is free software; you can redistribute it and/or modify it\n",
      "under the terms of the GNU Lesser General Public License\n",
      "as published by the Free Software Foundation; either version 2.1\n",
      "of the License, or (at your option) any later version.\n",
      "\n",
      "GROMACS:      gmx grompp, version 2020.2-MODIFIED\n",
      "Executable:   /jet/packages/spack/opt/spack/linux-centos8-zen2/gcc-10.2.0/gromacs-2020.2-xfnb3dvyae7ktyfp3kq63xgdxx5c45en/bin/gmx_mpi\n",
      "Data prefix:  /jet/packages/spack/opt/spack/linux-centos8-zen2/gcc-10.2.0/gromacs-2020.2-xfnb3dvyae7ktyfp3kq63xgdxx5c45en\n",
      "Working dir:  /ocean/projects/cts160011p/wehs7661/3rd_workshop_advanced_sampling/Wednesday/Exercise_2/sim_8\n",
      "Command line:\n",
      "  gmx_mpi grompp -f NaCl_umbrella.mdp -c NaCl_8.gro -r NaCl_8.gro -p NaCl_US.top -o NaCl_US.tpr -maxwarn 1\n",
      "\n",
      "Setting the LD random seed to -342372531\n",
      "Generated 330891 of the 330891 non-bonded parameter combinations\n",
      "Generating 1-4 interactions: fudge = 0.5\n",
      "Generated 330891 of the 330891 1-4 parameter combinations\n",
      "Excluding 2 bonded neighbours molecule type 'SOL'\n"
     ]
    },
    {
     "name": "stdout",
     "output_type": "stream",
     "text": [
      "turning H bonds into constraints...\n",
      "turning H bonds into constraints...\n",
      "turning H bonds into constraints...\n"
     ]
    },
    {
     "name": "stderr",
     "output_type": "stream",
     "text": [
      "Excluding 1 bonded neighbours molecule type 'NA'\n",
      "Excluding 1 bonded neighbours molecule type 'CL'\n",
      "Setting gen_seed to 1276660738\n",
      "Velocities were taken from a Maxwell distribution at 300 K\n"
     ]
    },
    {
     "name": "stdout",
     "output_type": "stream",
     "text": [
      "Analysing residue names:\n",
      "There are:   107      Water residues\n",
      "There are:     2        Ion residues\n",
      "Analysing residues not classified as Protein/DNA/RNA/Water and splitting into groups...\n",
      "Determining Verlet buffer for a tolerance of 0.005 kJ/mol/ps at 300 K\n",
      "Calculated rlist for 1x1 atom pair-list as 0.638 nm, buffer size 0.038 nm\n",
      "Set rlist, assuming 4x4 atom pair-list, to 0.607 nm, buffer size 0.007 nm\n",
      "Note that mdrun will redetermine rlist based on the actual pair-list setup\n",
      "Calculating fourier grid dimensions for X Y Z\n",
      "Using a fourier grid of 14x14x14, spacing 0.106 0.106 0.106\n",
      "This run will generate roughly 9 Mb of data\n"
     ]
    },
    {
     "name": "stderr",
     "output_type": "stream",
     "text": [
      "Pull group 1 'NA' has 1 atoms\n",
      "Pull group 2 'CL' has 1 atoms\n",
      "Number of degrees of freedom in T-Coupling group System is 645.00\n",
      "\n",
      "NOTE 1 [file NaCl_umbrella.mdp]:\n",
      "  Removing center of mass motion in the presence of position restraints\n",
      "  might cause artifacts. When you are using position restraints to\n",
      "  equilibrate a macro-molecule, the artifacts are usually negligible.\n",
      "\n",
      "Pull group  natoms  pbc atom  distance at start  reference at t=0\n",
      "       1         1         0\n",
      "       2         1         0       0.599 nm          0.599 nm\n",
      "Estimate for the relative computational load of the PME mesh part: 0.51\n",
      "\n",
      "NOTE 2 [file NaCl_umbrella.mdp]:\n",
      "  The optimal PME mesh load for parallel simulations is below 0.5\n",
      "  and for highly parallel simulations between 0.25 and 0.33,\n",
      "  for higher performance, increase the cut-off and the PME grid spacing.\n",
      "\n",
      "\n",
      "\n",
      "There were 2 notes\n",
      "\n",
      "GROMACS reminds you: \"O My God, They Killed Kenny !\" (South Park)\n",
      "\n"
     ]
    }
   ],
   "source": [
    "%%bash\n",
    "module load gromacs/2020.2-cpu openmpi/4.0.5-gcc10.2.0\n",
    "\n",
    "n=8  # number of simulations\n",
    "for i in $(seq 1 $n)\n",
    "do\n",
    "    cp pull/NaCl_US.top sim_${i}/.    # Use the same top file as in the pulling simulation\n",
    "    cp pull/Na_posres.itp sim_${i}/.  # Copy over the itp file for position restraint\n",
    "    cp NaCl_umbrella.mdp sim_${i}/.   # All simulations use the same NaCl_umbrella.mdp\n",
    "    cd sim_${i}\n",
    "    mpirun -np 1 gmx_mpi grompp -f NaCl_umbrella.mdp -c NaCl_${i}.gro -r NaCl_${i}.gro -p NaCl_US.top -o NaCl_US.tpr -maxwarn 1  # Generate the tpr\n",
    "    cd ../\n",
    "done"
   ]
  },
  {
   "cell_type": "markdown",
   "id": "879e406b",
   "metadata": {
    "slideshow": {
     "slide_type": "slide"
    }
   },
   "source": [
    "Then, we run the simulations of 8 windows in parallel using the `-multdir` flag as we did in the last exercise."
   ]
  },
  {
   "cell_type": "code",
   "execution_count": 15,
   "id": "913bc648",
   "metadata": {
    "slideshow": {
     "slide_type": "fragment"
    }
   },
   "outputs": [
    {
     "name": "stderr",
     "output_type": "stream",
     "text": [
      "                  :-) GROMACS - gmx mdrun, 2020.2-MODIFIED (-:\n",
      "\n",
      "                            GROMACS is written by:\n",
      "     Emile Apol      Rossen Apostolov      Paul Bauer     Herman J.C. Berendsen\n",
      "    Par Bjelkmar      Christian Blau   Viacheslav Bolnykh     Kevin Boyd    \n",
      " Aldert van Buuren   Rudi van Drunen     Anton Feenstra       Alan Gray     \n",
      "  Gerrit Groenhof     Anca Hamuraru    Vincent Hindriksen  M. Eric Irrgang  \n",
      "  Aleksei Iupinov   Christoph Junghans     Joe Jordan     Dimitrios Karkoulis\n",
      "    Peter Kasson        Jiri Kraus      Carsten Kutzner      Per Larsson    \n",
      "  Justin A. Lemkul    Viveca Lindahl    Magnus Lundborg     Erik Marklund   \n",
      "    Pascal Merz     Pieter Meulenhoff    Teemu Murtola       Szilard Pall   \n",
      "    Sander Pronk      Roland Schulz      Michael Shirts    Alexey Shvetsov  \n",
      "   Alfons Sijbers     Peter Tieleman      Jon Vincent      Teemu Virolainen \n",
      " Christian Wennberg    Maarten Wolf      Artem Zhmurov   \n",
      "                           and the project leaders:\n",
      "        Mark Abraham, Berk Hess, Erik Lindahl, and David van der Spoel\n",
      "\n",
      "Copyright (c) 1991-2000, University of Groningen, The Netherlands.\n",
      "Copyright (c) 2001-2019, The GROMACS development team at\n",
      "Uppsala University, Stockholm University and\n",
      "the Royal Institute of Technology, Sweden.\n",
      "check out http://www.gromacs.org for more information.\n",
      "\n",
      "GROMACS is free software; you can redistribute it and/or modify it\n",
      "under the terms of the GNU Lesser General Public License\n",
      "as published by the Free Software Foundation; either version 2.1\n",
      "of the License, or (at your option) any later version.\n",
      "\n",
      "GROMACS:      gmx mdrun, version 2020.2-MODIFIED\n",
      "Executable:   /jet/packages/spack/opt/spack/linux-centos8-zen2/gcc-10.2.0/gromacs-2020.2-xfnb3dvyae7ktyfp3kq63xgdxx5c45en/bin/gmx_mpi\n",
      "Data prefix:  /jet/packages/spack/opt/spack/linux-centos8-zen2/gcc-10.2.0/gromacs-2020.2-xfnb3dvyae7ktyfp3kq63xgdxx5c45en\n",
      "Working dir:  /ocean/projects/cts160011p/wehs7661/3rd_workshop_advanced_sampling/Wednesday/Exercise_2\n",
      "Command line:\n",
      "  gmx_mpi mdrun -deffnm NaCl_US -pf pullf.xvg -px pullx.xvg -multidir sim_1 sim_2 sim_3 sim_4 sim_5 sim_6 sim_7 sim_8 -ntomp 4\n",
      "\n",
      "Reading file NaCl_US.tpr, VERSION 2020.2-MODIFIED (single precision)\n",
      "Reading file NaCl_US.tpr, VERSION 2020.2-MODIFIED (single precision)\n",
      "Reading file NaCl_US.tpr, VERSION 2020.2-MODIFIED (single precision)\n",
      "Reading file NaCl_US.tpr, VERSION 2020.2-MODIFIED (single precision)\n",
      "Reading file NaCl_US.tpr, VERSION 2020.2-MODIFIED (single precision)\n",
      "Reading file NaCl_US.tpr, VERSION 2020.2-MODIFIED (single precision)\n",
      "Reading file NaCl_US.tpr, VERSION 2020.2-MODIFIED (single precision)\n",
      "Reading file NaCl_US.tpr, VERSION 2020.2-MODIFIED (single precision)\n",
      "Changing nstlist from 10 to 25, rlist from 0.607 to 0.67\n",
      "\n",
      "Changing nstlist from 10 to 25, rlist from 0.607 to 0.67\n",
      "\n",
      "Changing nstlist from 10 to 25, rlist from 0.607 to 0.67\n",
      "\n",
      "Changing nstlist from 10 to 25, rlist from 0.607 to 0.67\n",
      "\n",
      "Changing nstlist from 10 to 25, rlist from 0.607 to 0.67\n",
      "\n",
      "Changing nstlist from 10 to 25, rlist from 0.607 to 0.67\n",
      "\n",
      "Changing nstlist from 10 to 25, rlist from 0.607 to 0.67\n",
      "\n",
      "Changing nstlist from 10 to 25, rlist from 0.607 to 0.67\n",
      "\n",
      "This is simulation 5 out of 8 running as a composite GROMACS\n",
      "multi-simulation job. Setup for this simulation:\n",
      "\n",
      "Using 1 MPI process\n",
      "\n",
      "Non-default thread affinity set, disabling internal thread affinity\n",
      "\n",
      "Using 4 OpenMP threads \n",
      "\n",
      "This is simulation 1 out of 8 running as a composite GROMACS\n",
      "multi-simulation job. Setup for this simulation:\n",
      "\n",
      "Using 1 MPI process\n",
      "\n",
      "Non-default thread affinity set, disabling internal thread affinity\n",
      "\n",
      "Using 4 OpenMP threads \n",
      "\n",
      "This is simulation 6 out of 8 running as a composite GROMACS\n",
      "multi-simulation job. Setup for this simulation:\n",
      "\n",
      "Using 1 MPI process\n",
      "\n",
      "Non-default thread affinity set, disabling internal thread affinity\n",
      "\n",
      "Using 4 OpenMP threads \n",
      "\n",
      "This is simulation 3 out of 8 running as a composite GROMACS\n",
      "multi-simulation job. Setup for this simulation:\n",
      "\n",
      "Using 1 MPI process\n",
      "\n",
      "Non-default thread affinity set, disabling internal thread affinity\n",
      "\n",
      "Using 4 OpenMP threads \n",
      "\n",
      "This is simulation 0 out of 8 running as a composite GROMACS\n",
      "multi-simulation job. Setup for this simulation:\n",
      "\n",
      "Using 1 MPI process\n",
      "\n",
      "Non-default thread affinity set, disabling internal thread affinity\n",
      "\n",
      "Using 4 OpenMP threads \n",
      "\n",
      "This is simulation 7 out of 8 running as a composite GROMACS\n",
      "multi-simulation job. Setup for this simulation:\n",
      "\n",
      "Using 1 MPI process\n",
      "\n",
      "Non-default thread affinity set, disabling internal thread affinity\n",
      "\n",
      "Using 4 OpenMP threads \n",
      "\n",
      "This is simulation 4 out of 8 running as a composite GROMACS\n",
      "multi-simulation job. Setup for this simulation:\n",
      "\n",
      "Using 1 MPI process\n",
      "\n",
      "Non-default thread affinity set, disabling internal thread affinity\n",
      "\n",
      "Using 4 OpenMP threads \n",
      "\n",
      "This is simulation 2 out of 8 running as a composite GROMACS\n",
      "multi-simulation job. Setup for this simulation:\n",
      "\n",
      "Using 1 MPI process\n",
      "\n",
      "Non-default thread affinity set, disabling internal thread affinity\n",
      "\n",
      "Using 4 OpenMP threads \n",
      "\n",
      "starting mdrun 'NaCl in water'\n",
      "250000 steps,    500.0 ps.\n",
      "starting mdrun 'NaCl in water'\n",
      "250000 steps,    500.0 ps.\n",
      "starting mdrun 'NaCl in water'\n",
      "250000 steps,    500.0 ps.\n",
      "starting mdrun 'NaCl in water'\n",
      "250000 steps,    500.0 ps.\n",
      "starting mdrun 'NaCl in water'\n",
      "250000 steps,    500.0 ps.\n",
      "starting mdrun 'NaCl in water'\n",
      "250000 steps,    500.0 ps.\n",
      "starting mdrun 'NaCl in water'\n",
      "250000 steps,    500.0 ps.\n",
      "starting mdrun 'NaCl in water'\n",
      "250000 steps,    500.0 ps.\n",
      "\n",
      "Writing final coordinates.\n",
      "\n",
      "Writing final coordinates.\n",
      "\n",
      "GROMACS reminds you: \"Shoot them in the back now\" (The Ramones)\n",
      "\n",
      "\n",
      "Writing final coordinates.\n",
      "\n",
      "Writing final coordinates.\n",
      "\n",
      "Writing final coordinates.\n",
      "\n",
      "Writing final coordinates.\n",
      "\n",
      "Writing final coordinates.\n",
      "\n",
      "Writing final coordinates.\n"
     ]
    },
    {
     "name": "stdout",
     "output_type": "stream",
     "text": [
      "CPU times: user 73.9 ms, sys: 14.5 ms, total: 88.5 ms\n",
      "Wall time: 33.2 s\n"
     ]
    }
   ],
   "source": [
    "%%time\n",
    "%%bash\n",
    "module load gromacs/2020.2-cpu openmpi/4.0.5-gcc10.2.0\n",
    "mpirun -np 8 gmx_mpi mdrun -deffnm NaCl_US -pf pullf.xvg -px pullx.xvg -multidir sim_1 sim_2 sim_3 sim_4 sim_5 sim_6 sim_7 sim_8 -ntomp 4"
   ]
  },
  {
   "cell_type": "markdown",
   "id": "c71e7030",
   "metadata": {
    "slideshow": {
     "slide_type": "slide"
    }
   },
   "source": [
    "Same as the pulling simulation, a `pullx.xvg` file (and a `pullf.xvg` file) will be generated in each of the simulation folders. To check the overlap between umbrella windows, we plot the histogram of the pulling distance for each simulation. "
   ]
  },
  {
   "cell_type": "code",
   "execution_count": 16,
   "id": "2a74d0d0",
   "metadata": {
    "slideshow": {
     "slide_type": "skip"
    }
   },
   "outputs": [],
   "source": [
    "import matplotlib.pyplot as plt\n",
    "from matplotlib import rc\n",
    "\n",
    "# Just some settings for plotting\n",
    "rc('font', **{\n",
    "    'family': 'sans-serif',\n",
    "    'sans-serif': ['DejaVu Sans'],\n",
    "    'size': 10,\n",
    "})\n",
    "# Set the font used for MathJax - more on thiprint(images)\n",
    "rc('mathtext', **{'default': 'regular'})\n",
    "plt.rc('font', family='serif')"
   ]
  },
  {
   "cell_type": "code",
   "execution_count": 17,
   "id": "cec152ee",
   "metadata": {
    "slideshow": {
     "slide_type": "slide"
    }
   },
   "outputs": [
    {
     "data": {
      "image/png": "[encoded data removed]",
      "text/plain": [
       "<Figure size 800x300 with 1 Axes>"
      ]
     },
     "metadata": {},
     "output_type": "display_data"
    }
   ],
   "source": [
    "pullx_data = [np.transpose(np.loadtxt(f'sim_{i + 1}/pullx.xvg', comments=['@', '#'])) for i in range(8)]\n",
    "time = pullx_data[0][0]\n",
    "dist_list = [data[1] for data in pullx_data]\n",
    "\n",
    "plt.figure(figsize=(8, 3))\n",
    "for i in range(8):\n",
    "    plt.hist(dist_list[i], bins=50, alpha=0.5)\n",
    "plt.xlabel('Ion-pair distance (nm)')\n",
    "plt.ylabel('Count')\n",
    "plt.grid()"
   ]
  },
  {
   "cell_type": "markdown",
   "id": "a905a4b6",
   "metadata": {
    "slideshow": {
     "slide_type": "slide"
    }
   },
   "source": [
    "As shown above, there is always overlap between neighboring windows, indicating that a force constant of 8000 $\\mathrm{kJ/mol/nm^2}$ is reasonable. \n",
    "- If the force constant were too large, the spread of each distribution would have been too narrow, so there would be a risk of not having overlap between some of the neighboring replicas. \n",
    "- If the force constant were too small, it would be hard to keep the pull group at the desired center of the window. In this case, the pull group will drift to the metastable state, which could also lead to insufficient overlap. "
   ]
  },
  {
   "cell_type": "markdown",
   "id": "6719e0e9",
   "metadata": {
    "slideshow": {
     "slide_type": "slide"
    }
   },
   "source": [
    "To futhur improve the overlap, one can\n",
    "- Put 1 to 2 more windows between 0.3 to 0.4 nm (and stick with $k=8000 \\text{ } \\mathrm{kJ/mol/nm^2}$).\n",
    "- Without increasing the number of windows, increase the force constants for the second and third windows."
   ]
  },
  {
   "cell_type": "markdown",
   "id": "171fcf10",
   "metadata": {
    "slideshow": {
     "slide_type": "slide"
    }
   },
   "source": [
    "## 3. Computation of the free energy surface using MBAR"
   ]
  },
  {
   "cell_type": "code",
   "execution_count": 18,
   "id": "2991ac13",
   "metadata": {
    "scrolled": false,
    "slideshow": {
     "slide_type": "slide"
    }
   },
   "outputs": [
    {
     "name": "stderr",
     "output_type": "stream",
     "text": [
      "Warning on use of the timeseries module: If the inherent timescales of the system are long compared to those being analyzed, this statistical inefficiency may be an underestimate.  The estimate presumes the use of many statistically independent samples.  Tests should be performed to assess whether this condition is satisfied.   Be cautious in the interpretation of the data.\n"
     ]
    },
    {
     "name": "stdout",
     "output_type": "stream",
     "text": [
      "Statistical inefficiency of simulation 0: 2.325\n",
      "Statistical inefficiency of simulation 1: 2.420\n",
      "Statistical inefficiency of simulation 2: 7.540\n",
      "Statistical inefficiency of simulation 3: 4.188\n",
      "Statistical inefficiency of simulation 4: 1.951\n",
      "Statistical inefficiency of simulation 5: 3.580\n",
      "Statistical inefficiency of simulation 6: 2.268\n",
      "Statistical inefficiency of simulation 7: 3.307\n"
     ]
    },
    {
     "name": "stderr",
     "output_type": "stream",
     "text": [
      "No GPU/TPU found, falling back to CPU. (Set TF_CPP_MIN_LOG_LEVEL=0 and rerun for more info.)\n"
     ]
    },
    {
     "name": "stdout",
     "output_type": "stream",
     "text": [
      "\n",
      "Time elapsed: 1 seconds.\n"
     ]
    },
    {
     "data": {
      "image/png": "[encoded data removed]",
      "text/plain": [
       "<Figure size 640x480 with 1 Axes>"
      ]
     },
     "metadata": {},
     "output_type": "display_data"
    }
   ],
   "source": [
    "import time\n",
    "import pymbar\n",
    "from pymbar import timeseries\n",
    "import random\n",
    "import scipy.stats\n",
    "\n",
    "t0 = time.time()\n",
    "\n",
    "# Step 1: Setting up\n",
    "K = 8                                       # number of umbrellas\n",
    "N_max = 5001                                # number of data points in each timeseries of ion-pair distance\n",
    "kT = 1.381e-23 * 6.022e23 / 1000 * 300      # 1 kT converted to kJ/mol at 300 K\n",
    "beta_k = np.ones(K) / kT                    # inverse temperature of simulations (in 1/(kJ/mol)) \n",
    "d_min, d_max = 0.25, 0.65                   # minimum and maximum of the CV for plotting the FES\n",
    "nbins = 50                                  # number of bins for FES\n",
    "K_k = np.ones(K) * 8000                     # spring constant (in kJ/mol/nm**2) for different simulations\n",
    "RunBootstrapping = False                    # Whether to perform bootstrapping to estimate the uncertainty of the FES\n",
    "nboot = 50                                  # number of bootstrap samples (values from 50 to 200 are recommended)\n",
    "N_k, g_k = np.zeros(K, int), np.zeros(K)    # number of samples and statistical inefficiency of different simulations\n",
    "d_kn = np.zeros([K, N_max])                 # d_kn[k,n] is the ion-pair distance (in nm) for snapshot n from umbrella simulation k\n",
    "u_kn = np.zeros([K, N_max])                 # u_kn[k,n] is the reduced potential energy without umbrella restraints of snapshot n of umbrella simulation k\n",
    "uncorrelated_samples = []                   # Uncorrelated samples of different simulations\n",
    "\n",
    "# Step 2: Read in and subsample the timeseries\n",
    "for k in range(K):\n",
    "    d_kn[k] = np.transpose(np.loadtxt(f'sim_{k + 1}/pullx.xvg', comments=['@', '#']))[1]\n",
    "    N_k[k] = len(d_kn[k])\n",
    "    d_temp = d_kn[k, 0:N_k[k]]\n",
    "    g_k[k] = timeseries.statistical_inefficiency(d_temp)     \n",
    "    print(f\"Statistical inefficiency of simulation {k}: {g_k[k]:.3f}\")\n",
    "    indices = timeseries.subsample_correlated_data(d_temp, g=g_k[k]) # indices of the uncorrelated samples\n",
    "    \n",
    "    # Update u_kn and d_kn with uncorrelated samples\n",
    "    N_k[k] = len(indices)    # At this point, N_k contains the number of uncorrelated samples for each state k                \n",
    "    u_kn[k, 0:N_k[k]] = u_kn[k, indices]\n",
    "    d_kn[k, 0:N_k[k]] = d_kn[k, indices]\n",
    "    uncorrelated_samples.append(d_kn[k, indices])\n",
    "\n",
    "d0_k = np.array([d_kn[i][0] for i in range(K)])    \n",
    "N_max = np.max(N_k) # shorten the array size\n",
    "u_kln = np.zeros([K, K, N_max]) # u_kln[k,l,n] is the reduced potential energy of snapshot n from umbrella simulation k evaluated at umbrella l\n",
    "u_kn -= u_kn.min()  # shift the minimum of the FES to 0\n",
    "\n",
    "# Step 3: Bin the data\n",
    "bin_center_i = np.zeros([nbins])\n",
    "bin_edges = np.linspace(d_min, d_max, nbins + 1)\n",
    "for i in range(nbins):\n",
    "    bin_center_i[i] = 0.5 * (bin_edges[i] + bin_edges[i + 1])\n",
    "   \n",
    "# Step 4: Evaluate reduced energies in all umbrellas\n",
    "for k in range(K):\n",
    "    for n in range(N_k[k]):\n",
    "        # Compute minimum-image ion-pair distance deviation from umbrella center l\n",
    "        dd = d_kn[k,n] - d0_k  # delta d\n",
    "\n",
    "        # Compute energy of snapshot n from simulation k in umbrella potential l\n",
    "        u_kln[k,:,n] = u_kn[k,n] + beta_k[k] * (K_k / 2) * dd ** 2\n",
    "\n",
    "# Step 5: Compute, output, and plot the FES\n",
    "fes = pymbar.FES(u_kln, N_k, verbose=False)\n",
    "histo_params = {'bin_edges': bin_edges}\n",
    "d_n = pymbar.utils.kn_to_n(d_kn, N_k=N_k)\n",
    "fes.generate_fes(u_kn, d_n, fes_type='histogram', histogram_parameters=histo_params)\n",
    "results = fes.get_fes(bin_center_i, reference_point=\"from-lowest\", uncertainty_method=\"analytical\")\n",
    "f_i = results[\"f_i\"]\n",
    "df_i = results[\"df_i\"]\n",
    "\n",
    "with open('fes.dat', 'w') as f:\n",
    "    f.write(\"# free energy profile (in units of kT), from histogramming\\n\")\n",
    "    f.write(f\"# {'bin':>8s} {'f':>8s} {'df':>8s} \\n\")\n",
    "    for i in range(nbins):\n",
    "       f.write(f\"{bin_center_i[i]:>8.3f} {f_i[i]:>8.3f} {df_i[i]:>8.3f} \\n\")\n",
    "\n",
    "plt.figure()\n",
    "plt.plot(bin_center_i, f_i)\n",
    "plt.fill_between(bin_center_i, f_i - df_i, f_i + df_i, color='lightgreen')\n",
    "plt.xlabel('Ion-pair distance (nm)')\n",
    "plt.ylabel('Free energy (kT)')\n",
    "plt.grid()\n",
    "\n",
    "t1 = time.time()\n",
    "print(f'\\nTime elapsed: {t1 - t0:.0f} seconds.')"
   ]
  },
  {
   "cell_type": "markdown",
   "id": "7e1e4c36",
   "metadata": {
    "slideshow": {
     "slide_type": "slide"
    }
   },
   "source": [
    "As can be checked below, regions with more uncorrelated samples generally have smaller a uncertainty in the free energy profile. "
   ]
  },
  {
   "cell_type": "code",
   "execution_count": 19,
   "id": "d76bb097",
   "metadata": {
    "slideshow": {
     "slide_type": "fragment"
    }
   },
   "outputs": [
    {
     "data": {
      "image/png": "[encoded data removed]",
      "text/plain": [
       "<Figure size 800x300 with 1 Axes>"
      ]
     },
     "metadata": {},
     "output_type": "display_data"
    }
   ],
   "source": [
    "plt.figure(figsize=(8, 3))\n",
    "for i in range(8):\n",
    "    plt.hist(uncorrelated_samples[i], bins=50, alpha=0.5)\n",
    "plt.xlabel('Ion-pair distance (nm)')\n",
    "plt.ylabel('Count')\n",
    "plt.grid()"
   ]
  }
 ],
 "metadata": {
  "celltoolbar": "Slideshow",
  "kernelspec": {
   "display_name": "Python 3 (ipykernel)",
   "language": "python",
   "name": "python3"
  },
  "language_info": {
   "codemirror_mode": {
    "name": "ipython",
    "version": 3
   },
   "file_extension": ".py",
   "mimetype": "text/x-python",
   "name": "python",
   "nbconvert_exporter": "python",
   "pygments_lexer": "ipython3",
   "version": "3.9.12"
  }
 },
 "nbformat": 4,
 "nbformat_minor": 5
}
