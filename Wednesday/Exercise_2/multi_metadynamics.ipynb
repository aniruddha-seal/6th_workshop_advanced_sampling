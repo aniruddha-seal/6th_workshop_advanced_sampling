{
 "cells": [
  {
   "cell_type": "markdown",
   "id": "051e8b8f",
   "metadata": {
    "slideshow": {
     "slide_type": "slide"
    }
   },
   "source": [
    "# Exercise 2: Multiple walkers metadynamics"
   ]
  },
  {
   "cell_type": "markdown",
   "id": "1e03ed60",
   "metadata": {
    "slideshow": {
     "slide_type": "slide"
    }
   },
   "source": [
    "## Instructor/Authors\n",
    "\n",
    "Michael Shirts\n",
    "- University of Colorado Boulder\n",
    "- michael.shirts@colorado.edu\n",
    "\n",
    "Wei-Tse Hsu\n",
    "- University of Colorado Boulder\n",
    "- www.weitsehsu.com\n",
    "- wehs7661@colorado.edu\n",
    "- [@WeiTseHsu](https://twitter.com/WeiTseHsu)\n"
   ]
  },
  {
   "cell_type": "markdown",
   "id": "44ccb040",
   "metadata": {
    "slideshow": {
     "slide_type": "slide"
    }
   },
   "source": [
    "In the previous example, the simulations we ran in parallel are indepdent of each other and can therefore be performed separately if wanted. This is different from methods such as multiple walkers metadynamics or replica exchange, where multiple simulations interact with each other and must be performed in parallel."
   ]
  },
  {
   "cell_type": "markdown",
   "id": "c45b41b5",
   "metadata": {
    "slideshow": {
     "slide_type": "slide"
    }
   },
   "source": [
    "In this exercise, we will run 4 walkers of metadynamics for the NaCl system, from which we can estimate the free energy surface as a function of ion-pair distance in the NVT ensemble. "
   ]
  },
  {
   "cell_type": "markdown",
   "id": "d05ca9d4",
   "metadata": {
    "slideshow": {
     "slide_type": "slide"
    }
   },
   "source": [
    "## 1. Running multiple walkers metadynamics"
   ]
  },
  {
   "cell_type": "code",
   "execution_count": null,
   "id": "55892f04",
   "metadata": {
    "slideshow": {
     "slide_type": "fragment"
    }
   },
   "outputs": [],
   "source": [
    "%%bash\n",
    "# Here we remove the output of the exercise if there is any.\n",
    "dirs=(mpi_based)\n",
    "for dir in \"${dirs[@]}\"; do\n",
    "    if ls -d \"$dir\" >/dev/null 2>&1; then\n",
    "        rm -rf \"$dir\"\n",
    "    fi\n",
    "done"
   ]
  },
  {
   "cell_type": "markdown",
   "id": "380f99de",
   "metadata": {
    "slideshow": {
     "slide_type": "slide"
    }
   },
   "source": [
    "Also, we define the PLUMED binary and a function that helps us run PLUMED commands."
   ]
  },
  {
   "cell_type": "code",
   "execution_count": null,
   "id": "c4a7b77c",
   "metadata": {
    "slideshow": {
     "slide_type": "fragment"
    }
   },
   "outputs": [],
   "source": [
    "import subprocess\n",
    "plumed_bin=\"singularity exec /ocean/projects/see220002p/shared/icomse_cpu.sif plumed\"\n",
    "\n",
    "def run_plumed_cmd(cmd,verbose=False):\n",
    "    cmd_str=\"{} \".format(plumed_bin)+cmd\n",
    "    print(\"PLUMED command: {}\".format(cmd_str))\n",
    "    if verbose:\n",
    "        subprocess.run(cmd_str.split())\n",
    "    else:\n",
    "        subprocess.run(cmd_str.split(),stdout=subprocess.DEVNULL, stderr=subprocess.DEVNULL)"
   ]
  },
  {
   "cell_type": "markdown",
   "id": "4bff94f2",
   "metadata": {
    "slideshow": {
     "slide_type": "slide"
    }
   },
   "source": [
    "To run 4 walkers of metadynamics that communicate with each other via MPI (i.e. MPI-based multiple walkers metadynamics), we will do the following:\n",
    "- **Step 1**: Create folders named as `walker_0`, `walker_1`, `walker_2`, `walker_3`. \n",
    "- **Step 2**: In each folder, copy over the input files and generate a `tpr` file. \n",
    "- **Step 3**: In each folder, create a PLUMED input file `plumed.dat`. PLUMED input files across walkers should be the same.\n",
    "- **Step 4**: Outside the folder, run the GROMACS `mdrun` command."
   ]
  },
  {
   "cell_type": "code",
   "execution_count": null,
   "id": "a16ecae9",
   "metadata": {
    "slideshow": {
     "slide_type": "slide"
    }
   },
   "outputs": [],
   "source": [
    "%%bash\n",
    "source /ocean/projects/see220002p/shared/gromacs+plumed/gromacs-2022.6_plumed-2.9.0/load-gromacs-plumed.sh\n",
    "\n",
    "\n",
    "mkdir mpi_based && cd mpi_based\n",
    "for i in {0..3}\n",
    "do\n",
    "    mkdir walker_${i} && cd walker_${i}\n",
    "    cp ../../../Inputs/NaCl/NaCl.top .\n",
    "    cp ../../../Inputs/NaCl/configs/NaCl_${i}.gro .    # It is recommended to use different GRO files for different walkers\n",
    "    cp ../../../Inputs/NaCl/MD-NVT.mdp .         # The mdp file for running NVT simulations\n",
    "    mpirun -np 1 gmx_mpi grompp -f MD-NVT.mdp -c NaCl_${i}.gro -p NaCl.top -o multi_metad.tpr\n",
    "    cd ../\n",
    "done"
   ]
  },
  {
   "cell_type": "code",
   "execution_count": null,
   "id": "f8a3f36b",
   "metadata": {
    "slideshow": {
     "slide_type": "slide"
    }
   },
   "outputs": [],
   "source": [
    "%%bash\n",
    "cd mpi_based\n",
    "for i in {0..3}\n",
    "do \n",
    "cd walker_${i}\n",
    "echo '# Distance between Na and Cl atoms\n",
    "dist: DISTANCE ATOMS=322,323\n",
    "\n",
    "uwall: UPPER_WALLS ...\n",
    "   ARG=dist \n",
    "   AT=0.6\n",
    "   KAPPA=4000.0 \n",
    "...\n",
    "\n",
    "METAD ...\n",
    "  LABEL=mtd\n",
    "  ARG=dist\n",
    "  PACE=500\n",
    "  SIGMA=0.02 \n",
    "  HEIGHT=1.25\n",
    "  BIASFACTOR=5\n",
    "  GRID_MIN=0.0\n",
    "  GRID_MAX=1.0\n",
    "  CALC_RCT\n",
    "  FILE=hills.data\n",
    "  WALKERS_DIR=../\n",
    "  WALKERS_MPI\n",
    "... METAD\n",
    "\n",
    "PRINT ARG=dist,mtd.*,uwall.* FILE=colvar.data STRIDE=250\n",
    "' > plumed.dat\n",
    "cd ../\n",
    "done"
   ]
  },
  {
   "cell_type": "code",
   "execution_count": null,
   "id": "ddddc588",
   "metadata": {
    "scrolled": true,
    "slideshow": {
     "slide_type": "slide"
    }
   },
   "outputs": [],
   "source": [
    "%%time\n",
    "%%bash\n",
    "source /ocean/projects/see220002p/shared/gromacs+plumed/gromacs-2022.6_plumed-2.9.0/load-gromacs-plumed.sh\n",
    "\n",
    "cd mpi_based\n",
    "mpirun -np 4 gmx_mpi mdrun -s multi_metad.tpr -plumed plumed.dat -multidir walker_{0..3} -ntomp 1"
   ]
  },
  {
   "cell_type": "markdown",
   "id": "bae29f94",
   "metadata": {
    "slideshow": {
     "slide_type": "slide"
    }
   },
   "source": [
    "## 2. Data analysis"
   ]
  },
  {
   "cell_type": "markdown",
   "id": "84ef6fa0",
   "metadata": {
    "slideshow": {
     "slide_type": "slide"
    }
   },
   "source": [
    "As a result, `colvar.0.dat`, `colvar.1.dat`, `colvar.2.dat` and `colvar.3.dat` were generated in folders `walker_0`, `walker_1`, `walker_2`, and `walker_3`, respectively. "
   ]
  },
  {
   "cell_type": "code",
   "execution_count": null,
   "id": "7a1aa0d8",
   "metadata": {
    "scrolled": true,
    "slideshow": {
     "slide_type": "fragment"
    }
   },
   "outputs": [],
   "source": [
    "%%bash\n",
    "tree"
   ]
  },
  {
   "cell_type": "markdown",
   "id": "985b88bd",
   "metadata": {
    "slideshow": {
     "slide_type": "slide"
    }
   },
   "source": [
    "As you learned yesterday, each of the `colvarr.*.data` files kept track of the collective variable for each walker, from which we can visualize below."
   ]
  },
  {
   "cell_type": "code",
   "execution_count": null,
   "id": "6e662251",
   "metadata": {
    "slideshow": {
     "slide_type": "fragment"
    }
   },
   "outputs": [],
   "source": [
    "import numpy as np\n",
    "import matplotlib.pyplot as plt\n",
    "from matplotlib import rc\n",
    "\n",
    "# Just some settings for plotting\n",
    "rc('font', **{\n",
    "    'family': 'sans-serif',\n",
    "    'sans-serif': ['DejaVu Sans'],\n",
    "    'size': 10,\n",
    "})\n",
    "# Set the font used for MathJax - more on thiprint(images)\n",
    "rc('mathtext', **{'default': 'regular'})\n",
    "plt.rc('font', family='serif')"
   ]
  },
  {
   "cell_type": "code",
   "execution_count": null,
   "id": "2166e781",
   "metadata": {
    "slideshow": {
     "slide_type": "slide"
    }
   },
   "outputs": [],
   "source": [
    "plt.figure()\n",
    "for i in range(4):\n",
    "    dist = np.transpose(np.loadtxt(f'mpi_based/walker_{i}/colvar.{i}.data'))[1]\n",
    "    plt.plot(np.arange(len(dist)) * 0.5, dist, alpha=0.7, linewidth=0.8, label=f'Walker {i}')\n",
    "    plt.xlabel('Time (ps)')\n",
    "    plt.ylabel('Ion-pair distance (nm)')\n",
    "plt.legend()\n",
    "plt.grid()"
   ]
  },
  {
   "cell_type": "markdown",
   "id": "d8d457f1",
   "metadata": {
    "slideshow": {
     "slide_type": "slide"
    }
   },
   "source": [
    "On the other hand, there will be only one `HILLS` output, which as specified in our PLUMED input file, is one level above the `walkers_*` directory and named as `hills.data`. From this file, we can rescontruct the free energy surface as a function of ion-pair distance using `sum_hills`."
   ]
  },
  {
   "cell_type": "code",
   "execution_count": null,
   "id": "b96c204a",
   "metadata": {
    "scrolled": true,
    "slideshow": {
     "slide_type": "fragment"
    }
   },
   "outputs": [],
   "source": [
    "run_plumed_cmd('sum_hills --hills mpi_based/hills.data --outfile mpi_based/fes.dat --mintozero', verbose=True)"
   ]
  },
  {
   "cell_type": "code",
   "execution_count": null,
   "id": "d8cc95b0",
   "metadata": {},
   "outputs": [],
   "source": [
    "fes_MetaD = np.transpose(np.loadtxt('mpi_based/fes.dat', comments=['@', '#']))\n",
    "kT = 300 * 1.380649E-23 * 6.02214076E23 / 1000   # 1 kT in kJ/mol\n",
    "plt.plot(fes_MetaD[0], fes_MetaD[1] / kT, label='Metadynamics')\n",
    "plt.xlabel('Ion-pair distance (nm)')\n",
    "plt.ylabel('Free energy (kT)')\n",
    "plt.legend()\n",
    "plt.grid()"
   ]
  },
  {
   "cell_type": "markdown",
   "id": "9a66073d",
   "metadata": {
    "slideshow": {
     "slide_type": "slide"
    }
   },
   "source": [
    "Notably, `sum_hills` in PLUMED does not compute the uncertainty. To calculate the uncertainty for a free energy surface obtained from metadynamics, one can perform bootstrapping for the CV times series. The protocol used by Wei-Tseis described in [this paper](https://pubs.acs.org/doi/10.1021/acs.jctc.2c01258) and you can find relevant codes in the corresponding [project repository](https://github.com/wehs7661/alchemical_metadynamics)."
   ]
  },
  {
   "cell_type": "markdown",
   "id": "48795ea8",
   "metadata": {
    "slideshow": {
     "slide_type": "slide"
    }
   },
   "source": [
    "## Reference(s)\n",
    "- The paper that proposed multiple walkers metadynamics: [Raiteri, Paolo, et al. \"Efficient reconstruction of complex free energy landscapes by multiple walkers metadynamics.\" Journal of Physical Chemistry B 110.8 (2006): 3533-3539.](https://pubs.acs.org/doi/10.1021/jp054359r)"
   ]
  },
  {
   "cell_type": "markdown",
   "id": "0882f748",
   "metadata": {
    "slideshow": {
     "slide_type": "slide"
    }
   },
   "source": [
    "## Takeaways"
   ]
  },
  {
   "cell_type": "markdown",
   "id": "d75add5d",
   "metadata": {
    "slideshow": {
     "slide_type": "fragment"
    }
   },
   "source": [
    "- Using multiple walkers metadynamics, we are able to get a free energy surface consistent with the one obtained from metadynamics we performed on Tuesday. \n",
    "- Multiple walkers metadynamics accelerate the exploration of the CV space is suitable espeically when multiple CVs are used. "
   ]
  }
 ],
 "metadata": {
  "celltoolbar": "Slideshow",
  "kernelspec": {
   "display_name": "Python 3 (ipykernel)",
   "language": "python",
   "name": "python3"
  },
  "language_info": {
   "codemirror_mode": {
    "name": "ipython",
    "version": 3
   },
   "file_extension": ".py",
   "mimetype": "text/x-python",
   "name": "python",
   "nbconvert_exporter": "python",
   "pygments_lexer": "ipython3",
   "version": "3.10.5"
  }
 },
 "nbformat": 4,
 "nbformat_minor": 5
}
