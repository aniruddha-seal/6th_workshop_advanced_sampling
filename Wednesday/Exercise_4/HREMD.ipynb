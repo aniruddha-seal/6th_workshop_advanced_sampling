{
 "cells": [
  {
   "cell_type": "markdown",
   "id": "6c30e558",
   "metadata": {},
   "source": [
    "# Exercise 4: Hamiltonian replica exchange molecular dynamics (HREMD)"
   ]
  },
  {
   "cell_type": "markdown",
   "id": "5bfd4870",
   "metadata": {},
   "source": [
    "In this exercise, the goal is to run a Hamiltonian replica exchange molecule dynamics (HREMD) simulation for the 4-site system and calculate its solvation free energy. This 4-site system, as shown in the figure below, is composed of 4 linearly-connected interaction sites. It has two metastable states separated by a torsional free energy barrier coupled with the alchemical variable. Specifically,\n",
    "- In an unbiased simulation in the first alchemical intermediate state, the system is not able to sample both torsional metastable states.\n",
    "- In an unbiased simulation in the last alchemical intermediate state, the system can sample both torsional metastable states. "
   ]
  },
  {
   "cell_type": "code",
   "execution_count": null,
   "id": "cef59f30",
   "metadata": {},
   "outputs": [],
   "source": [
    "%%bash\n",
    "# Here we remove the output of the exercise if there is any.\n",
    "dirs=(state_* dhdl_files)\n",
    "for dir in \"${dirs[@]}\"; do\n",
    "    if ls -d \"$dir\" >/dev/null 2>&1; then\n",
    "        rm -rf \"$dir\"\n",
    "    fi\n",
    "done"
   ]
  },
  {
   "cell_type": "code",
   "execution_count": null,
   "id": "02f08ab7",
   "metadata": {},
   "outputs": [],
   "source": [
    "%%bash\n",
    "tail -n 18 ../Inputs/4-site/HREMD.mdp"
   ]
  },
  {
   "cell_type": "code",
   "execution_count": null,
   "id": "11255d15",
   "metadata": {},
   "outputs": [],
   "source": [
    "%%bash\n",
    "module load gromacs/2020.2-cpu openmpi/4.0.5-gcc10.2.0\n",
    "\n",
    "n=8      # number of alchemical intermediate states\n",
    "for i in {0..7}\n",
    "do\n",
    "    mkdir state_${i} && cd state_${i}\n",
    "    cp ../../Inputs/4-site/sys.gro .\n",
    "    cp ../../Inputs/4-site/sys.top .\n",
    "    cp ../../Inputs/4-site/HREMD.mdp .\n",
    "    sed -i -e \"s/init-lambda-state        = 0/init-lambda-state        = ${i}/g\" HREMD.mdp\n",
    "    mpirun -np 1 gmx_mpi grompp -f HREMD.mdp -c sys.gro -p sys.top -o HREMD.tpr && cd ../\n",
    "done"
   ]
  },
  {
   "cell_type": "code",
   "execution_count": null,
   "id": "4e68d9cf",
   "metadata": {},
   "outputs": [],
   "source": [
    "%%time\n",
    "%%bash\n",
    "module load gromacs/2020.2-cpu openmpi/4.0.5-gcc10.2.0\n",
    "mpirun -np 8 gmx_mpi mdrun -deffnm HREMD -dhdl dhdl.xvg -replex 100 -nex 512 -multidir state_0 state_1 state_2 state_3 state_4 state_5 state_6 state_7 -noappend -ntomp 1"
   ]
  },
  {
   "cell_type": "code",
   "execution_count": null,
   "id": "7979d006",
   "metadata": {},
   "outputs": [],
   "source": [
    "%%bash\n",
    "mkdir dhdl_files && cd dhdl_files\n",
    "for i in {0..7};\n",
    "do\n",
    "    mkdir state_${i}\n",
    "    cp ../state_${i}/dhdl*xvg state_${i}/.\n",
    "done"
   ]
  },
  {
   "cell_type": "code",
   "execution_count": null,
   "id": "2f317baa",
   "metadata": {},
   "outputs": [],
   "source": [
    "import os\n",
    "import re\n",
    "import glob\n",
    "import natsort\n",
    "import pymbar\n",
    "import alchemlyb\n",
    "import numpy as np\n",
    "import matplotlib.pyplot as plt\n",
    "from matplotlib import rc\n",
    "from pymbar.timeseries import detect_equilibration, subsample_correlated_data\n",
    "from alchemlyb.preprocessing import subsampling\n",
    "from alchemlyb.estimators import MBAR\n",
    "from alchemlyb.parsing.gmx import extract_u_nk\n",
    "from alchemlyb.visualisation import plot_mbar_overlap_matrix \n",
    "\n",
    "# Just some settings for plotting\n",
    "rc('font', **{\n",
    "    'family': 'sans-serif',\n",
    "    'sans-serif': ['DejaVu Sans'],\n",
    "    'size': 10,\n",
    "})\n",
    "# Set the font used for MathJax - more on thiprint(images)\n",
    "rc('mathtext', **{'default': 'regular'})\n",
    "plt.rc('font', family='serif')"
   ]
  },
  {
   "cell_type": "code",
   "execution_count": null,
   "id": "6c7f2f74",
   "metadata": {},
   "outputs": [],
   "source": [
    "N = 8      # number of replicas\n",
    "T = 300    # simulation temperature\n",
    "dhdl_dir = 'dhdl_files'\n",
    "\n",
    "\n",
    "folders = [f'{dhdl_dir}/state_{i}' for i in range(N)]\n",
    "u_nk_data = []\n",
    "for i in range(N):\n",
    "    files = glob.glob(os.path.join(folders[i], '*dhdl*xvg*'))\n",
    "    files = natsort.natsorted(files, reverse=False)\n",
    "    print(f'  Collecting data for the following files: {\", \".join(files)}')\n",
    "    u_nk = alchemlyb.concat([extract_u_nk(xvg, T=T) for xvg in files])\n",
    "    u_nk_series = subsampling.u_nk2series(u_nk)\n",
    "    u_nk, u_nk_series = subsampling._prepare_input(u_nk, u_nk_series, drop_duplicates=True, sort=True)\n",
    "    u_nk = subsampling.slicing(u_nk, step=1)\n",
    "    u_nk_series = subsampling.slicing(u_nk_series, step=1)\n",
    "    \n",
    "    t, statinef, Neff_max = detect_equilibration(u_nk_series.values)\n",
    "    u_nk_series_equil, u_nk_equil = u_nk_series[t:], u_nk[t:]\n",
    "    indices = subsample_correlated_data(u_nk_series_equil, g=statinef)\n",
    "    preprocessed_u_nk = u_nk_equil.iloc[indices]\n",
    "    u_nk_data.append(preprocessed_u_nk)\n",
    "\n",
    "u_nk_data = alchemlyb.concat(u_nk_data)\n",
    "print('  Fitting MBAR on u_nk ...')\n",
    "try:\n",
    "    mbar_stop = False\n",
    "    mbar = MBAR().fit(u_nk_data)\n",
    "except pymbar.utils.ParameterError():\n",
    "    mbar_stop = True\n",
    "    print(\"\\sum_n W_nk is not equal to 1, probably due to insufficient overlap between states.\")\n",
    "    print(\"Stop using MBAR ...\")\n",
    "\n",
    "if mbar_stop is False:\n",
    "    print(f\"  MBAR: {mbar.delta_f_.iloc[0, -1]:.4f} +/- {mbar.d_delta_f_.iloc[0, -1]:.4f} kT\")    "
   ]
  },
  {
   "cell_type": "code",
   "execution_count": null,
   "id": "3bbd3012",
   "metadata": {},
   "outputs": [],
   "source": [
    "plot_mbar_overlap_matrix(mbar.overlap_matrix)"
   ]
  },
  {
   "cell_type": "code",
   "execution_count": null,
   "id": "705c7998",
   "metadata": {},
   "outputs": [],
   "source": [
    "def get_HREX_trajs(log):\n",
    "    \"\"\"\n",
    "    Parses the log file to get the state-space trajectory for each starting \n",
    "    configuraiton in a HREX simulation. As indicated in the source code \"mdrun/replicaexchange.cpp\",\n",
    "    the \"Order After Exchange\" is the state label corresponding to the configuration\n",
    "    that started in state listed in order, i.e. 3 0 1 2 means that the \n",
    "      - Configuration starting in state 3 (config 3) is now in state 0\n",
    "      - Configuration starting in state 0 (config 0) is now in state 1\n",
    "      - Configuration starting in state 1 (config 1) is now in state 2\n",
    "      - Configuration starting in state 2 (config 2) is now in state 3\n",
    "    Here, what we want to produce is a list of state-space trajectories with trajs[i] being\n",
    "    the continuous trajectory of config i. \n",
    "\n",
    "    Parameters\n",
    "    ----------\n",
    "    log : str\n",
    "        The filename of the log file to be parsed.\n",
    "    \n",
    "    Returns\n",
    "    -------\n",
    "    trajs : list\n",
    "        A list of state-space trajectories.\n",
    "    dt_traj : float\n",
    "        Exchange period in ps.\n",
    "    \"\"\"\n",
    "    f = open(log, 'r')\n",
    "    lines = f.readlines()\n",
    "    f.close()\n",
    "\n",
    "    pattern = re.compile('Repl  There are \\d+ replicas:')\n",
    "    \n",
    "    # First find relevant parameters\n",
    "    for l in lines:\n",
    "        if ' dt ' in l:\n",
    "            dt = float(l.split('=')[-1]) # ps\n",
    "\n",
    "        if 'gmx_mpi mdrun' in l:\n",
    "            replex = int(l.split('-replex')[1].split()[0])\n",
    "\n",
    "        if pattern.match(l):\n",
    "            n_replicas = int(l.split('are')[-1].split('replicas')[0])\n",
    "            break # this should be found last so we can break here\n",
    "\n",
    "    trajs = [list(range(n_replicas))]  # always start from [0, 1, 2, ...]\n",
    "    dt_traj = dt * replex   # exhcnage period in ps\n",
    "\n",
    "    for l in lines:\n",
    "        if 'Order After Exchange' in l:\n",
    "            config_idx = [int(i) for i in l.split(':')[1].split()]\n",
    "            state_idx = [config_idx.index(i) for i in range(n_replicas)]\n",
    "            trajs.append(state_idx)\n",
    "    trajs = np.array(trajs).T\n",
    "\n",
    "    return trajs, dt_traj"
   ]
  },
  {
   "cell_type": "code",
   "execution_count": null,
   "id": "7a6c8af8",
   "metadata": {},
   "outputs": [],
   "source": [
    "trajs, dt_traj = get_HREX_trajs('state_0/HREMD.part0001.log')"
   ]
  },
  {
   "cell_type": "code",
   "execution_count": null,
   "id": "1c220d46",
   "metadata": {},
   "outputs": [],
   "source": [
    "dt_traj"
   ]
  },
  {
   "cell_type": "code",
   "execution_count": null,
   "id": "69b1ede9",
   "metadata": {},
   "outputs": [],
   "source": [
    "cmap = plt.cm.ocean\n",
    "colors = [cmap(i) for i in np.arange(N) / N]\n",
    "\n",
    "plt.figure()\n",
    "for i in range(len(trajs)):\n",
    "    plt.plot(np.arange(len(trajs[i])) * dt_traj, trajs[i], label=f'config {i}', alpha=0.5, color=colors[i])\n",
    "    plt.xlabel('Time (ps)')\n",
    "    plt.ylabel('State index')\n",
    "    plt.legend()\n",
    "plt.grid()"
   ]
  },
  {
   "cell_type": "code",
   "execution_count": null,
   "id": "8799c396",
   "metadata": {},
   "outputs": [],
   "source": [
    "%%bash\n",
    "echo 'theta: TORSION ATOMS=1,2,3,4\n",
    "PRINT ARG=theta FILE=theta.dat STRIDE=1\n",
    "' > plumed_theta.dat"
   ]
  },
  {
   "cell_type": "code",
   "execution_count": null,
   "id": "6d8c7882",
   "metadata": {},
   "outputs": [],
   "source": [
    "import subprocess\n",
    "# define the PLUMED binary\n",
    "plumed_bin=\"singularity exec /ocean/projects/see220002p/shared/icomse_cpu.sif plumed\"\n",
    "\n",
    "# Define a function that helps us run PLUMED commands\n",
    "def run_plumed_cmd(cmd,verbose=False):\n",
    "    cmd_str=\"{} \".format(plumed_bin)+cmd\n",
    "    print(\"PLUMED command: {}\".format(cmd_str))\n",
    "    if verbose:\n",
    "        subprocess.run(cmd_str.split())\n",
    "    else:\n",
    "        subprocess.run(cmd_str.split(),stdout=subprocess.DEVNULL, stderr=subprocess.DEVNULL)"
   ]
  },
  {
   "cell_type": "code",
   "execution_count": null,
   "id": "4fc4e89e",
   "metadata": {},
   "outputs": [],
   "source": [
    "os.mkdir('theta_files')\n",
    "for i in range(N):\n",
    "    run_plumed_cmd(f'driver --mf_xtc state_{i}/HREMD.part0001.xtc --plumed plumed_theta.dat', verbose=True)\n",
    "    os.system(f'mv theta.dat theta_files/theta_{i}.dat')"
   ]
  },
  {
   "cell_type": "code",
   "execution_count": null,
   "id": "0c1630d9",
   "metadata": {},
   "outputs": [],
   "source": [
    "plt.figure(figsize=(20, 10))\n",
    "for i in range(8):\n",
    "    theta_data = np.transpose(np.loadtxt(f'theta_files/theta_{i}.dat', comments=['#!']))\n",
    "    plt.subplot(4, 2, i+1)\n",
    "    plt.scatter(theta_data[0], theta_data[1], s=0.5)\n",
    "    plt.ylim([-3, 3])\n",
    "    plt.grid()\n",
    "    plt.text(100, 2.2, f'State {i}', weight='bold', fontsize=12)\n",
    "    plt.ylabel('Dihedral angle (rad)')\n",
    "    if i >=6:\n",
    "        plt.xlabel('Time (ps)')"
   ]
  },
  {
   "cell_type": "code",
   "execution_count": null,
   "id": "742b5fdd",
   "metadata": {},
   "outputs": [],
   "source": []
  }
 ],
 "metadata": {
  "kernelspec": {
   "display_name": "Python 3 (ipykernel)",
   "language": "python",
   "name": "python3"
  },
  "language_info": {
   "codemirror_mode": {
    "name": "ipython",
    "version": 3
   },
   "file_extension": ".py",
   "mimetype": "text/x-python",
   "name": "python",
   "nbconvert_exporter": "python",
   "pygments_lexer": "ipython3",
   "version": "3.9.12"
  }
 },
 "nbformat": 4,
 "nbformat_minor": 5
}
