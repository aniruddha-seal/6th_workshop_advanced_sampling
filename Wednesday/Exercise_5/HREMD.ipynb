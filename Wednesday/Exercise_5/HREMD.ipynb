{
 "cells": [
  {
   "cell_type": "markdown",
   "id": "6c30e558",
   "metadata": {
    "slideshow": {
     "slide_type": "slide"
    }
   },
   "source": [
    "# Exercise 5: Hamiltonian replica exchange molecular dynamics (HREMD)"
   ]
  },
  {
   "cell_type": "markdown",
   "id": "ddb64908",
   "metadata": {
    "slideshow": {
     "slide_type": "slide"
    }
   },
   "source": [
    "Michael Shirts\n",
    "- University of Colorado Boulder\n",
    "- michael.shirts@colorado.edu\n",
    "\n",
    "## Instructor/Author\n",
    "Wei-Tse Hsu\n",
    "- University of Colorado Boulder\n",
    "- www.weitsehsu.com\n",
    "- wehs7661@colorado.edu\n",
    "- [@WeiTseHsu](https://twitter.com/WeiTseHsu)\n",
    "\n",
    "If you're interested, check my personal website for more future posts/tutorials about advanced sampling methods!"
   ]
  },
  {
   "cell_type": "markdown",
   "id": "5bfd4870",
   "metadata": {
    "slideshow": {
     "slide_type": "slide"
    }
   },
   "source": [
    "In this exercise, the goal is to run a Hamiltonian replica exchange molecule dynamics (HREMD) simulation for a 4-site system and calculate its solvation free energy. This 4-site system is composed of 4 linearly-connected interaction sites. "
   ]
  },
  {
   "cell_type": "markdown",
   "id": "c869ed9e",
   "metadata": {
    "slideshow": {
     "slide_type": "slide"
    }
   },
   "source": [
    "Here, we will use 8 alchemical intermediate states (hence 8 replicas in the HREMD simulation) to gradually turn off van der Waals interactions between the molecule and the solvent environment. "
   ]
  },
  {
   "cell_type": "markdown",
   "id": "f13acf39",
   "metadata": {
    "slideshow": {
     "slide_type": "fragment"
    }
   },
   "source": [
    "While the alchemical pathway (the $\\lambda$ value for each state) should be indpedendent of the free energy, the choice of pathway will greatly affect the sampling efficiency. Here are a few rules of thumb: \n",
    "- Maximize the similiarity between neighboring states.\n",
    "- Turn off charges before turning off the van der Waals interactions, so there won't be infinite attractive potential.\n",
    "- Use the soft-core potential when turning off the van der Waals interactions to avoid the singularity problem."
   ]
  },
  {
   "cell_type": "markdown",
   "id": "b5ed2742",
   "metadata": {
    "slideshow": {
     "slide_type": "slide"
    }
   },
   "source": [
    "## 1. Preparation of the input files"
   ]
  },
  {
   "cell_type": "code",
   "execution_count": null,
   "id": "cef59f30",
   "metadata": {
    "slideshow": {
     "slide_type": "slide"
    }
   },
   "outputs": [],
   "source": [
    "%%bash\n",
    "# Here we remove the output of the exercise if there is any.\n",
    "dirs=(state_* dhdl_files theta_files)\n",
    "for dir in \"${dirs[@]}\"; do\n",
    "    if ls -d \"$dir\" >/dev/null 2>&1; then\n",
    "        rm -rf \"$dir\"\n",
    "    fi\n",
    "done"
   ]
  },
  {
   "cell_type": "markdown",
   "id": "8fd57da7",
   "metadata": {
    "slideshow": {
     "slide_type": "slide"
    }
   },
   "source": [
    "The major differences between an `mdp` file for REMD simulations and one for standard MD simulation lie in the options for free energy calculations and the specification of the alchemical variables. "
   ]
  },
  {
   "cell_type": "code",
   "execution_count": null,
   "id": "02f08ab7",
   "metadata": {
    "slideshow": {
     "slide_type": "fragment"
    }
   },
   "outputs": [],
   "source": [
    "%%bash\n",
    "tail -n 16 ../Inputs/4-site/HREMD.mdp"
   ]
  },
  {
   "cell_type": "code",
   "execution_count": null,
   "id": "11255d15",
   "metadata": {
    "slideshow": {
     "slide_type": "slide"
    }
   },
   "outputs": [],
   "source": [
    "%%bash\n",
    "module load gromacs-mpi/2022.2-gcc11.3.0-openmpi4.1.4-hwloc2.8.0-b2rm openmpi/4.1.1-gcc8.3.1\n",
    "\n",
    "n=8      # number of alchemical intermediate states\n",
    "for i in {0..7}\n",
    "do\n",
    "    mkdir state_${i} && cd state_${i}\n",
    "    cp ../../Inputs/4-site/sys.gro .\n",
    "    cp ../../Inputs/4-site/sys.top .\n",
    "    cp ../../Inputs/4-site/HREMD.mdp .\n",
    "    sed -i -e \"s/init-lambda-state        = 0/init-lambda-state        = ${i}/g\" HREMD.mdp\n",
    "    mpirun -np 1 gmx_mpi grompp -f HREMD.mdp -c sys.gro -p sys.top -o HREMD.tpr && cd ../\n",
    "done"
   ]
  },
  {
   "cell_type": "markdown",
   "id": "4b14d81e",
   "metadata": {
    "slideshow": {
     "slide_type": "slide"
    }
   },
   "source": [
    "## 2. Running HREMD simulations"
   ]
  },
  {
   "cell_type": "code",
   "execution_count": null,
   "id": "4e68d9cf",
   "metadata": {
    "slideshow": {
     "slide_type": "slide"
    }
   },
   "outputs": [],
   "source": [
    "%%time\n",
    "%%bash\n",
    "module load gromacs-mpi/2022.2-gcc11.3.0-openmpi4.1.4-hwloc2.8.0-b2rm openmpi/4.1.1-gcc8.3.1\n",
    "mpirun -np 8 gmx_mpi mdrun -deffnm HREMD -dhdl dhdl.xvg -replex 100 -nex 512 -multidir state_0 state_1 state_2 state_3 state_4 state_5 state_6 state_7 -noappend -ntomp 1"
   ]
  },
  {
   "cell_type": "markdown",
   "id": "c1c8b338",
   "metadata": {
    "slideshow": {
     "slide_type": "slide"
    }
   },
   "source": [
    "## 3. Data analysis"
   ]
  },
  {
   "cell_type": "markdown",
   "id": "5b030bb6",
   "metadata": {
    "slideshow": {
     "slide_type": "slide"
    }
   },
   "source": [
    "After the simulation is finished, an `dhdl*xvg` file should appear in each folder. These `*dhdl*xvg` files contain the derivative of the total energy (or potential energy) with respect to the $\\lambda$ values, as a function of time. They are important for performing free energy calculations. "
   ]
  },
  {
   "cell_type": "code",
   "execution_count": 1,
   "id": "23a74ac5",
   "metadata": {
    "slideshow": {
     "slide_type": "fragment"
    }
   },
   "outputs": [
    {
     "name": "stderr",
     "output_type": "stream",
     "text": [
      "ls: state_0/: No such file or directory\n"
     ]
    },
    {
     "ename": "CalledProcessError",
     "evalue": "Command 'b'ls state_0/\\n'' returned non-zero exit status 1.",
     "output_type": "error",
     "traceback": [
      "\u001b[0;31m---------------------------------------------------------------------------\u001b[0m",
      "\u001b[0;31mCalledProcessError\u001b[0m                        Traceback (most recent call last)",
      "Input \u001b[0;32mIn [1]\u001b[0m, in \u001b[0;36m<cell line: 1>\u001b[0;34m()\u001b[0m\n\u001b[0;32m----> 1\u001b[0m \u001b[43mget_ipython\u001b[49m\u001b[43m(\u001b[49m\u001b[43m)\u001b[49m\u001b[38;5;241;43m.\u001b[39;49m\u001b[43mrun_cell_magic\u001b[49m\u001b[43m(\u001b[49m\u001b[38;5;124;43m'\u001b[39;49m\u001b[38;5;124;43mbash\u001b[39;49m\u001b[38;5;124;43m'\u001b[39;49m\u001b[43m,\u001b[49m\u001b[43m \u001b[49m\u001b[38;5;124;43m'\u001b[39;49m\u001b[38;5;124;43m'\u001b[39;49m\u001b[43m,\u001b[49m\u001b[43m \u001b[49m\u001b[38;5;124;43m'\u001b[39;49m\u001b[38;5;124;43mls state_0/\u001b[39;49m\u001b[38;5;130;43;01m\\n\u001b[39;49;00m\u001b[38;5;124;43m'\u001b[39;49m\u001b[43m)\u001b[49m\n",
      "File \u001b[0;32m~/opt/anaconda3/envs/osu_2022/lib/python3.10/site-packages/IPython/core/interactiveshell.py:2357\u001b[0m, in \u001b[0;36mInteractiveShell.run_cell_magic\u001b[0;34m(self, magic_name, line, cell)\u001b[0m\n\u001b[1;32m   2355\u001b[0m \u001b[38;5;28;01mwith\u001b[39;00m \u001b[38;5;28mself\u001b[39m\u001b[38;5;241m.\u001b[39mbuiltin_trap:\n\u001b[1;32m   2356\u001b[0m     args \u001b[38;5;241m=\u001b[39m (magic_arg_s, cell)\n\u001b[0;32m-> 2357\u001b[0m     result \u001b[38;5;241m=\u001b[39m \u001b[43mfn\u001b[49m\u001b[43m(\u001b[49m\u001b[38;5;241;43m*\u001b[39;49m\u001b[43margs\u001b[49m\u001b[43m,\u001b[49m\u001b[43m \u001b[49m\u001b[38;5;241;43m*\u001b[39;49m\u001b[38;5;241;43m*\u001b[39;49m\u001b[43mkwargs\u001b[49m\u001b[43m)\u001b[49m\n\u001b[1;32m   2358\u001b[0m \u001b[38;5;28;01mreturn\u001b[39;00m result\n",
      "File \u001b[0;32m~/opt/anaconda3/envs/osu_2022/lib/python3.10/site-packages/IPython/core/magics/script.py:153\u001b[0m, in \u001b[0;36mScriptMagics._make_script_magic.<locals>.named_script_magic\u001b[0;34m(line, cell)\u001b[0m\n\u001b[1;32m    151\u001b[0m \u001b[38;5;28;01melse\u001b[39;00m:\n\u001b[1;32m    152\u001b[0m     line \u001b[38;5;241m=\u001b[39m script\n\u001b[0;32m--> 153\u001b[0m \u001b[38;5;28;01mreturn\u001b[39;00m \u001b[38;5;28;43mself\u001b[39;49m\u001b[38;5;241;43m.\u001b[39;49m\u001b[43mshebang\u001b[49m\u001b[43m(\u001b[49m\u001b[43mline\u001b[49m\u001b[43m,\u001b[49m\u001b[43m \u001b[49m\u001b[43mcell\u001b[49m\u001b[43m)\u001b[49m\n",
      "File \u001b[0;32m~/opt/anaconda3/envs/osu_2022/lib/python3.10/site-packages/IPython/core/magics/script.py:305\u001b[0m, in \u001b[0;36mScriptMagics.shebang\u001b[0;34m(self, line, cell)\u001b[0m\n\u001b[1;32m    300\u001b[0m \u001b[38;5;28;01mif\u001b[39;00m args\u001b[38;5;241m.\u001b[39mraise_error \u001b[38;5;129;01mand\u001b[39;00m p\u001b[38;5;241m.\u001b[39mreturncode \u001b[38;5;241m!=\u001b[39m \u001b[38;5;241m0\u001b[39m:\n\u001b[1;32m    301\u001b[0m     \u001b[38;5;66;03m# If we get here and p.returncode is still None, we must have\u001b[39;00m\n\u001b[1;32m    302\u001b[0m     \u001b[38;5;66;03m# killed it but not yet seen its return code. We don't wait for it,\u001b[39;00m\n\u001b[1;32m    303\u001b[0m     \u001b[38;5;66;03m# in case it's stuck in uninterruptible sleep. -9 = SIGKILL\u001b[39;00m\n\u001b[1;32m    304\u001b[0m     rc \u001b[38;5;241m=\u001b[39m p\u001b[38;5;241m.\u001b[39mreturncode \u001b[38;5;129;01mor\u001b[39;00m \u001b[38;5;241m-\u001b[39m\u001b[38;5;241m9\u001b[39m\n\u001b[0;32m--> 305\u001b[0m     \u001b[38;5;28;01mraise\u001b[39;00m CalledProcessError(rc, cell)\n",
      "\u001b[0;31mCalledProcessError\u001b[0m: Command 'b'ls state_0/\\n'' returned non-zero exit status 1."
     ]
    }
   ],
   "source": [
    "%%bash\n",
    "ls state_0/"
   ]
  },
  {
   "cell_type": "code",
   "execution_count": null,
   "id": "7979d006",
   "metadata": {
    "slideshow": {
     "slide_type": "fragment"
    }
   },
   "outputs": [],
   "source": [
    "%%bash\n",
    "mkdir dhdl_files && cd dhdl_files\n",
    "for i in {0..7};\n",
    "do\n",
    "    mkdir state_${i}\n",
    "    cp ../state_${i}/dhdl*xvg state_${i}/.\n",
    "done"
   ]
  },
  {
   "cell_type": "code",
   "execution_count": null,
   "id": "2f317baa",
   "metadata": {
    "slideshow": {
     "slide_type": "slide"
    }
   },
   "outputs": [],
   "source": [
    "import os\n",
    "import re\n",
    "import glob\n",
    "import natsort\n",
    "import pymbar\n",
    "import alchemlyb\n",
    "import numpy as np\n",
    "import matplotlib.pyplot as plt\n",
    "from matplotlib import rc\n",
    "from pymbar.timeseries import detect_equilibration, subsample_correlated_data\n",
    "from alchemlyb.preprocessing import subsampling\n",
    "from alchemlyb.estimators import MBAR\n",
    "from alchemlyb.parsing.gmx import extract_u_nk\n",
    "from alchemlyb.visualisation import plot_mbar_overlap_matrix \n",
    "\n",
    "# Just some settings for plotting\n",
    "rc('font', **{\n",
    "    'family': 'sans-serif',\n",
    "    'sans-serif': ['DejaVu Sans'],\n",
    "    'size': 10,\n",
    "})\n",
    "# Set the font used for MathJax - more on thiprint(images)\n",
    "rc('mathtext', **{'default': 'regular'})\n",
    "plt.rc('font', family='serif')"
   ]
  },
  {
   "cell_type": "markdown",
   "id": "31611ab0",
   "metadata": {
    "slideshow": {
     "slide_type": "slide"
    }
   },
   "source": [
    "The protocol we adopt here for alchemical free energy calculations is composed of the following steps:\n",
    "- **Step 1**: Collect all `dhdl*xvg` files from different folders/replicas.\n",
    "- **Step 2**: For each replica, subsample the timeseries of $dH/d\\lambda$ to get the uncorrelated samples. \n",
    "- **Step 3**: Concatenate the preprocessed data from all replicas. \n",
    "- **Step 4**: Feed the concatenated data to MBAR to calculate the free energy difference. "
   ]
  },
  {
   "cell_type": "code",
   "execution_count": null,
   "id": "6c7f2f74",
   "metadata": {
    "slideshow": {
     "slide_type": "slide"
    }
   },
   "outputs": [],
   "source": [
    "N = 8      # number of replicas\n",
    "T = 300    # simulation temperature\n",
    "dhdl_dir = 'dhdl_files'\n",
    "\n",
    "folders = [f'{dhdl_dir}/state_{i}' for i in range(N)]\n",
    "u_nk_data = []\n",
    "for i in range(N):\n",
    "    files = glob.glob(os.path.join(folders[i], '*dhdl*xvg*'))\n",
    "    files = natsort.natsorted(files, reverse=False)\n",
    "    print(f'  Collecting data for the following files: {\", \".join(files)}')\n",
    "    u_nk = alchemlyb.concat([extract_u_nk(xvg, T=T) for xvg in files])\n",
    "    u_nk_series = subsampling.u_nk2series(u_nk)\n",
    "    u_nk, u_nk_series = subsampling._prepare_input(u_nk, u_nk_series, drop_duplicates=True, sort=True)\n",
    "    u_nk = subsampling.slicing(u_nk, step=1)\n",
    "    u_nk_series = subsampling.slicing(u_nk_series, step=1)\n",
    "    \n",
    "    t, statinef, Neff_max = detect_equilibration(u_nk_series.values)\n",
    "    u_nk_series_equil, u_nk_equil = u_nk_series[t:], u_nk[t:]\n",
    "    indices = subsample_correlated_data(u_nk_series_equil, g=statinef)\n",
    "    preprocessed_u_nk = u_nk_equil.iloc[indices]\n",
    "    u_nk_data.append(preprocessed_u_nk)\n",
    "\n",
    "u_nk_data = alchemlyb.concat(u_nk_data)\n",
    "print('  Fitting MBAR on u_nk ...')\n",
    "try:\n",
    "    mbar_stop = False\n",
    "    mbar = MBAR().fit(u_nk_data)\n",
    "except pymbar.utils.ParameterError():\n",
    "    mbar_stop = True\n",
    "    print(\"\\sum_n W_nk is not equal to 1, probably due to insufficient overlap between states.\")\n",
    "    print(\"Stop using MBAR ...\")\n",
    "\n",
    "if mbar_stop is False:\n",
    "    print(f\"  MBAR: {mbar.delta_f_.iloc[0, -1]:.4f} +/- {mbar.d_delta_f_.iloc[0, -1]:.4f} kT\")    "
   ]
  },
  {
   "cell_type": "markdown",
   "id": "2866a752",
   "metadata": {
    "slideshow": {
     "slide_type": "slide"
    }
   },
   "source": [
    "From the MBAR estimator fitted on the dhdl data, we can also compute the overlap matrix, which is useful for tweaking the alchemical path if we want to improve the sampling. "
   ]
  },
  {
   "cell_type": "code",
   "execution_count": null,
   "id": "3bbd3012",
   "metadata": {
    "slideshow": {
     "slide_type": "fragment"
    }
   },
   "outputs": [],
   "source": [
    "plot_mbar_overlap_matrix(mbar.overlap_matrix)"
   ]
  },
  {
   "cell_type": "markdown",
   "id": "c0d60878",
   "metadata": {
    "slideshow": {
     "slide_type": "slide"
    }
   },
   "source": [
    "The `log` files document how what replicas were exchanged along the way, which allows us to recover the continuous trajecotry for each configuration (jumping between different alchemical sates). "
   ]
  },
  {
   "cell_type": "code",
   "execution_count": null,
   "id": "705c7998",
   "metadata": {
    "slideshow": {
     "slide_type": "slide"
    }
   },
   "outputs": [],
   "source": [
    "def get_HREX_trajs(log):\n",
    "    \"\"\"\n",
    "    Parses the log file to get the state-space trajectory for each starting \n",
    "    configuraiton in a HREX simulation. As indicated in the source code \"mdrun/replicaexchange.cpp\",\n",
    "    the \"Order After Exchange\" is the state label corresponding to the configuration\n",
    "    that started in state listed in order, i.e. 3 0 1 2 means that the \n",
    "      - Configuration starting in state 3 (config 3) is now in state 0\n",
    "      - Configuration starting in state 0 (config 0) is now in state 1\n",
    "      - Configuration starting in state 1 (config 1) is now in state 2\n",
    "      - Configuration starting in state 2 (config 2) is now in state 3\n",
    "    Here, what we want to produce is a list of state-space trajectories with trajs[i] being\n",
    "    the continuous trajectory of config i. \n",
    "\n",
    "    Parameters\n",
    "    ----------\n",
    "    log : str\n",
    "        The filename of the log file to be parsed.\n",
    "    \n",
    "    Returns\n",
    "    -------\n",
    "    trajs : list\n",
    "        A list of state-space trajectories.\n",
    "    dt_traj : float\n",
    "        Exchange period in ps.\n",
    "    \"\"\"\n",
    "    f = open(log, 'r')\n",
    "    lines = f.readlines()\n",
    "    f.close()\n",
    "\n",
    "    pattern = re.compile('Repl  There are \\d+ replicas:')\n",
    "    \n",
    "    # First find relevant parameters\n",
    "    for l in lines:\n",
    "        if ' dt ' in l:\n",
    "            dt = float(l.split('=')[-1]) # ps\n",
    "\n",
    "        if 'gmx_mpi mdrun' in l:\n",
    "            replex = int(l.split('-replex')[1].split()[0])\n",
    "\n",
    "        if pattern.match(l):\n",
    "            n_replicas = int(l.split('are')[-1].split('replicas')[0])\n",
    "            break # this should be found last so we can break here\n",
    "\n",
    "    trajs = [list(range(n_replicas))]  # always start from [0, 1, 2, ...]\n",
    "    dt_traj = dt * replex   # exhcnage period in ps\n",
    "\n",
    "    for l in lines:\n",
    "        if 'Order After Exchange' in l:\n",
    "            config_idx = [int(i) for i in l.split(':')[1].split()]\n",
    "            state_idx = [config_idx.index(i) for i in range(n_replicas)]\n",
    "            trajs.append(state_idx)\n",
    "    trajs = np.array(trajs).T\n",
    "\n",
    "    return trajs, dt_traj"
   ]
  },
  {
   "cell_type": "code",
   "execution_count": null,
   "id": "69b1ede9",
   "metadata": {
    "slideshow": {
     "slide_type": "slide"
    }
   },
   "outputs": [],
   "source": [
    "state_trajs, dt_traj = get_HREX_trajs('state_0/HREMD.part0001.log')\n",
    "cmap = plt.cm.ocean\n",
    "colors = [cmap(i) for i in np.arange(N) / N]\n",
    "\n",
    "plt.figure()\n",
    "for i in range(len(state_trajs)):\n",
    "    plt.plot(np.arange(len(state_trajs[i])) * dt_traj, state_trajs[i], label=f'config {i}', alpha=0.5, color=colors[i])\n",
    "    plt.xlabel('Time (ps)')\n",
    "    plt.ylabel('State index')\n",
    "    plt.legend()\n",
    "plt.grid()"
   ]
  },
  {
   "cell_type": "markdown",
   "id": "285f9f1b",
   "metadata": {
    "slideshow": {
     "slide_type": "slide"
    }
   },
   "source": [
    "## References\n",
    "- The paper that proposed the replica-exchange framework: [Sugita, Yuji, and Yuko Okamoto. \"Replica-exchange molecular dynamics method for protein folding.\" Chemical physics letters 314.1-2 (1999): 141-151.](https://doi.org/10.1016/S0009-2614(99)01123-9)\n",
    "- The paper that proposed Hamiltonian replica exchange: [Sugita, Yuji, Akio Kitao, and Yuko Okamoto. \"Multidimensional replica-exchange method for free-energy calculations.\" The Journal of chemical physics 113.15 (2000): 6042-6051.](https://doi.org/10.1063/1.1308516)\n",
    "- An excellent review on alchemical free energy methods: [Mey, Antonia SJS, et al. \"Best practices for alchemical free energy calculations.\" arXiv preprint arXiv:2008.03067 (2020).](https://doi.org/10.33011/livecoms.2.1.18378)"
   ]
  },
  {
   "cell_type": "markdown",
   "id": "a06ba8cc",
   "metadata": {
    "slideshow": {
     "slide_type": "slide"
    }
   },
   "source": [
    "## Takeaways"
   ]
  },
  {
   "cell_type": "markdown",
   "id": "d4cbb4e5",
   "metadata": {
    "slideshow": {
     "slide_type": "fragment"
    }
   },
   "source": [
    "- The alchemical path should be tuned to make sure there is always overlap between neighboring intermediate states.\n",
    "- Turn off charges before turning off the van der Waals interactions, so there won't be infinite attractive potential.\n",
    "- Use the soft-core potential when turning off the van der Waals interactions to avoid the singularity problem.\n",
    "- Using Hamiltonian replica exchange, we are able to calculate the solvation free energy of a molecule. \n",
    "- Given sufficient swapping, all configuraitons should be able to sample all alchemical intermediate states. "
   ]
  }
 ],
 "metadata": {
  "celltoolbar": "Slideshow",
  "kernelspec": {
   "display_name": "Python 3 (ipykernel)",
   "language": "python",
   "name": "python3"
  },
  "language_info": {
   "codemirror_mode": {
    "name": "ipython",
    "version": 3
   },
   "file_extension": ".py",
   "mimetype": "text/x-python",
   "name": "python",
   "nbconvert_exporter": "python",
   "pygments_lexer": "ipython3",
   "version": "3.10.5"
  }
 },
 "nbformat": 4,
 "nbformat_minor": 5
}
