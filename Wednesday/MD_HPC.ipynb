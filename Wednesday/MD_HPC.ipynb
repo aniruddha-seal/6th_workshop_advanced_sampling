{
 "cells": [
  {
   "cell_type": "markdown",
   "id": "acffe645",
   "metadata": {},
   "source": [
    "# Enhanced sampling molecular dynamics on HPC systems"
   ]
  },
  {
   "cell_type": "markdown",
   "id": "733752bd",
   "metadata": {},
   "source": [
    "## Exercise 1: Running decoupled MD simulations in parallel"
   ]
  },
  {
   "cell_type": "code",
   "execution_count": null,
   "id": "f4fde967",
   "metadata": {},
   "outputs": [],
   "source": []
  },
  {
   "cell_type": "markdown",
   "id": "32655c8d",
   "metadata": {},
   "source": [
    "## Exercise 2: Running umbrella sampling in parallel"
   ]
  },
  {
   "cell_type": "code",
   "execution_count": null,
   "id": "4181ce0f",
   "metadata": {},
   "outputs": [],
   "source": []
  },
  {
   "cell_type": "markdown",
   "id": "cfa312fd",
   "metadata": {},
   "source": [
    "## Exercise 3: Analyzing umbrella sampling with MBAR"
   ]
  },
  {
   "cell_type": "code",
   "execution_count": null,
   "id": "c84f5bf1",
   "metadata": {},
   "outputs": [],
   "source": []
  },
  {
   "cell_type": "markdown",
   "id": "6be68a31",
   "metadata": {},
   "source": [
    "## Exercise 4: Performing and analyzing multiple walkers metadynamics"
   ]
  },
  {
   "cell_type": "code",
   "execution_count": null,
   "id": "46ee0be5",
   "metadata": {},
   "outputs": [],
   "source": []
  },
  {
   "cell_type": "markdown",
   "id": "3f975393",
   "metadata": {},
   "source": [
    "## Exercise 5: Performing and analyzing Hamiltonian replica exchange"
   ]
  },
  {
   "cell_type": "code",
   "execution_count": null,
   "id": "1635b31a",
   "metadata": {},
   "outputs": [],
   "source": []
  },
  {
   "cell_type": "markdown",
   "id": "1943156d",
   "metadata": {},
   "source": [
    "## Exercise 6: Performing and analyzing replica exchange umbrella sampling"
   ]
  },
  {
   "cell_type": "code",
   "execution_count": null,
   "id": "8ad50bca",
   "metadata": {},
   "outputs": [],
   "source": []
  }
 ],
 "metadata": {
  "kernelspec": {
   "display_name": "Python 3 (ipykernel)",
   "language": "python",
   "name": "python3"
  },
  "language_info": {
   "codemirror_mode": {
    "name": "ipython",
    "version": 3
   },
   "file_extension": ".py",
   "mimetype": "text/x-python",
   "name": "python",
   "nbconvert_exporter": "python",
   "pygments_lexer": "ipython3",
   "version": "3.8.6"
  }
 },
 "nbformat": 4,
 "nbformat_minor": 5
}
