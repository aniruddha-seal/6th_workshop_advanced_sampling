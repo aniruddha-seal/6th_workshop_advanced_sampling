{
 "cells": [
  {
   "cell_type": "markdown",
   "id": "6f78436b",
   "metadata": {},
   "source": [
    "# Metadynamics Exercise\n"
   ]
  },
  {
   "cell_type": "code",
   "execution_count": null,
   "id": "5e5f3ee5",
   "metadata": {},
   "outputs": [],
   "source": [
    "import os\n",
    "import numpy as np\n",
    "import matplotlib.pyplot as plt\n",
    "import glob\n",
    "import subprocess"
   ]
  },
  {
   "cell_type": "code",
   "execution_count": null,
   "id": "c10c551e",
   "metadata": {},
   "outputs": [],
   "source": [
    "%%bash\n",
    "source "
   ]
  },
  {
   "cell_type": "code",
   "execution_count": null,
   "id": "35c60719",
   "metadata": {},
   "outputs": [],
   "source": [
    "plt.rcParams['figure.dpi'] = 500"
   ]
  },
  {
   "cell_type": "code",
   "execution_count": null,
   "id": "153c5877",
   "metadata": {},
   "outputs": [],
   "source": [
    "home_dir=os.getcwd()\n",
    "print(home_dir)"
   ]
  },
  {
   "cell_type": "markdown",
   "id": "c4ef107a",
   "metadata": {},
   "source": [
    "## System\n",
    "\n",
    "In this tutorial, we will consider the association/dissociation of NaCl in aqueous solution. The system consists of 1 Na atom, 1 Cl atom, and 107 water molecules for a total of 323 atoms. In an effort to speed up the simulations, we employ a rather small water box, and thus need to employ smaller cutoffs than usually used. Therefore, this simulation setup should not be used in production runs. \n",
    "\n",
    "We will run the simulations at 300 K in the NPT ensemble. \n",
    "\n",
    "### Collective Variables (CVs)\n",
    "\n",
    "#### Na-Cl Distance\n",
    "\n",
    "The most relevant CV for this system is the distance between the Na and Cl atoms. If we look at the `NaCl_StartingStructure-1.gro` file, we can see Na atom is number 322 while the Cl atom is number 323. Thus, we can define the distance CV in PLUMED as\n",
    "\n",
    "`dist: DISTANCE ATOMS=322,323`\n",
    "\n",
    "#### Na Solvation \n",
    "\n",
    "Furthermore, the NaCl association/dissociation is coupled to the collective motion of the solvent. To measure that, we will use a CV that measures the solvation of the Na atom. For this, we employ the coordination number of the Na atom with respect to the oxygens of the water molecules that we define in PLUMED as\n",
    "\n",
    "<code>\n",
    "coord: COORDINATION ...\n",
    "   GROUPA=322   \n",
    "   GROUPB=1-321:3 \n",
    "   SWITCH={RATIONAL R_0=0.315 D_MAX=0.5 NN=12 MM=24}  \n",
    "   NLIST \n",
    "   NL_CUTOFF=0.55 \n",
    "   NL_STRIDE=10    \n",
    "...\n",
    "</code>\n",
    "\n",
    "Here we are using a rational switching function that measures the coordiation number in a smooth way. See the manual for __[COORDINATION](https://www.plumed.org/doc-v2.8/user-doc/html/_c_o_o_r_d_i_n_a_t_i_o_n.html)__ for further information. "
   ]
  },
  {
   "cell_type": "code",
   "execution_count": null,
   "id": "befbf073",
   "metadata": {},
   "outputs": [],
   "source": [
    "# kB*T at 300 K in kJ/mol\n",
    "kBT=2.494353\n",
    "beta=1/kBT"
   ]
  },
  {
   "cell_type": "markdown",
   "id": "190439ad",
   "metadata": {},
   "source": [
    "# Exercise 1 - Unbiased Simulation\n",
    "\n",
    "In this exercise we will perform an unbiased simulations of the system and monitor the two CVs defined above.\n",
    "\n",
    "We start copying the files from `Exercise-X` to new folder `Exercise-1` where we will perform the simulation. "
   ]
  },
  {
   "cell_type": "code",
   "execution_count": null,
   "id": "11bcc6b5",
   "metadata": {},
   "outputs": [],
   "source": [
    "%cp -r Exercise-X/ Exercise-1 "
   ]
  },
  {
   "cell_type": "code",
   "execution_count": null,
   "id": "c47cf144",
   "metadata": {},
   "outputs": [],
   "source": [
    "%cd Exercise-1/"
   ]
  },
  {
   "cell_type": "code",
   "execution_count": null,
   "id": "4ce649e6",
   "metadata": {},
   "outputs": [],
   "source": [
    "%ls"
   ]
  },
  {
   "cell_type": "markdown",
   "id": "889a92d1",
   "metadata": {},
   "source": [
    "We need to start by setting the MD parameters for GROMACS that are set in the `MD-NPT.mdp` file. \n",
    "We will generate this file below by using `cat` with the `EOF` command. \n",
    "\n",
    "We are using a MD timestep of 0.002 ps.\n",
    "\n",
    "We will run a simulation for 1000 ps, or (1000 ps)/(0.002 ps) = 500000 MD steps. This is set by the `nsteps` parameter. "
   ]
  },
  {
   "cell_type": "code",
   "execution_count": null,
   "id": "abd31673",
   "metadata": {},
   "outputs": [],
   "source": [
    "%%bash\n",
    "cat <<EOF > MD-NPT.mdp\n",
    "integrator = md\n",
    "dt = 0.002\n",
    "nsteps = 500000\n",
    "cutoff-scheme = Verlet\n",
    "coulombtype = PME\n",
    "rlist = 0.6\n",
    "rcoulomb = 0.6\n",
    "rvdw = 0.6\n",
    "constraints = h-bonds\n",
    "tcoupl =  V-rescale\n",
    "ref_t = 300\n",
    "tau-t = 1.0\n",
    "tc-grps = System\n",
    "gen-vel = no\n",
    "gen-temp = 300\n",
    "gen-seed = 2561\n",
    "DispCorr = AllEnerPres\n",
    "pcoupl = Parrinello-Rahman\n",
    "pcoupltype = isotropic\n",
    "ref-p = 1.01325\n",
    "compressibility = 4.5e-5\n",
    "nstxout-compressed = 250\n",
    "nstxout = 0\n",
    "nstvout = 0\n",
    "EOF"
   ]
  },
  {
   "cell_type": "code",
   "execution_count": null,
   "id": "fc925054",
   "metadata": {},
   "outputs": [],
   "source": [
    "# to check that the MD-NPT.mdp file was succesfully generated\n",
    "%ls"
   ]
  },
  {
   "cell_type": "markdown",
   "id": "9ab391ca",
   "metadata": {},
   "source": [
    "We then need to generate a GROMACS tpr file that we then run using `mdrun`. For this we need to have the mdp parameter file `MD-NPT.mdp`, a topology file `NaCl.top`, and a inital geometry `NaCl_StartingStructure-1.gro`. \n",
    "\n",
    "The script `generate-tpr-file.sh` will generate the tpr file. "
   ]
  },
  {
   "cell_type": "code",
   "execution_count": null,
   "id": "c68e84ae",
   "metadata": {},
   "outputs": [],
   "source": [
    "%%bash\n",
    "cat generate-tpr-file.sh"
   ]
  },
  {
   "cell_type": "code",
   "execution_count": null,
   "id": "8ebe4a01",
   "metadata": {},
   "outputs": [],
   "source": [
    "%%bash\n",
    "./generate-tpr-file.sh \"NaCl_StartingStructure-1.gro\""
   ]
  },
  {
   "cell_type": "code",
   "execution_count": null,
   "id": "c56ab780",
   "metadata": {},
   "outputs": [],
   "source": [
    "# To check that the tpr file was succesfully generated \n",
    "%ls"
   ]
  },
  {
   "cell_type": "markdown",
   "id": "824ad4a2",
   "metadata": {},
   "source": [
    "We then need to generate the PLUMED input file. \n",
    "\n",
    "In this file, we define the CVs discussed above and print them to a file called `colvar.dat` by using the `PRINT` action. The `STRIDE=250` keyword defines that we print the CV values every 250 MD steps. "
   ]
  },
  {
   "cell_type": "code",
   "execution_count": null,
   "id": "4ea2c481",
   "metadata": {},
   "outputs": [],
   "source": [
    "%%bash\n",
    "cat <<EOF > plumed.dat\n",
    "# vim:ft=plumed\n",
    "\n",
    "# Distance between Na and Cl atoms\n",
    "dist: DISTANCE ATOMS=322,323\n",
    "\n",
    "# Solvation of Na atom\n",
    "COORDINATION ...\n",
    "  LABEL=coord\n",
    "  GROUPA=322\n",
    "  GROUPB=1-321:3\n",
    "  SWITCH={RATIONAL R_0=0.315 D_MAX=0.5 NN=12 MM=24}\n",
    "  NLIST\n",
    "  NL_CUTOFF=0.55\n",
    "  NL_STRIDE=10\n",
    "... COORDINATION\n",
    "\n",
    "PRINT ARG=dist,coord FILE=colvar.data STRIDE=250\n",
    "EOF"
   ]
  },
  {
   "cell_type": "code",
   "execution_count": null,
   "id": "9f7fb9d0",
   "metadata": {},
   "outputs": [],
   "source": [
    "%ls"
   ]
  },
  {
   "cell_type": "markdown",
   "id": "3835de46",
   "metadata": {},
   "source": [
    "We then have all the files need to run the simulation. \n",
    "\n",
    "We will use the `run.sh` script to run the simulation. \n",
    "\n",
    "This script also "
   ]
  },
  {
   "cell_type": "code",
   "execution_count": null,
   "id": "e9ed276c",
   "metadata": {},
   "outputs": [],
   "source": [
    "%cat run.sh"
   ]
  },
  {
   "cell_type": "code",
   "execution_count": null,
   "id": "45a83ff8",
   "metadata": {
    "scrolled": true
   },
   "outputs": [],
   "source": [
    "%%bash\n",
    "./run.sh"
   ]
  },
  {
   "cell_type": "markdown",
   "id": "833d5968",
   "metadata": {},
   "source": [
    "As we can see, this simulation has generated various files"
   ]
  },
  {
   "cell_type": "code",
   "execution_count": null,
   "id": "4a96d29d",
   "metadata": {},
   "outputs": [],
   "source": [
    "%ls"
   ]
  },
  {
   "cell_type": "markdown",
   "id": "36263419",
   "metadata": {},
   "source": [
    "We can look at the colvar file `colvar.data`, where we can see that the first line is a header line that shows what variables are in which column."
   ]
  },
  {
   "cell_type": "code",
   "execution_count": null,
   "id": "35ffd4fe",
   "metadata": {},
   "outputs": [],
   "source": [
    "%%bash\n",
    "head colvar.data"
   ]
  },
  {
   "cell_type": "markdown",
   "id": "e4f206c7",
   "metadata": {},
   "source": [
    "We define two python functions to read the data from the colvar file, and to plot it, that we will use in the following."
   ]
  },
  {
   "cell_type": "code",
   "execution_count": null,
   "id": "425b9add",
   "metadata": {},
   "outputs": [],
   "source": [
    "def get_colvardata(filename_colvar):\n",
    "    with open(filename_colvar,'r') as colvar_file:\n",
    "        colvar_labels = colvar_file.readline().split()[2:]\n",
    "    colvar_data=np.loadtxt(filename_colvar)\n",
    "    return (colvar_labels,colvar_data)"
   ]
  },
  {
   "cell_type": "code",
   "execution_count": null,
   "id": "66a0a0fa",
   "metadata": {},
   "outputs": [],
   "source": [
    "def plot_colvardata(filename_colvar,column):\n",
    "    (colvar_labels,colvar_data)=get_colvardata(filename_colvar)\n",
    "    plt.plot(colvar_data[:,0],colvar_data[:,column-1],\".\")\n",
    "    plt.title(colvar_labels[column-1])\n",
    "    plt.xlabel(\"Time [ps]\")\n",
    "    plt.ylabel(colvar_labels[column-1])\n",
    "    plt.show()"
   ]
  },
  {
   "cell_type": "markdown",
   "id": "4f5c0aa8",
   "metadata": {},
   "source": [
    "Let us plot the time series of the distance, which is column 2 in the colvar file."
   ]
  },
  {
   "cell_type": "code",
   "execution_count": null,
   "id": "84ee3e1a",
   "metadata": {},
   "outputs": [],
   "source": [
    "plot_colvardata(\"colvar.data\",2)"
   ]
  },
  {
   "cell_type": "markdown",
   "id": "f27b6df2",
   "metadata": {},
   "source": [
    "We can see that there are some transitions between the associated and dissociated state.  "
   ]
  },
  {
   "cell_type": "markdown",
   "id": "f47d0297",
   "metadata": {},
   "source": [
    "We want to estimate the fluctations (i.e., standard deviations) of the distance CV to select the sigma value for the metadynamics simulations. However, we need to do that separately for the associated and dissociated state. We use a distance of 0.35 to separate the two states. We can do that with following python code. "
   ]
  },
  {
   "cell_type": "code",
   "execution_count": null,
   "id": "238ac1a8",
   "metadata": {},
   "outputs": [],
   "source": [
    "(labels,colvar_data)=get_colvardata(\"colvar.data\")\n",
    "# distance is 2nd column, 1 in python indexing \n",
    "time = colvar_data[:,0]\n",
    "dist = colvar_data[:,1]\n",
    "\n",
    "dist_separate=0.35\n",
    "dist_assoc=   dist[dist<dist_separate]\n",
    "dist_dissoc=  dist[dist>dist_separate]\n",
    "time_assoc=   time[dist<dist_separate]\n",
    "time_dissoc=  time[dist>dist_separate]\n",
    "\n",
    "plt.plot(time_assoc,dist_assoc,'.',label=\"Associated\")\n",
    "plt.plot(time_dissoc,dist_dissoc,'.',label=\"Dissociated\")\n",
    "plt.xlabel(\"Time [ps]\")\n",
    "plt.ylabel(\"Distance [nm]\")\n",
    "plt.legend()\n",
    "plt.show()\n",
    "\n",
    "print(\"Distance CV\")\n",
    "print(\" Associated State\")\n",
    "print(\"   Average: {:.3f}\".format(np.average(dist_assoc)))\n",
    "print(\"   Standard Deviation: {:.3f}\".format(np.std(dist_assoc)))\n",
    "print(\" Dissociated State\")\n",
    "print(\"   Average: {:.3f}\".format(np.average(dist_dissoc)))\n",
    "print(\"   Standard Deviation: {:.3f}\".format(np.std(dist_dissoc)))\n"
   ]
  },
  {
   "cell_type": "markdown",
   "id": "4f78b63a",
   "metadata": {},
   "source": [
    "When determining the approriate value for the width of the Gaussian (i.e., SIGMA parameter) for a CV, we need to consider the lower value of the fluctions, which is in this case is for the more ordered associated state. \n",
    "\n",
    "Thus, from these results, we can determine that an approriate value for the width of the Gaussian (i.e., SIGMA parameter), for the distance CV is around 0.01 nm. If we would use the value for the dissociated state of around 0.2 nm it is likely that we smear out the free energy surface. \n",
    "\n",
    "**Thus we get that an approriate value is around 0.01 nm**"
   ]
  },
  {
   "cell_type": "markdown",
   "id": "4cc0d510",
   "metadata": {},
   "source": [
    "Before continuing, we should look at the behavior of the solvation CV (the 3rd column)"
   ]
  },
  {
   "cell_type": "code",
   "execution_count": null,
   "id": "35c33393",
   "metadata": {},
   "outputs": [],
   "source": [
    "plot_colvardata(\"colvar.data\",3)"
   ]
  },
  {
   "cell_type": "markdown",
   "id": "391ff69f",
   "metadata": {},
   "source": [
    "We can also look at the correlation of the distance and solvation CVs"
   ]
  },
  {
   "cell_type": "code",
   "execution_count": null,
   "id": "fefe3d72",
   "metadata": {},
   "outputs": [],
   "source": [
    "(labels,colvar_data)=get_colvardata(\"colvar.data\")\n",
    "plt.plot(colvar_data[:,1],colvar_data[:,2],'.')\n",
    "plt.xlabel(labels[1])\n",
    "plt.ylabel(labels[2])\n",
    "plt.show()"
   ]
  },
  {
   "cell_type": "markdown",
   "id": "c021b85d",
   "metadata": {},
   "source": [
    "Which are tightly correlated, as expected"
   ]
  },
  {
   "cell_type": "code",
   "execution_count": null,
   "id": "e3f5bccd",
   "metadata": {},
   "outputs": [],
   "source": [
    "%cd .."
   ]
  },
  {
   "cell_type": "markdown",
   "id": "d046d2c1",
   "metadata": {},
   "source": [
    "# Exercise 2 - Biasing Distance CV\n",
    "\n",
    "We will now consider exercise 2 where we will bias the distance CV. \n",
    "\n",
    "We will start with copying a new folder for the runs and generating all the GROMACS files. \n",
    "\n",
    "Now we will run the simulation for 5000 ps (2500000 MD steps). "
   ]
  },
  {
   "cell_type": "code",
   "execution_count": null,
   "id": "50af1170",
   "metadata": {},
   "outputs": [],
   "source": [
    "os.chdir(home_dir)"
   ]
  },
  {
   "cell_type": "code",
   "execution_count": null,
   "id": "ff67765e",
   "metadata": {},
   "outputs": [],
   "source": [
    "%cp -r Exercise-X Exercise-2 "
   ]
  },
  {
   "cell_type": "code",
   "execution_count": null,
   "id": "8403bb65",
   "metadata": {},
   "outputs": [],
   "source": [
    "%cd Exercise-2/"
   ]
  },
  {
   "cell_type": "code",
   "execution_count": null,
   "id": "b65bbabf",
   "metadata": {},
   "outputs": [],
   "source": [
    "%%bash\n",
    "cat <<EOF > MD-NPT.mdp\n",
    "integrator = md\n",
    "dt = 0.002\n",
    "nsteps = 2500000\n",
    "cutoff-scheme = Verlet\n",
    "coulombtype = PME\n",
    "rlist = 0.6\n",
    "rcoulomb = 0.6\n",
    "rvdw = 0.6\n",
    "constraints = h-bonds\n",
    "tcoupl =  V-rescale\n",
    "ref_t = 300\n",
    "tau-t = 1.0\n",
    "tc-grps = System\n",
    "gen-vel = no\n",
    "gen-temp = 300\n",
    "gen-seed = 2561\n",
    "DispCorr = AllEnerPres\n",
    "pcoupl = Parrinello-Rahman\n",
    "pcoupltype = isotropic\n",
    "ref-p = 1.01325\n",
    "compressibility = 4.5e-5\n",
    "nstxout-compressed = 250\n",
    "nstxout = 0\n",
    "nstvout = 0\n",
    "EOF"
   ]
  },
  {
   "cell_type": "code",
   "execution_count": null,
   "id": "810502d8",
   "metadata": {},
   "outputs": [],
   "source": [
    "%%bash\n",
    "./generate-tpr-file.sh \"NaCl_StartingStructure-1.gro\""
   ]
  },
  {
   "cell_type": "markdown",
   "id": "744ee022",
   "metadata": {},
   "source": [
    "Now we need to setup the PLMUED input file for the Metadynamics runs. For that we add a `METAD` action to the input file. \n",
    "\n",
    "Add more on METAD parameters\n"
   ]
  },
  {
   "cell_type": "code",
   "execution_count": null,
   "id": "ef5281ed",
   "metadata": {},
   "outputs": [],
   "source": [
    "%%bash\n",
    "cat <<EOF > plumed.dat\n",
    "# vim:ft=plumed\n",
    "\n",
    "# Distance between Na and Cl atoms\n",
    "dist: DISTANCE ATOMS=322,323\n",
    "\n",
    "# Solvation of Na atom\n",
    "COORDINATION ...\n",
    "  LABEL=coord\n",
    "  GROUPA=322\n",
    "  GROUPB=1-321:3\n",
    "  SWITCH={RATIONAL R_0=0.315 D_MAX=0.5 NN=12 MM=24}\n",
    "  NLIST\n",
    "  NL_CUTOFF=0.55\n",
    "  NL_STRIDE=10\n",
    "... COORDINATION\n",
    "\n",
    "METAD ...\n",
    "  LABEL=mtd\n",
    "  ARG=dist\n",
    "  PACE=500\n",
    "  SIGMA=0.02\n",
    "  HEIGHT=1.25\n",
    "  BIASFACTOR=5\n",
    "  GRID_MIN=0.0\n",
    "  GRID_MAX=1.5\n",
    "  CALC_RCT\n",
    "  FILE=hills.data\n",
    "... METAD\n",
    "\n",
    "PRINT ARG=dist,coord,mtd.* FILE=colvar.data STRIDE=250\n",
    "EOF"
   ]
  },
  {
   "cell_type": "code",
   "execution_count": null,
   "id": "4903b038",
   "metadata": {},
   "outputs": [],
   "source": [
    "%ls"
   ]
  },
  {
   "cell_type": "code",
   "execution_count": null,
   "id": "00c921ac",
   "metadata": {},
   "outputs": [],
   "source": [
    "%%bash\n",
    "./run.sh"
   ]
  },
  {
   "cell_type": "code",
   "execution_count": null,
   "id": "58ee7ddc",
   "metadata": {},
   "outputs": [],
   "source": [
    "%ls"
   ]
  },
  {
   "cell_type": "markdown",
   "id": "26679af8",
   "metadata": {},
   "source": [
    "Let start with looking at the time series of the distance CV that we are biasing"
   ]
  },
  {
   "cell_type": "code",
   "execution_count": null,
   "id": "0a276e30",
   "metadata": {
    "scrolled": false
   },
   "outputs": [],
   "source": [
    "plot_colvardata(\"./colvar.data\",2)"
   ]
  },
  {
   "cell_type": "markdown",
   "id": "30505ae8",
   "metadata": {},
   "source": [
    "We can see that now there are much more frequent transtions between the two states "
   ]
  },
  {
   "cell_type": "markdown",
   "id": "6c912f5a",
   "metadata": {},
   "source": [
    "We now also have the `hills.data` file that includes the added Gaussians. "
   ]
  },
  {
   "cell_type": "code",
   "execution_count": null,
   "id": "9388762a",
   "metadata": {},
   "outputs": [],
   "source": [
    "%%bash\n",
    "head hills.data"
   ]
  },
  {
   "cell_type": "markdown",
   "id": "8dec661b",
   "metadata": {},
   "source": [
    "We should also look at the height of the added Gaussians, which should decrease as the simulation progresses and go to zero in the long time limit. This is in the 4th column in the `hills.data` file "
   ]
  },
  {
   "cell_type": "code",
   "execution_count": null,
   "id": "cd042197",
   "metadata": {},
   "outputs": [],
   "source": [
    "plot_colvardata(\"./hills.data\",4)"
   ]
  },
  {
   "cell_type": "markdown",
   "id": "81e4c7cf",
   "metadata": {},
   "source": [
    "We can obtain the FES from the added Gaussian by using the `sum_hills` command line tool of PLUMED "
   ]
  },
  {
   "cell_type": "code",
   "execution_count": null,
   "id": "cd812842",
   "metadata": {},
   "outputs": [],
   "source": [
    "%%bash\n",
    "mkdir fes\n",
    "plumed sum_hills --hills hills.data --outfile fes/fes.data \n",
    "plumed sum_hills --hills hills.data --mintozero --outfile fes/fes.mintozero.data "
   ]
  },
  {
   "cell_type": "code",
   "execution_count": null,
   "id": "b29c35c9",
   "metadata": {},
   "outputs": [],
   "source": [
    "# Plot FES \n",
    "\n",
    "fes=np.loadtxt(\"fes/fes.data\")\n",
    "plt.plot(fes[:,0],fes[:,1]/kBT,'-')\n",
    "plt.xlabel(\"Na-Cl Distance [nm]\")\n",
    "plt.ylabel(\"Free Energy [kBT]\")"
   ]
  },
  {
   "cell_type": "code",
   "execution_count": null,
   "id": "fce80507",
   "metadata": {},
   "outputs": [],
   "source": []
  },
  {
   "cell_type": "code",
   "execution_count": null,
   "id": "e560b3b2",
   "metadata": {},
   "outputs": [],
   "source": [
    "%%bash\n",
    "mkdir fes-stride-500\n",
    "plumed sum_hills --hills hills.data --mintozero --stride 500 --outfile fes-stride-500/fes.stride-"
   ]
  },
  {
   "cell_type": "code",
   "execution_count": null,
   "id": "8c457081",
   "metadata": {},
   "outputs": [],
   "source": [
    "fes_stride=500\n",
    "for i, f in enumerate(glob.glob(\"fes-stride-500/fes.stride-*\")):\n",
    "    time=(i+1)*fes_stride\n",
    "    fes=np.loadtxt(f)\n",
    "    plt.plot(fes[:,0],fes[:,1]/kBT,'-',label=\"{:4d} ps\".format(time))    \n",
    "plt.xlabel(\"Na-Cl Distance [nm]\")\n",
    "plt.ylabel(\"Free Energy [kBT]\")\n",
    "plt.legend()\n",
    "plt.show()"
   ]
  },
  {
   "cell_type": "markdown",
   "id": "82e994f4",
   "metadata": {},
   "source": [
    "## Free Energy Difference "
   ]
  },
  {
   "cell_type": "code",
   "execution_count": null,
   "id": "9289dd54",
   "metadata": {},
   "outputs": [],
   "source": [
    "# Plot PDF\n",
    "\n",
    "fes=np.loadtxt(\"fes/fes.data\")\n",
    "pdf=np.exp(-beta*(fes[:,1]-np.min(fes[:,1])))\n",
    "plt.plot(fes[:,0],pdf,'-')\n",
    "plt.xlabel(\"Na-Cl Distance [nm]\")\n",
    "plt.ylabel(\"Probablity\")\n",
    "\n",
    "plt.ylim([0,1.1])\n",
    "\n",
    "barrier_location=0.36\n",
    "plt.axvspan(0.2,barrier_location,alpha=0.2,color='orange')\n",
    "plt.axvspan(barrier_location,np.max(fes[:,0]),alpha=0.2,color='green')"
   ]
  },
  {
   "cell_type": "code",
   "execution_count": null,
   "id": "bb5f30b7",
   "metadata": {},
   "outputs": [],
   "source": [
    "def calc_free_energy_difference(fes_file):\n",
    "    barrier_location=0.36\n",
    "    fes_data = np.loadtxt(fes_file)\n",
    "    distance = fes_data[:,0]\n",
    "    fes = fes_data[:,1]-np.min(fes_data[:,1])\n",
    "    prob = np.exp(-beta*fes)\n",
    "    prob_A = 0.0\n",
    "    prob_B = 0.0\n",
    "    for i in range(prob.size):\n",
    "        if(distance[i]<barrier_location): \n",
    "            prob_A += prob[i]\n",
    "        if(distance[i]>barrier_location): \n",
    "            prob_B += prob[i]\n",
    "    free_energy_difference = -np.log(prob_A/prob_B)\n",
    "    return free_energy_difference"
   ]
  },
  {
   "cell_type": "code",
   "execution_count": null,
   "id": "ebb6a0eb",
   "metadata": {},
   "outputs": [],
   "source": [
    "%%bash\n",
    "mkdir fes-stride-100\n",
    "plumed sum_hills --hills hills.data --mintozero --stride 100 --outfile fes-stride-100/fes.stride-"
   ]
  },
  {
   "cell_type": "code",
   "execution_count": null,
   "id": "7529e360",
   "metadata": {},
   "outputs": [],
   "source": [
    "fe_time=[]\n",
    "fe_diff=[]\n",
    "fes_stride=100\n",
    "for i, f in enumerate(glob.glob(\"fes-stride-100/fes.stride-*\")):\n",
    "    time=(i+1)*fes_stride\n",
    "    fe_time.append(time)\n",
    "    fe_diff.append(calc_free_energy_difference(f))\n",
    "\n",
    "plt.plot(fe_time,fe_diff)\n",
    "plt.xlabel(\"Time [ps]\")\n",
    "plt.ylabel(\"Free Energy Difference [kBT]\")\n",
    "plt.title(\"Free Energy Difference\")\n",
    "plt.ylim([-4.0,4.0])\n",
    "\n"
   ]
  },
  {
   "cell_type": "markdown",
   "id": "f05d7f50",
   "metadata": {},
   "source": [
    "# Exercise 3 - Reweighting\n",
    "\n",
    "## Reweighthing on distance CV"
   ]
  },
  {
   "cell_type": "code",
   "execution_count": null,
   "id": "8714e34f",
   "metadata": {},
   "outputs": [],
   "source": [
    "%%bash\n",
    "head colvar.data"
   ]
  },
  {
   "cell_type": "code",
   "execution_count": null,
   "id": "85ee2bc4",
   "metadata": {
    "scrolled": false
   },
   "outputs": [],
   "source": [
    "plot_colvardata(\"colvar.data\",4)\n",
    "plot_colvardata(\"colvar.data\",5)\n",
    "plot_colvardata(\"colvar.data\",6)"
   ]
  },
  {
   "cell_type": "code",
   "execution_count": null,
   "id": "68c1a6d2",
   "metadata": {},
   "outputs": [],
   "source": [
    "%%bash\n",
    "mkdir fes-reweight\n"
   ]
  },
  {
   "cell_type": "code",
   "execution_count": null,
   "id": "b205103a",
   "metadata": {},
   "outputs": [],
   "source": [
    "%%bash\n",
    "cat <<EOF > fes-reweight/plumed_reweight.dat\n",
    "# vim:ft=plumed\n",
    "\n",
    "dist:   READ FILE=fes-reweight/colvar_reweight.data IGNORE_TIME VALUES=dist\n",
    "coord:  READ FILE=fes-reweight/colvar_reweight.data IGNORE_TIME VALUES=coord\n",
    "mtd:    READ FILE=fes-reweight/colvar_reweight.data IGNORE_TIME VALUES=mtd.rbias\n",
    "\n",
    "weights: REWEIGHT_BIAS TEMP=300 ARG=mtd.rbias\n",
    "\n",
    "HISTOGRAM ...\n",
    "  ARG=dist\n",
    "  GRID_MIN=0.2\n",
    "  GRID_MAX=1.5\n",
    "  GRID_BIN=100\n",
    "  KERNEL=DISCRETE\n",
    "  LOGWEIGHTS=weights\n",
    "  LABEL=hg_dist\n",
    "... HISTOGRAM\n",
    "\n",
    "fes_dist: CONVERT_TO_FES GRID=hg_dist TEMP=300 MINTOZERO\n",
    "DUMPGRID GRID=fes_dist FILE=fes-reweight/fes-reweight.dist.data FMT=%24.16e\n",
    "EOF"
   ]
  },
  {
   "cell_type": "code",
   "execution_count": null,
   "id": "af3db5ef",
   "metadata": {
    "scrolled": false
   },
   "outputs": [],
   "source": [
    "for i in range(0,1001,100):\n",
    "    subprocess.run(\"rm -f fes-reweight/fes-reweight.dist.data\".split(),stdout=subprocess.DEVNULL, stderr=subprocess.DEVNULL)\n",
    "    subprocess.run(\"rm -f fes-reweight/colvar_reweight.data\".split(),stdout=subprocess.DEVNULL, stderr=subprocess.DEVNULL)\n",
    "    subprocess.run(\"./trim-colvar-file.py --colvar-file colvar.data --output-file fes-reweight/colvar_reweight.data --time-min {0}\".format(i).split(),stdout=subprocess.DEVNULL, stderr=subprocess.DEVNULL)\n",
    "    subprocess.run(\"plumed driver --plumed fes-reweight/plumed_reweight.dat --noatoms\".split(),stdout=subprocess.DEVNULL, stderr=subprocess.DEVNULL)\n",
    "    fes_data=np.loadtxt(\"fes-reweight/fes-reweight.dist.data\")\n",
    "    plt.plot(fes_data[:,0],fes_data[:,1]/kBT,label=\"Trim {} ps\".format(i))\n",
    "    plt.xlabel(\"Na-Cl distance [nm]\")  \n",
    "    plt.ylabel(\"Free Energy [kBT]\")\n",
    "    plt.title(\"Reweighted FES\")\n",
    "    plt.legend()\n",
    "    subprocess.run(\"rm -f fes-reweight/fes-reweight.dist.data\".split())\n",
    "    subprocess.run(\"rm -f fes-reweight/colvar_reweight.data\".split())\n",
    "    plt.ylim([0,18])"
   ]
  },
  {
   "cell_type": "code",
   "execution_count": null,
   "id": "424e5204",
   "metadata": {},
   "outputs": [],
   "source": [
    "time_trim=500\n",
    "subprocess.run(\"./trim-colvar-file.py --colvar-file colvar.data --output-file fes-reweight/colvar_reweight.data --time-min {0}\".format(time_trim).split(),stdout=subprocess.DEVNULL, stderr=subprocess.DEVNULL)\n",
    "subprocess.run(\"plumed driver --plumed fes-reweight/plumed_reweight.dat --noatoms\".split(),stdout=subprocess.DEVNULL, stderr=subprocess.DEVNULL)\n",
    "\n"
   ]
  },
  {
   "cell_type": "code",
   "execution_count": null,
   "id": "8ae3c6ba",
   "metadata": {},
   "outputs": [],
   "source": [
    "fes_reweight=np.loadtxt(\"fes-reweight/fes-reweight.dist.data\")\n",
    "fes_sumhills=np.loadtxt(\"fes/fes.mintozero.data\")\n",
    "\n",
    "plt.plot(fes_reweight[:,0],fes_reweight[:,1]/kBT,'-',label=\"Reweighted\")\n",
    "plt.plot(fes_sumhills[:,0],fes_sumhills[:,1]/kBT,'-',label=\"From bias potential\")\n",
    "plt.xlabel(\"Na-Cl Distance [nm]\")\n",
    "plt.ylabel(\"Free Energy [kBT]\")\n"
   ]
  },
  {
   "cell_type": "markdown",
   "id": "fc7e51fd",
   "metadata": {},
   "source": [
    "## Reweighting on both distance and solvation CV"
   ]
  },
  {
   "cell_type": "code",
   "execution_count": null,
   "id": "f7c6cf71",
   "metadata": {},
   "outputs": [],
   "source": [
    "%%bash\n",
    "cat << EOF > fes-reweight/plumed_reweight.2D.dat \n",
    "# vim:ft=plumed\n",
    "\n",
    "dist:   READ FILE=fes-reweight/colvar_reweight.data IGNORE_TIME VALUES=dist\n",
    "coord:  READ FILE=fes-reweight/colvar_reweight.data IGNORE_TIME VALUES=coord\n",
    "mtd:    READ FILE=fes-reweight/colvar_reweight.data IGNORE_TIME VALUES=mtd.rbias\n",
    "\n",
    "weights: REWEIGHT_BIAS TEMP=300 ARG=mtd.rbias\n",
    "\n",
    "HISTOGRAM ...\n",
    "  ARG=dist,coord\n",
    "  GRID_MIN=0.2,2.5\n",
    "  GRID_MAX=0.9,7.5\n",
    "  GRID_BIN=200,200\n",
    "  BANDWIDTH=0.004,0.04\n",
    "  LOGWEIGHTS=weights\n",
    "  LABEL=hg_dist_coord\n",
    "... HISTOGRAM\n",
    "\n",
    "fes_dist_coord: CONVERT_TO_FES GRID=hg_dist_coord TEMP=300 MINTOZERO\n",
    "DUMPGRID GRID=fes_dist_coord FILE=fes-reweight/fes-reweight.dist-coord.data FMT=%24.16e\n",
    "EOF"
   ]
  },
  {
   "cell_type": "code",
   "execution_count": null,
   "id": "f49a08f9",
   "metadata": {},
   "outputs": [],
   "source": [
    "%%bash\n",
    "plumed driver --plumed fes-reweight/plumed_reweight.2D.dat --noatoms &> /dev/null"
   ]
  },
  {
   "cell_type": "code",
   "execution_count": null,
   "id": "c17ef5c9",
   "metadata": {},
   "outputs": [],
   "source": [
    "fes_data = np.loadtxt(\"./fes-reweight/fes-reweight.dist-coord.data\")\n",
    "distance = fes_data[:,0].reshape(201,201)\n",
    "coord =    fes_data[:,1].reshape(201,201)\n",
    "fes_2d =   fes_data[:,2].reshape(201,201)\n",
    "from matplotlib import cm\n",
    "plt.contourf(distance,coord,fes_2d/kBT, levels=np.linspace(0,10,101), cmap=cm.jet)\n",
    "plt.xlabel(\"Na-Cl distance [nm]\")\n",
    "plt.ylabel(\"Solvation of Na\")\n",
    "plt.title(\"FES - Reweighting\")\n",
    "plt.colorbar(label=\"Free Energy [kBT]\", ticks=range(0,11))"
   ]
  },
  {
   "cell_type": "markdown",
   "id": "89762ef2",
   "metadata": {},
   "source": [
    "# Exercise 4 - Biasing both distance and solvation CV"
   ]
  },
  {
   "cell_type": "code",
   "execution_count": null,
   "id": "4242a0ce",
   "metadata": {},
   "outputs": [],
   "source": [
    "os.chdir(home_dir)"
   ]
  },
  {
   "cell_type": "code",
   "execution_count": null,
   "id": "38a4dd9d",
   "metadata": {},
   "outputs": [],
   "source": [
    "%%bash\n",
    "cp -r Exercise-X Exercise-4\n"
   ]
  },
  {
   "cell_type": "code",
   "execution_count": null,
   "id": "e230d832",
   "metadata": {},
   "outputs": [],
   "source": [
    "%cd Exercise-4/"
   ]
  },
  {
   "cell_type": "code",
   "execution_count": null,
   "id": "404ad838",
   "metadata": {},
   "outputs": [],
   "source": [
    "%%bash\n",
    "cat <<EOF > MD-NPT.mdp\n",
    "integrator = md\n",
    "dt = 0.002\n",
    "nsteps = 2500000\n",
    "cutoff-scheme = Verlet\n",
    "coulombtype = PME\n",
    "rlist = 0.6\n",
    "rcoulomb = 0.6\n",
    "rvdw = 0.6\n",
    "constraints = h-bonds\n",
    "tcoupl =  V-rescale\n",
    "ref_t = 300\n",
    "tau-t = 1.0\n",
    "tc-grps = System\n",
    "gen-vel = no\n",
    "gen-temp = 300\n",
    "gen-seed = 2561\n",
    "DispCorr = AllEnerPres\n",
    "pcoupl = Parrinello-Rahman\n",
    "pcoupltype = isotropic\n",
    "ref-p = 1.01325\n",
    "compressibility = 4.5e-5\n",
    "nstxout-compressed = 250\n",
    "nstxout = 0\n",
    "nstvout = 0\n",
    "EOF"
   ]
  },
  {
   "cell_type": "code",
   "execution_count": null,
   "id": "1136f744",
   "metadata": {},
   "outputs": [],
   "source": [
    "%%bash\n",
    "./generate-tpr-file.sh NaCl_StartingStructure-1.gro\n"
   ]
  },
  {
   "cell_type": "code",
   "execution_count": null,
   "id": "871df5d4",
   "metadata": {},
   "outputs": [],
   "source": [
    "%%bash\n",
    "cat <<EOF > plumed.dat\n",
    "# vim:ft=plumed\n",
    "\n",
    "# Distance between Na and Cl atoms\n",
    "dist: DISTANCE ATOMS=322,323\n",
    "\n",
    "# Solvation of Na atom\n",
    "COORDINATION ...\n",
    "  LABEL=coord\n",
    "  GROUPA=322\n",
    "  GROUPB=1-321:3\n",
    "  SWITCH={RATIONAL R_0=0.315 D_MAX=0.5 NN=12 MM=24}\n",
    "  NLIST\n",
    "  NL_CUTOFF=0.55\n",
    "  NL_STRIDE=10\n",
    "... COORDINATION\n",
    "\n",
    "METAD ...\n",
    "  LABEL=mtd\n",
    "  ARG=dist,coord\n",
    "  PACE=500\n",
    "  SIGMA=0.02,0.1 \n",
    "  HEIGHT=1.25\n",
    "  BIASFACTOR=5\n",
    "  GRID_MIN=0.0,2.0\n",
    "  GRID_MAX=1.5,9.0\n",
    "  CALC_RCT\n",
    "  FILE=hills.data\n",
    "... METAD\n",
    "\n",
    "PRINT ARG=dist,coord,mtd.* FILE=colvar.data STRIDE=250\n",
    "EOF"
   ]
  },
  {
   "cell_type": "code",
   "execution_count": null,
   "id": "9c63da6d",
   "metadata": {},
   "outputs": [],
   "source": [
    "%%bash\n",
    "./run.sh"
   ]
  },
  {
   "cell_type": "code",
   "execution_count": null,
   "id": "d75e0f23",
   "metadata": {
    "scrolled": false
   },
   "outputs": [],
   "source": [
    "plot_colvardata(\"./colvar.data\",2)\n",
    "plot_colvardata(\"./colvar.data\",3)\n",
    "plot_colvardata(\"./hills.data\",6)"
   ]
  },
  {
   "cell_type": "code",
   "execution_count": null,
   "id": "6ae0768f",
   "metadata": {
    "scrolled": true
   },
   "outputs": [],
   "source": [
    "%%bash\n",
    "rm -rf fes-stride-1000 \n",
    "mkdir fes-stride-1000\n",
    "plumed sum_hills --hills hills.data --mintozero --stride 1000 --kt 2.494353 --idw dist --outfile fes-stride-1000/fes.dist.stride-\n",
    "plumed sum_hills --hills hills.data --mintozero --stride 1000 --kt 2.494353 --idw coord --outfile fes-stride-1000/fes.coord.stride-"
   ]
  },
  {
   "cell_type": "code",
   "execution_count": null,
   "id": "a240d85f",
   "metadata": {},
   "outputs": [],
   "source": [
    "fes_stride=1000\n",
    "num_fesfile=len(glob.glob(\"fes-stride-1000/fes.dist.stride-*\"))\n",
    "for i in range(num_fesfile):  \n",
    "    if i == num_fesfile-1: continue\n",
    "    fesfile=\"fes-stride-1000/fes.dist.stride-{}.dat\".format(i)\n",
    "    time=(i+1)*fes_stride\n",
    "    fes=np.loadtxt(fesfile)\n",
    "    plt.plot(fes[:,0],fes[:,1]/kBT,'-',label=\"{:4d} ps\".format(time))    \n",
    "plt.xlabel(\"Na-Cl Distance [nm]\")\n",
    "plt.ylabel(\"Free Energy [kBT]\")\n",
    "plt.legend()\n",
    "plt.show()"
   ]
  },
  {
   "cell_type": "code",
   "execution_count": null,
   "id": "33b019e2",
   "metadata": {},
   "outputs": [],
   "source": [
    "fes_stride=1000\n",
    "num_fesfile=len(glob.glob(\"fes-stride-1000/fes.coord.stride-*\"))\n",
    "for i in range(num_fesfile):  \n",
    "    if i == num_fesfile-1: continue\n",
    "    fesfile=\"fes-stride-1000/fes.coord.stride-{}.dat\".format(i)\n",
    "    time=(i+1)*fes_stride\n",
    "    fes=np.loadtxt(fesfile)\n",
    "    plt.plot(fes[:,0],fes[:,1]/kBT,'-',label=\"{:4d} ps\".format(time))    \n",
    "plt.xlabel(\"Na Solvation\")\n",
    "plt.ylabel(\"Free Energy [kBT]\")\n",
    "plt.legend()\n",
    "plt.show()"
   ]
  },
  {
   "cell_type": "code",
   "execution_count": null,
   "id": "3fb4f0e0",
   "metadata": {},
   "outputs": [],
   "source": [
    "%%bash\n",
    "rm -rf fes\n",
    "mkdir fes\n",
    "plumed sum_hills --hills hills.data --mintozero --kt 2.494353 --idw dist --outfile fes/fes.dist.data\n",
    "plumed sum_hills --hills hills.data --mintozero --kt 2.494353 --idw coord --outfile fes/fes.coord.data\n",
    "plumed sum_hills --hills hills.data --mintozero   --outfile fes/fes.dist-coord.data"
   ]
  },
  {
   "cell_type": "code",
   "execution_count": null,
   "id": "e6aede89",
   "metadata": {},
   "outputs": [],
   "source": [
    "plot_colvardata(\"./colvar.data\",5)"
   ]
  },
  {
   "cell_type": "code",
   "execution_count": null,
   "id": "a09c4d24",
   "metadata": {},
   "outputs": [],
   "source": [
    "%%bash\n",
    "mkdir fes-reweight\n",
    "\n",
    "cat <<EOF > fes-reweight/plumed_reweight.dat\n",
    "# vim:ft=plumed\n",
    "\n",
    "dist:   READ FILE=fes-reweight/colvar_reweight.data IGNORE_TIME VALUES=dist\n",
    "coord:  READ FILE=fes-reweight/colvar_reweight.data IGNORE_TIME VALUES=coord\n",
    "mtd:    READ FILE=fes-reweight/colvar_reweight.data IGNORE_TIME VALUES=mtd.rbias\n",
    "\n",
    "weights: REWEIGHT_BIAS TEMP=300 ARG=mtd.rbias\n",
    "\n",
    "HISTOGRAM ...\n",
    "  ARG=dist\n",
    "  GRID_MIN=0.2\n",
    "  GRID_MAX=1.5\n",
    "  GRID_BIN=100\n",
    "  KERNEL=DISCRETE\n",
    "  LOGWEIGHTS=weights\n",
    "  LABEL=hg_dist\n",
    "... HISTOGRAM\n",
    "\n",
    "fes_dist: CONVERT_TO_FES GRID=hg_dist TEMP=300 MINTOZERO\n",
    "DUMPGRID GRID=fes_dist FILE=fes-reweight/fes-reweight.dist.data FMT=%24.16e\n",
    "EOF"
   ]
  },
  {
   "cell_type": "code",
   "execution_count": null,
   "id": "7ac91ee2",
   "metadata": {},
   "outputs": [],
   "source": [
    "time_trim=500\n",
    "subprocess.run(\"./trim-colvar-file.py --colvar-file colvar.data --output-file fes-reweight/colvar_reweight.data --time-min {0}\".format(time_trim).split(),stdout=subprocess.DEVNULL, stderr=subprocess.DEVNULL)\n",
    "subprocess.run(\"plumed driver --plumed fes-reweight/plumed_reweight.dat --noatoms\".split(),stdout=subprocess.DEVNULL, stderr=subprocess.DEVNULL)\n",
    "\n"
   ]
  },
  {
   "cell_type": "code",
   "execution_count": null,
   "id": "c9294871",
   "metadata": {},
   "outputs": [],
   "source": [
    "fes_reweight_ex2=np.loadtxt(\"../Exercise-2/fes-reweight/fes-reweight.dist.data\")\n",
    "fes_sumhills_ex2=np.loadtxt(\"../Exercise-2/fes/fes.mintozero.data\")\n",
    "fes_reweight_ex4=np.loadtxt(\"fes-reweight/fes-reweight.dist.data\")\n",
    "fes_sumhills_ex4=np.loadtxt(\"fes/fes.dist.data\")\n",
    "\n",
    "plt.plot(fes_reweight_ex2[:,0],fes_reweight_ex2[:,1]/kBT,'-',label=\"Biasing 1 CV - Reweighted\")\n",
    "plt.plot(fes_sumhills_ex2[:,0],fes_sumhills_ex2[:,1]/kBT,'-',label=\"Biasing 1 CV - From bias potential\")\n",
    "plt.plot(fes_reweight_ex4[:,0],fes_reweight_ex4[:,1]/kBT,'-',label=\"Biasing 2 CV - Reweighted\")\n",
    "plt.plot(fes_sumhills_ex4[:,0],fes_sumhills_ex4[:,1]/kBT,'-',label=\"Biasing 2 CV - From bias potential\")\n",
    "plt.xlabel(\"Na-Cl Distance [nm]\")\n",
    "plt.ylabel(\"Free Energy [kBT]\")\n",
    "plt.legend()"
   ]
  },
  {
   "cell_type": "code",
   "execution_count": null,
   "id": "1821688e",
   "metadata": {},
   "outputs": [],
   "source": []
  }
 ],
 "metadata": {
  "kernelspec": {
   "display_name": "Python 3 (ipykernel)",
   "language": "python",
   "name": "python3"
  },
  "language_info": {
   "codemirror_mode": {
    "name": "ipython",
    "version": 3
   },
   "file_extension": ".py",
   "mimetype": "text/x-python",
   "name": "python",
   "nbconvert_exporter": "python",
   "pygments_lexer": "ipython3",
   "version": "3.11.0"
  }
 },
 "nbformat": 4,
 "nbformat_minor": 5
}
