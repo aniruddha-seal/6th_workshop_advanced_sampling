{
 "cells": [
  {
   "cell_type": "markdown",
   "id": "6f78436b",
   "metadata": {},
   "source": [
    "# Metadynamics Exercise\n"
   ]
  },
  {
   "cell_type": "code",
   "execution_count": null,
   "id": "5e5f3ee5",
   "metadata": {},
   "outputs": [],
   "source": [
    "import os\n",
    "import numpy as np\n",
    "import matplotlib.pyplot as plt\n",
    "import glob\n",
    "import subprocess"
   ]
  },
  {
   "cell_type": "code",
   "execution_count": null,
   "id": "a9a0941e",
   "metadata": {},
   "outputs": [],
   "source": [
    "%%bash\n",
    "module list"
   ]
  },
  {
   "cell_type": "markdown",
   "id": "13950000",
   "metadata": {},
   "source": [
    "**This notebook has been tested to work on PSC Ondemand**.\n",
    "\n",
    "**You should use the default `ipykernel` for this run, not the `icomse_cpu` one**\n",
    "\n",
    "**For running this on other resources, you need to changed the `plmued_bin` variable here below.**\n",
    "\n",
    "**Furthermore, you might need to change the `GMX_BIN` and `GMX_MDRUN_BIN` variables in all the places where GROMACS is run (you also need to comment the `module load` commands)**"
   ]
  },
  {
   "cell_type": "markdown",
   "id": "9fbc3992",
   "metadata": {},
   "source": [
    "## Define the PLUMED binary used\n",
    "\n",
    "In the `plumed_bin` variable below, you should define the name of the PLUMED binary. Normally this is just `plumed`, but on PSC, we need to employ a version from the singularity container for this workshop."
   ]
  },
  {
   "cell_type": "code",
   "execution_count": null,
   "id": "6119a367",
   "metadata": {},
   "outputs": [],
   "source": [
    "# define the PLUMED binary\n",
    "\n",
    "# This is PLUMED binary in most cases\n",
    "#plumed_bin=\"plumed\"\n",
    "\n",
    "# PLMUED 2.8 on PSC via icomse container \n",
    "plumed_bin=\"singularity exec /ocean/projects/see220002p/shared/icomse_cpu.sif plumed\""
   ]
  },
  {
   "cell_type": "code",
   "execution_count": null,
   "id": "ace0ab5a",
   "metadata": {},
   "outputs": [],
   "source": [
    "# Define a function that helps us run PLUMED commands\n",
    "def run_plumed_cmd(cmd,verbose=False):\n",
    "    cmd_str=\"{} \".format(plumed_bin)+cmd\n",
    "    print(\"PLUMED command: {}\".format(cmd_str))\n",
    "    if verbose:\n",
    "        subprocess.run(cmd_str.split())\n",
    "    else:\n",
    "        subprocess.run(cmd_str.split(),stdout=subprocess.DEVNULL, stderr=subprocess.DEVNULL)    "
   ]
  },
  {
   "cell_type": "code",
   "execution_count": null,
   "id": "90454894",
   "metadata": {},
   "outputs": [],
   "source": [
    "# Test that the PLUMED commands work \n",
    "run_plumed_cmd(\"sum_hills -h\",verbose=True)"
   ]
  },
  {
   "cell_type": "markdown",
   "id": "b8d6c0b3",
   "metadata": {},
   "source": [
    "## Define the GROMACS Binaries \n",
    "\n",
    "In the `gmx_bin` and `gmx_mdrun_bin` variables below, you should define the name of `gmx` and `mdrun` binary used by the GROMACS installations that you are using. You should also include any mpirun command and options in the `gmx_mdrun_bin` variable"
   ]
  },
  {
   "cell_type": "code",
   "execution_count": null,
   "id": "78db1ea6",
   "metadata": {},
   "outputs": [],
   "source": [
    "# Default value on PSC\n",
    "gmx_bin=\"gmx_mpi\"\n",
    "gmx_mdrun_bin=\"mpirun -np 1 gmx_mpi mdrun -ntomp 1\""
   ]
  },
  {
   "cell_type": "code",
   "execution_count": null,
   "id": "6da4c877",
   "metadata": {},
   "outputs": [],
   "source": [
    "%%bash -s \"$gmx_bin\" \"$gmx_mdrun_bin\"\n",
    "\n",
    "if [[ `hostname` =~ \"bridges2\" ]]; then\n",
    "  source /ocean/projects/see220002p/shared/gromacs+plumed/gromacs-2022.6_plumed-2.9.0/load-gromacs-plumed.sh\n",
    "fi\n",
    "\n",
    "GMX_BIN=${1}\n",
    "GMX_MDRUN_BIN=${2}\n",
    "\n",
    "echo \"## Trying ${GMX_BIN}\"\n",
    "${GMX_BIN} -h \n",
    "echo \"#################\"\n",
    "echo \"\"\n",
    "\n",
    "echo \"## Trying ${GMX_MDRUN_BIN}\"\n",
    "${GMX_MDRUN_BIN} -h \n",
    "echo \"#################\"\n"
   ]
  },
  {
   "cell_type": "code",
   "execution_count": null,
   "id": "0c5e62cd",
   "metadata": {},
   "outputs": [],
   "source": [
    "# for larger figures\n",
    "plt.rcParams['figure.dpi'] = 500"
   ]
  },
  {
   "cell_type": "code",
   "execution_count": null,
   "id": "153c5877",
   "metadata": {},
   "outputs": [],
   "source": [
    "home_dir=os.getcwd()\n",
    "print(home_dir)"
   ]
  },
  {
   "cell_type": "markdown",
   "id": "eddb9dbe",
   "metadata": {},
   "source": [
    "We backup any previous exercise files and move then to a seperate folder "
   ]
  },
  {
   "cell_type": "code",
   "execution_count": null,
   "id": "5f247441",
   "metadata": {},
   "outputs": [],
   "source": [
    "%%bash\n",
    "# delete any previous exercise files\n",
    "numdir=`ls | grep ^Exercise- | wc -l`\n",
    "\n",
    "if [ ${numdir} -gt 0 ]; then\n",
    "\n",
    "  timestamp=`date \"+%Y-%m-%d-%H%M\"`\n",
    "  backup_folder=\"Exercises-Backup-${timestamp}\"\n",
    "\n",
    "  mkdir ${backup_folder}\n",
    "\n",
    "  mv Exercise-1 ${backup_folder}\n",
    "  mv Exercise-2 ${backup_folder}\n",
    "  mv Exercise-3 ${backup_folder}\n",
    "  mv Exercise-4 ${backup_folder}\n",
    "fi"
   ]
  },
  {
   "cell_type": "code",
   "execution_count": null,
   "id": "3a12d55e",
   "metadata": {},
   "outputs": [],
   "source": []
  },
  {
   "cell_type": "markdown",
   "id": "b9dd34bf",
   "metadata": {},
   "source": [
    "## System\n",
    "\n",
    "In this tutorial, we will consider the association/dissociation of NaCl in aqueous solution. The system consists of 1 Na atom, 1 Cl atom, and 107 water molecules for a total of 323 atoms. In an effort to speed up the simulations, we employ a rather small water box, and thus need to employ smaller cutoffs than usually used. Therefore, this simulation setup should not be used in production runs. \n",
    "\n",
    "We will run the simulations at 300 K in the NPT ensemble. "
   ]
  },
  {
   "cell_type": "code",
   "execution_count": null,
   "id": "befbf073",
   "metadata": {},
   "outputs": [],
   "source": [
    "# kB*T at 300 K in kJ/mol\n",
    "kBT=2.494353\n",
    "beta=1/kBT"
   ]
  },
  {
   "cell_type": "markdown",
   "id": "0795d061",
   "metadata": {},
   "source": [
    "We will consider the following exercises\n",
    "- Exercise 1 - Unbiased Simulation\n",
    "- Exercise 2 - Biasing with distance CV \n",
    "- Exercise 2B - Reweighting \n",
    "- Exercise 3 - Biasing with distance and solvation CVs\n",
    "- Exercise 3B - Restarting metadynamics runs\n",
    "- Exercise 4 - Varying Metadynamics Parameters (Left as an optional exercise)\n"
   ]
  },
  {
   "cell_type": "markdown",
   "id": "190439ad",
   "metadata": {},
   "source": [
    "# Exercise 1 - Unbiased Simulation\n",
    "\n",
    "In this exercise we will perform an unbiased simulations of the system and monitor the relevant CVs.\n",
    "\n",
    "We start copying the files from `Template-Exercise-X` to new folder `Exercise-1` where we will perform the simulation. "
   ]
  },
  {
   "cell_type": "code",
   "execution_count": null,
   "id": "11bcc6b5",
   "metadata": {},
   "outputs": [],
   "source": [
    "%cp -r Template-Exercise-X Exercise-1 "
   ]
  },
  {
   "cell_type": "code",
   "execution_count": null,
   "id": "c47cf144",
   "metadata": {},
   "outputs": [],
   "source": [
    "%cd Exercise-1/"
   ]
  },
  {
   "cell_type": "code",
   "execution_count": null,
   "id": "4ce649e6",
   "metadata": {},
   "outputs": [],
   "source": [
    "%ls"
   ]
  },
  {
   "cell_type": "markdown",
   "id": "b4ef1df8",
   "metadata": {},
   "source": [
    "In this folder we have multiple files needed to perfom Gromacs simulations, including the topology file `NaCl.top` and initial structures `NaCl_StartingStructure-1.gro` and `NaCl_StartingStructure-2.gro`, the other files will needed will be generated for the Jupyter cells below. \n",
    "\n",
    "Let's look at this files"
   ]
  },
  {
   "cell_type": "code",
   "execution_count": null,
   "id": "e5824b6f",
   "metadata": {},
   "outputs": [],
   "source": [
    "%cat NaCl.top"
   ]
  },
  {
   "cell_type": "code",
   "execution_count": null,
   "id": "46c792c1",
   "metadata": {},
   "outputs": [],
   "source": [
    "%cat NaCl_StartingStructure-1.gro"
   ]
  },
  {
   "cell_type": "markdown",
   "id": "24cb806d",
   "metadata": {},
   "source": [
    "In particlar, note the structure file. In this file we have the index of a given atom in the 3rd column.\n",
    "\n",
    "We can see that the Na atom is number 322 and the Cl atom is number 323. \n",
    "\n",
    "We can also see that the oxygen atoms of the water moleculer are every 3rd atom starting from 1, that is 1,4,7,10,...,319. \n",
    "\n",
    "We will use this information to define the CVs for this system."
   ]
  },
  {
   "cell_type": "markdown",
   "id": "20ae635b",
   "metadata": {},
   "source": [
    "### Collective Variables (CVs)\n",
    "\n",
    "#### Na-Cl Distance\n",
    "\n",
    "The most relevant CV for this system is the distance between the Na and Cl atoms. As we say above the Na atom is number 322 while the Cl atom is number 323. Thus, we can define the distance CV in PLUMED as\n",
    "\n",
    "`dist: DISTANCE ATOMS=322,323`\n",
    "\n",
    "#### Na Solvation \n",
    "\n",
    "Furthermore, the NaCl association/dissociation is coupled to the collective motion of the solvent. To measure that, we will use a CV that measures the solvation of the Na atom. For this, we employ the coordination number of the Na atom with respect to the oxygens of the water molecules that we define in PLUMED as\n",
    "\n",
    "<code>\n",
    "coord: COORDINATION ...\n",
    "   GROUPA=322   \n",
    "   GROUPB=1-321:3 \n",
    "   SWITCH={RATIONAL R_0=0.315 D_MAX=0.5 NN=12 MM=24}  \n",
    "   NLIST \n",
    "   NL_CUTOFF=0.55 \n",
    "   NL_STRIDE=10    \n",
    "...\n",
    "</code>\n",
    "\n",
    "Here we are using a rational switching function that measures the coordiation number in a smooth way. The atom defined in `GROUPA=322` is the Na while `GROUPB=1-321:3` is syntax to select every 3rd oxygen atom starting from atom 1 up to 321, that is 1,4,7,10,...,319, as we want. See the manual for __[COORDINATION](https://www.plumed.org/doc-v2.8/user-doc/html/_c_o_o_r_d_i_n_a_t_i_o_n.html)__ for further information. "
   ]
  },
  {
   "cell_type": "markdown",
   "id": "889a92d1",
   "metadata": {},
   "source": [
    "Before we can start an unbiased simulation, we need to set the MD parameters for GROMACS that are set in the `MD-NPT.mdp` file. \n",
    "We will generate this file below by using `cat` with the `EOF` command. \n",
    "\n",
    "We are using a MD timestep of 0.002 ps.\n",
    "\n",
    "We will run a simulation for 1000 ps, or (1000 ps)/(0.002 ps) = 500000 MD steps. This is set by the `nsteps` parameter.\n",
    "\n",
    "We are running NPT at 300 K and 1.01325 bar.\n",
    "\n",
    "Note that due to the small system size, the cutoff parameters (rlist, rcoulomb, rvdw) are too low for production MD runs. \n",
    "\n",
    "For further information see the GROMACS manual [here](https://manual.gromacs.org/documentation/current/user-guide/mdp-options.html)"
   ]
  },
  {
   "cell_type": "code",
   "execution_count": null,
   "id": "abd31673",
   "metadata": {},
   "outputs": [],
   "source": [
    "%%bash\n",
    "cat <<EOF > MD-NPT.mdp\n",
    "integrator = md\n",
    "dt = 0.002\n",
    "nsteps = 500000\n",
    "cutoff-scheme = Verlet\n",
    "coulombtype = PME\n",
    "rlist = 0.6\n",
    "rcoulomb = 0.6\n",
    "rvdw = 0.6\n",
    "constraints = h-bonds\n",
    "tcoupl =  V-rescale\n",
    "ref_t = 300\n",
    "tau-t = 1.0\n",
    "tc-grps = System\n",
    "gen-vel = no\n",
    "gen-temp = 300\n",
    "gen-seed = -1\n",
    "DispCorr = AllEnerPres\n",
    "pcoupl = Parrinello-Rahman\n",
    "pcoupltype = isotropic\n",
    "ref-p = 1.01325\n",
    "compressibility = 4.5e-5\n",
    "nstxout-compressed = 250\n",
    "nstxout = 0\n",
    "nstvout = 0\n",
    "EOF"
   ]
  },
  {
   "cell_type": "code",
   "execution_count": null,
   "id": "fc925054",
   "metadata": {},
   "outputs": [],
   "source": [
    "# to check that the MD-NPT.mdp file was succesfully generated\n",
    "%ls"
   ]
  },
  {
   "cell_type": "markdown",
   "id": "9ab391ca",
   "metadata": {},
   "source": [
    "We then need to generate a GROMACS tpr file that we then run using `mdrun`. For this we need to have the mdp parameter file `MD-NPT.mdp`, a topology file `NaCl.top`, and a inital geometry `NaCl_StartingStructure-1.gro`. \n",
    "\n",
    "The following command will generate the TPR file."
   ]
  },
  {
   "cell_type": "code",
   "execution_count": null,
   "id": "f15f104d",
   "metadata": {},
   "outputs": [],
   "source": [
    "%%bash -s \"$gmx_bin\" \"$gmx_mdrun_bin\"\n",
    "\n",
    "if [[ `hostname` =~ \"bridges2\" ]]; then\n",
    "  source /ocean/projects/see220002p/shared/gromacs+plumed/gromacs-2022.6_plumed-2.9.0/load-gromacs-plumed.sh\n",
    "fi\n",
    "\n",
    "GMX_BIN=${1}\n",
    "GMX_MDRUN_BIN=${2}\n",
    "\n",
    "StartingGeometry=NaCl_StartingStructure-1.gro\n",
    "RunFilename=NaCl_NPT-300K\n",
    "${GMX_BIN}  grompp -f MD-NPT.mdp -c ${StartingGeometry} -p NaCl.top -o ${RunFilename}.tpr  -maxwarn 1"
   ]
  },
  {
   "cell_type": "code",
   "execution_count": null,
   "id": "c56ab780",
   "metadata": {},
   "outputs": [],
   "source": [
    "# To check that the tpr file was succesfully generated \n",
    "%ls"
   ]
  },
  {
   "cell_type": "markdown",
   "id": "824ad4a2",
   "metadata": {},
   "source": [
    "We then need to generate the PLUMED input file. \n",
    "\n",
    "In this file, we define the CVs discussed above and print them to a file called `colvar.dat` by using the `PRINT` action. The `STRIDE=250` keyword defines that we print the CV values every 250 MD steps. \n",
    "\n",
    "We also employ a harmonic wall at a distance of 0.6 nm to reduce the flucations in the dissocated state. This is set using the `UPPER_WALLS` action "
   ]
  },
  {
   "cell_type": "code",
   "execution_count": null,
   "id": "4ea2c481",
   "metadata": {},
   "outputs": [],
   "source": [
    "%%bash\n",
    "cat <<EOF > plumed.dat\n",
    "# vim:ft=plumed\n",
    "\n",
    "# Distance between Na and Cl atoms\n",
    "dist: DISTANCE ATOMS=322,323\n",
    "\n",
    "# Solvation of Na atom\n",
    "COORDINATION ...\n",
    "  LABEL=coord\n",
    "  GROUPA=322\n",
    "  GROUPB=1-321:3\n",
    "  SWITCH={RATIONAL R_0=0.315 D_MAX=0.5 NN=12 MM=24}\n",
    "  NLIST\n",
    "  NL_CUTOFF=0.55\n",
    "  NL_STRIDE=10\n",
    "... COORDINATION\n",
    "\n",
    "uwall: UPPER_WALLS ...\n",
    "   ARG=dist \n",
    "   AT=0.6\n",
    "   KAPPA=4000.0 \n",
    "...\n",
    "\n",
    "PRINT ARG=dist,coord,uwall.* FILE=colvar.data STRIDE=250\n",
    "EOF"
   ]
  },
  {
   "cell_type": "code",
   "execution_count": null,
   "id": "9f7fb9d0",
   "metadata": {},
   "outputs": [],
   "source": [
    "%ls"
   ]
  },
  {
   "cell_type": "markdown",
   "id": "3835de46",
   "metadata": {},
   "source": [
    "We then have all the files need to run the simulation. \n",
    "\n",
    "We will run using the following commands. \n",
    "\n",
    "This run should take a few minutes.\n",
    "\n",
    "**Note: On PSC Bridge2, there is no output to the cell above until the job has finished, but you can logon on via ssh and see files there during the run**"
   ]
  },
  {
   "cell_type": "code",
   "execution_count": null,
   "id": "17c8b579",
   "metadata": {},
   "outputs": [],
   "source": [
    "%%bash -s \"$gmx_bin\" \"$gmx_mdrun_bin\"\n",
    "\n",
    "if [[ `hostname` =~ \"bridges2\" ]]; then\n",
    "  source /ocean/projects/see220002p/shared/gromacs+plumed/gromacs-2022.6_plumed-2.9.0/load-gromacs-plumed.sh\n",
    "fi\n",
    "\n",
    "GMX_BIN=${1}\n",
    "GMX_MDRUN_BIN=${2}\n",
    "\n",
    "RunFilename=NaCl_NPT-300K\n",
    "${GMX_MDRUN_BIN}  -deffnm ${RunFilename}   -plumed plumed.dat \n",
    "echo \"0\" | ${GMX_BIN} trjconv -f ${RunFilename}.xtc -s ${RunFilename}.tpr -pbc whole -o ${RunFilename}.pbc-whole.xtc"
   ]
  },
  {
   "cell_type": "markdown",
   "id": "833d5968",
   "metadata": {},
   "source": [
    "As we can see, this simulation has generated various files"
   ]
  },
  {
   "cell_type": "code",
   "execution_count": null,
   "id": "4a96d29d",
   "metadata": {},
   "outputs": [],
   "source": [
    "%ls"
   ]
  },
  {
   "cell_type": "markdown",
   "id": "36263419",
   "metadata": {},
   "source": [
    "The main file is the colvar file `colvar.data`. Let's look at this file. We can see that the first line is a header line that shows what variables are in which column."
   ]
  },
  {
   "cell_type": "code",
   "execution_count": null,
   "id": "35ffd4fe",
   "metadata": {},
   "outputs": [],
   "source": [
    "%%bash\n",
    "head colvar.data"
   ]
  },
  {
   "cell_type": "markdown",
   "id": "edbb7212",
   "metadata": {},
   "source": [
    "The colvar file has the time series of the CVs that we monitored. \n",
    "\n",
    "The easiest way to look at them is read them using numpy.loadtxt. We can the visualize the time series using matplotlib and calculate averages and so on.\n",
    "\n",
    "**Note that python indexing starts from 0 so the first column is 0 in python, the second column is 1, etc.**"
   ]
  },
  {
   "cell_type": "code",
   "execution_count": null,
   "id": "20a25602",
   "metadata": {},
   "outputs": [],
   "source": [
    "colvar_tmp = np.loadtxt(\"./colvar.data\")\n",
    "\n",
    "# time is column 1\n",
    "time = colvar_tmp[:,0]\n",
    "# distance is column 2\n",
    "dist = colvar_tmp[:,1]\n",
    "\n",
    "plt.plot(time,dist,\".\")"
   ]
  },
  {
   "cell_type": "code",
   "execution_count": null,
   "id": "83e93d6e",
   "metadata": {},
   "outputs": [],
   "source": [
    "print(np.average(dist))"
   ]
  },
  {
   "cell_type": "markdown",
   "id": "e4f206c7",
   "metadata": {},
   "source": [
    "We define two python functions to read the data from the colvar file, and to plot it, that we will use in the following as we need to read from colvar and plot CV repeatly through the tutorial. "
   ]
  },
  {
   "cell_type": "code",
   "execution_count": null,
   "id": "425b9add",
   "metadata": {},
   "outputs": [],
   "source": [
    "def get_colvardata(filename_colvar):\n",
    "    with open(filename_colvar,'r') as colvar_file:\n",
    "        colvar_labels = colvar_file.readline().split()[2:]\n",
    "    colvar_data=np.loadtxt(filename_colvar)\n",
    "    return (colvar_data,colvar_labels)"
   ]
  },
  {
   "cell_type": "code",
   "execution_count": null,
   "id": "66a0a0fa",
   "metadata": {},
   "outputs": [],
   "source": [
    "def plot_colvardata(filename_colvar,column):\n",
    "    (colvar_data,colvar_labels)=get_colvardata(filename_colvar)\n",
    "    plt.plot(colvar_data[:,0],colvar_data[:,column-1],\".\")\n",
    "    plt.title(colvar_labels[column-1])\n",
    "    plt.xlabel(\"Time [ps]\")\n",
    "    plt.ylabel(colvar_labels[column-1])\n",
    "    plt.show()"
   ]
  },
  {
   "cell_type": "markdown",
   "id": "4f5c0aa8",
   "metadata": {},
   "source": [
    "Let us plot the time series of the distance, which is column 2 in the colvar file, using this command. "
   ]
  },
  {
   "cell_type": "code",
   "execution_count": null,
   "id": "84ee3e1a",
   "metadata": {},
   "outputs": [],
   "source": [
    "plot_colvardata(\"colvar.data\",2)"
   ]
  },
  {
   "cell_type": "markdown",
   "id": "f27b6df2",
   "metadata": {},
   "source": [
    "We can see that there are some transitions between the associated and dissociated state.  "
   ]
  },
  {
   "cell_type": "markdown",
   "id": "f47d0297",
   "metadata": {},
   "source": [
    "We want to estimate the fluctations (i.e., standard deviations) of the distance CV to select the sigma value for the metadynamics simulations. However, we need to do that separately for the associated and dissociated state. We use a distance of 0.36 to separate the two states. We can do that with following python code. "
   ]
  },
  {
   "cell_type": "code",
   "execution_count": null,
   "id": "238ac1a8",
   "metadata": {},
   "outputs": [],
   "source": [
    "(colvar_data,labels)=get_colvardata(\"colvar.data\")\n",
    "# distance is 2nd column, 1 in python indexing \n",
    "time = colvar_data[:,0]\n",
    "dist = colvar_data[:,1]\n",
    "\n",
    "dist_separate=0.36\n",
    "dist_assoc=   dist[dist<dist_separate]\n",
    "dist_dissoc=  dist[dist>dist_separate]\n",
    "time_assoc=   time[dist<dist_separate]\n",
    "time_dissoc=  time[dist>dist_separate]\n",
    "\n",
    "plt.plot(time_assoc,dist_assoc,'.',label=\"Associated\")\n",
    "plt.plot(time_dissoc,dist_dissoc,'.',label=\"Dissociated\")\n",
    "plt.xlabel(\"Time [ps]\")\n",
    "plt.ylabel(\"Distance [nm]\")\n",
    "plt.legend()\n",
    "plt.show()\n",
    "\n",
    "print(\"Distance CV\")\n",
    "print(\" Associated State\")\n",
    "print(\"   Average: {:.3f}\".format(np.average(dist_assoc)))\n",
    "print(\"   Standard Deviation: {:.3f}\".format(np.std(dist_assoc)))\n",
    "print(\" Dissociated State\")\n",
    "print(\"   Average: {:.3f}\".format(np.average(dist_dissoc)))\n",
    "print(\"   Standard Deviation: {:.3f}\".format(np.std(dist_dissoc)))\n"
   ]
  },
  {
   "cell_type": "markdown",
   "id": "4f78b63a",
   "metadata": {},
   "source": [
    "When determining the approriate value for the width of the Gaussian (i.e., SIGMA parameter) for a CV, we need to consider the lower value of the fluctions, which is in this case is for the more ordered associated state. \n",
    "\n",
    "Thus, from these results, we can determine that an approriate value for the width of the Gaussian (i.e., SIGMA parameter), for the distance CV is around 0.01 nm. If we would use the value for the dissociated state of around 0.2 nm it is likely that we smear out the free energy surface. \n",
    "\n",
    "**Thus we get that an approriate value is around 0.01 nm**"
   ]
  },
  {
   "cell_type": "markdown",
   "id": "4cc0d510",
   "metadata": {},
   "source": [
    "Before continuing, we should look at the behavior of the solvation CV (the 3rd column)"
   ]
  },
  {
   "cell_type": "code",
   "execution_count": null,
   "id": "35c33393",
   "metadata": {},
   "outputs": [],
   "source": [
    "plot_colvardata(\"colvar.data\",3)"
   ]
  },
  {
   "cell_type": "markdown",
   "id": "391ff69f",
   "metadata": {},
   "source": [
    "We can also look at the correlation of the distance and solvation CVs"
   ]
  },
  {
   "cell_type": "code",
   "execution_count": null,
   "id": "fefe3d72",
   "metadata": {},
   "outputs": [],
   "source": [
    "(colvar_data,labels)=get_colvardata(\"colvar.data\")\n",
    "plt.plot(colvar_data[:,1],colvar_data[:,2],'.')\n",
    "plt.xlabel(labels[1])\n",
    "plt.ylabel(labels[2])\n",
    "plt.show()"
   ]
  },
  {
   "cell_type": "markdown",
   "id": "c021b85d",
   "metadata": {},
   "source": [
    "Which are tightly correlated, as expected"
   ]
  },
  {
   "cell_type": "code",
   "execution_count": null,
   "id": "e3f5bccd",
   "metadata": {},
   "outputs": [],
   "source": [
    "%cd .."
   ]
  },
  {
   "cell_type": "markdown",
   "id": "d046d2c1",
   "metadata": {},
   "source": [
    "# Exercise 2 - Biasing Distance CV\n",
    "\n",
    "We will now consider exercise 2 where we will bias the distance CV. \n",
    "\n",
    "We will start with copying a new folder for the runs and generating all the GROMACS files. \n",
    "\n",
    "Now we will run the simulation for 10000 ps (5000000 MD steps). "
   ]
  },
  {
   "cell_type": "code",
   "execution_count": null,
   "id": "50af1170",
   "metadata": {},
   "outputs": [],
   "source": [
    "os.chdir(home_dir)"
   ]
  },
  {
   "cell_type": "code",
   "execution_count": null,
   "id": "ff67765e",
   "metadata": {},
   "outputs": [],
   "source": [
    "%%bash\n",
    "cp -r Template-Exercise-X Exercise-2"
   ]
  },
  {
   "cell_type": "code",
   "execution_count": null,
   "id": "8403bb65",
   "metadata": {},
   "outputs": [],
   "source": [
    "%cd Exercise-2/"
   ]
  },
  {
   "cell_type": "code",
   "execution_count": null,
   "id": "b65bbabf",
   "metadata": {},
   "outputs": [],
   "source": [
    "%%bash\n",
    "cat <<EOF > MD-NPT.mdp\n",
    "integrator = md\n",
    "dt = 0.002\n",
    "nsteps = 5000000\n",
    "cutoff-scheme = Verlet\n",
    "coulombtype = PME\n",
    "rlist = 0.6\n",
    "rcoulomb = 0.6\n",
    "rvdw = 0.6\n",
    "constraints = h-bonds\n",
    "tcoupl =  V-rescale\n",
    "ref_t = 300\n",
    "tau-t = 1.0\n",
    "tc-grps = System\n",
    "gen-vel = no\n",
    "gen-temp = 300\n",
    "gen-seed = -1\n",
    "DispCorr = AllEnerPres\n",
    "pcoupl = Parrinello-Rahman\n",
    "pcoupltype = isotropic\n",
    "ref-p = 1.01325\n",
    "compressibility = 4.5e-5\n",
    "nstxout-compressed = 250\n",
    "nstxout = 0\n",
    "nstvout = 0\n",
    "EOF"
   ]
  },
  {
   "cell_type": "code",
   "execution_count": null,
   "id": "810502d8",
   "metadata": {},
   "outputs": [],
   "source": [
    "%%bash -s \"$gmx_bin\" \"$gmx_mdrun_bin\"\n",
    "\n",
    "if [[ `hostname` =~ \"bridges2\" ]]; then\n",
    "  source /ocean/projects/see220002p/shared/gromacs+plumed/gromacs-2022.6_plumed-2.9.0/load-gromacs-plumed.sh\n",
    "fi\n",
    "\n",
    "GMX_BIN=${1}\n",
    "GMX_MDRUN_BIN=${2}\n",
    "\n",
    "StartingGeometry=NaCl_StartingStructure-1.gro\n",
    "RunFilename=NaCl_NPT-300K\n",
    "${GMX_BIN}  grompp -f MD-NPT.mdp -c ${StartingGeometry} -p NaCl.top -o ${RunFilename}.tpr  -maxwarn 1\n"
   ]
  },
  {
   "cell_type": "markdown",
   "id": "744ee022",
   "metadata": {},
   "source": [
    "Now we need to setup the PLMUED input file for the Metadynamics runs. For that we add a `METAD` action to the input file with the following keywords\n",
    "\n",
    "__Note that all units in PLUMED are given in nm, kJ/mol, and ps__\n",
    "\n",
    "- `ARG=dist`: this defines the CV to be biased, the distance in this case\n",
    "- `PACE=500`: we add Gaussians every 500 MD steps. This means every 1 ps, which is a typical value\n",
    "- `SIGMA=0.01`: we employ a width of 0.01 nm for the distance CV as determined above\n",
    "- `HEIGHT=1.25`: the inital height of the Gaussian is set as 1.25 kJ/mol, which is around 0.5 of kBT at 300 K\n",
    "- `BIASFACTOR=5`: we employ a bias factor of 5\n",
    "- `GRID_MIN=0.0` and `GRID_MAX=1.0`: we employ the grid to represent the bias potential as this is better for performance. These keywords define the range of this grid. The other parameters are set automatically by PLUMED based on the sigma value. \n",
    "- `CALC_RCT`: this enables the calculation of the c(t) factor and rbias=bias-rct that we use for reweighting\n",
    "- `FILE=hills.data`: the Gaussian hills added will be written to the file `hills.data`\n",
    "\n",
    "See the PLUMED manual entry for [METAD](https://www.plumed.org/doc-v2.8/user-doc/html/_m_e_t_a_d.html) for further information about the keywords. \n",
    "\n",
    "We also add the variables related to the metadynamics (`mtd.*`) to the colvar file by adding it to the `PRINT` action."
   ]
  },
  {
   "cell_type": "code",
   "execution_count": null,
   "id": "ef5281ed",
   "metadata": {},
   "outputs": [],
   "source": [
    "%%bash\n",
    "cat <<EOF > plumed.dat\n",
    "# vim:ft=plumed\n",
    "\n",
    "# Distance between Na and Cl atoms\n",
    "dist: DISTANCE ATOMS=322,323\n",
    "\n",
    "# Solvation of Na atom\n",
    "COORDINATION ...\n",
    "  LABEL=coord\n",
    "  GROUPA=322\n",
    "  GROUPB=1-321:3\n",
    "  SWITCH={RATIONAL R_0=0.315 D_MAX=0.5 NN=12 MM=24}\n",
    "  NLIST\n",
    "  NL_CUTOFF=0.55\n",
    "  NL_STRIDE=10\n",
    "... COORDINATION\n",
    "\n",
    "uwall: UPPER_WALLS ...\n",
    "   ARG=dist \n",
    "   AT=0.6\n",
    "   KAPPA=4000.0 \n",
    "...\n",
    "\n",
    "METAD ...\n",
    "  LABEL=mtd\n",
    "  ARG=dist\n",
    "  PACE=500\n",
    "  SIGMA=0.01\n",
    "  HEIGHT=1.25\n",
    "  BIASFACTOR=5\n",
    "  GRID_MIN=0.0\n",
    "  GRID_MAX=1.0\n",
    "  CALC_RCT\n",
    "  FILE=hills.data\n",
    "... METAD\n",
    "\n",
    "PRINT ARG=dist,coord,mtd.*,uwall.* FILE=colvar.data STRIDE=250\n",
    "EOF"
   ]
  },
  {
   "cell_type": "code",
   "execution_count": null,
   "id": "ab439c65",
   "metadata": {},
   "outputs": [],
   "source": [
    "%ls"
   ]
  },
  {
   "cell_type": "code",
   "execution_count": null,
   "id": "00c921ac",
   "metadata": {},
   "outputs": [],
   "source": [
    "%%bash -s \"$gmx_bin\" \"$gmx_mdrun_bin\"\n",
    "\n",
    "if [[ `hostname` =~ \"bridges2\" ]]; then\n",
    "  source /ocean/projects/see220002p/shared/gromacs+plumed/gromacs-2022.6_plumed-2.9.0/load-gromacs-plumed.sh\n",
    "fi\n",
    "\n",
    "GMX_BIN=${1}\n",
    "GMX_MDRUN_BIN=${2}\n",
    "\n",
    "RunFilename=NaCl_NPT-300K\n",
    "${GMX_MDRUN_BIN}  -deffnm ${RunFilename}   -plumed plumed.dat \n",
    "echo \"0\" | ${GMX_BIN} trjconv -f ${RunFilename}.xtc -s ${RunFilename}.tpr -pbc whole -o ${RunFilename}.pbc-whole.xtc"
   ]
  },
  {
   "cell_type": "markdown",
   "id": "4250f494",
   "metadata": {},
   "source": [
    "This run should take around 10-15 minutes. \n",
    "\n",
    "__Note: On PSC Bridge2, there is no output to the cell above until the job has finished, but you can logon on via ssh and see files there during the run__"
   ]
  },
  {
   "cell_type": "code",
   "execution_count": null,
   "id": "2de4cb67",
   "metadata": {},
   "outputs": [],
   "source": [
    "%ls"
   ]
  },
  {
   "cell_type": "markdown",
   "id": "c37b5ff9",
   "metadata": {},
   "source": [
    "As we can see, there are now a number of files. Let's look at the variables written out in the `colvar.data` and `hills.data` files"
   ]
  },
  {
   "cell_type": "code",
   "execution_count": null,
   "id": "c31cde4d",
   "metadata": {},
   "outputs": [],
   "source": [
    "%%bash\n",
    "head colvar.data"
   ]
  },
  {
   "cell_type": "code",
   "execution_count": null,
   "id": "1895e9a5",
   "metadata": {},
   "outputs": [],
   "source": [
    "%%bash\n",
    "head hills.data"
   ]
  },
  {
   "cell_type": "markdown",
   "id": "26679af8",
   "metadata": {},
   "source": [
    "Let start with looking at the time series of the distance CV that we are biasing"
   ]
  },
  {
   "cell_type": "code",
   "execution_count": null,
   "id": "0a276e30",
   "metadata": {
    "scrolled": false
   },
   "outputs": [],
   "source": [
    "plot_colvardata(\"./colvar.data\",2)"
   ]
  },
  {
   "cell_type": "markdown",
   "id": "30505ae8",
   "metadata": {},
   "source": [
    "We can see that now there are much more frequent transtions between the two states "
   ]
  },
  {
   "cell_type": "markdown",
   "id": "6c912f5a",
   "metadata": {},
   "source": [
    "We now also have the `hills.data` file that includes the added Gaussians. "
   ]
  },
  {
   "cell_type": "code",
   "execution_count": null,
   "id": "9388762a",
   "metadata": {},
   "outputs": [],
   "source": [
    "%%bash\n",
    "head hills.data"
   ]
  },
  {
   "cell_type": "markdown",
   "id": "8dec661b",
   "metadata": {},
   "source": [
    "We should also look at the height of the added Gaussians, which should decrease as the simulation progresses and go to zero in the long time limit. This is in the 4th column in the `hills.data` file when we have 1 CV. "
   ]
  },
  {
   "cell_type": "code",
   "execution_count": null,
   "id": "cd042197",
   "metadata": {},
   "outputs": [],
   "source": [
    "plot_colvardata(\"./hills.data\",4)"
   ]
  },
  {
   "cell_type": "markdown",
   "id": "81e4c7cf",
   "metadata": {},
   "source": [
    "We can obtain the estimate of the FES from the added Gaussian by using the `sum_hills` command line tool of PLUMED, which will sum up the Gaussians. This done with the command below. \n",
    "\n",
    "We also get another FES where the minimum has been set to zero by using the `--mintozero` flag, which is convient when comparing results (by default this is not done). "
   ]
  },
  {
   "cell_type": "code",
   "execution_count": null,
   "id": "e5e4da7d",
   "metadata": {},
   "outputs": [],
   "source": [
    "%%bash\n",
    "mkdir fes"
   ]
  },
  {
   "cell_type": "code",
   "execution_count": null,
   "id": "cd812842",
   "metadata": {},
   "outputs": [],
   "source": [
    "run_plumed_cmd(\"sum_hills --hills hills.data --outfile fes/fes.data\",verbose=True)\n",
    "run_plumed_cmd(\"sum_hills --hills hills.data  --mintozero --outfile fes/fes.mintozero.data \",verbose=False)"
   ]
  },
  {
   "cell_type": "markdown",
   "id": "6c3f107f",
   "metadata": {},
   "source": [
    "The `sum_hills` command line tool has various other option that one sometimes need to use as we can see by running `plumed sum_hills -h`"
   ]
  },
  {
   "cell_type": "code",
   "execution_count": null,
   "id": "86e832ac",
   "metadata": {},
   "outputs": [],
   "source": [
    "run_plumed_cmd(\"sum_hills -h\",verbose=True)"
   ]
  },
  {
   "cell_type": "markdown",
   "id": "10649a8e",
   "metadata": {},
   "source": [
    "Let's plot the FES"
   ]
  },
  {
   "cell_type": "code",
   "execution_count": null,
   "id": "b29c35c9",
   "metadata": {},
   "outputs": [],
   "source": [
    "# Plot FES \n",
    "\n",
    "fes=np.loadtxt(\"fes/fes.data\")\n",
    "plt.plot(fes[:,0],fes[:,1]/kBT,'-')\n",
    "plt.xlabel(\"Na-Cl Distance [nm]\")\n",
    "plt.ylabel(\"Free Energy [kBT]\")"
   ]
  },
  {
   "cell_type": "markdown",
   "id": "37d517df",
   "metadata": {},
   "source": [
    "To understand the convergence of the FES, we should look at how the FES behaves over time. For this we can use the `--stride 1000` flag that will tell the `sum_hills` tool to output the fes every 1000 added Gausssians, that every 1000 ps. Here we will need to use the `--mintozero` flag as otherwise it is not possible to compare the FES. "
   ]
  },
  {
   "cell_type": "code",
   "execution_count": null,
   "id": "019d6c68",
   "metadata": {},
   "outputs": [],
   "source": [
    "%%bash\n",
    "rm -rf fes-stride-1000\n",
    "mkdir fes-stride-1000"
   ]
  },
  {
   "cell_type": "code",
   "execution_count": null,
   "id": "e560b3b2",
   "metadata": {},
   "outputs": [],
   "source": [
    "run_plumed_cmd(\"sum_hills --hills hills.data --mintozero --stride 1000 --outfile fes-stride-1000/fes.stride-\")"
   ]
  },
  {
   "cell_type": "code",
   "execution_count": null,
   "id": "8c457081",
   "metadata": {},
   "outputs": [],
   "source": [
    "fes_stride=1000\n",
    "num_fesfile=len(glob.glob(\"fes-stride-1000/fes.stride-*\"))\n",
    "for i in range(num_fesfile):  \n",
    "    if i == num_fesfile-1: continue\n",
    "    time=(i+1)*fes_stride\n",
    "    fes=np.loadtxt(\"fes-stride-1000/fes.stride-{}.dat\".format(i))\n",
    "    plt.plot(fes[:,0],fes[:,1]/kBT,'-',label=\"{:4d} ps\".format(time))    \n",
    "plt.xlabel(\"Na-Cl Distance [nm]\")\n",
    "plt.ylabel(\"Free Energy [kBT]\")\n",
    "plt.legend()\n",
    "plt.ylim([0,20])\n",
    "plt.show()"
   ]
  },
  {
   "cell_type": "markdown",
   "id": "ef37baa7",
   "metadata": {},
   "source": [
    "As we can see, after the some time, the FES do not change much anymore and converge. "
   ]
  },
  {
   "cell_type": "markdown",
   "id": "82e994f4",
   "metadata": {},
   "source": [
    "## Free Energy Difference \n",
    "\n",
    "One way to gauge the convergence is to look at the free energy difference between the two states, the associated state and the dissociated state. To define the regions for the two states, we need to select a distance that seperates the two states. The best way to do that is to look at the probability distribution, $P(\\mathbf{s}) \\propto \\exp(-\\beta*F(\\mathbf{s}))$."
   ]
  },
  {
   "cell_type": "code",
   "execution_count": null,
   "id": "9289dd54",
   "metadata": {},
   "outputs": [],
   "source": [
    "# Plot PDF\n",
    "\n",
    "fes=np.loadtxt(\"fes/fes.data\")\n",
    "pdf=np.exp(-beta*(fes[:,1]-np.min(fes[:,1])))\n",
    "plt.plot(fes[:,0],pdf,'-')\n",
    "plt.xlabel(\"Na-Cl Distance [nm]\")\n",
    "plt.ylabel(\"Probablity\")\n",
    "\n",
    "plt.ylim([0,1.1])\n",
    "\n",
    "barrier_location=0.36\n",
    "plt.axvspan(0.2,barrier_location,alpha=0.2,color='orange')\n",
    "plt.axvspan(barrier_location,np.max(fes[:,0]),alpha=0.2,color='green')"
   ]
  },
  {
   "cell_type": "markdown",
   "id": "248ce497",
   "metadata": {},
   "source": [
    "As we can see, a value of 0.36 seems to be good value to seperates the two states. We will the use the following function that does a simple free energy difference calculaton for 1D case. \n",
    "\n",
    "**Note that this function will give the results in units of kBT**"
   ]
  },
  {
   "cell_type": "code",
   "execution_count": null,
   "id": "bb5f30b7",
   "metadata": {},
   "outputs": [],
   "source": [
    "def calc_free_energy_difference(fes_file):\n",
    "    barrier_location=0.36\n",
    "    fes_data = np.loadtxt(fes_file)\n",
    "    distance = fes_data[:,0]\n",
    "    fes = fes_data[:,1]-np.min(fes_data[:,1])\n",
    "    prob = np.exp(-beta*fes)\n",
    "    prob = prob/np.sum(prob)        \n",
    "    prob_A = 0.0\n",
    "    prob_B = 0.0\n",
    "    for i in range(prob.size):\n",
    "        if(distance[i]<barrier_location): \n",
    "            prob_A += prob[i]\n",
    "        if(distance[i]>barrier_location): \n",
    "            prob_B += prob[i]\n",
    "    free_energy_difference = -np.log(prob_A/prob_B)\n",
    "    return free_energy_difference"
   ]
  },
  {
   "cell_type": "markdown",
   "id": "352a6eb3",
   "metadata": {},
   "source": [
    "To get a more frequent time series of the free energy difference, we will get the FES every 10 added Gaussians by using the `--stride 10` flag to `sum_hills`"
   ]
  },
  {
   "cell_type": "code",
   "execution_count": null,
   "id": "5245dcd6",
   "metadata": {},
   "outputs": [],
   "source": [
    "%%bash\n",
    "rm -rf fes-stride-10\n",
    "mkdir fes-stride-10"
   ]
  },
  {
   "cell_type": "code",
   "execution_count": null,
   "id": "ebb6a0eb",
   "metadata": {},
   "outputs": [],
   "source": [
    "run_plumed_cmd(\"sum_hills --hills hills.data --mintozero --stride 10 --outfile fes-stride-10/fes.stride-\",verbose=False)"
   ]
  },
  {
   "cell_type": "markdown",
   "id": "ed0bac66",
   "metadata": {},
   "source": [
    "Now we loop over the different FES files and plot the results, by using the following code. "
   ]
  },
  {
   "cell_type": "code",
   "execution_count": null,
   "id": "7529e360",
   "metadata": {},
   "outputs": [],
   "source": [
    "fe_time=[]\n",
    "fe_diff=[]\n",
    "fes_stride=10\n",
    "num_fesfile=len(glob.glob(\"fes-stride-10/fes.stride-*\"))\n",
    "for i in range(num_fesfile):  \n",
    "    if i == num_fesfile-1: continue\n",
    "    time=(i+1)*fes_stride\n",
    "    fes_file=\"fes-stride-10/fes.stride-{}.dat\".format(i)\n",
    "    fe_time.append(time)\n",
    "    fe_diff.append(calc_free_energy_difference(fes_file))\n",
    "plt.plot(fe_time,fe_diff)\n",
    "plt.xlabel(\"Time [ps]\")\n",
    "plt.ylabel(\"Free Energy Difference [kBT]\")\n",
    "plt.title(\"Free Energy Difference\")\n",
    "#plt.ylim([-1.0,1.0])\n",
    "\n"
   ]
  },
  {
   "cell_type": "markdown",
   "id": "d8a2413e",
   "metadata": {},
   "source": [
    "You should hopefully see that the free energy difference starts to converge. "
   ]
  },
  {
   "cell_type": "markdown",
   "id": "f05d7f50",
   "metadata": {},
   "source": [
    "# Exercise 2B - Reweighting\n",
    "\n",
    "We can also obtain FES through reweighting by using the $c(t)$ reweighting procedure. Then we use weight calculated from the re-normalized $\\tilde{V}=V-c(t)$. As we used the `CALC_RCT` keyword during the simulation, the $c(t)$ factor is calculated as the variable `mtd.rct`, along with the re-normalized bias $\\tilde{V}$ as the variable `mtd.rbias`. The direct bias is the variable `mtd.bias`. We can use this value to obtain the FES for both the biased CV and also any other CV. \n",
    "\n",
    "## Reweighthing on distance CV\n",
    "\n",
    "Let us start by reweighting on the biased distance CV."
   ]
  },
  {
   "cell_type": "code",
   "execution_count": null,
   "id": "8714e34f",
   "metadata": {},
   "outputs": [],
   "source": [
    "%%bash\n",
    "head colvar.data"
   ]
  },
  {
   "cell_type": "markdown",
   "id": "e3d691b5",
   "metadata": {},
   "source": [
    "We can see that the relevant varibles are in columns 4 to 6. Let's plot them."
   ]
  },
  {
   "cell_type": "code",
   "execution_count": null,
   "id": "85ee2bc4",
   "metadata": {
    "scrolled": false
   },
   "outputs": [],
   "source": [
    "plot_colvardata(\"colvar.data\",4)\n",
    "plot_colvardata(\"colvar.data\",5)\n",
    "plot_colvardata(\"colvar.data\",6)"
   ]
  },
  {
   "cell_type": "markdown",
   "id": "287a985f",
   "metadata": {},
   "source": [
    "We can see that in the inital phase of the simulation, the re-normalized bias (`mtd.rbias`) fluctuates. Therefore, we normally ignore the initial part of the simulation where the weights might be unreliable. "
   ]
  },
  {
   "cell_type": "code",
   "execution_count": null,
   "id": "68c1a6d2",
   "metadata": {},
   "outputs": [],
   "source": [
    "%%bash\n",
    "mkdir fes-reweight\n"
   ]
  },
  {
   "cell_type": "markdown",
   "id": "0e4c1eed",
   "metadata": {},
   "source": [
    "Here we define the PLUMED input file that we use to do the reweighting. In this input, we read in the colvar file using the `READ` actions, and then calculate a weighted histogram by using the weights calculated using the `mtd.rbias` values. \n",
    "\n",
    "This PLUMED file can then be used in the `plumed driver` tool, see below. \n",
    "\n",
    "Here we are using a discrete histogram, but in PLUMED it is also possible to employ a kernel density estimation to get a smoother profile, but one needs to be careful not to oversmooth the surface. So, normally it is better to compare with a discrete histogram when finding an optional bandwidth for the kernels. \n",
    "\n",
    "In principle, it is also possible to use the data from the colvar file in any python action that can calculate weighted histograms. "
   ]
  },
  {
   "cell_type": "code",
   "execution_count": null,
   "id": "b205103a",
   "metadata": {},
   "outputs": [],
   "source": [
    "%%bash\n",
    "cat <<EOF > fes-reweight/plumed_reweight.dat\n",
    "# vim:ft=plumed\n",
    "\n",
    "dist:   READ FILE=fes-reweight/colvar_reweight.data IGNORE_TIME VALUES=dist\n",
    "coord:  READ FILE=fes-reweight/colvar_reweight.data IGNORE_TIME VALUES=coord\n",
    "mtd:    READ FILE=fes-reweight/colvar_reweight.data IGNORE_TIME VALUES=mtd.rbias\n",
    "\n",
    "weights: REWEIGHT_BIAS TEMP=300 ARG=mtd.rbias\n",
    "\n",
    "HISTOGRAM ...\n",
    "  ARG=dist\n",
    "  GRID_MIN=0.2\n",
    "  GRID_MAX=0.9\n",
    "  GRID_BIN=100\n",
    "  KERNEL=DISCRETE\n",
    "  LOGWEIGHTS=weights\n",
    "  LABEL=hg_dist\n",
    "... HISTOGRAM\n",
    "\n",
    "fes_dist: CONVERT_TO_FES GRID=hg_dist TEMP=300 MINTOZERO\n",
    "DUMPGRID GRID=fes_dist FILE=fes-reweight/fes-reweight.dist.data FMT=%24.16e\n",
    "EOF"
   ]
  },
  {
   "cell_type": "markdown",
   "id": "de69acb2",
   "metadata": {},
   "source": [
    "To find how much we should ignore of the inital part of the simulation, we use this code that will ignore different time ranges from the beginning of the colvar file (this is done with the ./trim-colvar-file.py script that is given in the folder), and calculate the FES. We then plot the results. "
   ]
  },
  {
   "cell_type": "code",
   "execution_count": null,
   "id": "af3db5ef",
   "metadata": {
    "scrolled": false
   },
   "outputs": [],
   "source": [
    "for i in range(0,1001,100):\n",
    "    subprocess.run(\"rm -f fes-reweight/fes-reweight.dist.data\".split(),stdout=subprocess.DEVNULL, stderr=subprocess.DEVNULL)\n",
    "    subprocess.run(\"rm -f fes-reweight/colvar_reweight.data\".split(),stdout=subprocess.DEVNULL, stderr=subprocess.DEVNULL)\n",
    "    subprocess.run(\"./trim-colvar-file.py --colvar-file colvar.data --output-file fes-reweight/colvar_reweight.data --time-min {0}\".format(i).split(),stdout=subprocess.DEVNULL, stderr=subprocess.DEVNULL)\n",
    "    run_plumed_cmd(\"driver --plumed fes-reweight/plumed_reweight.dat --noatoms\")\n",
    "    fes_data=np.loadtxt(\"fes-reweight/fes-reweight.dist.data\")\n",
    "    plt.plot(fes_data[:,0],(fes_data[:,1]-np.min(fes_data[:,1]))/kBT,label=\"Trim {} ps\".format(i))\n",
    "    plt.xlabel(\"Na-Cl distance [nm]\")  \n",
    "    plt.ylabel(\"Free Energy [kBT]\")\n",
    "    plt.title(\"Reweighted FES\")\n",
    "    plt.legend()\n",
    "    subprocess.run(\"rm -f fes-reweight/fes-reweight.dist.data\".split())\n",
    "    subprocess.run(\"rm -f fes-reweight/colvar_reweight.data\".split())\n",
    "    plt.ylim([0,10])"
   ]
  },
  {
   "cell_type": "markdown",
   "id": "a2b0ab9e",
   "metadata": {},
   "source": [
    "However, as we can see, there is not much difference. However, let's go with ignoring the first 500 ps of the simulation, which is 5% of the total simulation time. We then calculate the reweighted FES. "
   ]
  },
  {
   "cell_type": "code",
   "execution_count": null,
   "id": "424e5204",
   "metadata": {},
   "outputs": [],
   "source": [
    "time_trim=500\n",
    "subprocess.run(\"./trim-colvar-file.py --colvar-file colvar.data --output-file fes-reweight/colvar_reweight.data --time-min {0}\".format(time_trim).split(),stdout=subprocess.DEVNULL, stderr=subprocess.DEVNULL)\n",
    "run_plumed_cmd(\"driver --plumed fes-reweight/plumed_reweight.dat --noatoms\")\n",
    "\n"
   ]
  },
  {
   "cell_type": "markdown",
   "id": "5076b6e0",
   "metadata": {},
   "source": [
    "To compare the FES from obtained directly from the bias potential (i.e., `sum_hills`) and from reweighting, we will define the following function to wrap the plotting of the FESs"
   ]
  },
  {
   "cell_type": "code",
   "execution_count": null,
   "id": "a7925716",
   "metadata": {},
   "outputs": [],
   "source": [
    "def plot_fes(fes_files,labels=None): \n",
    "    for i, f in enumerate(fes_files):\n",
    "        fes_data=np.loadtxt(f)\n",
    "        cv=fes_data[:,0]\n",
    "        fes=fes_data[:,1]\n",
    "        fes = fes - np.min(fes)\n",
    "        fes = fes/kBT\n",
    "        if labels:\n",
    "            label=labels[i]\n",
    "        else:\n",
    "            label=f\n",
    "        plt.plot(cv,fes,'-',label=label)\n",
    "    plt.xlabel(\"Na-Cl Distance [nm]\")\n",
    "    plt.ylabel(\"Free Energy [kBT]\")\n",
    "    plt.legend()\n",
    "    plt.ylim([0,10])    \n",
    "    plt.show()\n",
    "        \n",
    "    "
   ]
  },
  {
   "cell_type": "markdown",
   "id": "97679610",
   "metadata": {},
   "source": [
    "We use this function to compare the two FES"
   ]
  },
  {
   "cell_type": "code",
   "execution_count": null,
   "id": "8ae3c6ba",
   "metadata": {},
   "outputs": [],
   "source": [
    "fes_files=[\"fes/fes.mintozero.data\",\n",
    "           \"fes-reweight/fes-reweight.dist.data\"]\n",
    "labels=[\"FES from bias\",\n",
    "        \"FES from rewighting\"]\n",
    "plot_fes(fes_files,labels)"
   ]
  },
  {
   "cell_type": "markdown",
   "id": "8bb16606",
   "metadata": {},
   "source": [
    "As we can see, the two FES are in a good agreement"
   ]
  },
  {
   "cell_type": "markdown",
   "id": "fc7e51fd",
   "metadata": {},
   "source": [
    "## Reweighting on both distance and solvation CV\n",
    "\n",
    "We can also reweight on other CVs that are not biased during the simulation. We use this to obtain the 2D FES as a function of distance and solvation CV. \n",
    "\n",
    "We define the PLUMED input for the reweighting in the following way. \n",
    "\n",
    "Here we are using a kernel density estimation using a bandwidth of 0.004 nm for distance and 0.04 for the solvation CV (`BANDWIDTH=0.004,0.04`), these values where obtained with trial and error previously. "
   ]
  },
  {
   "cell_type": "code",
   "execution_count": null,
   "id": "f7c6cf71",
   "metadata": {},
   "outputs": [],
   "source": [
    "%%bash\n",
    "cat << EOF > fes-reweight/plumed_reweight.2D.dat \n",
    "# vim:ft=plumed\n",
    "\n",
    "dist:   READ FILE=fes-reweight/colvar_reweight.data IGNORE_TIME VALUES=dist\n",
    "coord:  READ FILE=fes-reweight/colvar_reweight.data IGNORE_TIME VALUES=coord\n",
    "mtd:    READ FILE=fes-reweight/colvar_reweight.data IGNORE_TIME VALUES=mtd.rbias\n",
    "\n",
    "weights: REWEIGHT_BIAS TEMP=300 ARG=mtd.rbias\n",
    "\n",
    "HISTOGRAM ...\n",
    "  ARG=dist,coord\n",
    "  GRID_MIN=0.2,2.5\n",
    "  GRID_MAX=0.9,7.5\n",
    "  GRID_BIN=200,200\n",
    "  BANDWIDTH=0.004,0.04\n",
    "  LOGWEIGHTS=weights\n",
    "  LABEL=hg_dist_coord\n",
    "... HISTOGRAM\n",
    "\n",
    "fes_dist_coord: CONVERT_TO_FES GRID=hg_dist_coord TEMP=300 MINTOZERO\n",
    "DUMPGRID GRID=fes_dist_coord FILE=fes-reweight/fes-reweight.dist-coord.data FMT=%24.16e\n",
    "EOF"
   ]
  },
  {
   "cell_type": "code",
   "execution_count": null,
   "id": "f49a08f9",
   "metadata": {},
   "outputs": [],
   "source": [
    "run_plumed_cmd(\"driver --plumed fes-reweight/plumed_reweight.2D.dat --noatoms\")\n"
   ]
  },
  {
   "cell_type": "markdown",
   "id": "bffc9838",
   "metadata": {},
   "source": [
    "We can use the following code to plot the 2D FES"
   ]
  },
  {
   "cell_type": "code",
   "execution_count": null,
   "id": "c17ef5c9",
   "metadata": {},
   "outputs": [],
   "source": [
    "fes_data = np.loadtxt(\"./fes-reweight/fes-reweight.dist-coord.data\")\n",
    "distance = fes_data[:,0].reshape(201,201)\n",
    "coord =    fes_data[:,1].reshape(201,201)\n",
    "fes_2d =   fes_data[:,2].reshape(201,201)-np.min(fes_data[:,2].reshape(201,201))\n",
    "from matplotlib import cm\n",
    "plt.contourf(distance,coord,fes_2d/kBT, levels=np.linspace(0,10,101), cmap=cm.jet)\n",
    "plt.xlabel(\"Na-Cl distance [nm]\")\n",
    "plt.ylabel(\"Solvation of Na\")\n",
    "plt.title(\"FES - Reweighting\")\n",
    "plt.colorbar(label=\"Free Energy [kBT]\", ticks=range(0,11))"
   ]
  },
  {
   "cell_type": "markdown",
   "id": "89762ef2",
   "metadata": {},
   "source": [
    "# Exercise 3 - Biasing both distance and solvation CV\n",
    "\n",
    "We will now consider exercise 2 where we will bias both the  distance CV and the solvation CV. \n",
    "\n",
    "We will start with copying a new folder for the runs and generating all the GROMACS files. \n",
    "\n",
    "Now we will run the simulation for 5000 ps (2500000 MD steps). "
   ]
  },
  {
   "cell_type": "code",
   "execution_count": null,
   "id": "4242a0ce",
   "metadata": {},
   "outputs": [],
   "source": [
    "os.chdir(home_dir)"
   ]
  },
  {
   "cell_type": "code",
   "execution_count": null,
   "id": "38a4dd9d",
   "metadata": {},
   "outputs": [],
   "source": [
    "%%bash\n",
    "cp -r Template-Exercise-X Exercise-3\n"
   ]
  },
  {
   "cell_type": "code",
   "execution_count": null,
   "id": "e230d832",
   "metadata": {},
   "outputs": [],
   "source": [
    "%cd Exercise-3/"
   ]
  },
  {
   "cell_type": "code",
   "execution_count": null,
   "id": "404ad838",
   "metadata": {},
   "outputs": [],
   "source": [
    "%%bash\n",
    "cat <<EOF > MD-NPT.mdp\n",
    "integrator = md\n",
    "dt = 0.002\n",
    "nsteps = 2500000\n",
    "cutoff-scheme = Verlet\n",
    "coulombtype = PME\n",
    "rlist = 0.6\n",
    "rcoulomb = 0.6\n",
    "rvdw = 0.6\n",
    "constraints = h-bonds\n",
    "tcoupl =  V-rescale\n",
    "ref_t = 300\n",
    "tau-t = 1.0\n",
    "tc-grps = System\n",
    "gen-vel = no\n",
    "gen-temp = 300\n",
    "gen-seed = -1\n",
    "DispCorr = AllEnerPres\n",
    "pcoupl = Parrinello-Rahman\n",
    "pcoupltype = isotropic\n",
    "ref-p = 1.01325\n",
    "compressibility = 4.5e-5\n",
    "nstxout-compressed = 250\n",
    "nstxout = 0\n",
    "nstvout = 0\n",
    "EOF"
   ]
  },
  {
   "cell_type": "code",
   "execution_count": null,
   "id": "1136f744",
   "metadata": {},
   "outputs": [],
   "source": [
    "%%bash -s \"$gmx_bin\" \"$gmx_mdrun_bin\"\n",
    "\n",
    "if [[ `hostname` =~ \"bridges2\" ]]; then\n",
    "  source /ocean/projects/see220002p/shared/gromacs+plumed/gromacs-2022.6_plumed-2.9.0/load-gromacs-plumed.sh\n",
    "fi\n",
    "\n",
    "GMX_BIN=${1}\n",
    "GMX_MDRUN_BIN=${2}\n",
    "\n",
    "StartingGeometry=NaCl_StartingStructure-1.gro\n",
    "RunFilename=NaCl_NPT-300K\n",
    "${GMX_BIN}  grompp -f MD-NPT.mdp -c ${StartingGeometry} -p NaCl.top -o ${RunFilename}.tpr  -maxwarn 1"
   ]
  },
  {
   "cell_type": "markdown",
   "id": "44ad7431",
   "metadata": {},
   "source": [
    "Now we need to add the solvation CV to the `METAD` action and we get the following PLUMED input"
   ]
  },
  {
   "cell_type": "code",
   "execution_count": null,
   "id": "871df5d4",
   "metadata": {},
   "outputs": [],
   "source": [
    "%%bash\n",
    "cat <<EOF > plumed.dat\n",
    "# vim:ft=plumed\n",
    "\n",
    "# Distance between Na and Cl atoms\n",
    "dist: DISTANCE ATOMS=322,323\n",
    "\n",
    "# Solvation of Na atom\n",
    "COORDINATION ...\n",
    "  LABEL=coord\n",
    "  GROUPA=322\n",
    "  GROUPB=1-321:3\n",
    "  SWITCH={RATIONAL R_0=0.315 D_MAX=0.5 NN=12 MM=24}\n",
    "  NLIST\n",
    "  NL_CUTOFF=0.55\n",
    "  NL_STRIDE=10\n",
    "... COORDINATION\n",
    "\n",
    "uwall: UPPER_WALLS ...\n",
    "   ARG=dist \n",
    "   AT=0.6\n",
    "   KAPPA=4000.0 \n",
    "...\n",
    "\n",
    "METAD ...\n",
    "  LABEL=mtd\n",
    "  ARG=dist,coord\n",
    "  PACE=500\n",
    "  SIGMA=0.01,0.1 \n",
    "  HEIGHT=1.25\n",
    "  BIASFACTOR=5\n",
    "  GRID_MIN=0.0,1.0\n",
    "  GRID_MAX=1.0,10.0\n",
    "  CALC_RCT\n",
    "  FILE=hills.data\n",
    "... METAD\n",
    "\n",
    "PRINT ARG=dist,coord,mtd.*,uwall.* FILE=colvar.data STRIDE=250\n",
    "EOF"
   ]
  },
  {
   "cell_type": "markdown",
   "id": "724255ee",
   "metadata": {},
   "source": [
    "Then we run the simulation"
   ]
  },
  {
   "cell_type": "code",
   "execution_count": null,
   "id": "9c63da6d",
   "metadata": {},
   "outputs": [],
   "source": [
    "%%bash -s \"$gmx_bin\" \"$gmx_mdrun_bin\"\n",
    "\n",
    "if [[ `hostname` =~ \"bridges2\" ]]; then\n",
    "  source /ocean/projects/see220002p/shared/gromacs+plumed/gromacs-2022.6_plumed-2.9.0/load-gromacs-plumed.sh\n",
    "fi\n",
    "\n",
    "GMX_BIN=${1}\n",
    "GMX_MDRUN_BIN=${2}\n",
    "\n",
    "RunFilename=NaCl_NPT-300K\n",
    "${GMX_MDRUN_BIN}  -deffnm ${RunFilename}   -plumed plumed.dat \n",
    "echo \"0\" | ${GMX_BIN} trjconv -f ${RunFilename}.xtc -s ${RunFilename}.tpr -pbc whole -o ${RunFilename}.pbc-whole.xtc"
   ]
  },
  {
   "cell_type": "markdown",
   "id": "1587f001",
   "metadata": {},
   "source": [
    "Let's look at the time series of the biased CVs and the hill height. We can see that the Gaussian hill height is in the 6th column in the `hills.data` file when we have 2 CV biased.  "
   ]
  },
  {
   "cell_type": "code",
   "execution_count": null,
   "id": "6abfb855",
   "metadata": {},
   "outputs": [],
   "source": [
    "%%bash\n",
    "head hills.data "
   ]
  },
  {
   "cell_type": "code",
   "execution_count": null,
   "id": "d75e0f23",
   "metadata": {
    "scrolled": false
   },
   "outputs": [],
   "source": [
    "plot_colvardata(\"./colvar.data\",2)\n",
    "plot_colvardata(\"./colvar.data\",3)\n",
    "plot_colvardata(\"./hills.data\",6)"
   ]
  },
  {
   "cell_type": "markdown",
   "id": "f186ae63",
   "metadata": {},
   "source": [
    "When biasing 2 CVs it is difficult to gauge the convergence of the FES from the 2D surface. Thus, it is convenient to look at the 1D projections on the two CVs. This can be calculated by using the `--idw dist` flag to `sum_hills` tool, but in this case we need to give the kBT value for the simulation, which is 2.494353 kJ/mol at 300 K. \n",
    "\n",
    "We then look at the 1D projected FESs every 1000 ps. "
   ]
  },
  {
   "cell_type": "code",
   "execution_count": null,
   "id": "ff3af762",
   "metadata": {},
   "outputs": [],
   "source": [
    "%%bash\n",
    "rm -rf fes-stride-1000 \n",
    "mkdir fes-stride-1000"
   ]
  },
  {
   "cell_type": "code",
   "execution_count": null,
   "id": "6ae0768f",
   "metadata": {
    "scrolled": true
   },
   "outputs": [],
   "source": [
    "run_plumed_cmd(\"sum_hills --hills hills.data --mintozero --stride 1000 --kt 2.494353 --idw dist --outfile fes-stride-1000/fes.dist.stride-\")\n",
    "run_plumed_cmd(\"sum_hills --hills hills.data --mintozero --stride 1000 --kt 2.494353 --idw coord --outfile fes-stride-1000/fes.coord.stride-\")"
   ]
  },
  {
   "cell_type": "code",
   "execution_count": null,
   "id": "a240d85f",
   "metadata": {},
   "outputs": [],
   "source": [
    "fes_stride=1000\n",
    "num_fesfile=len(glob.glob(\"fes-stride-1000/fes.dist.stride-*\"))\n",
    "for i in range(num_fesfile):  \n",
    "    if i == num_fesfile-1: continue\n",
    "    fesfile=\"fes-stride-1000/fes.dist.stride-{}.dat\".format(i)\n",
    "    time=(i+1)*fes_stride\n",
    "    fes=np.loadtxt(fesfile)\n",
    "    plt.plot(fes[:,0],fes[:,1]/kBT,'-',label=\"{:4d} ps\".format(time))    \n",
    "plt.xlabel(\"Na-Cl Distance [nm]\")\n",
    "plt.ylabel(\"Free Energy [kBT]\")\n",
    "plt.legend()\n",
    "plt.ylim([0,10])\n",
    "plt.show()\n"
   ]
  },
  {
   "cell_type": "code",
   "execution_count": null,
   "id": "33b019e2",
   "metadata": {},
   "outputs": [],
   "source": [
    "fes_stride=1000\n",
    "num_fesfile=len(glob.glob(\"fes-stride-1000/fes.coord.stride-*\"))\n",
    "for i in range(num_fesfile):  \n",
    "    if i == num_fesfile-1: continue\n",
    "    fesfile=\"fes-stride-1000/fes.coord.stride-{}.dat\".format(i)\n",
    "    time=(i+1)*fes_stride\n",
    "    fes=np.loadtxt(fesfile)\n",
    "    plt.plot(fes[:,0],fes[:,1]/kBT,'-',label=\"{:4d} ps\".format(time))    \n",
    "plt.xlabel(\"Na Solvation\")\n",
    "plt.ylabel(\"Free Energy [kBT]\")\n",
    "plt.legend()\n",
    "plt.ylim([0,10])\n",
    "plt.show()"
   ]
  },
  {
   "cell_type": "code",
   "execution_count": null,
   "id": "dba72623",
   "metadata": {},
   "outputs": [],
   "source": [
    "%%bash\n",
    "rm -rf fes\n",
    "mkdir fes"
   ]
  },
  {
   "cell_type": "code",
   "execution_count": null,
   "id": "3fb4f0e0",
   "metadata": {},
   "outputs": [],
   "source": [
    "run_plumed_cmd(\"sum_hills --hills hills.data --mintozero --kt 2.494353 --idw dist --outfile fes/fes.dist.data\")\n",
    "run_plumed_cmd(\"sum_hills --hills hills.data --mintozero --kt 2.494353 --idw coord --outfile fes/fes.coord.data\")\n"
   ]
  },
  {
   "cell_type": "markdown",
   "id": "c0b32353",
   "metadata": {},
   "source": [
    "Let's also calculate the reweighted FES for the distance. First let's look at the how the `mtd.rbias` values look."
   ]
  },
  {
   "cell_type": "code",
   "execution_count": null,
   "id": "e6aede89",
   "metadata": {},
   "outputs": [],
   "source": [
    "plot_colvardata(\"./colvar.data\",5)"
   ]
  },
  {
   "cell_type": "markdown",
   "id": "df52bd8d",
   "metadata": {},
   "source": [
    "We then use the same input for the reweighting as above"
   ]
  },
  {
   "cell_type": "code",
   "execution_count": null,
   "id": "a09c4d24",
   "metadata": {},
   "outputs": [],
   "source": [
    "%%bash\n",
    "mkdir fes-reweight\n",
    "\n",
    "cat <<EOF > fes-reweight/plumed_reweight.dat\n",
    "# vim:ft=plumed\n",
    "\n",
    "dist:   READ FILE=fes-reweight/colvar_reweight.data IGNORE_TIME VALUES=dist\n",
    "coord:  READ FILE=fes-reweight/colvar_reweight.data IGNORE_TIME VALUES=coord\n",
    "mtd:    READ FILE=fes-reweight/colvar_reweight.data IGNORE_TIME VALUES=mtd.rbias\n",
    "\n",
    "weights: REWEIGHT_BIAS TEMP=300 ARG=mtd.rbias\n",
    "\n",
    "HISTOGRAM ...\n",
    "  ARG=dist\n",
    "  GRID_MIN=0.2\n",
    "  GRID_MAX=0.9\n",
    "  GRID_BIN=100\n",
    "  KERNEL=DISCRETE\n",
    "  LOGWEIGHTS=weights\n",
    "  LABEL=hg_dist\n",
    "... HISTOGRAM\n",
    "\n",
    "fes_dist: CONVERT_TO_FES GRID=hg_dist TEMP=300 MINTOZERO\n",
    "DUMPGRID GRID=fes_dist FILE=fes-reweight/fes-reweight.dist.data FMT=%24.16e\n",
    "EOF"
   ]
  },
  {
   "cell_type": "markdown",
   "id": "66a32f19",
   "metadata": {},
   "source": [
    "We ignore the first 500 ps of the simulation or 10% of the simulation"
   ]
  },
  {
   "cell_type": "code",
   "execution_count": null,
   "id": "7ac91ee2",
   "metadata": {},
   "outputs": [],
   "source": [
    "time_trim=500\n",
    "subprocess.run(\"./trim-colvar-file.py --colvar-file colvar.data --output-file fes-reweight/colvar_reweight.data --time-min {0}\".format(time_trim).split(),stdout=subprocess.DEVNULL, stderr=subprocess.DEVNULL)\n",
    "run_plumed_cmd(\"driver --plumed fes-reweight/plumed_reweight.dat --noatoms\")\n",
    "\n"
   ]
  },
  {
   "cell_type": "markdown",
   "id": "b0dbf71c",
   "metadata": {},
   "source": [
    "Let's then compare the difference FES for the distance, either biasing 1 or 2 CVs, and obtained both directly from the bias potential and from reweighthing"
   ]
  },
  {
   "cell_type": "code",
   "execution_count": null,
   "id": "c9294871",
   "metadata": {},
   "outputs": [],
   "source": [
    "fes_files=[\"../Exercise-2/fes/fes.mintozero.data\",\n",
    "           \"../Exercise-2/fes-reweight/fes-reweight.dist.data\",\n",
    "           \"fes/fes.dist.data\",\n",
    "           \"fes-reweight/fes-reweight.dist.data\"]\n",
    "labels=[\"1 CV biased: FES from bias\",\n",
    "        \"1 CV biased: FES from rewighting\",\n",
    "        \"2 CV biased: FES from bias\",\n",
    "        \"2 CV biased: FES from rewighting\"]\n",
    "plot_fes(fes_files,labels)\n"
   ]
  },
  {
   "cell_type": "markdown",
   "id": "0a388092",
   "metadata": {},
   "source": [
    "Finally let's calculate and plot the 2D FES obtained directly from the bias potential"
   ]
  },
  {
   "cell_type": "code",
   "execution_count": null,
   "id": "dfedc505",
   "metadata": {},
   "outputs": [],
   "source": [
    "run_plumed_cmd(\"sum_hills --hills hills.data --mintozero  --bin 200,200  --outfile fes/fes.dist-coord.data\")"
   ]
  },
  {
   "cell_type": "code",
   "execution_count": null,
   "id": "8cb7ff43",
   "metadata": {},
   "outputs": [],
   "source": [
    "%%bash\n",
    "head ./fes/fes.dist-coord.data"
   ]
  },
  {
   "cell_type": "code",
   "execution_count": null,
   "id": "1821688e",
   "metadata": {},
   "outputs": [],
   "source": [
    "fes_data = np.loadtxt(\"./fes/fes.dist-coord.data\")\n",
    "# have to change the value in reshape to fit fes file generated by sum_hills\n",
    "distance = fes_data[:,0].reshape(201,201)\n",
    "coord =    fes_data[:,1].reshape(201,201)\n",
    "fes_2d =   fes_data[:,2].reshape(201,201)-np.min(fes_data[:,2].reshape(201,201))\n",
    "from matplotlib import cm\n",
    "plt.contourf(distance,coord,fes_2d/kBT, levels=np.linspace(0,10,101), cmap=cm.jet)\n",
    "plt.xlabel(\"Na-Cl distance [nm]\")\n",
    "plt.ylabel(\"Solvation of Na\")\n",
    "plt.title(\"FES\")\n",
    "plt.colorbar(label=\"Free Energy [kBT]\", ticks=range(0,11))"
   ]
  },
  {
   "cell_type": "markdown",
   "id": "42130fbd",
   "metadata": {},
   "source": [
    "# Exercise 3B - Restarting Metadynamics Runs"
   ]
  },
  {
   "cell_type": "markdown",
   "id": "0433e786",
   "metadata": {},
   "source": [
    "Often we need to split simulations into different parts, or we want to run a finished simulation for longer time to obtain better convergence. In this case, we need to restart the METAD runs as we do not want to start from scratch. \n",
    "\n",
    "This is quite easy in PLUMED. We just need to add the `RESTART` to the top of the PLUMED input and restart the MD simulation (which will depend on the MD code). PLUMED will the read in the previously added Gaussians and append to the colvar and hills file. \n",
    "\n",
    "For GROMACS restarting is even easier as we do not need to add a `RESTART` action as the PLUMED will automatically detect the GROMACS is restarting. GROMACS writes out a checkpoint file that we can restart from. See the GROMACS manual for further information of restarting GROMACS jobs: \n",
    "\n",
    "[https://manual.gromacs.org/current/user-guide/managing-simulations.html](https://manual.gromacs.org/current/user-guide/managing-simulations.html)"
   ]
  },
  {
   "cell_type": "code",
   "execution_count": null,
   "id": "5d9375b1",
   "metadata": {},
   "outputs": [],
   "source": [
    "%ls"
   ]
  },
  {
   "cell_type": "markdown",
   "id": "57c2231d",
   "metadata": {},
   "source": [
    "We first need to extend the time in the TPR file that is done with the `gmx convert-tpr` tool. Here we will extend the time by 5000 ps so the total time is 10000 ps. "
   ]
  },
  {
   "cell_type": "code",
   "execution_count": null,
   "id": "9cd110bb",
   "metadata": {},
   "outputs": [],
   "source": [
    "%%bash -s \"$gmx_bin\" \"$gmx_mdrun_bin\"\n",
    "\n",
    "if [[ `hostname` =~ \"bridges2\" ]]; then\n",
    "  source /ocean/projects/see220002p/shared/gromacs+plumed/gromacs-2022.6_plumed-2.9.0/load-gromacs-plumed.sh\n",
    "fi\n",
    "\n",
    "GMX_BIN=${1}\n",
    "GMX_MDRUN_BIN=${2}\n",
    "\n",
    "RunFilename=NaCl_NPT-300K\n",
    "mv ${RunFilename}.tpr ${RunFilename}.old.tpr\n",
    "\n",
    "# Extend the time of the TPR file\n",
    "${GMX_BIN} convert-tpr -s ${RunFilename}.old.tpr -o ${RunFilename}.tpr -extend 5000.0"
   ]
  },
  {
   "cell_type": "code",
   "execution_count": null,
   "id": "59cd5354",
   "metadata": {},
   "outputs": [],
   "source": [
    "%%bash -s \"$gmx_bin\" \"$gmx_mdrun_bin\"\n",
    "\n",
    "if [[ `hostname` =~ \"bridges2\" ]]; then\n",
    "  source /ocean/projects/see220002p/shared/gromacs+plumed/gromacs-2022.6_plumed-2.9.0/load-gromacs-plumed.sh\n",
    "fi\n",
    "\n",
    "GMX_BIN=${1}\n",
    "GMX_MDRUN_BIN=${2}\n",
    "\n",
    "RunFilename=NaCl_NPT-300K\n",
    "${GMX_MDRUN_BIN}  -deffnm ${RunFilename}   -plumed plumed.dat -cpi ${RunFilename}.cpt\n",
    "echo \"0\" | ${GMX_BIN} trjconv -f ${RunFilename}.xtc -s ${RunFilename}.tpr -pbc whole -o ${RunFilename}.pbc-whole.xtc"
   ]
  },
  {
   "cell_type": "markdown",
   "id": "a349ac59",
   "metadata": {},
   "source": [
    "As we can see by greping the GROMACS log file, we can see that PLUMED read in the Gaussians correctly"
   ]
  },
  {
   "cell_type": "code",
   "execution_count": null,
   "id": "54caaf8b",
   "metadata": {},
   "outputs": [],
   "source": [
    "%%bash\n",
    "grep \"Restarting from hills.data\" NaCl_NPT-300K.log"
   ]
  },
  {
   "cell_type": "markdown",
   "id": "173ab7ae",
   "metadata": {},
   "source": [
    "By plotting the colvar and Gaussian height, we can see that behavior during the restaring is exactly as we wanted "
   ]
  },
  {
   "cell_type": "code",
   "execution_count": null,
   "id": "0a1c46bb",
   "metadata": {},
   "outputs": [],
   "source": [
    "plot_colvardata(\"colvar.data\",2)\n",
    "plot_colvardata(\"hills.data\",6)"
   ]
  },
  {
   "cell_type": "markdown",
   "id": "d504677b",
   "metadata": {},
   "source": [
    "We can calculate the FESs obtained after 10000 ps and look at the time behavior "
   ]
  },
  {
   "cell_type": "code",
   "execution_count": null,
   "id": "446f3aad",
   "metadata": {},
   "outputs": [],
   "source": [
    "run_plumed_cmd(\"sum_hills --hills hills.data --mintozero --stride 1000 --kt 2.494353 --idw dist --outfile fes-stride-1000/fes.dist.stride-\")\n",
    "run_plumed_cmd(\"sum_hills --hills hills.data --mintozero --stride 1000 --kt 2.494353 --idw coord --outfile fes-stride-1000/fes.coord.stride-\")"
   ]
  },
  {
   "cell_type": "code",
   "execution_count": null,
   "id": "9cbbe0a7",
   "metadata": {},
   "outputs": [],
   "source": [
    "fes_stride=1000\n",
    "num_fesfile=len(glob.glob(\"fes-stride-1000/fes.dist.stride-*\"))\n",
    "for i in range(num_fesfile):  \n",
    "    if i == num_fesfile-1: continue\n",
    "    fesfile=\"fes-stride-1000/fes.dist.stride-{}.dat\".format(i)\n",
    "    time=(i+1)*fes_stride\n",
    "    fes=np.loadtxt(fesfile)\n",
    "    plt.plot(fes[:,0],fes[:,1]/kBT,'-',label=\"{:4d} ps\".format(time))    \n",
    "plt.xlabel(\"Na-Cl Distance [nm]\")\n",
    "plt.ylabel(\"Free Energy [kBT]\")\n",
    "plt.legend()\n",
    "plt.ylim([0,10])\n",
    "plt.show()\n"
   ]
  },
  {
   "cell_type": "code",
   "execution_count": null,
   "id": "ec26ab8a",
   "metadata": {},
   "outputs": [],
   "source": [
    "fes_stride=1000\n",
    "num_fesfile=len(glob.glob(\"fes-stride-1000/fes.coord.stride-*\"))\n",
    "for i in range(num_fesfile):  \n",
    "    if i == num_fesfile-1: continue\n",
    "    fesfile=\"fes-stride-1000/fes.coord.stride-{}.dat\".format(i)\n",
    "    time=(i+1)*fes_stride\n",
    "    fes=np.loadtxt(fesfile)\n",
    "    plt.plot(fes[:,0],fes[:,1]/kBT,'-',label=\"{:4d} ps\".format(time))    \n",
    "plt.xlabel(\"Na Solvation\")\n",
    "plt.ylabel(\"Free Energy [kBT]\")\n",
    "plt.legend()\n",
    "plt.ylim([0,10])\n",
    "plt.show()"
   ]
  },
  {
   "cell_type": "code",
   "execution_count": null,
   "id": "c422334c",
   "metadata": {},
   "outputs": [],
   "source": [
    "run_plumed_cmd(\"sum_hills --hills hills.data --mintozero --kt 2.494353 --idw dist --outfile fes/fes.dist.10000ps.data\")\n",
    "run_plumed_cmd(\"sum_hills --hills hills.data --mintozero --kt 2.494353 --idw coord --outfile fes/fes.coord.10000ps.data\")\n"
   ]
  },
  {
   "cell_type": "code",
   "execution_count": null,
   "id": "420098b0",
   "metadata": {},
   "outputs": [],
   "source": [
    "fes_files=[\"../Exercise-2/fes/fes.mintozero.data\",\n",
    "           \"../Exercise-2/fes-reweight/fes-reweight.dist.data\",\n",
    "           \"fes/fes.dist.data\",\n",
    "           \"fes/fes.dist.10000ps.data\"]\n",
    "\n",
    "labels=[\"1 CV biased: FES from bias\",\n",
    "        \"1 CV biased: FES from rewighting\",\n",
    "        \"2 CV biased: FES from bias after 5000 ps\",\n",
    "        \"2 CV biased: FES from bias after 10000ps\"]\n",
    "\n",
    "plot_fes(fes_files,labels)"
   ]
  },
  {
   "cell_type": "code",
   "execution_count": null,
   "id": "5bde9164",
   "metadata": {},
   "outputs": [],
   "source": [
    "run_plumed_cmd(\"sum_hills --hills hills.data --mintozero  --bin 200,200  --outfile fes/fes.dist-coord.10000ps.data\")"
   ]
  },
  {
   "cell_type": "code",
   "execution_count": null,
   "id": "49912288",
   "metadata": {},
   "outputs": [],
   "source": [
    "fes_data = np.loadtxt(\"./fes/fes.dist-coord.10000ps.data\")\n",
    "# have to change the value in reshape to fit fes file generated by sum_hills\n",
    "distance = fes_data[:,0].reshape(201,201)\n",
    "coord =    fes_data[:,1].reshape(201,201)\n",
    "fes_2d =   fes_data[:,2].reshape(201,201)-np.min(fes_data[:,2].reshape(201,201))\n",
    "from matplotlib import cm\n",
    "plt.contourf(distance,coord,fes_2d/kBT, levels=np.linspace(0,10,101), cmap=cm.jet)\n",
    "plt.xlabel(\"Na-Cl distance [nm]\")\n",
    "plt.ylabel(\"Solvation of Na\")\n",
    "plt.title(\"FES\")\n",
    "plt.colorbar(label=\"Free Energy [kBT]\", ticks=range(0,11))"
   ]
  },
  {
   "cell_type": "markdown",
   "id": "0fd032ed",
   "metadata": {},
   "source": [
    "# Exercise 4 - Varying Metadynamics Parameters \n",
    "\n",
    "You can try to vary some of the metadynamics parameters, such as the bias factor, for example, you can use a value of 2 or 10. I would recommend biasing just the distance CV for this. \n",
    "\n",
    "This will be left as exercise. You can use the analysis tools from above. \n",
    "\n",
    "Here you should obtain at the FES for the distance CV both directly from the bias potential and reweighting and compare it to the results from Exercise 1 and 2"
   ]
  },
  {
   "cell_type": "code",
   "execution_count": null,
   "id": "e59ed142",
   "metadata": {},
   "outputs": [],
   "source": [
    "os.chdir(home_dir)"
   ]
  },
  {
   "cell_type": "code",
   "execution_count": null,
   "id": "11130c0c",
   "metadata": {},
   "outputs": [],
   "source": [
    "%%bash\n",
    "cp -r Template-Exercise-X Exercise-4\n"
   ]
  },
  {
   "cell_type": "code",
   "execution_count": null,
   "id": "fa014faa",
   "metadata": {},
   "outputs": [],
   "source": [
    "%cd Exercise-4/"
   ]
  },
  {
   "cell_type": "code",
   "execution_count": null,
   "id": "3a49a4e8",
   "metadata": {},
   "outputs": [],
   "source": [
    "%%bash\n",
    "cat <<EOF > MD-NPT.mdp\n",
    "integrator = md\n",
    "dt = 0.002\n",
    "nsteps = 2500000\n",
    "cutoff-scheme = Verlet\n",
    "coulombtype = PME\n",
    "rlist = 0.6\n",
    "rcoulomb = 0.6\n",
    "rvdw = 0.6\n",
    "constraints = h-bonds\n",
    "tcoupl =  V-rescale\n",
    "ref_t = 300\n",
    "tau-t = 1.0\n",
    "tc-grps = System\n",
    "gen-vel = no\n",
    "gen-temp = 300\n",
    "gen-seed = -1\n",
    "DispCorr = AllEnerPres\n",
    "pcoupl = Parrinello-Rahman\n",
    "pcoupltype = isotropic\n",
    "ref-p = 1.01325\n",
    "compressibility = 4.5e-5\n",
    "nstxout-compressed = 250\n",
    "nstxout = 0\n",
    "nstvout = 0\n",
    "EOF"
   ]
  },
  {
   "cell_type": "code",
   "execution_count": null,
   "id": "cb598b9c",
   "metadata": {},
   "outputs": [],
   "source": [
    "%%bash -s \"$gmx_bin\" \"$gmx_mdrun_bin\"\n",
    "\n",
    "if [[ `hostname` =~ \"bridges2\" ]]; then\n",
    "  source /ocean/projects/see220002p/shared/gromacs+plumed/gromacs-2022.6_plumed-2.9.0/load-gromacs-plumed.sh\n",
    "fi\n",
    "\n",
    "GMX_BIN=${1}\n",
    "GMX_MDRUN_BIN=${2}\n",
    "\n",
    "StartingGeometry=NaCl_StartingStructure-1.gro\n",
    "RunFilename=NaCl_NPT-300K\n",
    "${GMX_BIN}  grompp -f MD-NPT.mdp -c ${StartingGeometry} -p NaCl.top -o ${RunFilename}.tpr  -maxwarn 1"
   ]
  },
  {
   "cell_type": "code",
   "execution_count": null,
   "id": "e75cabdf",
   "metadata": {},
   "outputs": [],
   "source": [
    "%%bash\n",
    "cat <<EOF > plumed.dat\n",
    "# vim:ft=plumed\n",
    "\n",
    "# Distance between Na and Cl atoms\n",
    "dist: DISTANCE ATOMS=322,323\n",
    "\n",
    "# Solvation of Na atom\n",
    "COORDINATION ...\n",
    "  LABEL=coord\n",
    "  GROUPA=322\n",
    "  GROUPB=1-321:3\n",
    "  SWITCH={RATIONAL R_0=0.315 D_MAX=0.5 NN=12 MM=24}\n",
    "  NLIST\n",
    "  NL_CUTOFF=0.55\n",
    "  NL_STRIDE=10\n",
    "... COORDINATION\n",
    "\n",
    "uwall: UPPER_WALLS ...\n",
    "   ARG=dist \n",
    "   AT=0.6\n",
    "   KAPPA=4000.0 \n",
    "...\n",
    "\n",
    "METAD ...\n",
    "  LABEL=mtd\n",
    "  ARG=dist\n",
    "  PACE=500\n",
    "  SIGMA=0.01\n",
    "  HEIGHT=1.25\n",
    "  BIASFACTOR=__FILL__\n",
    "  GRID_MIN=0.0\n",
    "  GRID_MAX=1.0\n",
    "  CALC_RCT\n",
    "  FILE=hills.data\n",
    "... METAD\n",
    "\n",
    "PRINT ARG=dist,coord,mtd.*,uwall.* FILE=colvar.data STRIDE=250\n",
    "EOF"
   ]
  },
  {
   "cell_type": "code",
   "execution_count": null,
   "id": "82347073",
   "metadata": {},
   "outputs": [],
   "source": [
    "%%bash -s \"$gmx_bin\" \"$gmx_mdrun_bin\"\n",
    "\n",
    "if [[ `hostname` =~ \"bridges2\" ]]; then\n",
    "  source /ocean/projects/see220002p/shared/gromacs+plumed/gromacs-2022.6_plumed-2.9.0/load-gromacs-plumed.sh\n",
    "fi\n",
    "\n",
    "GMX_BIN=${1}\n",
    "GMX_MDRUN_BIN=${2}\n",
    "\n",
    "RunFilename=NaCl_NPT-300K\n",
    "${GMX_MDRUN_BIN}  -deffnm ${RunFilename}   -plumed plumed.dat \n",
    "echo \"0\" | ${GMX_BIN} trjconv -f ${RunFilename}.xtc -s ${RunFilename}.tpr -pbc whole -o ${RunFilename}.pbc-whole.xtc"
   ]
  },
  {
   "cell_type": "code",
   "execution_count": null,
   "id": "4b75a95a",
   "metadata": {},
   "outputs": [],
   "source": [
    "plot_colvardata(\"./colvar.data\",3)"
   ]
  },
  {
   "cell_type": "code",
   "execution_count": null,
   "id": "5e48c058",
   "metadata": {},
   "outputs": [],
   "source": [
    "# FILL IN THE REST WITH ANALYSIS SCRIPTS"
   ]
  },
  {
   "cell_type": "code",
   "execution_count": null,
   "id": "e2598b10",
   "metadata": {},
   "outputs": [],
   "source": [
    "# Compare the different FES for the distance \n",
    "fes_files=[\"../Exercise-2/fes/fes.mintozero.data\",\n",
    "           \"../Exercise-2/fes-reweight/fes-reweight.dist.data\",\n",
    "           \"../Exercise-3/fes/fes.dist.data\",\n",
    "           \"../Exercise-3fes-reweight/fes-reweight.dist.data\",\n",
    "           \"FILL_IN_PATH_TO_FES_FROM_BIAS\",\n",
    "           \"FILL_IN_PATH_TO_FES_FROM_REWEIGHTING\"]\n",
    "\n",
    "labels=[\"Exercise 2: FES from bias\",\n",
    "        \"Exercise 2: FES from rewighting\",\n",
    "        \"Exercise 3: FES from bias\",\n",
    "        \"Exercise 3: FES from rewighting\",\n",
    "        \"Exercise 4: FES from bias\",\n",
    "        \"Exercise 4: FES from rewighting\"]\n",
    "\n",
    "plot_fes(fes_files,labels)\n"
   ]
  }
 ],
 "metadata": {
  "kernelspec": {
   "display_name": "Python 3 (ipykernel)",
   "language": "python",
   "name": "python3"
  },
  "language_info": {
   "codemirror_mode": {
    "name": "ipython",
    "version": 3
   },
   "file_extension": ".py",
   "mimetype": "text/x-python",
   "name": "python",
   "nbconvert_exporter": "python",
   "pygments_lexer": "ipython3",
   "version": "3.9.13"
  }
 },
 "nbformat": 4,
 "nbformat_minor": 5
}
